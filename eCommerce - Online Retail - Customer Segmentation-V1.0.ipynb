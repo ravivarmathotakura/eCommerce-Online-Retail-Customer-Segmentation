{
 "cells": [
  {
   "cell_type": "markdown",
   "metadata": {},
   "source": [
    "# eCommerce Analysis"
   ]
  },
  {
   "cell_type": "markdown",
   "metadata": {},
   "source": [
    "### Dataset Information:\n",
    "- This is a transnational data set which contains all the transactions occuring between 01/12/2010 and 09/12/2011 for a UK-based and registered non-store online retail. The company mainly sells unique all-occassion gifts. Many customers of the company are wholesalers.\n",
    "- **Dataset Characteristics:** Multivariate, Sequential, Time-Series.\n",
    "- **Number of Instances:** 5,41,909\n",
    "- **Number of Attributes:** 08\n",
    "- **Associated Tasks:** Classification, Clustering.\n",
    "\n",
    "### Attribute Information:\n",
    "- **InvoiceNo:** Invoice number. Nominal, a 6-digit integral number uniquely assigned to each transaction. If this code starts with letter 'c', it indicated a cancellation.\n",
    "- **StockCode:** Product (item) code. Nominal, a 5-digit integral number uniquely assigned to each distinct product.\n",
    "- **Description:** Product (item) name. Nominal.\n",
    "- **Quantity:** The quantities of each product (item) per transaction. Numeric.\n",
    "- **InvoiceDate:** Invoice Date and time. Numeric, the day and time when each transaction was generated.\n",
    "- **UnitPrice:** Unit price. Numeric, Product price per unit in sterling.\n",
    "- **CustomerID:** Customer number. Nominal, a 5-digit integral number uniquely assigned to each customer.\n",
    "- **Country:** Country name. Nominal, the name of the country where each customer resides."
   ]
  },
  {
   "cell_type": "markdown",
   "metadata": {},
   "source": [
    "# Import Libraries"
   ]
  },
  {
   "cell_type": "code",
   "execution_count": 1,
   "metadata": {},
   "outputs": [
    {
     "data": {
      "text/html": [
       "        <script type=\"text/javascript\">\n",
       "        window.PlotlyConfig = {MathJaxConfig: 'local'};\n",
       "        if (window.MathJax) {MathJax.Hub.Config({SVG: {font: \"STIX-Web\"}});}\n",
       "        if (typeof require !== 'undefined') {\n",
       "        require.undef(\"plotly\");\n",
       "        requirejs.config({\n",
       "            paths: {\n",
       "                'plotly': ['https://cdn.plot.ly/plotly-latest.min']\n",
       "            }\n",
       "        });\n",
       "        require(['plotly'], function(Plotly) {\n",
       "            window._Plotly = Plotly;\n",
       "        });\n",
       "        }\n",
       "        </script>\n",
       "        "
      ]
     },
     "metadata": {},
     "output_type": "display_data"
    }
   ],
   "source": [
    "import datetime as dt\n",
    "import math\n",
    "from IPython import display\n",
    "from matplotlib import cm\n",
    "from matplotlib import gridspec\n",
    "\n",
    "import pandas as pd\n",
    "import numpy as np\n",
    "\n",
    "import matplotlib.pyplot as plt\n",
    "import seaborn as sns\n",
    "import plotly.express as px\n",
    "import missingno as msno\n",
    "from sklearn import metrics\n",
    "from sklearn.preprocessing import scale, StandardScaler, normalize\n",
    "from sklearn import preprocessing\n",
    "from sklearn import decomposition\n",
    "from sklearn.decomposition import PCA\n",
    "from sklearn.cluster import KMeans\n",
    "from sklearn.metrics import silhouette_samples, silhouette_score\n",
    "import pickle\n",
    "from collections import Counter\n",
    "\n",
    "from plotly.offline import download_plotlyjs, init_notebook_mode, plot, iplot\n",
    "import plotly.graph_objs as go\n",
    "init_notebook_mode(connected=True)\n",
    "\n",
    "from altair import Chart, X, Y, Axis, SortField\n",
    "\n",
    "pd.options.display.max_rows = 100\n",
    "pd.options.display.max_columns = 100\n",
    "pd.options.display.float_format = '{:.1f}'.format\n",
    "\n",
    "# from paretochart import pareto\n",
    "\n",
    "from IPython.core.interactiveshell import InteractiveShell\n",
    "InteractiveShell.ast_node_interactivity = \"all\"\n",
    "\n",
    "%matplotlib inline"
   ]
  },
  {
   "cell_type": "code",
   "execution_count": 2,
   "metadata": {},
   "outputs": [],
   "source": [
    "### Load Dataset\n",
    "data = pd.read_excel('/Users/ravivarma/DataScienceCode/ecommerce-website-data-analysis-master/Online Retail.xlsx')"
   ]
  },
  {
   "cell_type": "code",
   "execution_count": 3,
   "metadata": {},
   "outputs": [
    {
     "data": {
      "text/html": [
       "<div>\n",
       "<style scoped>\n",
       "    .dataframe tbody tr th:only-of-type {\n",
       "        vertical-align: middle;\n",
       "    }\n",
       "\n",
       "    .dataframe tbody tr th {\n",
       "        vertical-align: top;\n",
       "    }\n",
       "\n",
       "    .dataframe thead th {\n",
       "        text-align: right;\n",
       "    }\n",
       "</style>\n",
       "<table border=\"1\" class=\"dataframe\">\n",
       "  <thead>\n",
       "    <tr style=\"text-align: right;\">\n",
       "      <th></th>\n",
       "      <th>InvoiceNo</th>\n",
       "      <th>StockCode</th>\n",
       "      <th>Description</th>\n",
       "      <th>Quantity</th>\n",
       "      <th>InvoiceDate</th>\n",
       "      <th>UnitPrice</th>\n",
       "      <th>CustomerID</th>\n",
       "      <th>Country</th>\n",
       "    </tr>\n",
       "  </thead>\n",
       "  <tbody>\n",
       "    <tr>\n",
       "      <th>0</th>\n",
       "      <td>536365</td>\n",
       "      <td>85123A</td>\n",
       "      <td>WHITE HANGING HEART T-LIGHT HOLDER</td>\n",
       "      <td>6</td>\n",
       "      <td>2010-12-01 08:26:00</td>\n",
       "      <td>2.5</td>\n",
       "      <td>17850.0</td>\n",
       "      <td>United Kingdom</td>\n",
       "    </tr>\n",
       "    <tr>\n",
       "      <th>1</th>\n",
       "      <td>536365</td>\n",
       "      <td>71053</td>\n",
       "      <td>WHITE METAL LANTERN</td>\n",
       "      <td>6</td>\n",
       "      <td>2010-12-01 08:26:00</td>\n",
       "      <td>3.4</td>\n",
       "      <td>17850.0</td>\n",
       "      <td>United Kingdom</td>\n",
       "    </tr>\n",
       "    <tr>\n",
       "      <th>2</th>\n",
       "      <td>536365</td>\n",
       "      <td>84406B</td>\n",
       "      <td>CREAM CUPID HEARTS COAT HANGER</td>\n",
       "      <td>8</td>\n",
       "      <td>2010-12-01 08:26:00</td>\n",
       "      <td>2.8</td>\n",
       "      <td>17850.0</td>\n",
       "      <td>United Kingdom</td>\n",
       "    </tr>\n",
       "  </tbody>\n",
       "</table>\n",
       "</div>"
      ],
      "text/plain": [
       "  InvoiceNo StockCode                         Description  Quantity  \\\n",
       "0    536365    85123A  WHITE HANGING HEART T-LIGHT HOLDER         6   \n",
       "1    536365     71053                 WHITE METAL LANTERN         6   \n",
       "2    536365    84406B      CREAM CUPID HEARTS COAT HANGER         8   \n",
       "\n",
       "          InvoiceDate  UnitPrice  CustomerID         Country  \n",
       "0 2010-12-01 08:26:00        2.5     17850.0  United Kingdom  \n",
       "1 2010-12-01 08:26:00        3.4     17850.0  United Kingdom  \n",
       "2 2010-12-01 08:26:00        2.8     17850.0  United Kingdom  "
      ]
     },
     "execution_count": 3,
     "metadata": {},
     "output_type": "execute_result"
    },
    {
     "name": "stdout",
     "output_type": "stream",
     "text": [
      "<class 'pandas.core.frame.DataFrame'>\n",
      "RangeIndex: 541909 entries, 0 to 541908\n",
      "Data columns (total 8 columns):\n",
      " #   Column       Non-Null Count   Dtype         \n",
      "---  ------       --------------   -----         \n",
      " 0   InvoiceNo    541909 non-null  object        \n",
      " 1   StockCode    541909 non-null  object        \n",
      " 2   Description  540455 non-null  object        \n",
      " 3   Quantity     541909 non-null  int64         \n",
      " 4   InvoiceDate  541909 non-null  datetime64[ns]\n",
      " 5   UnitPrice    541909 non-null  float64       \n",
      " 6   CustomerID   406829 non-null  float64       \n",
      " 7   Country      541909 non-null  object        \n",
      "dtypes: datetime64[ns](1), float64(2), int64(1), object(4)\n",
      "memory usage: 33.1+ MB\n"
     ]
    }
   ],
   "source": [
    "### View top 3 rows of dataset\n",
    "data.head(3)\n",
    "### Check the Number of Instances(5,41,909 rows) and Attributes(8 columns)\n",
    "#data.shape\n",
    "### Check Data Types of Columns\n",
    "#data.dtypes\n",
    "data.info()"
   ]
  },
  {
   "cell_type": "code",
   "execution_count": 4,
   "metadata": {},
   "outputs": [
    {
     "data": {
      "text/plain": [
       "<matplotlib.axes._subplots.AxesSubplot at 0x7fc0517d4290>"
      ]
     },
     "execution_count": 4,
     "metadata": {},
     "output_type": "execute_result"
    },
    {
     "data": {
      "text/plain": [
       "InvoiceNo           0\n",
       "StockCode           0\n",
       "Description      1454\n",
       "Quantity            0\n",
       "InvoiceDate         0\n",
       "UnitPrice           0\n",
       "CustomerID     135080\n",
       "Country             0\n",
       "dtype: int64"
      ]
     },
     "execution_count": 4,
     "metadata": {},
     "output_type": "execute_result"
    },
    {
     "data": {
      "image/png": "[encoded data removed]",
      "text/plain": [
       "<Figure size 1800x720 with 2 Axes>"
      ]
     },
     "metadata": {
      "needs_background": "light"
     },
     "output_type": "display_data"
    }
   ],
   "source": [
    "### A Cursory check for missing data:\n",
    "msno.matrix(data)\n",
    "### The dataset is missing some Description and CustomerID data entries.\n",
    "data.isnull().sum()"
   ]
  },
  {
   "cell_type": "code",
   "execution_count": 5,
   "metadata": {},
   "outputs": [
    {
     "name": "stdout",
     "output_type": "stream",
     "text": [
      "(135080, 8)\n",
      "24.926694334288598\n"
     ]
    }
   ],
   "source": [
    "### Check the missing values dataset shape.\n",
    "# null_data = data[data.isnull().any(axis=1)]\n",
    "# null_data.shape\n",
    "print(data[data.isnull().any(axis=1)].shape)\n",
    "\n",
    "### Check the % of the data contains missing values in dataset, which the figure above indicates is mostly nan values in CustomerID\n",
    "# null_data_frac = null_data.shape[0]/data.shape[0]*100\n",
    "# null_data_frac\n",
    "print(data[data.isnull().any(axis=1)].shape[0]/data.shape[0]*100)"
   ]
  },
  {
   "cell_type": "markdown",
   "metadata": {},
   "source": [
    "## Exploratory Data Analysis"
   ]
  },
  {
   "cell_type": "markdown",
   "metadata": {},
   "source": [
    "#### The top 10 most popular items are sold in/to the UK. Apparently paper craft little birdie is very popular, along with medium ceramic top storage jar. I will remove the items with 'NaN' descriptor. These entries associated with nan CustomerID entries and 131 lower case descriptions which describe problems with the orders and no details of the item ordered. In addition, the data for United Kingdom contains negative values associated with negative UnitPrice values. Removing the rows containing NaN values therefore cleans several issues that complicate this analysis in the absence of the data owner."
   ]
  },
  {
   "cell_type": "code",
   "execution_count": 6,
   "metadata": {
    "scrolled": true
   },
   "outputs": [
    {
     "data": {
      "text/html": [
       "<div>\n",
       "<style scoped>\n",
       "    .dataframe tbody tr th:only-of-type {\n",
       "        vertical-align: middle;\n",
       "    }\n",
       "\n",
       "    .dataframe tbody tr th {\n",
       "        vertical-align: top;\n",
       "    }\n",
       "\n",
       "    .dataframe thead th {\n",
       "        text-align: right;\n",
       "    }\n",
       "</style>\n",
       "<table border=\"1\" class=\"dataframe\">\n",
       "  <thead>\n",
       "    <tr style=\"text-align: right;\">\n",
       "      <th></th>\n",
       "      <th>InvoiceNo</th>\n",
       "      <th>StockCode</th>\n",
       "      <th>Description</th>\n",
       "      <th>Quantity</th>\n",
       "      <th>InvoiceDate</th>\n",
       "      <th>UnitPrice</th>\n",
       "      <th>CustomerID</th>\n",
       "      <th>Country</th>\n",
       "    </tr>\n",
       "  </thead>\n",
       "  <tbody>\n",
       "    <tr>\n",
       "      <th>540421</th>\n",
       "      <td>581483</td>\n",
       "      <td>23843</td>\n",
       "      <td>PAPER CRAFT , LITTLE BIRDIE</td>\n",
       "      <td>80995</td>\n",
       "      <td>2011-12-09 09:15:00</td>\n",
       "      <td>2.1</td>\n",
       "      <td>16446.0</td>\n",
       "      <td>United Kingdom</td>\n",
       "    </tr>\n",
       "    <tr>\n",
       "      <th>61619</th>\n",
       "      <td>541431</td>\n",
       "      <td>23166</td>\n",
       "      <td>MEDIUM CERAMIC TOP STORAGE JAR</td>\n",
       "      <td>74215</td>\n",
       "      <td>2011-01-18 10:01:00</td>\n",
       "      <td>1.0</td>\n",
       "      <td>12346.0</td>\n",
       "      <td>United Kingdom</td>\n",
       "    </tr>\n",
       "    <tr>\n",
       "      <th>502122</th>\n",
       "      <td>578841</td>\n",
       "      <td>84826</td>\n",
       "      <td>ASSTD DESIGN 3D PAPER STICKERS</td>\n",
       "      <td>12540</td>\n",
       "      <td>2011-11-25 15:57:00</td>\n",
       "      <td>0.0</td>\n",
       "      <td>13256.0</td>\n",
       "      <td>United Kingdom</td>\n",
       "    </tr>\n",
       "    <tr>\n",
       "      <th>74614</th>\n",
       "      <td>542504</td>\n",
       "      <td>37413</td>\n",
       "      <td>NaN</td>\n",
       "      <td>5568</td>\n",
       "      <td>2011-01-28 12:03:00</td>\n",
       "      <td>0.0</td>\n",
       "      <td>nan</td>\n",
       "      <td>United Kingdom</td>\n",
       "    </tr>\n",
       "    <tr>\n",
       "      <th>421632</th>\n",
       "      <td>573008</td>\n",
       "      <td>84077</td>\n",
       "      <td>WORLD WAR 2 GLIDERS ASSTD DESIGNS</td>\n",
       "      <td>4800</td>\n",
       "      <td>2011-10-27 12:26:00</td>\n",
       "      <td>0.2</td>\n",
       "      <td>12901.0</td>\n",
       "      <td>United Kingdom</td>\n",
       "    </tr>\n",
       "    <tr>\n",
       "      <th>206121</th>\n",
       "      <td>554868</td>\n",
       "      <td>22197</td>\n",
       "      <td>SMALL POPCORN HOLDER</td>\n",
       "      <td>4300</td>\n",
       "      <td>2011-05-27 10:52:00</td>\n",
       "      <td>0.7</td>\n",
       "      <td>13135.0</td>\n",
       "      <td>United Kingdom</td>\n",
       "    </tr>\n",
       "    <tr>\n",
       "      <th>220843</th>\n",
       "      <td>556231</td>\n",
       "      <td>85123A</td>\n",
       "      <td>?</td>\n",
       "      <td>4000</td>\n",
       "      <td>2011-06-09 15:04:00</td>\n",
       "      <td>0.0</td>\n",
       "      <td>nan</td>\n",
       "      <td>United Kingdom</td>\n",
       "    </tr>\n",
       "    <tr>\n",
       "      <th>97432</th>\n",
       "      <td>544612</td>\n",
       "      <td>22053</td>\n",
       "      <td>EMPIRE DESIGN ROSETTE</td>\n",
       "      <td>3906</td>\n",
       "      <td>2011-02-22 10:43:00</td>\n",
       "      <td>0.8</td>\n",
       "      <td>18087.0</td>\n",
       "      <td>United Kingdom</td>\n",
       "    </tr>\n",
       "    <tr>\n",
       "      <th>270885</th>\n",
       "      <td>560599</td>\n",
       "      <td>18007</td>\n",
       "      <td>ESSENTIAL BALM 3.5g TIN IN ENVELOPE</td>\n",
       "      <td>3186</td>\n",
       "      <td>2011-07-19 17:04:00</td>\n",
       "      <td>0.1</td>\n",
       "      <td>14609.0</td>\n",
       "      <td>United Kingdom</td>\n",
       "    </tr>\n",
       "    <tr>\n",
       "      <th>160546</th>\n",
       "      <td>550461</td>\n",
       "      <td>21108</td>\n",
       "      <td>FAIRY CAKE FLANNEL ASSORTED COLOUR</td>\n",
       "      <td>3114</td>\n",
       "      <td>2011-04-18 13:20:00</td>\n",
       "      <td>2.1</td>\n",
       "      <td>15749.0</td>\n",
       "      <td>United Kingdom</td>\n",
       "    </tr>\n",
       "  </tbody>\n",
       "</table>\n",
       "</div>"
      ],
      "text/plain": [
       "       InvoiceNo StockCode                          Description  Quantity  \\\n",
       "540421    581483     23843          PAPER CRAFT , LITTLE BIRDIE     80995   \n",
       "61619     541431     23166       MEDIUM CERAMIC TOP STORAGE JAR     74215   \n",
       "502122    578841     84826       ASSTD DESIGN 3D PAPER STICKERS     12540   \n",
       "74614     542504     37413                                  NaN      5568   \n",
       "421632    573008     84077    WORLD WAR 2 GLIDERS ASSTD DESIGNS      4800   \n",
       "206121    554868     22197                 SMALL POPCORN HOLDER      4300   \n",
       "220843    556231    85123A                                    ?      4000   \n",
       "97432     544612     22053                EMPIRE DESIGN ROSETTE      3906   \n",
       "270885    560599     18007  ESSENTIAL BALM 3.5g TIN IN ENVELOPE      3186   \n",
       "160546    550461     21108   FAIRY CAKE FLANNEL ASSORTED COLOUR      3114   \n",
       "\n",
       "               InvoiceDate  UnitPrice  CustomerID         Country  \n",
       "540421 2011-12-09 09:15:00        2.1     16446.0  United Kingdom  \n",
       "61619  2011-01-18 10:01:00        1.0     12346.0  United Kingdom  \n",
       "502122 2011-11-25 15:57:00        0.0     13256.0  United Kingdom  \n",
       "74614  2011-01-28 12:03:00        0.0         nan  United Kingdom  \n",
       "421632 2011-10-27 12:26:00        0.2     12901.0  United Kingdom  \n",
       "206121 2011-05-27 10:52:00        0.7     13135.0  United Kingdom  \n",
       "220843 2011-06-09 15:04:00        0.0         nan  United Kingdom  \n",
       "97432  2011-02-22 10:43:00        0.8     18087.0  United Kingdom  \n",
       "270885 2011-07-19 17:04:00        0.1     14609.0  United Kingdom  \n",
       "160546 2011-04-18 13:20:00        2.1     15749.0  United Kingdom  "
      ]
     },
     "execution_count": 6,
     "metadata": {},
     "output_type": "execute_result"
    }
   ],
   "source": [
    "data = data.sort_values('Quantity', ascending=False)\n",
    "data.head(10)"
   ]
  },
  {
   "cell_type": "code",
   "execution_count": 7,
   "metadata": {},
   "outputs": [
    {
     "data": {
      "text/plain": [
       "(406829, 8)"
      ]
     },
     "execution_count": 7,
     "metadata": {},
     "output_type": "execute_result"
    }
   ],
   "source": [
    "### Remove NaN values in Dataset\n",
    "#data[data.isnull()] #541909 rows × 8 columns\n",
    "#data[data.isnull().any(axis=1)] #135080 rows × 8 columns\n",
    "data = data.dropna()\n",
    "data.shape # 541909 - 406829 = dropped 135080 entries"
   ]
  },
  {
   "cell_type": "code",
   "execution_count": 8,
   "metadata": {},
   "outputs": [
    {
     "data": {
      "text/plain": [
       "(401604, 8)"
      ]
     },
     "execution_count": 8,
     "metadata": {},
     "output_type": "execute_result"
    }
   ],
   "source": [
    "### Check for Duplicate entries and remove those.\n",
    "#data[data.duplicated(keep=False)].sort_values(\"CustomerID\") #10062 rows × 8 columns\n",
    "#data[data.duplicated() == True].sort_values(\"CustomerID\") #5225 rows × 8 columns\n",
    "data.drop_duplicates(inplace = True)\n",
    "data.shape # 406829 - 401604 = dropped 5225 duplicate entries"
   ]
  },
  {
   "cell_type": "code",
   "execution_count": 9,
   "metadata": {},
   "outputs": [
    {
     "data": {
      "text/plain": [
       "<matplotlib.axes._subplots.AxesSubplot at 0x7fc053201590>"
      ]
     },
     "execution_count": 9,
     "metadata": {},
     "output_type": "execute_result"
    },
    {
     "data": {
      "text/plain": [
       "InvoiceNo      0\n",
       "StockCode      0\n",
       "Description    0\n",
       "Quantity       0\n",
       "InvoiceDate    0\n",
       "UnitPrice      0\n",
       "CustomerID     0\n",
       "Country        0\n",
       "dtype: int64"
      ]
     },
     "execution_count": 9,
     "metadata": {},
     "output_type": "execute_result"
    },
    {
     "data": {
      "image/png": "[encoded data removed]",
      "text/plain": [
       "<Figure size 1800x720 with 2 Axes>"
      ]
     },
     "metadata": {
      "needs_background": "light"
     },
     "output_type": "display_data"
    }
   ],
   "source": [
    "### We now have no missing values and have removed assumed erroneous results and duplicates entries.\n",
    "### A Cursory check for missing data:\n",
    "msno.matrix(data)\n",
    "### The dataset is missing some Description and CustomerID data entries.\n",
    "data.isnull().sum()"
   ]
  },
  {
   "cell_type": "markdown",
   "metadata": {},
   "source": [
    "## Further Exploration and Trend Analysis\n",
    "### How many unique descriptors are there in \"Descriptions\"?"
   ]
  },
  {
   "cell_type": "code",
   "execution_count": 10,
   "metadata": {},
   "outputs": [
    {
     "name": "stdout",
     "output_type": "stream",
     "text": [
      "There are 3885 unique descriptors in the Descriptions column.\n"
     ]
    }
   ],
   "source": [
    "### General Clean up of Description column to remove any heading or trailing white space\n",
    "data['Description'] = data['Description'].str.strip()\n",
    "descriptors = pd.unique(data['Description'].values.ravel()).tolist()\n",
    "print('There are', len(descriptors), 'unique descriptors in the Descriptions column.')"
   ]
  },
  {
   "cell_type": "code",
   "execution_count": 11,
   "metadata": {},
   "outputs": [
    {
     "name": "stdout",
     "output_type": "stream",
     "text": [
      "There are 3862 all caps descriptors.\n"
     ]
    }
   ],
   "source": [
    "descriptors2 = []\n",
    "for i in range(0,len(descriptors),1):\n",
    "    text = str(descriptors[i])\n",
    "    if text == text.upper():\n",
    "        descriptors2.append(text)\n",
    "        \n",
    "print('There are', len(descriptors2), 'all caps descriptors.')"
   ]
  },
  {
   "cell_type": "code",
   "execution_count": 12,
   "metadata": {},
   "outputs": [],
   "source": [
    "### From inspection of the baskets below I identified 3 problem descriptors that need to be followed up.\n",
    "additional_problem_list = ['damages/credits from ASOS.','incorrectly credited C550456 see 47', 'mystery! Only ever imported 1800']"
   ]
  },
  {
   "cell_type": "code",
   "execution_count": 13,
   "metadata": {},
   "outputs": [],
   "source": [
    "### Remove additional erroneous rows\n",
    "#data[~data['Description'].isin(additional_problem_list)]\n",
    "data = data[~data['Description'].isin(additional_problem_list)]"
   ]
  },
  {
   "cell_type": "code",
   "execution_count": 14,
   "metadata": {},
   "outputs": [
    {
     "data": {
      "text/plain": [
       "(401604, 8)"
      ]
     },
     "execution_count": 14,
     "metadata": {},
     "output_type": "execute_result"
    }
   ],
   "source": [
    "data.shape"
   ]
  },
  {
   "cell_type": "code",
   "execution_count": 15,
   "metadata": {},
   "outputs": [
    {
     "name": "stdout",
     "output_type": "stream",
     "text": [
      "There are 22190 unique invoice numbers in the dataset.\n"
     ]
    }
   ],
   "source": [
    "InvoiceNo = pd.unique(data['InvoiceNo'].values.ravel()).tolist()\n",
    "print('There are', len(InvoiceNo), 'unique invoice numbers in the dataset.')"
   ]
  },
  {
   "cell_type": "markdown",
   "metadata": {},
   "source": [
    "### Group by Country"
   ]
  },
  {
   "cell_type": "code",
   "execution_count": 16,
   "metadata": {},
   "outputs": [
    {
     "data": {
      "text/html": [
       "<div>\n",
       "<style scoped>\n",
       "    .dataframe tbody tr th:only-of-type {\n",
       "        vertical-align: middle;\n",
       "    }\n",
       "\n",
       "    .dataframe tbody tr th {\n",
       "        vertical-align: top;\n",
       "    }\n",
       "\n",
       "    .dataframe thead tr th {\n",
       "        text-align: left;\n",
       "    }\n",
       "\n",
       "    .dataframe thead tr:last-of-type th {\n",
       "        text-align: right;\n",
       "    }\n",
       "</style>\n",
       "<table border=\"1\" class=\"dataframe\">\n",
       "  <thead>\n",
       "    <tr>\n",
       "      <th></th>\n",
       "      <th colspan=\"8\" halign=\"left\">Quantity</th>\n",
       "      <th colspan=\"8\" halign=\"left\">UnitPrice</th>\n",
       "      <th colspan=\"8\" halign=\"left\">CustomerID</th>\n",
       "    </tr>\n",
       "    <tr>\n",
       "      <th></th>\n",
       "      <th>count</th>\n",
       "      <th>mean</th>\n",
       "      <th>std</th>\n",
       "      <th>min</th>\n",
       "      <th>25%</th>\n",
       "      <th>50%</th>\n",
       "      <th>75%</th>\n",
       "      <th>max</th>\n",
       "      <th>count</th>\n",
       "      <th>mean</th>\n",
       "      <th>std</th>\n",
       "      <th>min</th>\n",
       "      <th>25%</th>\n",
       "      <th>50%</th>\n",
       "      <th>75%</th>\n",
       "      <th>max</th>\n",
       "      <th>count</th>\n",
       "      <th>mean</th>\n",
       "      <th>std</th>\n",
       "      <th>min</th>\n",
       "      <th>25%</th>\n",
       "      <th>50%</th>\n",
       "      <th>75%</th>\n",
       "      <th>max</th>\n",
       "    </tr>\n",
       "    <tr>\n",
       "      <th>Country</th>\n",
       "      <th></th>\n",
       "      <th></th>\n",
       "      <th></th>\n",
       "      <th></th>\n",
       "      <th></th>\n",
       "      <th></th>\n",
       "      <th></th>\n",
       "      <th></th>\n",
       "      <th></th>\n",
       "      <th></th>\n",
       "      <th></th>\n",
       "      <th></th>\n",
       "      <th></th>\n",
       "      <th></th>\n",
       "      <th></th>\n",
       "      <th></th>\n",
       "      <th></th>\n",
       "      <th></th>\n",
       "      <th></th>\n",
       "      <th></th>\n",
       "      <th></th>\n",
       "      <th></th>\n",
       "      <th></th>\n",
       "      <th></th>\n",
       "    </tr>\n",
       "  </thead>\n",
       "  <tbody>\n",
       "    <tr>\n",
       "      <th>Australia</th>\n",
       "      <td>1258.0</td>\n",
       "      <td>66.5</td>\n",
       "      <td>97.7</td>\n",
       "      <td>-120.0</td>\n",
       "      <td>6.0</td>\n",
       "      <td>24.0</td>\n",
       "      <td>96.0</td>\n",
       "      <td>1152.0</td>\n",
       "      <td>1258.0</td>\n",
       "      <td>3.2</td>\n",
       "      <td>12.5</td>\n",
       "      <td>0.0</td>\n",
       "      <td>1.2</td>\n",
       "      <td>1.8</td>\n",
       "      <td>3.8</td>\n",
       "      <td>350.0</td>\n",
       "      <td>1258.0</td>\n",
       "      <td>12464.7</td>\n",
       "      <td>438.0</td>\n",
       "      <td>12386.0</td>\n",
       "      <td>12415.0</td>\n",
       "      <td>12415.0</td>\n",
       "      <td>12415.0</td>\n",
       "      <td>16321.0</td>\n",
       "    </tr>\n",
       "    <tr>\n",
       "      <th>Austria</th>\n",
       "      <td>401.0</td>\n",
       "      <td>12.0</td>\n",
       "      <td>21.7</td>\n",
       "      <td>-48.0</td>\n",
       "      <td>6.0</td>\n",
       "      <td>9.0</td>\n",
       "      <td>12.0</td>\n",
       "      <td>288.0</td>\n",
       "      <td>401.0</td>\n",
       "      <td>4.2</td>\n",
       "      <td>7.4</td>\n",
       "      <td>0.1</td>\n",
       "      <td>1.2</td>\n",
       "      <td>1.9</td>\n",
       "      <td>4.2</td>\n",
       "      <td>40.0</td>\n",
       "      <td>401.0</td>\n",
       "      <td>12521.5</td>\n",
       "      <td>216.5</td>\n",
       "      <td>12358.0</td>\n",
       "      <td>12360.0</td>\n",
       "      <td>12374.0</td>\n",
       "      <td>12818.0</td>\n",
       "      <td>12865.0</td>\n",
       "    </tr>\n",
       "    <tr>\n",
       "      <th>Bahrain</th>\n",
       "      <td>17.0</td>\n",
       "      <td>15.3</td>\n",
       "      <td>25.0</td>\n",
       "      <td>2.0</td>\n",
       "      <td>6.0</td>\n",
       "      <td>6.0</td>\n",
       "      <td>8.0</td>\n",
       "      <td>96.0</td>\n",
       "      <td>17.0</td>\n",
       "      <td>4.6</td>\n",
       "      <td>3.7</td>\n",
       "      <td>1.2</td>\n",
       "      <td>1.6</td>\n",
       "      <td>3.0</td>\n",
       "      <td>5.0</td>\n",
       "      <td>12.8</td>\n",
       "      <td>17.0</td>\n",
       "      <td>12354.5</td>\n",
       "      <td>0.9</td>\n",
       "      <td>12353.0</td>\n",
       "      <td>12355.0</td>\n",
       "      <td>12355.0</td>\n",
       "      <td>12355.0</td>\n",
       "      <td>12355.0</td>\n",
       "    </tr>\n",
       "    <tr>\n",
       "      <th>Belgium</th>\n",
       "      <td>2069.0</td>\n",
       "      <td>11.2</td>\n",
       "      <td>13.6</td>\n",
       "      <td>-12.0</td>\n",
       "      <td>4.0</td>\n",
       "      <td>10.0</td>\n",
       "      <td>12.0</td>\n",
       "      <td>272.0</td>\n",
       "      <td>2069.0</td>\n",
       "      <td>3.6</td>\n",
       "      <td>4.2</td>\n",
       "      <td>0.1</td>\n",
       "      <td>1.2</td>\n",
       "      <td>1.9</td>\n",
       "      <td>4.2</td>\n",
       "      <td>40.0</td>\n",
       "      <td>2069.0</td>\n",
       "      <td>12430.3</td>\n",
       "      <td>110.0</td>\n",
       "      <td>12361.0</td>\n",
       "      <td>12383.0</td>\n",
       "      <td>12407.0</td>\n",
       "      <td>12431.0</td>\n",
       "      <td>12876.0</td>\n",
       "    </tr>\n",
       "    <tr>\n",
       "      <th>Brazil</th>\n",
       "      <td>32.0</td>\n",
       "      <td>11.1</td>\n",
       "      <td>8.5</td>\n",
       "      <td>2.0</td>\n",
       "      <td>3.0</td>\n",
       "      <td>10.0</td>\n",
       "      <td>18.0</td>\n",
       "      <td>24.0</td>\n",
       "      <td>32.0</td>\n",
       "      <td>4.5</td>\n",
       "      <td>2.8</td>\n",
       "      <td>0.8</td>\n",
       "      <td>2.0</td>\n",
       "      <td>3.3</td>\n",
       "      <td>6.8</td>\n",
       "      <td>10.9</td>\n",
       "      <td>32.0</td>\n",
       "      <td>12769.0</td>\n",
       "      <td>0.0</td>\n",
       "      <td>12769.0</td>\n",
       "      <td>12769.0</td>\n",
       "      <td>12769.0</td>\n",
       "      <td>12769.0</td>\n",
       "      <td>12769.0</td>\n",
       "    </tr>\n",
       "    <tr>\n",
       "      <th>Canada</th>\n",
       "      <td>151.0</td>\n",
       "      <td>18.3</td>\n",
       "      <td>46.7</td>\n",
       "      <td>1.0</td>\n",
       "      <td>6.0</td>\n",
       "      <td>12.0</td>\n",
       "      <td>20.0</td>\n",
       "      <td>504.0</td>\n",
       "      <td>151.0</td>\n",
       "      <td>6.0</td>\n",
       "      <td>44.7</td>\n",
       "      <td>0.1</td>\n",
       "      <td>0.8</td>\n",
       "      <td>1.6</td>\n",
       "      <td>3.0</td>\n",
       "      <td>550.9</td>\n",
       "      <td>151.0</td>\n",
       "      <td>17321.1</td>\n",
       "      <td>521.5</td>\n",
       "      <td>15388.0</td>\n",
       "      <td>17444.0</td>\n",
       "      <td>17444.0</td>\n",
       "      <td>17444.0</td>\n",
       "      <td>17844.0</td>\n",
       "    </tr>\n",
       "    <tr>\n",
       "      <th>Channel Islands</th>\n",
       "      <td>757.0</td>\n",
       "      <td>12.5</td>\n",
       "      <td>22.6</td>\n",
       "      <td>-2.0</td>\n",
       "      <td>4.0</td>\n",
       "      <td>10.0</td>\n",
       "      <td>12.0</td>\n",
       "      <td>407.0</td>\n",
       "      <td>757.0</td>\n",
       "      <td>4.9</td>\n",
       "      <td>15.6</td>\n",
       "      <td>0.2</td>\n",
       "      <td>1.4</td>\n",
       "      <td>2.5</td>\n",
       "      <td>6.2</td>\n",
       "      <td>293.0</td>\n",
       "      <td>757.0</td>\n",
       "      <td>14888.1</td>\n",
       "      <td>142.8</td>\n",
       "      <td>14442.0</td>\n",
       "      <td>14930.0</td>\n",
       "      <td>14936.0</td>\n",
       "      <td>14936.0</td>\n",
       "      <td>14937.0</td>\n",
       "    </tr>\n",
       "    <tr>\n",
       "      <th>Cyprus</th>\n",
       "      <td>611.0</td>\n",
       "      <td>10.3</td>\n",
       "      <td>23.4</td>\n",
       "      <td>-33.0</td>\n",
       "      <td>2.0</td>\n",
       "      <td>5.0</td>\n",
       "      <td>12.0</td>\n",
       "      <td>288.0</td>\n",
       "      <td>611.0</td>\n",
       "      <td>6.4</td>\n",
       "      <td>22.6</td>\n",
       "      <td>0.1</td>\n",
       "      <td>1.2</td>\n",
       "      <td>3.0</td>\n",
       "      <td>5.0</td>\n",
       "      <td>320.7</td>\n",
       "      <td>611.0</td>\n",
       "      <td>12405.4</td>\n",
       "      <td>200.6</td>\n",
       "      <td>12359.0</td>\n",
       "      <td>12359.0</td>\n",
       "      <td>12370.0</td>\n",
       "      <td>12391.0</td>\n",
       "      <td>13809.0</td>\n",
       "    </tr>\n",
       "    <tr>\n",
       "      <th>Czech Republic</th>\n",
       "      <td>30.0</td>\n",
       "      <td>19.7</td>\n",
       "      <td>22.8</td>\n",
       "      <td>-24.0</td>\n",
       "      <td>12.0</td>\n",
       "      <td>24.0</td>\n",
       "      <td>24.0</td>\n",
       "      <td>72.0</td>\n",
       "      <td>30.0</td>\n",
       "      <td>2.9</td>\n",
       "      <td>7.1</td>\n",
       "      <td>0.3</td>\n",
       "      <td>0.8</td>\n",
       "      <td>1.4</td>\n",
       "      <td>2.4</td>\n",
       "      <td>40.0</td>\n",
       "      <td>30.0</td>\n",
       "      <td>12781.0</td>\n",
       "      <td>0.0</td>\n",
       "      <td>12781.0</td>\n",
       "      <td>12781.0</td>\n",
       "      <td>12781.0</td>\n",
       "      <td>12781.0</td>\n",
       "      <td>12781.0</td>\n",
       "    </tr>\n",
       "    <tr>\n",
       "      <th>Denmark</th>\n",
       "      <td>389.0</td>\n",
       "      <td>21.0</td>\n",
       "      <td>27.4</td>\n",
       "      <td>-25.0</td>\n",
       "      <td>12.0</td>\n",
       "      <td>12.0</td>\n",
       "      <td>24.0</td>\n",
       "      <td>256.0</td>\n",
       "      <td>389.0</td>\n",
       "      <td>3.3</td>\n",
       "      <td>4.0</td>\n",
       "      <td>0.2</td>\n",
       "      <td>1.2</td>\n",
       "      <td>1.9</td>\n",
       "      <td>3.8</td>\n",
       "      <td>18.0</td>\n",
       "      <td>389.0</td>\n",
       "      <td>12536.6</td>\n",
       "      <td>421.9</td>\n",
       "      <td>12367.0</td>\n",
       "      <td>12406.0</td>\n",
       "      <td>12412.0</td>\n",
       "      <td>12429.0</td>\n",
       "      <td>13919.0</td>\n",
       "    </tr>\n",
       "    <tr>\n",
       "      <th>EIRE</th>\n",
       "      <td>7475.0</td>\n",
       "      <td>18.2</td>\n",
       "      <td>42.0</td>\n",
       "      <td>-288.0</td>\n",
       "      <td>4.0</td>\n",
       "      <td>10.0</td>\n",
       "      <td>12.0</td>\n",
       "      <td>1440.0</td>\n",
       "      <td>7475.0</td>\n",
       "      <td>5.1</td>\n",
       "      <td>41.8</td>\n",
       "      <td>0.0</td>\n",
       "      <td>1.2</td>\n",
       "      <td>2.1</td>\n",
       "      <td>4.2</td>\n",
       "      <td>1687.2</td>\n",
       "      <td>7475.0</td>\n",
       "      <td>14748.7</td>\n",
       "      <td>314.5</td>\n",
       "      <td>14016.0</td>\n",
       "      <td>14911.0</td>\n",
       "      <td>14911.0</td>\n",
       "      <td>14911.0</td>\n",
       "      <td>14911.0</td>\n",
       "    </tr>\n",
       "    <tr>\n",
       "      <th>European Community</th>\n",
       "      <td>61.0</td>\n",
       "      <td>8.1</td>\n",
       "      <td>6.5</td>\n",
       "      <td>-2.0</td>\n",
       "      <td>3.0</td>\n",
       "      <td>6.0</td>\n",
       "      <td>12.0</td>\n",
       "      <td>24.0</td>\n",
       "      <td>61.0</td>\n",
       "      <td>4.8</td>\n",
       "      <td>4.4</td>\n",
       "      <td>0.6</td>\n",
       "      <td>1.4</td>\n",
       "      <td>3.4</td>\n",
       "      <td>6.8</td>\n",
       "      <td>18.0</td>\n",
       "      <td>61.0</td>\n",
       "      <td>15108.0</td>\n",
       "      <td>0.0</td>\n",
       "      <td>15108.0</td>\n",
       "      <td>15108.0</td>\n",
       "      <td>15108.0</td>\n",
       "      <td>15108.0</td>\n",
       "      <td>15108.0</td>\n",
       "    </tr>\n",
       "    <tr>\n",
       "      <th>Finland</th>\n",
       "      <td>695.0</td>\n",
       "      <td>15.3</td>\n",
       "      <td>21.0</td>\n",
       "      <td>-27.0</td>\n",
       "      <td>6.0</td>\n",
       "      <td>10.0</td>\n",
       "      <td>12.0</td>\n",
       "      <td>144.0</td>\n",
       "      <td>695.0</td>\n",
       "      <td>5.4</td>\n",
       "      <td>13.6</td>\n",
       "      <td>0.1</td>\n",
       "      <td>0.8</td>\n",
       "      <td>2.1</td>\n",
       "      <td>4.5</td>\n",
       "      <td>275.6</td>\n",
       "      <td>695.0</td>\n",
       "      <td>12517.0</td>\n",
       "      <td>122.4</td>\n",
       "      <td>12348.0</td>\n",
       "      <td>12428.0</td>\n",
       "      <td>12428.0</td>\n",
       "      <td>12631.0</td>\n",
       "      <td>12704.0</td>\n",
       "    </tr>\n",
       "    <tr>\n",
       "      <th>France</th>\n",
       "      <td>8475.0</td>\n",
       "      <td>13.0</td>\n",
       "      <td>21.5</td>\n",
       "      <td>-250.0</td>\n",
       "      <td>5.0</td>\n",
       "      <td>10.0</td>\n",
       "      <td>12.0</td>\n",
       "      <td>912.0</td>\n",
       "      <td>8475.0</td>\n",
       "      <td>5.1</td>\n",
       "      <td>80.3</td>\n",
       "      <td>0.0</td>\n",
       "      <td>1.2</td>\n",
       "      <td>1.8</td>\n",
       "      <td>3.8</td>\n",
       "      <td>4161.1</td>\n",
       "      <td>8475.0</td>\n",
       "      <td>12677.5</td>\n",
       "      <td>275.4</td>\n",
       "      <td>12413.0</td>\n",
       "      <td>12571.0</td>\n",
       "      <td>12674.0</td>\n",
       "      <td>12689.0</td>\n",
       "      <td>14277.0</td>\n",
       "    </tr>\n",
       "    <tr>\n",
       "      <th>Germany</th>\n",
       "      <td>9480.0</td>\n",
       "      <td>12.4</td>\n",
       "      <td>17.9</td>\n",
       "      <td>-288.0</td>\n",
       "      <td>5.0</td>\n",
       "      <td>10.0</td>\n",
       "      <td>12.0</td>\n",
       "      <td>600.0</td>\n",
       "      <td>9480.0</td>\n",
       "      <td>4.0</td>\n",
       "      <td>16.6</td>\n",
       "      <td>0.0</td>\n",
       "      <td>1.2</td>\n",
       "      <td>1.9</td>\n",
       "      <td>3.8</td>\n",
       "      <td>599.5</td>\n",
       "      <td>9480.0</td>\n",
       "      <td>12645.8</td>\n",
       "      <td>307.9</td>\n",
       "      <td>12426.0</td>\n",
       "      <td>12480.0</td>\n",
       "      <td>12592.0</td>\n",
       "      <td>12662.0</td>\n",
       "      <td>14335.0</td>\n",
       "    </tr>\n",
       "    <tr>\n",
       "      <th>Greece</th>\n",
       "      <td>146.0</td>\n",
       "      <td>10.7</td>\n",
       "      <td>7.7</td>\n",
       "      <td>-1.0</td>\n",
       "      <td>5.2</td>\n",
       "      <td>10.0</td>\n",
       "      <td>12.0</td>\n",
       "      <td>48.0</td>\n",
       "      <td>146.0</td>\n",
       "      <td>4.9</td>\n",
       "      <td>8.5</td>\n",
       "      <td>0.1</td>\n",
       "      <td>1.2</td>\n",
       "      <td>2.1</td>\n",
       "      <td>5.5</td>\n",
       "      <td>50.0</td>\n",
       "      <td>146.0</td>\n",
       "      <td>13757.4</td>\n",
       "      <td>1749.6</td>\n",
       "      <td>12478.0</td>\n",
       "      <td>12717.0</td>\n",
       "      <td>12717.0</td>\n",
       "      <td>14439.0</td>\n",
       "      <td>17508.0</td>\n",
       "    </tr>\n",
       "    <tr>\n",
       "      <th>Iceland</th>\n",
       "      <td>182.0</td>\n",
       "      <td>13.5</td>\n",
       "      <td>18.9</td>\n",
       "      <td>2.0</td>\n",
       "      <td>6.0</td>\n",
       "      <td>12.0</td>\n",
       "      <td>12.0</td>\n",
       "      <td>240.0</td>\n",
       "      <td>182.0</td>\n",
       "      <td>2.6</td>\n",
       "      <td>2.3</td>\n",
       "      <td>0.2</td>\n",
       "      <td>1.2</td>\n",
       "      <td>2.0</td>\n",
       "      <td>3.8</td>\n",
       "      <td>12.8</td>\n",
       "      <td>182.0</td>\n",
       "      <td>12347.0</td>\n",
       "      <td>0.0</td>\n",
       "      <td>12347.0</td>\n",
       "      <td>12347.0</td>\n",
       "      <td>12347.0</td>\n",
       "      <td>12347.0</td>\n",
       "      <td>12347.0</td>\n",
       "    </tr>\n",
       "    <tr>\n",
       "      <th>Israel</th>\n",
       "      <td>247.0</td>\n",
       "      <td>16.1</td>\n",
       "      <td>16.7</td>\n",
       "      <td>-32.0</td>\n",
       "      <td>4.0</td>\n",
       "      <td>12.0</td>\n",
       "      <td>24.0</td>\n",
       "      <td>100.0</td>\n",
       "      <td>247.0</td>\n",
       "      <td>3.7</td>\n",
       "      <td>9.4</td>\n",
       "      <td>0.1</td>\n",
       "      <td>0.8</td>\n",
       "      <td>1.6</td>\n",
       "      <td>3.8</td>\n",
       "      <td>125.0</td>\n",
       "      <td>247.0</td>\n",
       "      <td>12659.6</td>\n",
       "      <td>57.6</td>\n",
       "      <td>12512.0</td>\n",
       "      <td>12653.0</td>\n",
       "      <td>12688.0</td>\n",
       "      <td>12688.0</td>\n",
       "      <td>12688.0</td>\n",
       "    </tr>\n",
       "    <tr>\n",
       "      <th>Italy</th>\n",
       "      <td>803.0</td>\n",
       "      <td>10.0</td>\n",
       "      <td>13.6</td>\n",
       "      <td>-12.0</td>\n",
       "      <td>4.0</td>\n",
       "      <td>6.0</td>\n",
       "      <td>12.0</td>\n",
       "      <td>200.0</td>\n",
       "      <td>803.0</td>\n",
       "      <td>4.8</td>\n",
       "      <td>11.8</td>\n",
       "      <td>0.1</td>\n",
       "      <td>1.6</td>\n",
       "      <td>2.5</td>\n",
       "      <td>5.0</td>\n",
       "      <td>300.0</td>\n",
       "      <td>803.0</td>\n",
       "      <td>12648.4</td>\n",
       "      <td>437.4</td>\n",
       "      <td>12349.0</td>\n",
       "      <td>12578.0</td>\n",
       "      <td>12584.0</td>\n",
       "      <td>12610.0</td>\n",
       "      <td>14912.0</td>\n",
       "    </tr>\n",
       "    <tr>\n",
       "      <th>Japan</th>\n",
       "      <td>358.0</td>\n",
       "      <td>70.4</td>\n",
       "      <td>177.2</td>\n",
       "      <td>-624.0</td>\n",
       "      <td>4.0</td>\n",
       "      <td>36.0</td>\n",
       "      <td>72.0</td>\n",
       "      <td>2040.0</td>\n",
       "      <td>358.0</td>\n",
       "      <td>2.3</td>\n",
       "      <td>3.1</td>\n",
       "      <td>0.2</td>\n",
       "      <td>0.8</td>\n",
       "      <td>1.6</td>\n",
       "      <td>2.5</td>\n",
       "      <td>45.6</td>\n",
       "      <td>358.0</td>\n",
       "      <td>12757.8</td>\n",
       "      <td>13.6</td>\n",
       "      <td>12753.0</td>\n",
       "      <td>12753.0</td>\n",
       "      <td>12753.0</td>\n",
       "      <td>12754.0</td>\n",
       "      <td>12812.0</td>\n",
       "    </tr>\n",
       "    <tr>\n",
       "      <th>Lebanon</th>\n",
       "      <td>45.0</td>\n",
       "      <td>8.6</td>\n",
       "      <td>4.3</td>\n",
       "      <td>2.0</td>\n",
       "      <td>6.0</td>\n",
       "      <td>8.0</td>\n",
       "      <td>12.0</td>\n",
       "      <td>24.0</td>\n",
       "      <td>45.0</td>\n",
       "      <td>5.4</td>\n",
       "      <td>4.1</td>\n",
       "      <td>0.6</td>\n",
       "      <td>2.5</td>\n",
       "      <td>4.0</td>\n",
       "      <td>8.0</td>\n",
       "      <td>14.9</td>\n",
       "      <td>45.0</td>\n",
       "      <td>12764.0</td>\n",
       "      <td>0.0</td>\n",
       "      <td>12764.0</td>\n",
       "      <td>12764.0</td>\n",
       "      <td>12764.0</td>\n",
       "      <td>12764.0</td>\n",
       "      <td>12764.0</td>\n",
       "    </tr>\n",
       "    <tr>\n",
       "      <th>Lithuania</th>\n",
       "      <td>35.0</td>\n",
       "      <td>18.6</td>\n",
       "      <td>10.1</td>\n",
       "      <td>6.0</td>\n",
       "      <td>12.0</td>\n",
       "      <td>16.0</td>\n",
       "      <td>24.0</td>\n",
       "      <td>48.0</td>\n",
       "      <td>35.0</td>\n",
       "      <td>2.8</td>\n",
       "      <td>1.4</td>\n",
       "      <td>1.2</td>\n",
       "      <td>1.6</td>\n",
       "      <td>2.5</td>\n",
       "      <td>3.8</td>\n",
       "      <td>6.0</td>\n",
       "      <td>35.0</td>\n",
       "      <td>15332.0</td>\n",
       "      <td>0.0</td>\n",
       "      <td>15332.0</td>\n",
       "      <td>15332.0</td>\n",
       "      <td>15332.0</td>\n",
       "      <td>15332.0</td>\n",
       "      <td>15332.0</td>\n",
       "    </tr>\n",
       "    <tr>\n",
       "      <th>Malta</th>\n",
       "      <td>127.0</td>\n",
       "      <td>7.4</td>\n",
       "      <td>8.1</td>\n",
       "      <td>-4.0</td>\n",
       "      <td>3.0</td>\n",
       "      <td>6.0</td>\n",
       "      <td>12.0</td>\n",
       "      <td>48.0</td>\n",
       "      <td>127.0</td>\n",
       "      <td>5.2</td>\n",
       "      <td>9.4</td>\n",
       "      <td>0.2</td>\n",
       "      <td>1.4</td>\n",
       "      <td>3.0</td>\n",
       "      <td>5.0</td>\n",
       "      <td>65.0</td>\n",
       "      <td>127.0</td>\n",
       "      <td>16996.0</td>\n",
       "      <td>1127.5</td>\n",
       "      <td>15480.0</td>\n",
       "      <td>15480.0</td>\n",
       "      <td>17828.0</td>\n",
       "      <td>17828.0</td>\n",
       "      <td>17828.0</td>\n",
       "    </tr>\n",
       "    <tr>\n",
       "      <th>Netherlands</th>\n",
       "      <td>2371.0</td>\n",
       "      <td>84.4</td>\n",
       "      <td>111.4</td>\n",
       "      <td>-480.0</td>\n",
       "      <td>16.0</td>\n",
       "      <td>72.0</td>\n",
       "      <td>100.0</td>\n",
       "      <td>2400.0</td>\n",
       "      <td>2371.0</td>\n",
       "      <td>2.7</td>\n",
       "      <td>6.3</td>\n",
       "      <td>0.0</td>\n",
       "      <td>0.8</td>\n",
       "      <td>1.4</td>\n",
       "      <td>2.5</td>\n",
       "      <td>206.4</td>\n",
       "      <td>2371.0</td>\n",
       "      <td>14420.3</td>\n",
       "      <td>609.5</td>\n",
       "      <td>12759.0</td>\n",
       "      <td>14646.0</td>\n",
       "      <td>14646.0</td>\n",
       "      <td>14646.0</td>\n",
       "      <td>14646.0</td>\n",
       "    </tr>\n",
       "    <tr>\n",
       "      <th>Norway</th>\n",
       "      <td>1086.0</td>\n",
       "      <td>17.7</td>\n",
       "      <td>22.6</td>\n",
       "      <td>-12.0</td>\n",
       "      <td>6.0</td>\n",
       "      <td>12.0</td>\n",
       "      <td>24.0</td>\n",
       "      <td>240.0</td>\n",
       "      <td>1086.0</td>\n",
       "      <td>6.0</td>\n",
       "      <td>30.6</td>\n",
       "      <td>0.0</td>\n",
       "      <td>1.2</td>\n",
       "      <td>2.1</td>\n",
       "      <td>5.0</td>\n",
       "      <td>700.0</td>\n",
       "      <td>1086.0</td>\n",
       "      <td>12438.0</td>\n",
       "      <td>76.7</td>\n",
       "      <td>12350.0</td>\n",
       "      <td>12432.0</td>\n",
       "      <td>12433.0</td>\n",
       "      <td>12438.0</td>\n",
       "      <td>12752.0</td>\n",
       "    </tr>\n",
       "    <tr>\n",
       "      <th>Poland</th>\n",
       "      <td>341.0</td>\n",
       "      <td>10.7</td>\n",
       "      <td>10.2</td>\n",
       "      <td>-6.0</td>\n",
       "      <td>4.0</td>\n",
       "      <td>10.0</td>\n",
       "      <td>12.0</td>\n",
       "      <td>72.0</td>\n",
       "      <td>341.0</td>\n",
       "      <td>4.2</td>\n",
       "      <td>5.9</td>\n",
       "      <td>0.2</td>\n",
       "      <td>1.2</td>\n",
       "      <td>2.1</td>\n",
       "      <td>5.0</td>\n",
       "      <td>40.0</td>\n",
       "      <td>341.0</td>\n",
       "      <td>12733.1</td>\n",
       "      <td>94.9</td>\n",
       "      <td>12576.0</td>\n",
       "      <td>12576.0</td>\n",
       "      <td>12779.0</td>\n",
       "      <td>12779.0</td>\n",
       "      <td>12816.0</td>\n",
       "    </tr>\n",
       "    <tr>\n",
       "      <th>Portugal</th>\n",
       "      <td>1471.0</td>\n",
       "      <td>10.9</td>\n",
       "      <td>11.9</td>\n",
       "      <td>-12.0</td>\n",
       "      <td>4.0</td>\n",
       "      <td>10.0</td>\n",
       "      <td>12.0</td>\n",
       "      <td>120.0</td>\n",
       "      <td>1471.0</td>\n",
       "      <td>8.8</td>\n",
       "      <td>72.5</td>\n",
       "      <td>0.1</td>\n",
       "      <td>1.2</td>\n",
       "      <td>1.6</td>\n",
       "      <td>3.0</td>\n",
       "      <td>1242.0</td>\n",
       "      <td>1471.0</td>\n",
       "      <td>12746.4</td>\n",
       "      <td>97.3</td>\n",
       "      <td>12356.0</td>\n",
       "      <td>12757.0</td>\n",
       "      <td>12766.0</td>\n",
       "      <td>12782.5</td>\n",
       "      <td>12811.0</td>\n",
       "    </tr>\n",
       "    <tr>\n",
       "      <th>RSA</th>\n",
       "      <td>58.0</td>\n",
       "      <td>6.1</td>\n",
       "      <td>3.3</td>\n",
       "      <td>1.0</td>\n",
       "      <td>3.0</td>\n",
       "      <td>6.0</td>\n",
       "      <td>9.5</td>\n",
       "      <td>12.0</td>\n",
       "      <td>58.0</td>\n",
       "      <td>4.3</td>\n",
       "      <td>3.7</td>\n",
       "      <td>0.0</td>\n",
       "      <td>1.7</td>\n",
       "      <td>3.0</td>\n",
       "      <td>5.0</td>\n",
       "      <td>14.9</td>\n",
       "      <td>58.0</td>\n",
       "      <td>12446.0</td>\n",
       "      <td>0.0</td>\n",
       "      <td>12446.0</td>\n",
       "      <td>12446.0</td>\n",
       "      <td>12446.0</td>\n",
       "      <td>12446.0</td>\n",
       "      <td>12446.0</td>\n",
       "    </tr>\n",
       "    <tr>\n",
       "      <th>Saudi Arabia</th>\n",
       "      <td>10.0</td>\n",
       "      <td>7.5</td>\n",
       "      <td>5.7</td>\n",
       "      <td>-5.0</td>\n",
       "      <td>6.0</td>\n",
       "      <td>9.0</td>\n",
       "      <td>12.0</td>\n",
       "      <td>12.0</td>\n",
       "      <td>10.0</td>\n",
       "      <td>2.4</td>\n",
       "      <td>1.4</td>\n",
       "      <td>0.4</td>\n",
       "      <td>1.6</td>\n",
       "      <td>2.3</td>\n",
       "      <td>3.0</td>\n",
       "      <td>5.5</td>\n",
       "      <td>10.0</td>\n",
       "      <td>12565.0</td>\n",
       "      <td>0.0</td>\n",
       "      <td>12565.0</td>\n",
       "      <td>12565.0</td>\n",
       "      <td>12565.0</td>\n",
       "      <td>12565.0</td>\n",
       "      <td>12565.0</td>\n",
       "    </tr>\n",
       "    <tr>\n",
       "      <th>Singapore</th>\n",
       "      <td>229.0</td>\n",
       "      <td>22.9</td>\n",
       "      <td>27.7</td>\n",
       "      <td>-1.0</td>\n",
       "      <td>8.0</td>\n",
       "      <td>12.0</td>\n",
       "      <td>24.0</td>\n",
       "      <td>288.0</td>\n",
       "      <td>229.0</td>\n",
       "      <td>109.6</td>\n",
       "      <td>515.3</td>\n",
       "      <td>0.2</td>\n",
       "      <td>1.2</td>\n",
       "      <td>2.1</td>\n",
       "      <td>4.2</td>\n",
       "      <td>3949.3</td>\n",
       "      <td>229.0</td>\n",
       "      <td>12744.0</td>\n",
       "      <td>0.0</td>\n",
       "      <td>12744.0</td>\n",
       "      <td>12744.0</td>\n",
       "      <td>12744.0</td>\n",
       "      <td>12744.0</td>\n",
       "      <td>12744.0</td>\n",
       "    </tr>\n",
       "    <tr>\n",
       "      <th>Spain</th>\n",
       "      <td>2528.0</td>\n",
       "      <td>10.6</td>\n",
       "      <td>24.2</td>\n",
       "      <td>-288.0</td>\n",
       "      <td>3.0</td>\n",
       "      <td>6.0</td>\n",
       "      <td>12.0</td>\n",
       "      <td>360.0</td>\n",
       "      <td>2528.0</td>\n",
       "      <td>5.0</td>\n",
       "      <td>41.0</td>\n",
       "      <td>0.0</td>\n",
       "      <td>1.2</td>\n",
       "      <td>2.1</td>\n",
       "      <td>4.2</td>\n",
       "      <td>1715.8</td>\n",
       "      <td>2528.0</td>\n",
       "      <td>12906.1</td>\n",
       "      <td>1272.4</td>\n",
       "      <td>12354.0</td>\n",
       "      <td>12484.0</td>\n",
       "      <td>12540.0</td>\n",
       "      <td>12550.0</td>\n",
       "      <td>17097.0</td>\n",
       "    </tr>\n",
       "    <tr>\n",
       "      <th>Sweden</th>\n",
       "      <td>461.0</td>\n",
       "      <td>77.3</td>\n",
       "      <td>129.0</td>\n",
       "      <td>-240.0</td>\n",
       "      <td>8.0</td>\n",
       "      <td>20.0</td>\n",
       "      <td>96.0</td>\n",
       "      <td>768.0</td>\n",
       "      <td>461.0</td>\n",
       "      <td>3.9</td>\n",
       "      <td>8.3</td>\n",
       "      <td>0.2</td>\n",
       "      <td>0.8</td>\n",
       "      <td>1.6</td>\n",
       "      <td>3.0</td>\n",
       "      <td>40.0</td>\n",
       "      <td>461.0</td>\n",
       "      <td>14701.4</td>\n",
       "      <td>2379.8</td>\n",
       "      <td>12483.0</td>\n",
       "      <td>12638.0</td>\n",
       "      <td>12697.0</td>\n",
       "      <td>17404.0</td>\n",
       "      <td>17404.0</td>\n",
       "    </tr>\n",
       "    <tr>\n",
       "      <th>Switzerland</th>\n",
       "      <td>1877.0</td>\n",
       "      <td>15.9</td>\n",
       "      <td>19.3</td>\n",
       "      <td>-120.0</td>\n",
       "      <td>6.0</td>\n",
       "      <td>12.0</td>\n",
       "      <td>24.0</td>\n",
       "      <td>288.0</td>\n",
       "      <td>1877.0</td>\n",
       "      <td>3.5</td>\n",
       "      <td>5.5</td>\n",
       "      <td>0.0</td>\n",
       "      <td>1.2</td>\n",
       "      <td>1.8</td>\n",
       "      <td>3.8</td>\n",
       "      <td>40.0</td>\n",
       "      <td>1877.0</td>\n",
       "      <td>12667.0</td>\n",
       "      <td>460.8</td>\n",
       "      <td>12357.0</td>\n",
       "      <td>12378.0</td>\n",
       "      <td>12451.0</td>\n",
       "      <td>12458.0</td>\n",
       "      <td>13520.0</td>\n",
       "    </tr>\n",
       "    <tr>\n",
       "      <th>USA</th>\n",
       "      <td>291.0</td>\n",
       "      <td>3.6</td>\n",
       "      <td>16.5</td>\n",
       "      <td>-36.0</td>\n",
       "      <td>-10.0</td>\n",
       "      <td>5.0</td>\n",
       "      <td>12.0</td>\n",
       "      <td>72.0</td>\n",
       "      <td>291.0</td>\n",
       "      <td>2.2</td>\n",
       "      <td>2.3</td>\n",
       "      <td>0.4</td>\n",
       "      <td>0.8</td>\n",
       "      <td>1.4</td>\n",
       "      <td>3.0</td>\n",
       "      <td>16.9</td>\n",
       "      <td>291.0</td>\n",
       "      <td>12618.9</td>\n",
       "      <td>38.5</td>\n",
       "      <td>12558.0</td>\n",
       "      <td>12607.0</td>\n",
       "      <td>12607.0</td>\n",
       "      <td>12607.0</td>\n",
       "      <td>12733.0</td>\n",
       "    </tr>\n",
       "    <tr>\n",
       "      <th>United Arab Emirates</th>\n",
       "      <td>68.0</td>\n",
       "      <td>14.4</td>\n",
       "      <td>12.5</td>\n",
       "      <td>1.0</td>\n",
       "      <td>6.0</td>\n",
       "      <td>12.0</td>\n",
       "      <td>12.0</td>\n",
       "      <td>72.0</td>\n",
       "      <td>68.0</td>\n",
       "      <td>3.4</td>\n",
       "      <td>5.3</td>\n",
       "      <td>0.3</td>\n",
       "      <td>1.1</td>\n",
       "      <td>1.7</td>\n",
       "      <td>3.3</td>\n",
       "      <td>37.5</td>\n",
       "      <td>68.0</td>\n",
       "      <td>14984.6</td>\n",
       "      <td>2546.1</td>\n",
       "      <td>12739.0</td>\n",
       "      <td>12739.0</td>\n",
       "      <td>12739.0</td>\n",
       "      <td>17829.0</td>\n",
       "      <td>17829.0</td>\n",
       "    </tr>\n",
       "    <tr>\n",
       "      <th>United Kingdom</th>\n",
       "      <td>356728.0</td>\n",
       "      <td>11.2</td>\n",
       "      <td>265.0</td>\n",
       "      <td>-80995.0</td>\n",
       "      <td>2.0</td>\n",
       "      <td>4.0</td>\n",
       "      <td>12.0</td>\n",
       "      <td>80995.0</td>\n",
       "      <td>356728.0</td>\n",
       "      <td>3.3</td>\n",
       "      <td>71.2</td>\n",
       "      <td>0.0</td>\n",
       "      <td>1.2</td>\n",
       "      <td>1.9</td>\n",
       "      <td>3.8</td>\n",
       "      <td>38970.0</td>\n",
       "      <td>356728.0</td>\n",
       "      <td>15543.8</td>\n",
       "      <td>1594.3</td>\n",
       "      <td>12346.0</td>\n",
       "      <td>14191.0</td>\n",
       "      <td>15513.0</td>\n",
       "      <td>16931.0</td>\n",
       "      <td>18287.0</td>\n",
       "    </tr>\n",
       "    <tr>\n",
       "      <th>Unspecified</th>\n",
       "      <td>241.0</td>\n",
       "      <td>7.4</td>\n",
       "      <td>8.9</td>\n",
       "      <td>1.0</td>\n",
       "      <td>1.0</td>\n",
       "      <td>2.0</td>\n",
       "      <td>12.0</td>\n",
       "      <td>36.0</td>\n",
       "      <td>241.0</td>\n",
       "      <td>3.2</td>\n",
       "      <td>3.4</td>\n",
       "      <td>0.2</td>\n",
       "      <td>1.2</td>\n",
       "      <td>2.1</td>\n",
       "      <td>4.2</td>\n",
       "      <td>16.9</td>\n",
       "      <td>241.0</td>\n",
       "      <td>13733.7</td>\n",
       "      <td>1520.9</td>\n",
       "      <td>12363.0</td>\n",
       "      <td>12743.0</td>\n",
       "      <td>12743.0</td>\n",
       "      <td>14265.0</td>\n",
       "      <td>16320.0</td>\n",
       "    </tr>\n",
       "  </tbody>\n",
       "</table>\n",
       "</div>"
      ],
      "text/plain": [
       "                     Quantity                                               \\\n",
       "                        count mean   std      min   25%  50%   75%     max   \n",
       "Country                                                                      \n",
       "Australia              1258.0 66.5  97.7   -120.0   6.0 24.0  96.0  1152.0   \n",
       "Austria                 401.0 12.0  21.7    -48.0   6.0  9.0  12.0   288.0   \n",
       "Bahrain                  17.0 15.3  25.0      2.0   6.0  6.0   8.0    96.0   \n",
       "Belgium                2069.0 11.2  13.6    -12.0   4.0 10.0  12.0   272.0   \n",
       "Brazil                   32.0 11.1   8.5      2.0   3.0 10.0  18.0    24.0   \n",
       "Canada                  151.0 18.3  46.7      1.0   6.0 12.0  20.0   504.0   \n",
       "Channel Islands         757.0 12.5  22.6     -2.0   4.0 10.0  12.0   407.0   \n",
       "Cyprus                  611.0 10.3  23.4    -33.0   2.0  5.0  12.0   288.0   \n",
       "Czech Republic           30.0 19.7  22.8    -24.0  12.0 24.0  24.0    72.0   \n",
       "Denmark                 389.0 21.0  27.4    -25.0  12.0 12.0  24.0   256.0   \n",
       "EIRE                   7475.0 18.2  42.0   -288.0   4.0 10.0  12.0  1440.0   \n",
       "European Community       61.0  8.1   6.5     -2.0   3.0  6.0  12.0    24.0   \n",
       "Finland                 695.0 15.3  21.0    -27.0   6.0 10.0  12.0   144.0   \n",
       "France                 8475.0 13.0  21.5   -250.0   5.0 10.0  12.0   912.0   \n",
       "Germany                9480.0 12.4  17.9   -288.0   5.0 10.0  12.0   600.0   \n",
       "Greece                  146.0 10.7   7.7     -1.0   5.2 10.0  12.0    48.0   \n",
       "Iceland                 182.0 13.5  18.9      2.0   6.0 12.0  12.0   240.0   \n",
       "Israel                  247.0 16.1  16.7    -32.0   4.0 12.0  24.0   100.0   \n",
       "Italy                   803.0 10.0  13.6    -12.0   4.0  6.0  12.0   200.0   \n",
       "Japan                   358.0 70.4 177.2   -624.0   4.0 36.0  72.0  2040.0   \n",
       "Lebanon                  45.0  8.6   4.3      2.0   6.0  8.0  12.0    24.0   \n",
       "Lithuania                35.0 18.6  10.1      6.0  12.0 16.0  24.0    48.0   \n",
       "Malta                   127.0  7.4   8.1     -4.0   3.0  6.0  12.0    48.0   \n",
       "Netherlands            2371.0 84.4 111.4   -480.0  16.0 72.0 100.0  2400.0   \n",
       "Norway                 1086.0 17.7  22.6    -12.0   6.0 12.0  24.0   240.0   \n",
       "Poland                  341.0 10.7  10.2     -6.0   4.0 10.0  12.0    72.0   \n",
       "Portugal               1471.0 10.9  11.9    -12.0   4.0 10.0  12.0   120.0   \n",
       "RSA                      58.0  6.1   3.3      1.0   3.0  6.0   9.5    12.0   \n",
       "Saudi Arabia             10.0  7.5   5.7     -5.0   6.0  9.0  12.0    12.0   \n",
       "Singapore               229.0 22.9  27.7     -1.0   8.0 12.0  24.0   288.0   \n",
       "Spain                  2528.0 10.6  24.2   -288.0   3.0  6.0  12.0   360.0   \n",
       "Sweden                  461.0 77.3 129.0   -240.0   8.0 20.0  96.0   768.0   \n",
       "Switzerland            1877.0 15.9  19.3   -120.0   6.0 12.0  24.0   288.0   \n",
       "USA                     291.0  3.6  16.5    -36.0 -10.0  5.0  12.0    72.0   \n",
       "United Arab Emirates     68.0 14.4  12.5      1.0   6.0 12.0  12.0    72.0   \n",
       "United Kingdom       356728.0 11.2 265.0 -80995.0   2.0  4.0  12.0 80995.0   \n",
       "Unspecified             241.0  7.4   8.9      1.0   1.0  2.0  12.0    36.0   \n",
       "\n",
       "                     UnitPrice                                     CustomerID  \\\n",
       "                         count  mean   std min 25% 50% 75%     max      count   \n",
       "Country                                                                         \n",
       "Australia               1258.0   3.2  12.5 0.0 1.2 1.8 3.8   350.0     1258.0   \n",
       "Austria                  401.0   4.2   7.4 0.1 1.2 1.9 4.2    40.0      401.0   \n",
       "Bahrain                   17.0   4.6   3.7 1.2 1.6 3.0 5.0    12.8       17.0   \n",
       "Belgium                 2069.0   3.6   4.2 0.1 1.2 1.9 4.2    40.0     2069.0   \n",
       "Brazil                    32.0   4.5   2.8 0.8 2.0 3.3 6.8    10.9       32.0   \n",
       "Canada                   151.0   6.0  44.7 0.1 0.8 1.6 3.0   550.9      151.0   \n",
       "Channel Islands          757.0   4.9  15.6 0.2 1.4 2.5 6.2   293.0      757.0   \n",
       "Cyprus                   611.0   6.4  22.6 0.1 1.2 3.0 5.0   320.7      611.0   \n",
       "Czech Republic            30.0   2.9   7.1 0.3 0.8 1.4 2.4    40.0       30.0   \n",
       "Denmark                  389.0   3.3   4.0 0.2 1.2 1.9 3.8    18.0      389.0   \n",
       "EIRE                    7475.0   5.1  41.8 0.0 1.2 2.1 4.2  1687.2     7475.0   \n",
       "European Community        61.0   4.8   4.4 0.6 1.4 3.4 6.8    18.0       61.0   \n",
       "Finland                  695.0   5.4  13.6 0.1 0.8 2.1 4.5   275.6      695.0   \n",
       "France                  8475.0   5.1  80.3 0.0 1.2 1.8 3.8  4161.1     8475.0   \n",
       "Germany                 9480.0   4.0  16.6 0.0 1.2 1.9 3.8   599.5     9480.0   \n",
       "Greece                   146.0   4.9   8.5 0.1 1.2 2.1 5.5    50.0      146.0   \n",
       "Iceland                  182.0   2.6   2.3 0.2 1.2 2.0 3.8    12.8      182.0   \n",
       "Israel                   247.0   3.7   9.4 0.1 0.8 1.6 3.8   125.0      247.0   \n",
       "Italy                    803.0   4.8  11.8 0.1 1.6 2.5 5.0   300.0      803.0   \n",
       "Japan                    358.0   2.3   3.1 0.2 0.8 1.6 2.5    45.6      358.0   \n",
       "Lebanon                   45.0   5.4   4.1 0.6 2.5 4.0 8.0    14.9       45.0   \n",
       "Lithuania                 35.0   2.8   1.4 1.2 1.6 2.5 3.8     6.0       35.0   \n",
       "Malta                    127.0   5.2   9.4 0.2 1.4 3.0 5.0    65.0      127.0   \n",
       "Netherlands             2371.0   2.7   6.3 0.0 0.8 1.4 2.5   206.4     2371.0   \n",
       "Norway                  1086.0   6.0  30.6 0.0 1.2 2.1 5.0   700.0     1086.0   \n",
       "Poland                   341.0   4.2   5.9 0.2 1.2 2.1 5.0    40.0      341.0   \n",
       "Portugal                1471.0   8.8  72.5 0.1 1.2 1.6 3.0  1242.0     1471.0   \n",
       "RSA                       58.0   4.3   3.7 0.0 1.7 3.0 5.0    14.9       58.0   \n",
       "Saudi Arabia              10.0   2.4   1.4 0.4 1.6 2.3 3.0     5.5       10.0   \n",
       "Singapore                229.0 109.6 515.3 0.2 1.2 2.1 4.2  3949.3      229.0   \n",
       "Spain                   2528.0   5.0  41.0 0.0 1.2 2.1 4.2  1715.8     2528.0   \n",
       "Sweden                   461.0   3.9   8.3 0.2 0.8 1.6 3.0    40.0      461.0   \n",
       "Switzerland             1877.0   3.5   5.5 0.0 1.2 1.8 3.8    40.0     1877.0   \n",
       "USA                      291.0   2.2   2.3 0.4 0.8 1.4 3.0    16.9      291.0   \n",
       "United Arab Emirates      68.0   3.4   5.3 0.3 1.1 1.7 3.3    37.5       68.0   \n",
       "United Kingdom        356728.0   3.3  71.2 0.0 1.2 1.9 3.8 38970.0   356728.0   \n",
       "Unspecified              241.0   3.2   3.4 0.2 1.2 2.1 4.2    16.9      241.0   \n",
       "\n",
       "                                                                             \n",
       "                        mean    std     min     25%     50%     75%     max  \n",
       "Country                                                                      \n",
       "Australia            12464.7  438.0 12386.0 12415.0 12415.0 12415.0 16321.0  \n",
       "Austria              12521.5  216.5 12358.0 12360.0 12374.0 12818.0 12865.0  \n",
       "Bahrain              12354.5    0.9 12353.0 12355.0 12355.0 12355.0 12355.0  \n",
       "Belgium              12430.3  110.0 12361.0 12383.0 12407.0 12431.0 12876.0  \n",
       "Brazil               12769.0    0.0 12769.0 12769.0 12769.0 12769.0 12769.0  \n",
       "Canada               17321.1  521.5 15388.0 17444.0 17444.0 17444.0 17844.0  \n",
       "Channel Islands      14888.1  142.8 14442.0 14930.0 14936.0 14936.0 14937.0  \n",
       "Cyprus               12405.4  200.6 12359.0 12359.0 12370.0 12391.0 13809.0  \n",
       "Czech Republic       12781.0    0.0 12781.0 12781.0 12781.0 12781.0 12781.0  \n",
       "Denmark              12536.6  421.9 12367.0 12406.0 12412.0 12429.0 13919.0  \n",
       "EIRE                 14748.7  314.5 14016.0 14911.0 14911.0 14911.0 14911.0  \n",
       "European Community   15108.0    0.0 15108.0 15108.0 15108.0 15108.0 15108.0  \n",
       "Finland              12517.0  122.4 12348.0 12428.0 12428.0 12631.0 12704.0  \n",
       "France               12677.5  275.4 12413.0 12571.0 12674.0 12689.0 14277.0  \n",
       "Germany              12645.8  307.9 12426.0 12480.0 12592.0 12662.0 14335.0  \n",
       "Greece               13757.4 1749.6 12478.0 12717.0 12717.0 14439.0 17508.0  \n",
       "Iceland              12347.0    0.0 12347.0 12347.0 12347.0 12347.0 12347.0  \n",
       "Israel               12659.6   57.6 12512.0 12653.0 12688.0 12688.0 12688.0  \n",
       "Italy                12648.4  437.4 12349.0 12578.0 12584.0 12610.0 14912.0  \n",
       "Japan                12757.8   13.6 12753.0 12753.0 12753.0 12754.0 12812.0  \n",
       "Lebanon              12764.0    0.0 12764.0 12764.0 12764.0 12764.0 12764.0  \n",
       "Lithuania            15332.0    0.0 15332.0 15332.0 15332.0 15332.0 15332.0  \n",
       "Malta                16996.0 1127.5 15480.0 15480.0 17828.0 17828.0 17828.0  \n",
       "Netherlands          14420.3  609.5 12759.0 14646.0 14646.0 14646.0 14646.0  \n",
       "Norway               12438.0   76.7 12350.0 12432.0 12433.0 12438.0 12752.0  \n",
       "Poland               12733.1   94.9 12576.0 12576.0 12779.0 12779.0 12816.0  \n",
       "Portugal             12746.4   97.3 12356.0 12757.0 12766.0 12782.5 12811.0  \n",
       "RSA                  12446.0    0.0 12446.0 12446.0 12446.0 12446.0 12446.0  \n",
       "Saudi Arabia         12565.0    0.0 12565.0 12565.0 12565.0 12565.0 12565.0  \n",
       "Singapore            12744.0    0.0 12744.0 12744.0 12744.0 12744.0 12744.0  \n",
       "Spain                12906.1 1272.4 12354.0 12484.0 12540.0 12550.0 17097.0  \n",
       "Sweden               14701.4 2379.8 12483.0 12638.0 12697.0 17404.0 17404.0  \n",
       "Switzerland          12667.0  460.8 12357.0 12378.0 12451.0 12458.0 13520.0  \n",
       "USA                  12618.9   38.5 12558.0 12607.0 12607.0 12607.0 12733.0  \n",
       "United Arab Emirates 14984.6 2546.1 12739.0 12739.0 12739.0 17829.0 17829.0  \n",
       "United Kingdom       15543.8 1594.3 12346.0 14191.0 15513.0 16931.0 18287.0  \n",
       "Unspecified          13733.7 1520.9 12363.0 12743.0 12743.0 14265.0 16320.0  "
      ]
     },
     "execution_count": 16,
     "metadata": {},
     "output_type": "execute_result"
    }
   ],
   "source": [
    "by_country = data.groupby('Country')\n",
    "by_country.describe()"
   ]
  },
  {
   "cell_type": "code",
   "execution_count": 17,
   "metadata": {},
   "outputs": [
    {
     "data": {
      "application/vnd.plotly.v1+json": {
       "config": {
        "linkText": "Export to plot.ly",
        "plotlyServerURL": "https://plot.ly",
        "showLink": false
       },
       "data": [
        {
         "type": "bar",
         "x": [
          "United Kingdom",
          "Netherlands",
          "EIRE",
          "Germany",
          "France",
          "Australia",
          "Sweden",
          "Switzerland",
          "Spain",
          "Japan",
          "Belgium",
          "Norway",
          "Portugal",
          "Finland",
          "Channel Islands",
          "Denmark",
          "Italy",
          "Cyprus",
          "Singapore",
          "Austria",
          "Israel",
          "Poland",
          "Canada",
          "Iceland",
          "Unspecified",
          "Greece",
          "USA",
          "United Arab Emirates",
          "Malta",
          "Lithuania",
          "Czech Republic",
          "European Community",
          "Lebanon",
          "Brazil",
          "RSA",
          "Bahrain",
          "Saudi Arabia"
         ],
         "y": [
          3994870,
          200128,
          136187,
          117341,
          109806,
          83643,
          35632,
          29778,
          26817,
          25218,
          23152,
          19247,
          16017,
          10666,
          9473,
          8188,
          7999,
          6296,
          5234,
          4827,
          3987,
          3653,
          2763,
          2458,
          1785,
          1556,
          1034,
          982,
          944,
          652,
          592,
          497,
          386,
          356,
          352,
          260,
          75
         ]
        }
       ],
       "layout": {
        "template": {
         "data": {
          "bar": [
           {
            "error_x": {
             "color": "#2a3f5f"
            },
            "error_y": {
             "color": "#2a3f5f"
            },
            "marker": {
             "line": {
              "color": "#E5ECF6",
              "width": 0.5
             }
            },
            "type": "bar"
           }
          ],
          "barpolar": [
           {
            "marker": {
             "line": {
              "color": "#E5ECF6",
              "width": 0.5
             }
            },
            "type": "barpolar"
           }
          ],
          "carpet": [
           {
            "aaxis": {
             "endlinecolor": "#2a3f5f",
             "gridcolor": "white",
             "linecolor": "white",
             "minorgridcolor": "white",
             "startlinecolor": "#2a3f5f"
            },
            "baxis": {
             "endlinecolor": "#2a3f5f",
             "gridcolor": "white",
             "linecolor": "white",
             "minorgridcolor": "white",
             "startlinecolor": "#2a3f5f"
            },
            "type": "carpet"
           }
          ],
          "choropleth": [
           {
            "colorbar": {
             "outlinewidth": 0,
             "ticks": ""
            },
            "type": "choropleth"
           }
          ],
          "contour": [
           {
            "colorbar": {
             "outlinewidth": 0,
             "ticks": ""
            },
            "colorscale": [
             [
              0,
              "#0d0887"
             ],
             [
              0.1111111111111111,
              "#46039f"
             ],
             [
              0.2222222222222222,
              "#7201a8"
             ],
             [
              0.3333333333333333,
              "#9c179e"
             ],
             [
              0.4444444444444444,
              "#bd3786"
             ],
             [
              0.5555555555555556,
              "#d8576b"
             ],
             [
              0.6666666666666666,
              "#ed7953"
             ],
             [
              0.7777777777777778,
              "#fb9f3a"
             ],
             [
              0.8888888888888888,
              "#fdca26"
             ],
             [
              1,
              "#f0f921"
             ]
            ],
            "type": "contour"
           }
          ],
          "contourcarpet": [
           {
            "colorbar": {
             "outlinewidth": 0,
             "ticks": ""
            },
            "type": "contourcarpet"
           }
          ],
          "heatmap": [
           {
            "colorbar": {
             "outlinewidth": 0,
             "ticks": ""
            },
            "colorscale": [
             [
              0,
              "#0d0887"
             ],
             [
              0.1111111111111111,
              "#46039f"
             ],
             [
              0.2222222222222222,
              "#7201a8"
             ],
             [
              0.3333333333333333,
              "#9c179e"
             ],
             [
              0.4444444444444444,
              "#bd3786"
             ],
             [
              0.5555555555555556,
              "#d8576b"
             ],
             [
              0.6666666666666666,
              "#ed7953"
             ],
             [
              0.7777777777777778,
              "#fb9f3a"
             ],
             [
              0.8888888888888888,
              "#fdca26"
             ],
             [
              1,
              "#f0f921"
             ]
            ],
            "type": "heatmap"
           }
          ],
          "heatmapgl": [
           {
            "colorbar": {
             "outlinewidth": 0,
             "ticks": ""
            },
            "colorscale": [
             [
              0,
              "#0d0887"
             ],
             [
              0.1111111111111111,
              "#46039f"
             ],
             [
              0.2222222222222222,
              "#7201a8"
             ],
             [
              0.3333333333333333,
              "#9c179e"
             ],
             [
              0.4444444444444444,
              "#bd3786"
             ],
             [
              0.5555555555555556,
              "#d8576b"
             ],
             [
              0.6666666666666666,
              "#ed7953"
             ],
             [
              0.7777777777777778,
              "#fb9f3a"
             ],
             [
              0.8888888888888888,
              "#fdca26"
             ],
             [
              1,
              "#f0f921"
             ]
            ],
            "type": "heatmapgl"
           }
          ],
          "histogram": [
           {
            "marker": {
             "colorbar": {
              "outlinewidth": 0,
              "ticks": ""
             }
            },
            "type": "histogram"
           }
          ],
          "histogram2d": [
           {
            "colorbar": {
             "outlinewidth": 0,
             "ticks": ""
            },
            "colorscale": [
             [
              0,
              "#0d0887"
             ],
             [
              0.1111111111111111,
              "#46039f"
             ],
             [
              0.2222222222222222,
              "#7201a8"
             ],
             [
              0.3333333333333333,
              "#9c179e"
             ],
             [
              0.4444444444444444,
              "#bd3786"
             ],
             [
              0.5555555555555556,
              "#d8576b"
             ],
             [
              0.6666666666666666,
              "#ed7953"
             ],
             [
              0.7777777777777778,
              "#fb9f3a"
             ],
             [
              0.8888888888888888,
              "#fdca26"
             ],
             [
              1,
              "#f0f921"
             ]
            ],
            "type": "histogram2d"
           }
          ],
          "histogram2dcontour": [
           {
            "colorbar": {
             "outlinewidth": 0,
             "ticks": ""
            },
            "colorscale": [
             [
              0,
              "#0d0887"
             ],
             [
              0.1111111111111111,
              "#46039f"
             ],
             [
              0.2222222222222222,
              "#7201a8"
             ],
             [
              0.3333333333333333,
              "#9c179e"
             ],
             [
              0.4444444444444444,
              "#bd3786"
             ],
             [
              0.5555555555555556,
              "#d8576b"
             ],
             [
              0.6666666666666666,
              "#ed7953"
             ],
             [
              0.7777777777777778,
              "#fb9f3a"
             ],
             [
              0.8888888888888888,
              "#fdca26"
             ],
             [
              1,
              "#f0f921"
             ]
            ],
            "type": "histogram2dcontour"
           }
          ],
          "mesh3d": [
           {
            "colorbar": {
             "outlinewidth": 0,
             "ticks": ""
            },
            "type": "mesh3d"
           }
          ],
          "parcoords": [
           {
            "line": {
             "colorbar": {
              "outlinewidth": 0,
              "ticks": ""
             }
            },
            "type": "parcoords"
           }
          ],
          "pie": [
           {
            "automargin": true,
            "type": "pie"
           }
          ],
          "scatter": [
           {
            "marker": {
             "colorbar": {
              "outlinewidth": 0,
              "ticks": ""
             }
            },
            "type": "scatter"
           }
          ],
          "scatter3d": [
           {
            "line": {
             "colorbar": {
              "outlinewidth": 0,
              "ticks": ""
             }
            },
            "marker": {
             "colorbar": {
              "outlinewidth": 0,
              "ticks": ""
             }
            },
            "type": "scatter3d"
           }
          ],
          "scattercarpet": [
           {
            "marker": {
             "colorbar": {
              "outlinewidth": 0,
              "ticks": ""
             }
            },
            "type": "scattercarpet"
           }
          ],
          "scattergeo": [
           {
            "marker": {
             "colorbar": {
              "outlinewidth": 0,
              "ticks": ""
             }
            },
            "type": "scattergeo"
           }
          ],
          "scattergl": [
           {
            "marker": {
             "colorbar": {
              "outlinewidth": 0,
              "ticks": ""
             }
            },
            "type": "scattergl"
           }
          ],
          "scattermapbox": [
           {
            "marker": {
             "colorbar": {
              "outlinewidth": 0,
              "ticks": ""
             }
            },
            "type": "scattermapbox"
           }
          ],
          "scatterpolar": [
           {
            "marker": {
             "colorbar": {
              "outlinewidth": 0,
              "ticks": ""
             }
            },
            "type": "scatterpolar"
           }
          ],
          "scatterpolargl": [
           {
            "marker": {
             "colorbar": {
              "outlinewidth": 0,
              "ticks": ""
             }
            },
            "type": "scatterpolargl"
           }
          ],
          "scatterternary": [
           {
            "marker": {
             "colorbar": {
              "outlinewidth": 0,
              "ticks": ""
             }
            },
            "type": "scatterternary"
           }
          ],
          "surface": [
           {
            "colorbar": {
             "outlinewidth": 0,
             "ticks": ""
            },
            "colorscale": [
             [
              0,
              "#0d0887"
             ],
             [
              0.1111111111111111,
              "#46039f"
             ],
             [
              0.2222222222222222,
              "#7201a8"
             ],
             [
              0.3333333333333333,
              "#9c179e"
             ],
             [
              0.4444444444444444,
              "#bd3786"
             ],
             [
              0.5555555555555556,
              "#d8576b"
             ],
             [
              0.6666666666666666,
              "#ed7953"
             ],
             [
              0.7777777777777778,
              "#fb9f3a"
             ],
             [
              0.8888888888888888,
              "#fdca26"
             ],
             [
              1,
              "#f0f921"
             ]
            ],
            "type": "surface"
           }
          ],
          "table": [
           {
            "cells": {
             "fill": {
              "color": "#EBF0F8"
             },
             "line": {
              "color": "white"
             }
            },
            "header": {
             "fill": {
              "color": "#C8D4E3"
             },
             "line": {
              "color": "white"
             }
            },
            "type": "table"
           }
          ]
         },
         "layout": {
          "annotationdefaults": {
           "arrowcolor": "#2a3f5f",
           "arrowhead": 0,
           "arrowwidth": 1
          },
          "coloraxis": {
           "colorbar": {
            "outlinewidth": 0,
            "ticks": ""
           }
          },
          "colorscale": {
           "diverging": [
            [
             0,
             "#8e0152"
            ],
            [
             0.1,
             "#c51b7d"
            ],
            [
             0.2,
             "#de77ae"
            ],
            [
             0.3,
             "#f1b6da"
            ],
            [
             0.4,
             "#fde0ef"
            ],
            [
             0.5,
             "#f7f7f7"
            ],
            [
             0.6,
             "#e6f5d0"
            ],
            [
             0.7,
             "#b8e186"
            ],
            [
             0.8,
             "#7fbc41"
            ],
            [
             0.9,
             "#4d9221"
            ],
            [
             1,
             "#276419"
            ]
           ],
           "sequential": [
            [
             0,
             "#0d0887"
            ],
            [
             0.1111111111111111,
             "#46039f"
            ],
            [
             0.2222222222222222,
             "#7201a8"
            ],
            [
             0.3333333333333333,
             "#9c179e"
            ],
            [
             0.4444444444444444,
             "#bd3786"
            ],
            [
             0.5555555555555556,
             "#d8576b"
            ],
            [
             0.6666666666666666,
             "#ed7953"
            ],
            [
             0.7777777777777778,
             "#fb9f3a"
            ],
            [
             0.8888888888888888,
             "#fdca26"
            ],
            [
             1,
             "#f0f921"
            ]
           ],
           "sequentialminus": [
            [
             0,
             "#0d0887"
            ],
            [
             0.1111111111111111,
             "#46039f"
            ],
            [
             0.2222222222222222,
             "#7201a8"
            ],
            [
             0.3333333333333333,
             "#9c179e"
            ],
            [
             0.4444444444444444,
             "#bd3786"
            ],
            [
             0.5555555555555556,
             "#d8576b"
            ],
            [
             0.6666666666666666,
             "#ed7953"
            ],
            [
             0.7777777777777778,
             "#fb9f3a"
            ],
            [
             0.8888888888888888,
             "#fdca26"
            ],
            [
             1,
             "#f0f921"
            ]
           ]
          },
          "colorway": [
           "#636efa",
           "#EF553B",
           "#00cc96",
           "#ab63fa",
           "#FFA15A",
           "#19d3f3",
           "#FF6692",
           "#B6E880",
           "#FF97FF",
           "#FECB52"
          ],
          "font": {
           "color": "#2a3f5f"
          },
          "geo": {
           "bgcolor": "white",
           "lakecolor": "white",
           "landcolor": "#E5ECF6",
           "showlakes": true,
           "showland": true,
           "subunitcolor": "white"
          },
          "hoverlabel": {
           "align": "left"
          },
          "hovermode": "closest",
          "mapbox": {
           "style": "light"
          },
          "paper_bgcolor": "white",
          "plot_bgcolor": "#E5ECF6",
          "polar": {
           "angularaxis": {
            "gridcolor": "white",
            "linecolor": "white",
            "ticks": ""
           },
           "bgcolor": "#E5ECF6",
           "radialaxis": {
            "gridcolor": "white",
            "linecolor": "white",
            "ticks": ""
           }
          },
          "scene": {
           "xaxis": {
            "backgroundcolor": "#E5ECF6",
            "gridcolor": "white",
            "gridwidth": 2,
            "linecolor": "white",
            "showbackground": true,
            "ticks": "",
            "zerolinecolor": "white"
           },
           "yaxis": {
            "backgroundcolor": "#E5ECF6",
            "gridcolor": "white",
            "gridwidth": 2,
            "linecolor": "white",
            "showbackground": true,
            "ticks": "",
            "zerolinecolor": "white"
           },
           "zaxis": {
            "backgroundcolor": "#E5ECF6",
            "gridcolor": "white",
            "gridwidth": 2,
            "linecolor": "white",
            "showbackground": true,
            "ticks": "",
            "zerolinecolor": "white"
           }
          },
          "shapedefaults": {
           "line": {
            "color": "#2a3f5f"
           }
          },
          "ternary": {
           "aaxis": {
            "gridcolor": "white",
            "linecolor": "white",
            "ticks": ""
           },
           "baxis": {
            "gridcolor": "white",
            "linecolor": "white",
            "ticks": ""
           },
           "bgcolor": "#E5ECF6",
           "caxis": {
            "gridcolor": "white",
            "linecolor": "white",
            "ticks": ""
           }
          },
          "title": {
           "x": 0.05
          },
          "xaxis": {
           "automargin": true,
           "gridcolor": "white",
           "linecolor": "white",
           "ticks": "",
           "title": {
            "standoff": 15
           },
           "zerolinecolor": "white",
           "zerolinewidth": 2
          },
          "yaxis": {
           "automargin": true,
           "gridcolor": "white",
           "linecolor": "white",
           "ticks": "",
           "title": {
            "standoff": 15
           },
           "zerolinecolor": "white",
           "zerolinewidth": 2
          }
         }
        },
        "xaxis": {
         "title": {
          "text": "country"
         }
        },
        "yaxis": {
         "autorange": true,
         "title": {
          "text": "Log10 number of orders"
         },
         "type": "log"
        }
       }
      },
      "text/html": [
       "<div>\n",
       "        \n",
       "        \n",
       "            <div id=\"d22278fb-f025-4f1a-ae97-df387dbc6419\" class=\"plotly-graph-div\" style=\"height:525px; width:100%;\"></div>\n",
       "            <script type=\"text/javascript\">\n",
       "                require([\"plotly\"], function(Plotly) {\n",
       "                    window.PLOTLYENV=window.PLOTLYENV || {};\n",
       "                    \n",
       "                if (document.getElementById(\"d22278fb-f025-4f1a-ae97-df387dbc6419\")) {\n",
       "                    Plotly.newPlot(\n",
       "                        'd22278fb-f025-4f1a-ae97-df387dbc6419',\n",
       "                        [{\"type\": \"bar\", \"x\": [\"United Kingdom\", \"Netherlands\", \"EIRE\", \"Germany\", \"France\", \"Australia\", \"Sweden\", \"Switzerland\", \"Spain\", \"Japan\", \"Belgium\", \"Norway\", \"Portugal\", \"Finland\", \"Channel Islands\", \"Denmark\", \"Italy\", \"Cyprus\", \"Singapore\", \"Austria\", \"Israel\", \"Poland\", \"Canada\", \"Iceland\", \"Unspecified\", \"Greece\", \"USA\", \"United Arab Emirates\", \"Malta\", \"Lithuania\", \"Czech Republic\", \"European Community\", \"Lebanon\", \"Brazil\", \"RSA\", \"Bahrain\", \"Saudi Arabia\"], \"y\": [3994870, 200128, 136187, 117341, 109806, 83643, 35632, 29778, 26817, 25218, 23152, 19247, 16017, 10666, 9473, 8188, 7999, 6296, 5234, 4827, 3987, 3653, 2763, 2458, 1785, 1556, 1034, 982, 944, 652, 592, 497, 386, 356, 352, 260, 75]}],\n",
       "                        {\"template\": {\"data\": {\"bar\": [{\"error_x\": {\"color\": \"#2a3f5f\"}, \"error_y\": {\"color\": \"#2a3f5f\"}, \"marker\": {\"line\": {\"color\": \"#E5ECF6\", \"width\": 0.5}}, \"type\": \"bar\"}], \"barpolar\": [{\"marker\": {\"line\": {\"color\": \"#E5ECF6\", \"width\": 0.5}}, \"type\": \"barpolar\"}], \"carpet\": [{\"aaxis\": {\"endlinecolor\": \"#2a3f5f\", \"gridcolor\": \"white\", \"linecolor\": \"white\", \"minorgridcolor\": \"white\", \"startlinecolor\": \"#2a3f5f\"}, \"baxis\": {\"endlinecolor\": \"#2a3f5f\", \"gridcolor\": \"white\", \"linecolor\": \"white\", \"minorgridcolor\": \"white\", \"startlinecolor\": \"#2a3f5f\"}, \"type\": \"carpet\"}], \"choropleth\": [{\"colorbar\": {\"outlinewidth\": 0, \"ticks\": \"\"}, \"type\": \"choropleth\"}], \"contour\": [{\"colorbar\": {\"outlinewidth\": 0, \"ticks\": \"\"}, \"colorscale\": [[0.0, \"#0d0887\"], [0.1111111111111111, \"#46039f\"], [0.2222222222222222, \"#7201a8\"], [0.3333333333333333, \"#9c179e\"], [0.4444444444444444, \"#bd3786\"], [0.5555555555555556, \"#d8576b\"], [0.6666666666666666, \"#ed7953\"], [0.7777777777777778, \"#fb9f3a\"], [0.8888888888888888, \"#fdca26\"], [1.0, \"#f0f921\"]], \"type\": \"contour\"}], \"contourcarpet\": [{\"colorbar\": {\"outlinewidth\": 0, \"ticks\": \"\"}, \"type\": \"contourcarpet\"}], \"heatmap\": [{\"colorbar\": {\"outlinewidth\": 0, \"ticks\": \"\"}, \"colorscale\": [[0.0, \"#0d0887\"], [0.1111111111111111, \"#46039f\"], [0.2222222222222222, \"#7201a8\"], [0.3333333333333333, \"#9c179e\"], [0.4444444444444444, \"#bd3786\"], [0.5555555555555556, \"#d8576b\"], [0.6666666666666666, \"#ed7953\"], [0.7777777777777778, \"#fb9f3a\"], [0.8888888888888888, \"#fdca26\"], [1.0, \"#f0f921\"]], \"type\": \"heatmap\"}], \"heatmapgl\": [{\"colorbar\": {\"outlinewidth\": 0, \"ticks\": \"\"}, \"colorscale\": [[0.0, \"#0d0887\"], [0.1111111111111111, \"#46039f\"], [0.2222222222222222, \"#7201a8\"], [0.3333333333333333, \"#9c179e\"], [0.4444444444444444, \"#bd3786\"], [0.5555555555555556, \"#d8576b\"], [0.6666666666666666, \"#ed7953\"], [0.7777777777777778, \"#fb9f3a\"], [0.8888888888888888, \"#fdca26\"], [1.0, \"#f0f921\"]], \"type\": \"heatmapgl\"}], \"histogram\": [{\"marker\": {\"colorbar\": {\"outlinewidth\": 0, \"ticks\": \"\"}}, \"type\": \"histogram\"}], \"histogram2d\": [{\"colorbar\": {\"outlinewidth\": 0, \"ticks\": \"\"}, \"colorscale\": [[0.0, \"#0d0887\"], [0.1111111111111111, \"#46039f\"], [0.2222222222222222, \"#7201a8\"], [0.3333333333333333, \"#9c179e\"], [0.4444444444444444, \"#bd3786\"], [0.5555555555555556, \"#d8576b\"], [0.6666666666666666, \"#ed7953\"], [0.7777777777777778, \"#fb9f3a\"], [0.8888888888888888, \"#fdca26\"], [1.0, \"#f0f921\"]], \"type\": \"histogram2d\"}], \"histogram2dcontour\": [{\"colorbar\": {\"outlinewidth\": 0, \"ticks\": \"\"}, \"colorscale\": [[0.0, \"#0d0887\"], [0.1111111111111111, \"#46039f\"], [0.2222222222222222, \"#7201a8\"], [0.3333333333333333, \"#9c179e\"], [0.4444444444444444, \"#bd3786\"], [0.5555555555555556, \"#d8576b\"], [0.6666666666666666, \"#ed7953\"], [0.7777777777777778, \"#fb9f3a\"], [0.8888888888888888, \"#fdca26\"], [1.0, \"#f0f921\"]], \"type\": \"histogram2dcontour\"}], \"mesh3d\": [{\"colorbar\": {\"outlinewidth\": 0, \"ticks\": \"\"}, \"type\": \"mesh3d\"}], \"parcoords\": [{\"line\": {\"colorbar\": {\"outlinewidth\": 0, \"ticks\": \"\"}}, \"type\": \"parcoords\"}], \"pie\": [{\"automargin\": true, \"type\": \"pie\"}], \"scatter\": [{\"marker\": {\"colorbar\": {\"outlinewidth\": 0, \"ticks\": \"\"}}, \"type\": \"scatter\"}], \"scatter3d\": [{\"line\": {\"colorbar\": {\"outlinewidth\": 0, \"ticks\": \"\"}}, \"marker\": {\"colorbar\": {\"outlinewidth\": 0, \"ticks\": \"\"}}, \"type\": \"scatter3d\"}], \"scattercarpet\": [{\"marker\": {\"colorbar\": {\"outlinewidth\": 0, \"ticks\": \"\"}}, \"type\": \"scattercarpet\"}], \"scattergeo\": [{\"marker\": {\"colorbar\": {\"outlinewidth\": 0, \"ticks\": \"\"}}, \"type\": \"scattergeo\"}], \"scattergl\": [{\"marker\": {\"colorbar\": {\"outlinewidth\": 0, \"ticks\": \"\"}}, \"type\": \"scattergl\"}], \"scattermapbox\": [{\"marker\": {\"colorbar\": {\"outlinewidth\": 0, \"ticks\": \"\"}}, \"type\": \"scattermapbox\"}], \"scatterpolar\": [{\"marker\": {\"colorbar\": {\"outlinewidth\": 0, \"ticks\": \"\"}}, \"type\": \"scatterpolar\"}], \"scatterpolargl\": [{\"marker\": {\"colorbar\": {\"outlinewidth\": 0, \"ticks\": \"\"}}, \"type\": \"scatterpolargl\"}], \"scatterternary\": [{\"marker\": {\"colorbar\": {\"outlinewidth\": 0, \"ticks\": \"\"}}, \"type\": \"scatterternary\"}], \"surface\": [{\"colorbar\": {\"outlinewidth\": 0, \"ticks\": \"\"}, \"colorscale\": [[0.0, \"#0d0887\"], [0.1111111111111111, \"#46039f\"], [0.2222222222222222, \"#7201a8\"], [0.3333333333333333, \"#9c179e\"], [0.4444444444444444, \"#bd3786\"], [0.5555555555555556, \"#d8576b\"], [0.6666666666666666, \"#ed7953\"], [0.7777777777777778, \"#fb9f3a\"], [0.8888888888888888, \"#fdca26\"], [1.0, \"#f0f921\"]], \"type\": \"surface\"}], \"table\": [{\"cells\": {\"fill\": {\"color\": \"#EBF0F8\"}, \"line\": {\"color\": \"white\"}}, \"header\": {\"fill\": {\"color\": \"#C8D4E3\"}, \"line\": {\"color\": \"white\"}}, \"type\": \"table\"}]}, \"layout\": {\"annotationdefaults\": {\"arrowcolor\": \"#2a3f5f\", \"arrowhead\": 0, \"arrowwidth\": 1}, \"coloraxis\": {\"colorbar\": {\"outlinewidth\": 0, \"ticks\": \"\"}}, \"colorscale\": {\"diverging\": [[0, \"#8e0152\"], [0.1, \"#c51b7d\"], [0.2, \"#de77ae\"], [0.3, \"#f1b6da\"], [0.4, \"#fde0ef\"], [0.5, \"#f7f7f7\"], [0.6, \"#e6f5d0\"], [0.7, \"#b8e186\"], [0.8, \"#7fbc41\"], [0.9, \"#4d9221\"], [1, \"#276419\"]], \"sequential\": [[0.0, \"#0d0887\"], [0.1111111111111111, \"#46039f\"], [0.2222222222222222, \"#7201a8\"], [0.3333333333333333, \"#9c179e\"], [0.4444444444444444, \"#bd3786\"], [0.5555555555555556, \"#d8576b\"], [0.6666666666666666, \"#ed7953\"], [0.7777777777777778, \"#fb9f3a\"], [0.8888888888888888, \"#fdca26\"], [1.0, \"#f0f921\"]], \"sequentialminus\": [[0.0, \"#0d0887\"], [0.1111111111111111, \"#46039f\"], [0.2222222222222222, \"#7201a8\"], [0.3333333333333333, \"#9c179e\"], [0.4444444444444444, \"#bd3786\"], [0.5555555555555556, \"#d8576b\"], [0.6666666666666666, \"#ed7953\"], [0.7777777777777778, \"#fb9f3a\"], [0.8888888888888888, \"#fdca26\"], [1.0, \"#f0f921\"]]}, \"colorway\": [\"#636efa\", \"#EF553B\", \"#00cc96\", \"#ab63fa\", \"#FFA15A\", \"#19d3f3\", \"#FF6692\", \"#B6E880\", \"#FF97FF\", \"#FECB52\"], \"font\": {\"color\": \"#2a3f5f\"}, \"geo\": {\"bgcolor\": \"white\", \"lakecolor\": \"white\", \"landcolor\": \"#E5ECF6\", \"showlakes\": true, \"showland\": true, \"subunitcolor\": \"white\"}, \"hoverlabel\": {\"align\": \"left\"}, \"hovermode\": \"closest\", \"mapbox\": {\"style\": \"light\"}, \"paper_bgcolor\": \"white\", \"plot_bgcolor\": \"#E5ECF6\", \"polar\": {\"angularaxis\": {\"gridcolor\": \"white\", \"linecolor\": \"white\", \"ticks\": \"\"}, \"bgcolor\": \"#E5ECF6\", \"radialaxis\": {\"gridcolor\": \"white\", \"linecolor\": \"white\", \"ticks\": \"\"}}, \"scene\": {\"xaxis\": {\"backgroundcolor\": \"#E5ECF6\", \"gridcolor\": \"white\", \"gridwidth\": 2, \"linecolor\": \"white\", \"showbackground\": true, \"ticks\": \"\", \"zerolinecolor\": \"white\"}, \"yaxis\": {\"backgroundcolor\": \"#E5ECF6\", \"gridcolor\": \"white\", \"gridwidth\": 2, \"linecolor\": \"white\", \"showbackground\": true, \"ticks\": \"\", \"zerolinecolor\": \"white\"}, \"zaxis\": {\"backgroundcolor\": \"#E5ECF6\", \"gridcolor\": \"white\", \"gridwidth\": 2, \"linecolor\": \"white\", \"showbackground\": true, \"ticks\": \"\", \"zerolinecolor\": \"white\"}}, \"shapedefaults\": {\"line\": {\"color\": \"#2a3f5f\"}}, \"ternary\": {\"aaxis\": {\"gridcolor\": \"white\", \"linecolor\": \"white\", \"ticks\": \"\"}, \"baxis\": {\"gridcolor\": \"white\", \"linecolor\": \"white\", \"ticks\": \"\"}, \"bgcolor\": \"#E5ECF6\", \"caxis\": {\"gridcolor\": \"white\", \"linecolor\": \"white\", \"ticks\": \"\"}}, \"title\": {\"x\": 0.05}, \"xaxis\": {\"automargin\": true, \"gridcolor\": \"white\", \"linecolor\": \"white\", \"ticks\": \"\", \"title\": {\"standoff\": 15}, \"zerolinecolor\": \"white\", \"zerolinewidth\": 2}, \"yaxis\": {\"automargin\": true, \"gridcolor\": \"white\", \"linecolor\": \"white\", \"ticks\": \"\", \"title\": {\"standoff\": 15}, \"zerolinecolor\": \"white\", \"zerolinewidth\": 2}}}, \"xaxis\": {\"title\": {\"text\": \"country\"}}, \"yaxis\": {\"autorange\": true, \"title\": {\"text\": \"Log10 number of orders\"}, \"type\": \"log\"}},\n",
       "                        {\"responsive\": true}\n",
       "                    ).then(function(){\n",
       "                            \n",
       "var gd = document.getElementById('d22278fb-f025-4f1a-ae97-df387dbc6419');\n",
       "var x = new MutationObserver(function (mutations, observer) {{\n",
       "        var display = window.getComputedStyle(gd).display;\n",
       "        if (!display || display === 'none') {{\n",
       "            console.log([gd, 'removed!']);\n",
       "            Plotly.purge(gd);\n",
       "            observer.disconnect();\n",
       "        }}\n",
       "}});\n",
       "\n",
       "// Listen for the removal of the full notebook cells\n",
       "var notebookContainer = gd.closest('#notebook-container');\n",
       "if (notebookContainer) {{\n",
       "    x.observe(notebookContainer, {childList: true});\n",
       "}}\n",
       "\n",
       "// Listen for the clearing of the current output cell\n",
       "var outputEl = gd.closest('.output');\n",
       "if (outputEl) {{\n",
       "    x.observe(outputEl, {childList: true});\n",
       "}}\n",
       "\n",
       "                        })\n",
       "                };\n",
       "                });\n",
       "            </script>\n",
       "        </div>"
      ]
     },
     "metadata": {},
     "output_type": "display_data"
    }
   ],
   "source": [
    "grouped  = data.groupby(['Country']).sum()['Quantity'].sort_values(ascending=False)\n",
    "\n",
    "data_plot = [go.Bar(x=grouped.index, y=grouped.values)]\n",
    "layout = go.Layout(yaxis={'type':'log', 'autorange':True, 'title':'Log10 number of orders'},xaxis={'title':'country'})\n",
    "fig = go.Figure(data=data_plot, layout=layout)\n",
    "iplot(fig)"
   ]
  },
  {
   "cell_type": "code",
   "execution_count": 18,
   "metadata": {},
   "outputs": [
    {
     "data": {
      "text/html": [
       "<div>\n",
       "<style scoped>\n",
       "    .dataframe tbody tr th:only-of-type {\n",
       "        vertical-align: middle;\n",
       "    }\n",
       "\n",
       "    .dataframe tbody tr th {\n",
       "        vertical-align: top;\n",
       "    }\n",
       "\n",
       "    .dataframe thead th {\n",
       "        text-align: right;\n",
       "    }\n",
       "</style>\n",
       "<table border=\"1\" class=\"dataframe\">\n",
       "  <thead>\n",
       "    <tr style=\"text-align: right;\">\n",
       "      <th></th>\n",
       "      <th>CustomerID</th>\n",
       "      <th>InvoiceNo</th>\n",
       "      <th>Number of products</th>\n",
       "    </tr>\n",
       "  </thead>\n",
       "  <tbody>\n",
       "    <tr>\n",
       "      <th>7</th>\n",
       "      <td>12347.0</td>\n",
       "      <td>573511</td>\n",
       "      <td>47</td>\n",
       "    </tr>\n",
       "    <tr>\n",
       "      <th>2</th>\n",
       "      <td>12347.0</td>\n",
       "      <td>537626</td>\n",
       "      <td>31</td>\n",
       "    </tr>\n",
       "    <tr>\n",
       "      <th>3</th>\n",
       "      <td>12347.0</td>\n",
       "      <td>542237</td>\n",
       "      <td>29</td>\n",
       "    </tr>\n",
       "    <tr>\n",
       "      <th>4</th>\n",
       "      <td>12347.0</td>\n",
       "      <td>549222</td>\n",
       "      <td>24</td>\n",
       "    </tr>\n",
       "    <tr>\n",
       "      <th>6</th>\n",
       "      <td>12347.0</td>\n",
       "      <td>562032</td>\n",
       "      <td>22</td>\n",
       "    </tr>\n",
       "    <tr>\n",
       "      <th>5</th>\n",
       "      <td>12347.0</td>\n",
       "      <td>556201</td>\n",
       "      <td>18</td>\n",
       "    </tr>\n",
       "    <tr>\n",
       "      <th>9</th>\n",
       "      <td>12348.0</td>\n",
       "      <td>539318</td>\n",
       "      <td>17</td>\n",
       "    </tr>\n",
       "    <tr>\n",
       "      <th>8</th>\n",
       "      <td>12347.0</td>\n",
       "      <td>581180</td>\n",
       "      <td>11</td>\n",
       "    </tr>\n",
       "    <tr>\n",
       "      <th>0</th>\n",
       "      <td>12346.0</td>\n",
       "      <td>541431</td>\n",
       "      <td>1</td>\n",
       "    </tr>\n",
       "    <tr>\n",
       "      <th>1</th>\n",
       "      <td>12346.0</td>\n",
       "      <td>C541433</td>\n",
       "      <td>1</td>\n",
       "    </tr>\n",
       "  </tbody>\n",
       "</table>\n",
       "</div>"
      ],
      "text/plain": [
       "   CustomerID InvoiceNo  Number of products\n",
       "7     12347.0    573511                  47\n",
       "2     12347.0    537626                  31\n",
       "3     12347.0    542237                  29\n",
       "4     12347.0    549222                  24\n",
       "6     12347.0    562032                  22\n",
       "5     12347.0    556201                  18\n",
       "9     12348.0    539318                  17\n",
       "8     12347.0    581180                  11\n",
       "0     12346.0    541431                   1\n",
       "1     12346.0   C541433                   1"
      ]
     },
     "execution_count": 18,
     "metadata": {},
     "output_type": "execute_result"
    }
   ],
   "source": [
    "### The United Kingdom purchases the majority of products by almost 2 orders of magnitude.\n",
    "### group by customer ID and invoice number to create a basket per customer\n",
    "temp = data.groupby(by=['CustomerID', 'InvoiceNo'], as_index=False)['InvoiceDate'].count()\n",
    "products_per_basket = temp.rename(columns = {'InvoiceDate':'Number of products'})\n",
    "products_per_basket[:10].sort_values('Number of products', ascending=False)"
   ]
  },
  {
   "cell_type": "code",
   "execution_count": 19,
   "metadata": {},
   "outputs": [
    {
     "name": "stdout",
     "output_type": "stream",
     "text": [
      "There are: 8872 orders marked C, which contribute 2.209141343213713 % of the dataset.\n"
     ]
    },
    {
     "data": {
      "text/html": [
       "<div>\n",
       "<style scoped>\n",
       "    .dataframe tbody tr th:only-of-type {\n",
       "        vertical-align: middle;\n",
       "    }\n",
       "\n",
       "    .dataframe tbody tr th {\n",
       "        vertical-align: top;\n",
       "    }\n",
       "\n",
       "    .dataframe thead th {\n",
       "        text-align: right;\n",
       "    }\n",
       "</style>\n",
       "<table border=\"1\" class=\"dataframe\">\n",
       "  <thead>\n",
       "    <tr style=\"text-align: right;\">\n",
       "      <th></th>\n",
       "      <th>InvoiceNo</th>\n",
       "      <th>StockCode</th>\n",
       "      <th>Description</th>\n",
       "      <th>Quantity</th>\n",
       "      <th>InvoiceDate</th>\n",
       "      <th>UnitPrice</th>\n",
       "      <th>CustomerID</th>\n",
       "      <th>Country</th>\n",
       "    </tr>\n",
       "  </thead>\n",
       "  <tbody>\n",
       "    <tr>\n",
       "      <th>268308</th>\n",
       "      <td>C560408</td>\n",
       "      <td>M</td>\n",
       "      <td>Manual</td>\n",
       "      <td>-1</td>\n",
       "      <td>2011-07-18 14:24:00</td>\n",
       "      <td>550.6</td>\n",
       "      <td>13564.0</td>\n",
       "      <td>United Kingdom</td>\n",
       "    </tr>\n",
       "    <tr>\n",
       "      <th>186013</th>\n",
       "      <td>C552841</td>\n",
       "      <td>22838</td>\n",
       "      <td>3 TIER CAKE TIN RED AND CREAM</td>\n",
       "      <td>-1</td>\n",
       "      <td>2011-05-11 14:28:00</td>\n",
       "      <td>14.9</td>\n",
       "      <td>15827.0</td>\n",
       "      <td>United Kingdom</td>\n",
       "    </tr>\n",
       "    <tr>\n",
       "      <th>169480</th>\n",
       "      <td>C551175</td>\n",
       "      <td>22325</td>\n",
       "      <td>MOBILE VINTAGE HEARTS</td>\n",
       "      <td>-1</td>\n",
       "      <td>2011-04-26 17:17:00</td>\n",
       "      <td>5.0</td>\n",
       "      <td>14329.0</td>\n",
       "      <td>United Kingdom</td>\n",
       "    </tr>\n",
       "    <tr>\n",
       "      <th>429996</th>\n",
       "      <td>C573575</td>\n",
       "      <td>CRUK</td>\n",
       "      <td>CRUK Commission</td>\n",
       "      <td>-1</td>\n",
       "      <td>2011-10-31 14:09:00</td>\n",
       "      <td>606.0</td>\n",
       "      <td>14096.0</td>\n",
       "      <td>United Kingdom</td>\n",
       "    </tr>\n",
       "    <tr>\n",
       "      <th>281674</th>\n",
       "      <td>C561591</td>\n",
       "      <td>22768</td>\n",
       "      <td>FAMILY PHOTO FRAME CORNICE</td>\n",
       "      <td>-1</td>\n",
       "      <td>2011-07-28 11:17:00</td>\n",
       "      <td>9.9</td>\n",
       "      <td>15708.0</td>\n",
       "      <td>United Kingdom</td>\n",
       "    </tr>\n",
       "    <tr>\n",
       "      <th>...</th>\n",
       "      <td>...</td>\n",
       "      <td>...</td>\n",
       "      <td>...</td>\n",
       "      <td>...</td>\n",
       "      <td>...</td>\n",
       "      <td>...</td>\n",
       "      <td>...</td>\n",
       "      <td>...</td>\n",
       "    </tr>\n",
       "    <tr>\n",
       "      <th>160144</th>\n",
       "      <td>C550456</td>\n",
       "      <td>21175</td>\n",
       "      <td>GIN + TONIC DIET METAL SIGN</td>\n",
       "      <td>-2000</td>\n",
       "      <td>2011-04-18 13:08:00</td>\n",
       "      <td>1.9</td>\n",
       "      <td>15749.0</td>\n",
       "      <td>United Kingdom</td>\n",
       "    </tr>\n",
       "    <tr>\n",
       "      <th>160145</th>\n",
       "      <td>C550456</td>\n",
       "      <td>21108</td>\n",
       "      <td>FAIRY CAKE FLANNEL ASSORTED COLOUR</td>\n",
       "      <td>-3114</td>\n",
       "      <td>2011-04-18 13:08:00</td>\n",
       "      <td>2.1</td>\n",
       "      <td>15749.0</td>\n",
       "      <td>United Kingdom</td>\n",
       "    </tr>\n",
       "    <tr>\n",
       "      <th>4287</th>\n",
       "      <td>C536757</td>\n",
       "      <td>84347</td>\n",
       "      <td>ROTATING SILVER ANGELS T-LIGHT HLDR</td>\n",
       "      <td>-9360</td>\n",
       "      <td>2010-12-02 14:23:00</td>\n",
       "      <td>0.0</td>\n",
       "      <td>15838.0</td>\n",
       "      <td>United Kingdom</td>\n",
       "    </tr>\n",
       "    <tr>\n",
       "      <th>61624</th>\n",
       "      <td>C541433</td>\n",
       "      <td>23166</td>\n",
       "      <td>MEDIUM CERAMIC TOP STORAGE JAR</td>\n",
       "      <td>-74215</td>\n",
       "      <td>2011-01-18 10:17:00</td>\n",
       "      <td>1.0</td>\n",
       "      <td>12346.0</td>\n",
       "      <td>United Kingdom</td>\n",
       "    </tr>\n",
       "    <tr>\n",
       "      <th>540422</th>\n",
       "      <td>C581484</td>\n",
       "      <td>23843</td>\n",
       "      <td>PAPER CRAFT , LITTLE BIRDIE</td>\n",
       "      <td>-80995</td>\n",
       "      <td>2011-12-09 09:27:00</td>\n",
       "      <td>2.1</td>\n",
       "      <td>16446.0</td>\n",
       "      <td>United Kingdom</td>\n",
       "    </tr>\n",
       "  </tbody>\n",
       "</table>\n",
       "<p>8872 rows × 8 columns</p>\n",
       "</div>"
      ],
      "text/plain": [
       "       InvoiceNo StockCode                          Description  Quantity  \\\n",
       "268308   C560408         M                               Manual        -1   \n",
       "186013   C552841     22838        3 TIER CAKE TIN RED AND CREAM        -1   \n",
       "169480   C551175     22325                MOBILE VINTAGE HEARTS        -1   \n",
       "429996   C573575      CRUK                      CRUK Commission        -1   \n",
       "281674   C561591     22768           FAMILY PHOTO FRAME CORNICE        -1   \n",
       "...          ...       ...                                  ...       ...   \n",
       "160144   C550456     21175          GIN + TONIC DIET METAL SIGN     -2000   \n",
       "160145   C550456     21108   FAIRY CAKE FLANNEL ASSORTED COLOUR     -3114   \n",
       "4287     C536757     84347  ROTATING SILVER ANGELS T-LIGHT HLDR     -9360   \n",
       "61624    C541433     23166       MEDIUM CERAMIC TOP STORAGE JAR    -74215   \n",
       "540422   C581484     23843          PAPER CRAFT , LITTLE BIRDIE    -80995   \n",
       "\n",
       "               InvoiceDate  UnitPrice  CustomerID         Country  \n",
       "268308 2011-07-18 14:24:00      550.6     13564.0  United Kingdom  \n",
       "186013 2011-05-11 14:28:00       14.9     15827.0  United Kingdom  \n",
       "169480 2011-04-26 17:17:00        5.0     14329.0  United Kingdom  \n",
       "429996 2011-10-31 14:09:00      606.0     14096.0  United Kingdom  \n",
       "281674 2011-07-28 11:17:00        9.9     15708.0  United Kingdom  \n",
       "...                    ...        ...         ...             ...  \n",
       "160144 2011-04-18 13:08:00        1.9     15749.0  United Kingdom  \n",
       "160145 2011-04-18 13:08:00        2.1     15749.0  United Kingdom  \n",
       "4287   2010-12-02 14:23:00        0.0     15838.0  United Kingdom  \n",
       "61624  2011-01-18 10:17:00        1.0     12346.0  United Kingdom  \n",
       "540422 2011-12-09 09:27:00        2.1     16446.0  United Kingdom  \n",
       "\n",
       "[8872 rows x 8 columns]"
      ]
     },
     "execution_count": 19,
     "metadata": {},
     "output_type": "execute_result"
    }
   ],
   "source": [
    "### There are InvoiceNo entries beginning with the character C.\n",
    "print('There are:',data['InvoiceNo'].str.contains(\"C\").sum(), 'orders marked C, which contribute',(data['InvoiceNo'].str.contains(\"C\").sum()/len(data))*100, '% of the dataset.')\n",
    "data[data.InvoiceNo.str.contains('C', case=False, na=False)]\n"
   ]
  },
  {
   "cell_type": "code",
   "execution_count": 20,
   "metadata": {},
   "outputs": [
    {
     "data": {
      "text/html": [
       "<div>\n",
       "<style scoped>\n",
       "    .dataframe tbody tr th:only-of-type {\n",
       "        vertical-align: middle;\n",
       "    }\n",
       "\n",
       "    .dataframe tbody tr th {\n",
       "        vertical-align: top;\n",
       "    }\n",
       "\n",
       "    .dataframe thead th {\n",
       "        text-align: right;\n",
       "    }\n",
       "</style>\n",
       "<table border=\"1\" class=\"dataframe\">\n",
       "  <thead>\n",
       "    <tr style=\"text-align: right;\">\n",
       "      <th></th>\n",
       "      <th>InvoiceNo</th>\n",
       "      <th>StockCode</th>\n",
       "      <th>Description</th>\n",
       "      <th>Quantity</th>\n",
       "      <th>InvoiceDate</th>\n",
       "      <th>UnitPrice</th>\n",
       "      <th>CustomerID</th>\n",
       "      <th>Country</th>\n",
       "    </tr>\n",
       "  </thead>\n",
       "  <tbody>\n",
       "    <tr>\n",
       "      <th>268308</th>\n",
       "      <td>C560408</td>\n",
       "      <td>M</td>\n",
       "      <td>Manual</td>\n",
       "      <td>-1</td>\n",
       "      <td>2011-07-18 14:24:00</td>\n",
       "      <td>550.6</td>\n",
       "      <td>13564.0</td>\n",
       "      <td>United Kingdom</td>\n",
       "    </tr>\n",
       "    <tr>\n",
       "      <th>186013</th>\n",
       "      <td>C552841</td>\n",
       "      <td>22838</td>\n",
       "      <td>3 TIER CAKE TIN RED AND CREAM</td>\n",
       "      <td>-1</td>\n",
       "      <td>2011-05-11 14:28:00</td>\n",
       "      <td>14.9</td>\n",
       "      <td>15827.0</td>\n",
       "      <td>United Kingdom</td>\n",
       "    </tr>\n",
       "    <tr>\n",
       "      <th>169480</th>\n",
       "      <td>C551175</td>\n",
       "      <td>22325</td>\n",
       "      <td>MOBILE VINTAGE HEARTS</td>\n",
       "      <td>-1</td>\n",
       "      <td>2011-04-26 17:17:00</td>\n",
       "      <td>5.0</td>\n",
       "      <td>14329.0</td>\n",
       "      <td>United Kingdom</td>\n",
       "    </tr>\n",
       "    <tr>\n",
       "      <th>429996</th>\n",
       "      <td>C573575</td>\n",
       "      <td>CRUK</td>\n",
       "      <td>CRUK Commission</td>\n",
       "      <td>-1</td>\n",
       "      <td>2011-10-31 14:09:00</td>\n",
       "      <td>606.0</td>\n",
       "      <td>14096.0</td>\n",
       "      <td>United Kingdom</td>\n",
       "    </tr>\n",
       "    <tr>\n",
       "      <th>281674</th>\n",
       "      <td>C561591</td>\n",
       "      <td>22768</td>\n",
       "      <td>FAMILY PHOTO FRAME CORNICE</td>\n",
       "      <td>-1</td>\n",
       "      <td>2011-07-28 11:17:00</td>\n",
       "      <td>9.9</td>\n",
       "      <td>15708.0</td>\n",
       "      <td>United Kingdom</td>\n",
       "    </tr>\n",
       "    <tr>\n",
       "      <th>268312</th>\n",
       "      <td>C560409</td>\n",
       "      <td>84078A</td>\n",
       "      <td>SET/4 WHITE RETRO STORAGE CUBES</td>\n",
       "      <td>-1</td>\n",
       "      <td>2011-07-18 14:24:00</td>\n",
       "      <td>40.0</td>\n",
       "      <td>16717.0</td>\n",
       "      <td>United Kingdom</td>\n",
       "    </tr>\n",
       "    <tr>\n",
       "      <th>355585</th>\n",
       "      <td>C567947</td>\n",
       "      <td>23234</td>\n",
       "      <td>BISCUIT TIN VINTAGE CHRISTMAS</td>\n",
       "      <td>-1</td>\n",
       "      <td>2011-09-23 08:00:00</td>\n",
       "      <td>2.9</td>\n",
       "      <td>17663.0</td>\n",
       "      <td>United Kingdom</td>\n",
       "    </tr>\n",
       "    <tr>\n",
       "      <th>355584</th>\n",
       "      <td>C567947</td>\n",
       "      <td>21201</td>\n",
       "      <td>TROPICAL  HONEYCOMB PAPER GARLAND</td>\n",
       "      <td>-1</td>\n",
       "      <td>2011-09-23 08:00:00</td>\n",
       "      <td>2.5</td>\n",
       "      <td>17663.0</td>\n",
       "      <td>United Kingdom</td>\n",
       "    </tr>\n",
       "    <tr>\n",
       "      <th>96677</th>\n",
       "      <td>C544577</td>\n",
       "      <td>M</td>\n",
       "      <td>Manual</td>\n",
       "      <td>-1</td>\n",
       "      <td>2011-02-21 14:02:00</td>\n",
       "      <td>320.7</td>\n",
       "      <td>12365.0</td>\n",
       "      <td>Cyprus</td>\n",
       "    </tr>\n",
       "    <tr>\n",
       "      <th>45144</th>\n",
       "      <td>C540250</td>\n",
       "      <td>21928</td>\n",
       "      <td>JUMBO BAG SCANDINAVIAN PAISLEY</td>\n",
       "      <td>-1</td>\n",
       "      <td>2011-01-05 16:02:00</td>\n",
       "      <td>1.6</td>\n",
       "      <td>17511.0</td>\n",
       "      <td>United Kingdom</td>\n",
       "    </tr>\n",
       "  </tbody>\n",
       "</table>\n",
       "</div>"
      ],
      "text/plain": [
       "       InvoiceNo StockCode                        Description  Quantity  \\\n",
       "268308   C560408         M                             Manual        -1   \n",
       "186013   C552841     22838      3 TIER CAKE TIN RED AND CREAM        -1   \n",
       "169480   C551175     22325              MOBILE VINTAGE HEARTS        -1   \n",
       "429996   C573575      CRUK                    CRUK Commission        -1   \n",
       "281674   C561591     22768         FAMILY PHOTO FRAME CORNICE        -1   \n",
       "268312   C560409    84078A    SET/4 WHITE RETRO STORAGE CUBES        -1   \n",
       "355585   C567947     23234      BISCUIT TIN VINTAGE CHRISTMAS        -1   \n",
       "355584   C567947     21201  TROPICAL  HONEYCOMB PAPER GARLAND        -1   \n",
       "96677    C544577         M                             Manual        -1   \n",
       "45144    C540250     21928     JUMBO BAG SCANDINAVIAN PAISLEY        -1   \n",
       "\n",
       "               InvoiceDate  UnitPrice  CustomerID         Country  \n",
       "268308 2011-07-18 14:24:00      550.6     13564.0  United Kingdom  \n",
       "186013 2011-05-11 14:28:00       14.9     15827.0  United Kingdom  \n",
       "169480 2011-04-26 17:17:00        5.0     14329.0  United Kingdom  \n",
       "429996 2011-10-31 14:09:00      606.0     14096.0  United Kingdom  \n",
       "281674 2011-07-28 11:17:00        9.9     15708.0  United Kingdom  \n",
       "268312 2011-07-18 14:24:00       40.0     16717.0  United Kingdom  \n",
       "355585 2011-09-23 08:00:00        2.9     17663.0  United Kingdom  \n",
       "355584 2011-09-23 08:00:00        2.5     17663.0  United Kingdom  \n",
       "96677  2011-02-21 14:02:00      320.7     12365.0          Cyprus  \n",
       "45144  2011-01-05 16:02:00        1.6     17511.0  United Kingdom  "
      ]
     },
     "execution_count": 20,
     "metadata": {},
     "output_type": "execute_result"
    }
   ],
   "source": [
    "### Select all the cancelled orders\n",
    "cancelled_orders = data[data.InvoiceNo.str.contains('C', case=False, na=False)]\n",
    "cancelled_orders.head(10)"
   ]
  },
  {
   "cell_type": "code",
   "execution_count": 21,
   "metadata": {},
   "outputs": [],
   "source": [
    "c1_tmp = pd.DataFrame(cancelled_orders['InvoiceNo'])\n",
    "c2_tmp = cancelled_orders['InvoiceNo'].str.extract('(\\d+)').astype(int)\n",
    "c1_tmp['invoice2'] = c2_tmp"
   ]
  },
  {
   "cell_type": "code",
   "execution_count": 22,
   "metadata": {},
   "outputs": [],
   "source": [
    "### InvoiceNo containing a \"C\" character correspond with a negative Quantity value, \n",
    "### therefore I will assume these are cancelled orders. For the purposes of this report I am going to \n",
    "### remove cancelled orders from consideration.\n",
    "\n",
    "data = data[~data['InvoiceNo'].isin(c1_tmp['InvoiceNo'])]\n",
    "data = data[~data['InvoiceNo'].isin(c1_tmp['invoice2'])]"
   ]
  },
  {
   "cell_type": "code",
   "execution_count": null,
   "metadata": {},
   "outputs": [],
   "source": [
    "### Note There was an error in the test submission. Order numbers prefixed with 'C' where removed \n",
    "### but this leaves the original order number in the dataset. For completeness, I have updated this \n",
    "### script to remove the order that corresponds with the canceled order as well\n",
    "#data = data[~data['InvoiceNo'].str.contains('C', case=False, na=False)]"
   ]
  },
  {
   "cell_type": "markdown",
   "metadata": {},
   "source": [
    "### Investigation of top CustomerID basket"
   ]
  },
  {
   "cell_type": "code",
   "execution_count": 23,
   "metadata": {},
   "outputs": [
    {
     "data": {
      "text/html": [
       "<div>\n",
       "<style scoped>\n",
       "    .dataframe tbody tr th:only-of-type {\n",
       "        vertical-align: middle;\n",
       "    }\n",
       "\n",
       "    .dataframe tbody tr th {\n",
       "        vertical-align: top;\n",
       "    }\n",
       "\n",
       "    .dataframe thead th {\n",
       "        text-align: right;\n",
       "    }\n",
       "</style>\n",
       "<table border=\"1\" class=\"dataframe\">\n",
       "  <thead>\n",
       "    <tr style=\"text-align: right;\">\n",
       "      <th></th>\n",
       "      <th>CustomerID</th>\n",
       "      <th>Number of products</th>\n",
       "    </tr>\n",
       "  </thead>\n",
       "  <tbody>\n",
       "    <tr>\n",
       "      <th>4011</th>\n",
       "      <td>17841.0</td>\n",
       "      <td>7676</td>\n",
       "    </tr>\n",
       "    <tr>\n",
       "      <th>1880</th>\n",
       "      <td>14911.0</td>\n",
       "      <td>5672</td>\n",
       "    </tr>\n",
       "    <tr>\n",
       "      <th>1290</th>\n",
       "      <td>14096.0</td>\n",
       "      <td>5111</td>\n",
       "    </tr>\n",
       "    <tr>\n",
       "      <th>326</th>\n",
       "      <td>12748.0</td>\n",
       "      <td>4413</td>\n",
       "    </tr>\n",
       "    <tr>\n",
       "      <th>1662</th>\n",
       "      <td>14606.0</td>\n",
       "      <td>2677</td>\n",
       "    </tr>\n",
       "    <tr>\n",
       "      <th>2177</th>\n",
       "      <td>15311.0</td>\n",
       "      <td>2366</td>\n",
       "    </tr>\n",
       "    <tr>\n",
       "      <th>1690</th>\n",
       "      <td>14646.0</td>\n",
       "      <td>2080</td>\n",
       "    </tr>\n",
       "    <tr>\n",
       "      <th>562</th>\n",
       "      <td>13089.0</td>\n",
       "      <td>1814</td>\n",
       "    </tr>\n",
       "    <tr>\n",
       "      <th>691</th>\n",
       "      <td>13263.0</td>\n",
       "      <td>1667</td>\n",
       "    </tr>\n",
       "    <tr>\n",
       "      <th>1435</th>\n",
       "      <td>14298.0</td>\n",
       "      <td>1637</td>\n",
       "    </tr>\n",
       "  </tbody>\n",
       "</table>\n",
       "</div>"
      ],
      "text/plain": [
       "      CustomerID  Number of products\n",
       "4011     17841.0                7676\n",
       "1880     14911.0                5672\n",
       "1290     14096.0                5111\n",
       "326      12748.0                4413\n",
       "1662     14606.0                2677\n",
       "2177     15311.0                2366\n",
       "1690     14646.0                2080\n",
       "562      13089.0                1814\n",
       "691      13263.0                1667\n",
       "1435     14298.0                1637"
      ]
     },
     "execution_count": 23,
     "metadata": {},
     "output_type": "execute_result"
    }
   ],
   "source": [
    "### group by customer ID to create a rank buyers by how many products they buy in total.\n",
    "temp = data.groupby(by=['CustomerID'], as_index=False)['InvoiceDate'].count()\n",
    "products_per_basket = temp.rename(columns = {'InvoiceDate':'Number of products'})\n",
    "top_baskets = products_per_basket.sort_values('Number of products', ascending=False)\n",
    "top_baskets.head(10)\n",
    "### Top customer purchased 7667 products in the largest basket."
   ]
  },
  {
   "cell_type": "code",
   "execution_count": 24,
   "metadata": {},
   "outputs": [
    {
     "name": "stderr",
     "output_type": "stream",
     "text": [
      "/Volumes/RaviVarma/DataScience/anaconda3/lib/python3.7/site-packages/ipykernel_launcher.py:3: SettingWithCopyWarning:\n",
      "\n",
      "\n",
      "A value is trying to be set on a copy of a slice from a DataFrame\n",
      "\n",
      "See the caveats in the documentation: https://pandas.pydata.org/pandas-docs/stable/user_guide/indexing.html#returning-a-view-versus-a-copy\n",
      "\n",
      "/Volumes/RaviVarma/DataScience/anaconda3/lib/python3.7/site-packages/ipykernel_launcher.py:4: SettingWithCopyWarning:\n",
      "\n",
      "\n",
      "A value is trying to be set on a copy of a slice from a DataFrame.\n",
      "Try using .loc[row_indexer,col_indexer] = value instead\n",
      "\n",
      "See the caveats in the documentation: https://pandas.pydata.org/pandas-docs/stable/user_guide/indexing.html#returning-a-view-versus-a-copy\n",
      "\n"
     ]
    }
   ],
   "source": [
    "grouped = top_baskets[:50]\n",
    "grouped.reset_index(level=0, inplace=True)\n",
    "grouped.sort_values('Number of products', ascending=False, inplace=True)\n",
    "grouped['CustomerID'] = grouped['CustomerID'].astype(str)"
   ]
  },
  {
   "cell_type": "code",
   "execution_count": 25,
   "metadata": {},
   "outputs": [
    {
     "data": {
      "application/vnd.plotly.v1+json": {
       "config": {
        "linkText": "Export to plot.ly",
        "plotlyServerURL": "https://plot.ly",
        "showLink": false
       },
       "data": [
        {
         "type": "bar",
         "x": [
          "17841.0",
          "14911.0",
          "14096.0",
          "12748.0",
          "14606.0",
          "15311.0",
          "14646.0",
          "13089.0",
          "13263.0",
          "14298.0",
          "15039.0",
          "14156.0",
          "18118.0",
          "14159.0",
          "14796.0",
          "16033.0",
          "15005.0",
          "14056.0",
          "14769.0",
          "13081.0",
          "14527.0",
          "17511.0",
          "14456.0",
          "15719.0",
          "16549.0",
          "15555.0",
          "16931.0",
          "17811.0",
          "14505.0",
          "17757.0",
          "18283.0",
          "17338.0",
          "12921.0",
          "12415.0",
          "15159.0",
          "17675.0",
          "16764.0",
          "15547.0",
          "17735.0",
          "13137.0",
          "16904.0",
          "17920.0",
          "15529.0",
          "16729.0",
          "16241.0",
          "12681.0",
          "16360.0",
          "15856.0",
          "16923.0",
          "13969.0"
         ],
         "y": [
          7676,
          5672,
          5111,
          4413,
          2677,
          2366,
          2080,
          1814,
          1667,
          1637,
          1477,
          1395,
          1263,
          1175,
          1132,
          1128,
          1112,
          1088,
          1062,
          1028,
          971,
          963,
          947,
          931,
          925,
          887,
          886,
          828,
          785,
          740,
          721,
          721,
          720,
          716,
          710,
          705,
          700,
          695,
          690,
          687,
          665,
          665,
          662,
          656,
          655,
          638,
          636,
          628,
          626,
          619
         ]
        }
       ],
       "layout": {
        "template": {
         "data": {
          "bar": [
           {
            "error_x": {
             "color": "#2a3f5f"
            },
            "error_y": {
             "color": "#2a3f5f"
            },
            "marker": {
             "line": {
              "color": "#E5ECF6",
              "width": 0.5
             }
            },
            "type": "bar"
           }
          ],
          "barpolar": [
           {
            "marker": {
             "line": {
              "color": "#E5ECF6",
              "width": 0.5
             }
            },
            "type": "barpolar"
           }
          ],
          "carpet": [
           {
            "aaxis": {
             "endlinecolor": "#2a3f5f",
             "gridcolor": "white",
             "linecolor": "white",
             "minorgridcolor": "white",
             "startlinecolor": "#2a3f5f"
            },
            "baxis": {
             "endlinecolor": "#2a3f5f",
             "gridcolor": "white",
             "linecolor": "white",
             "minorgridcolor": "white",
             "startlinecolor": "#2a3f5f"
            },
            "type": "carpet"
           }
          ],
          "choropleth": [
           {
            "colorbar": {
             "outlinewidth": 0,
             "ticks": ""
            },
            "type": "choropleth"
           }
          ],
          "contour": [
           {
            "colorbar": {
             "outlinewidth": 0,
             "ticks": ""
            },
            "colorscale": [
             [
              0,
              "#0d0887"
             ],
             [
              0.1111111111111111,
              "#46039f"
             ],
             [
              0.2222222222222222,
              "#7201a8"
             ],
             [
              0.3333333333333333,
              "#9c179e"
             ],
             [
              0.4444444444444444,
              "#bd3786"
             ],
             [
              0.5555555555555556,
              "#d8576b"
             ],
             [
              0.6666666666666666,
              "#ed7953"
             ],
             [
              0.7777777777777778,
              "#fb9f3a"
             ],
             [
              0.8888888888888888,
              "#fdca26"
             ],
             [
              1,
              "#f0f921"
             ]
            ],
            "type": "contour"
           }
          ],
          "contourcarpet": [
           {
            "colorbar": {
             "outlinewidth": 0,
             "ticks": ""
            },
            "type": "contourcarpet"
           }
          ],
          "heatmap": [
           {
            "colorbar": {
             "outlinewidth": 0,
             "ticks": ""
            },
            "colorscale": [
             [
              0,
              "#0d0887"
             ],
             [
              0.1111111111111111,
              "#46039f"
             ],
             [
              0.2222222222222222,
              "#7201a8"
             ],
             [
              0.3333333333333333,
              "#9c179e"
             ],
             [
              0.4444444444444444,
              "#bd3786"
             ],
             [
              0.5555555555555556,
              "#d8576b"
             ],
             [
              0.6666666666666666,
              "#ed7953"
             ],
             [
              0.7777777777777778,
              "#fb9f3a"
             ],
             [
              0.8888888888888888,
              "#fdca26"
             ],
             [
              1,
              "#f0f921"
             ]
            ],
            "type": "heatmap"
           }
          ],
          "heatmapgl": [
           {
            "colorbar": {
             "outlinewidth": 0,
             "ticks": ""
            },
            "colorscale": [
             [
              0,
              "#0d0887"
             ],
             [
              0.1111111111111111,
              "#46039f"
             ],
             [
              0.2222222222222222,
              "#7201a8"
             ],
             [
              0.3333333333333333,
              "#9c179e"
             ],
             [
              0.4444444444444444,
              "#bd3786"
             ],
             [
              0.5555555555555556,
              "#d8576b"
             ],
             [
              0.6666666666666666,
              "#ed7953"
             ],
             [
              0.7777777777777778,
              "#fb9f3a"
             ],
             [
              0.8888888888888888,
              "#fdca26"
             ],
             [
              1,
              "#f0f921"
             ]
            ],
            "type": "heatmapgl"
           }
          ],
          "histogram": [
           {
            "marker": {
             "colorbar": {
              "outlinewidth": 0,
              "ticks": ""
             }
            },
            "type": "histogram"
           }
          ],
          "histogram2d": [
           {
            "colorbar": {
             "outlinewidth": 0,
             "ticks": ""
            },
            "colorscale": [
             [
              0,
              "#0d0887"
             ],
             [
              0.1111111111111111,
              "#46039f"
             ],
             [
              0.2222222222222222,
              "#7201a8"
             ],
             [
              0.3333333333333333,
              "#9c179e"
             ],
             [
              0.4444444444444444,
              "#bd3786"
             ],
             [
              0.5555555555555556,
              "#d8576b"
             ],
             [
              0.6666666666666666,
              "#ed7953"
             ],
             [
              0.7777777777777778,
              "#fb9f3a"
             ],
             [
              0.8888888888888888,
              "#fdca26"
             ],
             [
              1,
              "#f0f921"
             ]
            ],
            "type": "histogram2d"
           }
          ],
          "histogram2dcontour": [
           {
            "colorbar": {
             "outlinewidth": 0,
             "ticks": ""
            },
            "colorscale": [
             [
              0,
              "#0d0887"
             ],
             [
              0.1111111111111111,
              "#46039f"
             ],
             [
              0.2222222222222222,
              "#7201a8"
             ],
             [
              0.3333333333333333,
              "#9c179e"
             ],
             [
              0.4444444444444444,
              "#bd3786"
             ],
             [
              0.5555555555555556,
              "#d8576b"
             ],
             [
              0.6666666666666666,
              "#ed7953"
             ],
             [
              0.7777777777777778,
              "#fb9f3a"
             ],
             [
              0.8888888888888888,
              "#fdca26"
             ],
             [
              1,
              "#f0f921"
             ]
            ],
            "type": "histogram2dcontour"
           }
          ],
          "mesh3d": [
           {
            "colorbar": {
             "outlinewidth": 0,
             "ticks": ""
            },
            "type": "mesh3d"
           }
          ],
          "parcoords": [
           {
            "line": {
             "colorbar": {
              "outlinewidth": 0,
              "ticks": ""
             }
            },
            "type": "parcoords"
           }
          ],
          "pie": [
           {
            "automargin": true,
            "type": "pie"
           }
          ],
          "scatter": [
           {
            "marker": {
             "colorbar": {
              "outlinewidth": 0,
              "ticks": ""
             }
            },
            "type": "scatter"
           }
          ],
          "scatter3d": [
           {
            "line": {
             "colorbar": {
              "outlinewidth": 0,
              "ticks": ""
             }
            },
            "marker": {
             "colorbar": {
              "outlinewidth": 0,
              "ticks": ""
             }
            },
            "type": "scatter3d"
           }
          ],
          "scattercarpet": [
           {
            "marker": {
             "colorbar": {
              "outlinewidth": 0,
              "ticks": ""
             }
            },
            "type": "scattercarpet"
           }
          ],
          "scattergeo": [
           {
            "marker": {
             "colorbar": {
              "outlinewidth": 0,
              "ticks": ""
             }
            },
            "type": "scattergeo"
           }
          ],
          "scattergl": [
           {
            "marker": {
             "colorbar": {
              "outlinewidth": 0,
              "ticks": ""
             }
            },
            "type": "scattergl"
           }
          ],
          "scattermapbox": [
           {
            "marker": {
             "colorbar": {
              "outlinewidth": 0,
              "ticks": ""
             }
            },
            "type": "scattermapbox"
           }
          ],
          "scatterpolar": [
           {
            "marker": {
             "colorbar": {
              "outlinewidth": 0,
              "ticks": ""
             }
            },
            "type": "scatterpolar"
           }
          ],
          "scatterpolargl": [
           {
            "marker": {
             "colorbar": {
              "outlinewidth": 0,
              "ticks": ""
             }
            },
            "type": "scatterpolargl"
           }
          ],
          "scatterternary": [
           {
            "marker": {
             "colorbar": {
              "outlinewidth": 0,
              "ticks": ""
             }
            },
            "type": "scatterternary"
           }
          ],
          "surface": [
           {
            "colorbar": {
             "outlinewidth": 0,
             "ticks": ""
            },
            "colorscale": [
             [
              0,
              "#0d0887"
             ],
             [
              0.1111111111111111,
              "#46039f"
             ],
             [
              0.2222222222222222,
              "#7201a8"
             ],
             [
              0.3333333333333333,
              "#9c179e"
             ],
             [
              0.4444444444444444,
              "#bd3786"
             ],
             [
              0.5555555555555556,
              "#d8576b"
             ],
             [
              0.6666666666666666,
              "#ed7953"
             ],
             [
              0.7777777777777778,
              "#fb9f3a"
             ],
             [
              0.8888888888888888,
              "#fdca26"
             ],
             [
              1,
              "#f0f921"
             ]
            ],
            "type": "surface"
           }
          ],
          "table": [
           {
            "cells": {
             "fill": {
              "color": "#EBF0F8"
             },
             "line": {
              "color": "white"
             }
            },
            "header": {
             "fill": {
              "color": "#C8D4E3"
             },
             "line": {
              "color": "white"
             }
            },
            "type": "table"
           }
          ]
         },
         "layout": {
          "annotationdefaults": {
           "arrowcolor": "#2a3f5f",
           "arrowhead": 0,
           "arrowwidth": 1
          },
          "coloraxis": {
           "colorbar": {
            "outlinewidth": 0,
            "ticks": ""
           }
          },
          "colorscale": {
           "diverging": [
            [
             0,
             "#8e0152"
            ],
            [
             0.1,
             "#c51b7d"
            ],
            [
             0.2,
             "#de77ae"
            ],
            [
             0.3,
             "#f1b6da"
            ],
            [
             0.4,
             "#fde0ef"
            ],
            [
             0.5,
             "#f7f7f7"
            ],
            [
             0.6,
             "#e6f5d0"
            ],
            [
             0.7,
             "#b8e186"
            ],
            [
             0.8,
             "#7fbc41"
            ],
            [
             0.9,
             "#4d9221"
            ],
            [
             1,
             "#276419"
            ]
           ],
           "sequential": [
            [
             0,
             "#0d0887"
            ],
            [
             0.1111111111111111,
             "#46039f"
            ],
            [
             0.2222222222222222,
             "#7201a8"
            ],
            [
             0.3333333333333333,
             "#9c179e"
            ],
            [
             0.4444444444444444,
             "#bd3786"
            ],
            [
             0.5555555555555556,
             "#d8576b"
            ],
            [
             0.6666666666666666,
             "#ed7953"
            ],
            [
             0.7777777777777778,
             "#fb9f3a"
            ],
            [
             0.8888888888888888,
             "#fdca26"
            ],
            [
             1,
             "#f0f921"
            ]
           ],
           "sequentialminus": [
            [
             0,
             "#0d0887"
            ],
            [
             0.1111111111111111,
             "#46039f"
            ],
            [
             0.2222222222222222,
             "#7201a8"
            ],
            [
             0.3333333333333333,
             "#9c179e"
            ],
            [
             0.4444444444444444,
             "#bd3786"
            ],
            [
             0.5555555555555556,
             "#d8576b"
            ],
            [
             0.6666666666666666,
             "#ed7953"
            ],
            [
             0.7777777777777778,
             "#fb9f3a"
            ],
            [
             0.8888888888888888,
             "#fdca26"
            ],
            [
             1,
             "#f0f921"
            ]
           ]
          },
          "colorway": [
           "#636efa",
           "#EF553B",
           "#00cc96",
           "#ab63fa",
           "#FFA15A",
           "#19d3f3",
           "#FF6692",
           "#B6E880",
           "#FF97FF",
           "#FECB52"
          ],
          "font": {
           "color": "#2a3f5f"
          },
          "geo": {
           "bgcolor": "white",
           "lakecolor": "white",
           "landcolor": "#E5ECF6",
           "showlakes": true,
           "showland": true,
           "subunitcolor": "white"
          },
          "hoverlabel": {
           "align": "left"
          },
          "hovermode": "closest",
          "mapbox": {
           "style": "light"
          },
          "paper_bgcolor": "white",
          "plot_bgcolor": "#E5ECF6",
          "polar": {
           "angularaxis": {
            "gridcolor": "white",
            "linecolor": "white",
            "ticks": ""
           },
           "bgcolor": "#E5ECF6",
           "radialaxis": {
            "gridcolor": "white",
            "linecolor": "white",
            "ticks": ""
           }
          },
          "scene": {
           "xaxis": {
            "backgroundcolor": "#E5ECF6",
            "gridcolor": "white",
            "gridwidth": 2,
            "linecolor": "white",
            "showbackground": true,
            "ticks": "",
            "zerolinecolor": "white"
           },
           "yaxis": {
            "backgroundcolor": "#E5ECF6",
            "gridcolor": "white",
            "gridwidth": 2,
            "linecolor": "white",
            "showbackground": true,
            "ticks": "",
            "zerolinecolor": "white"
           },
           "zaxis": {
            "backgroundcolor": "#E5ECF6",
            "gridcolor": "white",
            "gridwidth": 2,
            "linecolor": "white",
            "showbackground": true,
            "ticks": "",
            "zerolinecolor": "white"
           }
          },
          "shapedefaults": {
           "line": {
            "color": "#2a3f5f"
           }
          },
          "ternary": {
           "aaxis": {
            "gridcolor": "white",
            "linecolor": "white",
            "ticks": ""
           },
           "baxis": {
            "gridcolor": "white",
            "linecolor": "white",
            "ticks": ""
           },
           "bgcolor": "#E5ECF6",
           "caxis": {
            "gridcolor": "white",
            "linecolor": "white",
            "ticks": ""
           }
          },
          "title": {
           "x": 0.05
          },
          "xaxis": {
           "automargin": true,
           "gridcolor": "white",
           "linecolor": "white",
           "ticks": "",
           "title": {
            "standoff": 15
           },
           "zerolinecolor": "white",
           "zerolinewidth": 2
          },
          "yaxis": {
           "automargin": true,
           "gridcolor": "white",
           "linecolor": "white",
           "ticks": "",
           "title": {
            "standoff": 15
           },
           "zerolinecolor": "white",
           "zerolinewidth": 2
          }
         }
        },
        "title": {
         "text": "Number of Products Bought in the Top 50 Largest Baskets"
        },
        "xaxis": {
         "title": {
          "text": "Customer ID"
         },
         "type": "category"
        },
        "yaxis": {
         "autorange": true,
         "title": {
          "text": "Number of products in basket"
         }
        }
       }
      },
      "text/html": [
       "<div>\n",
       "        \n",
       "        \n",
       "            <div id=\"33988e8d-daf4-453e-b7dd-055356eeb4c4\" class=\"plotly-graph-div\" style=\"height:525px; width:100%;\"></div>\n",
       "            <script type=\"text/javascript\">\n",
       "                require([\"plotly\"], function(Plotly) {\n",
       "                    window.PLOTLYENV=window.PLOTLYENV || {};\n",
       "                    \n",
       "                if (document.getElementById(\"33988e8d-daf4-453e-b7dd-055356eeb4c4\")) {\n",
       "                    Plotly.newPlot(\n",
       "                        '33988e8d-daf4-453e-b7dd-055356eeb4c4',\n",
       "                        [{\"type\": \"bar\", \"x\": [\"17841.0\", \"14911.0\", \"14096.0\", \"12748.0\", \"14606.0\", \"15311.0\", \"14646.0\", \"13089.0\", \"13263.0\", \"14298.0\", \"15039.0\", \"14156.0\", \"18118.0\", \"14159.0\", \"14796.0\", \"16033.0\", \"15005.0\", \"14056.0\", \"14769.0\", \"13081.0\", \"14527.0\", \"17511.0\", \"14456.0\", \"15719.0\", \"16549.0\", \"15555.0\", \"16931.0\", \"17811.0\", \"14505.0\", \"17757.0\", \"18283.0\", \"17338.0\", \"12921.0\", \"12415.0\", \"15159.0\", \"17675.0\", \"16764.0\", \"15547.0\", \"17735.0\", \"13137.0\", \"16904.0\", \"17920.0\", \"15529.0\", \"16729.0\", \"16241.0\", \"12681.0\", \"16360.0\", \"15856.0\", \"16923.0\", \"13969.0\"], \"y\": [7676, 5672, 5111, 4413, 2677, 2366, 2080, 1814, 1667, 1637, 1477, 1395, 1263, 1175, 1132, 1128, 1112, 1088, 1062, 1028, 971, 963, 947, 931, 925, 887, 886, 828, 785, 740, 721, 721, 720, 716, 710, 705, 700, 695, 690, 687, 665, 665, 662, 656, 655, 638, 636, 628, 626, 619]}],\n",
       "                        {\"template\": {\"data\": {\"bar\": [{\"error_x\": {\"color\": \"#2a3f5f\"}, \"error_y\": {\"color\": \"#2a3f5f\"}, \"marker\": {\"line\": {\"color\": \"#E5ECF6\", \"width\": 0.5}}, \"type\": \"bar\"}], \"barpolar\": [{\"marker\": {\"line\": {\"color\": \"#E5ECF6\", \"width\": 0.5}}, \"type\": \"barpolar\"}], \"carpet\": [{\"aaxis\": {\"endlinecolor\": \"#2a3f5f\", \"gridcolor\": \"white\", \"linecolor\": \"white\", \"minorgridcolor\": \"white\", \"startlinecolor\": \"#2a3f5f\"}, \"baxis\": {\"endlinecolor\": \"#2a3f5f\", \"gridcolor\": \"white\", \"linecolor\": \"white\", \"minorgridcolor\": \"white\", \"startlinecolor\": \"#2a3f5f\"}, \"type\": \"carpet\"}], \"choropleth\": [{\"colorbar\": {\"outlinewidth\": 0, \"ticks\": \"\"}, \"type\": \"choropleth\"}], \"contour\": [{\"colorbar\": {\"outlinewidth\": 0, \"ticks\": \"\"}, \"colorscale\": [[0.0, \"#0d0887\"], [0.1111111111111111, \"#46039f\"], [0.2222222222222222, \"#7201a8\"], [0.3333333333333333, \"#9c179e\"], [0.4444444444444444, \"#bd3786\"], [0.5555555555555556, \"#d8576b\"], [0.6666666666666666, \"#ed7953\"], [0.7777777777777778, \"#fb9f3a\"], [0.8888888888888888, \"#fdca26\"], [1.0, \"#f0f921\"]], \"type\": \"contour\"}], \"contourcarpet\": [{\"colorbar\": {\"outlinewidth\": 0, \"ticks\": \"\"}, \"type\": \"contourcarpet\"}], \"heatmap\": [{\"colorbar\": {\"outlinewidth\": 0, \"ticks\": \"\"}, \"colorscale\": [[0.0, \"#0d0887\"], [0.1111111111111111, \"#46039f\"], [0.2222222222222222, \"#7201a8\"], [0.3333333333333333, \"#9c179e\"], [0.4444444444444444, \"#bd3786\"], [0.5555555555555556, \"#d8576b\"], [0.6666666666666666, \"#ed7953\"], [0.7777777777777778, \"#fb9f3a\"], [0.8888888888888888, \"#fdca26\"], [1.0, \"#f0f921\"]], \"type\": \"heatmap\"}], \"heatmapgl\": [{\"colorbar\": {\"outlinewidth\": 0, \"ticks\": \"\"}, \"colorscale\": [[0.0, \"#0d0887\"], [0.1111111111111111, \"#46039f\"], [0.2222222222222222, \"#7201a8\"], [0.3333333333333333, \"#9c179e\"], [0.4444444444444444, \"#bd3786\"], [0.5555555555555556, \"#d8576b\"], [0.6666666666666666, \"#ed7953\"], [0.7777777777777778, \"#fb9f3a\"], [0.8888888888888888, \"#fdca26\"], [1.0, \"#f0f921\"]], \"type\": \"heatmapgl\"}], \"histogram\": [{\"marker\": {\"colorbar\": {\"outlinewidth\": 0, \"ticks\": \"\"}}, \"type\": \"histogram\"}], \"histogram2d\": [{\"colorbar\": {\"outlinewidth\": 0, \"ticks\": \"\"}, \"colorscale\": [[0.0, \"#0d0887\"], [0.1111111111111111, \"#46039f\"], [0.2222222222222222, \"#7201a8\"], [0.3333333333333333, \"#9c179e\"], [0.4444444444444444, \"#bd3786\"], [0.5555555555555556, \"#d8576b\"], [0.6666666666666666, \"#ed7953\"], [0.7777777777777778, \"#fb9f3a\"], [0.8888888888888888, \"#fdca26\"], [1.0, \"#f0f921\"]], \"type\": \"histogram2d\"}], \"histogram2dcontour\": [{\"colorbar\": {\"outlinewidth\": 0, \"ticks\": \"\"}, \"colorscale\": [[0.0, \"#0d0887\"], [0.1111111111111111, \"#46039f\"], [0.2222222222222222, \"#7201a8\"], [0.3333333333333333, \"#9c179e\"], [0.4444444444444444, \"#bd3786\"], [0.5555555555555556, \"#d8576b\"], [0.6666666666666666, \"#ed7953\"], [0.7777777777777778, \"#fb9f3a\"], [0.8888888888888888, \"#fdca26\"], [1.0, \"#f0f921\"]], \"type\": \"histogram2dcontour\"}], \"mesh3d\": [{\"colorbar\": {\"outlinewidth\": 0, \"ticks\": \"\"}, \"type\": \"mesh3d\"}], \"parcoords\": [{\"line\": {\"colorbar\": {\"outlinewidth\": 0, \"ticks\": \"\"}}, \"type\": \"parcoords\"}], \"pie\": [{\"automargin\": true, \"type\": \"pie\"}], \"scatter\": [{\"marker\": {\"colorbar\": {\"outlinewidth\": 0, \"ticks\": \"\"}}, \"type\": \"scatter\"}], \"scatter3d\": [{\"line\": {\"colorbar\": {\"outlinewidth\": 0, \"ticks\": \"\"}}, \"marker\": {\"colorbar\": {\"outlinewidth\": 0, \"ticks\": \"\"}}, \"type\": \"scatter3d\"}], \"scattercarpet\": [{\"marker\": {\"colorbar\": {\"outlinewidth\": 0, \"ticks\": \"\"}}, \"type\": \"scattercarpet\"}], \"scattergeo\": [{\"marker\": {\"colorbar\": {\"outlinewidth\": 0, \"ticks\": \"\"}}, \"type\": \"scattergeo\"}], \"scattergl\": [{\"marker\": {\"colorbar\": {\"outlinewidth\": 0, \"ticks\": \"\"}}, \"type\": \"scattergl\"}], \"scattermapbox\": [{\"marker\": {\"colorbar\": {\"outlinewidth\": 0, \"ticks\": \"\"}}, \"type\": \"scattermapbox\"}], \"scatterpolar\": [{\"marker\": {\"colorbar\": {\"outlinewidth\": 0, \"ticks\": \"\"}}, \"type\": \"scatterpolar\"}], \"scatterpolargl\": [{\"marker\": {\"colorbar\": {\"outlinewidth\": 0, \"ticks\": \"\"}}, \"type\": \"scatterpolargl\"}], \"scatterternary\": [{\"marker\": {\"colorbar\": {\"outlinewidth\": 0, \"ticks\": \"\"}}, \"type\": \"scatterternary\"}], \"surface\": [{\"colorbar\": {\"outlinewidth\": 0, \"ticks\": \"\"}, \"colorscale\": [[0.0, \"#0d0887\"], [0.1111111111111111, \"#46039f\"], [0.2222222222222222, \"#7201a8\"], [0.3333333333333333, \"#9c179e\"], [0.4444444444444444, \"#bd3786\"], [0.5555555555555556, \"#d8576b\"], [0.6666666666666666, \"#ed7953\"], [0.7777777777777778, \"#fb9f3a\"], [0.8888888888888888, \"#fdca26\"], [1.0, \"#f0f921\"]], \"type\": \"surface\"}], \"table\": [{\"cells\": {\"fill\": {\"color\": \"#EBF0F8\"}, \"line\": {\"color\": \"white\"}}, \"header\": {\"fill\": {\"color\": \"#C8D4E3\"}, \"line\": {\"color\": \"white\"}}, \"type\": \"table\"}]}, \"layout\": {\"annotationdefaults\": {\"arrowcolor\": \"#2a3f5f\", \"arrowhead\": 0, \"arrowwidth\": 1}, \"coloraxis\": {\"colorbar\": {\"outlinewidth\": 0, \"ticks\": \"\"}}, \"colorscale\": {\"diverging\": [[0, \"#8e0152\"], [0.1, \"#c51b7d\"], [0.2, \"#de77ae\"], [0.3, \"#f1b6da\"], [0.4, \"#fde0ef\"], [0.5, \"#f7f7f7\"], [0.6, \"#e6f5d0\"], [0.7, \"#b8e186\"], [0.8, \"#7fbc41\"], [0.9, \"#4d9221\"], [1, \"#276419\"]], \"sequential\": [[0.0, \"#0d0887\"], [0.1111111111111111, \"#46039f\"], [0.2222222222222222, \"#7201a8\"], [0.3333333333333333, \"#9c179e\"], [0.4444444444444444, \"#bd3786\"], [0.5555555555555556, \"#d8576b\"], [0.6666666666666666, \"#ed7953\"], [0.7777777777777778, \"#fb9f3a\"], [0.8888888888888888, \"#fdca26\"], [1.0, \"#f0f921\"]], \"sequentialminus\": [[0.0, \"#0d0887\"], [0.1111111111111111, \"#46039f\"], [0.2222222222222222, \"#7201a8\"], [0.3333333333333333, \"#9c179e\"], [0.4444444444444444, \"#bd3786\"], [0.5555555555555556, \"#d8576b\"], [0.6666666666666666, \"#ed7953\"], [0.7777777777777778, \"#fb9f3a\"], [0.8888888888888888, \"#fdca26\"], [1.0, \"#f0f921\"]]}, \"colorway\": [\"#636efa\", \"#EF553B\", \"#00cc96\", \"#ab63fa\", \"#FFA15A\", \"#19d3f3\", \"#FF6692\", \"#B6E880\", \"#FF97FF\", \"#FECB52\"], \"font\": {\"color\": \"#2a3f5f\"}, \"geo\": {\"bgcolor\": \"white\", \"lakecolor\": \"white\", \"landcolor\": \"#E5ECF6\", \"showlakes\": true, \"showland\": true, \"subunitcolor\": \"white\"}, \"hoverlabel\": {\"align\": \"left\"}, \"hovermode\": \"closest\", \"mapbox\": {\"style\": \"light\"}, \"paper_bgcolor\": \"white\", \"plot_bgcolor\": \"#E5ECF6\", \"polar\": {\"angularaxis\": {\"gridcolor\": \"white\", \"linecolor\": \"white\", \"ticks\": \"\"}, \"bgcolor\": \"#E5ECF6\", \"radialaxis\": {\"gridcolor\": \"white\", \"linecolor\": \"white\", \"ticks\": \"\"}}, \"scene\": {\"xaxis\": {\"backgroundcolor\": \"#E5ECF6\", \"gridcolor\": \"white\", \"gridwidth\": 2, \"linecolor\": \"white\", \"showbackground\": true, \"ticks\": \"\", \"zerolinecolor\": \"white\"}, \"yaxis\": {\"backgroundcolor\": \"#E5ECF6\", \"gridcolor\": \"white\", \"gridwidth\": 2, \"linecolor\": \"white\", \"showbackground\": true, \"ticks\": \"\", \"zerolinecolor\": \"white\"}, \"zaxis\": {\"backgroundcolor\": \"#E5ECF6\", \"gridcolor\": \"white\", \"gridwidth\": 2, \"linecolor\": \"white\", \"showbackground\": true, \"ticks\": \"\", \"zerolinecolor\": \"white\"}}, \"shapedefaults\": {\"line\": {\"color\": \"#2a3f5f\"}}, \"ternary\": {\"aaxis\": {\"gridcolor\": \"white\", \"linecolor\": \"white\", \"ticks\": \"\"}, \"baxis\": {\"gridcolor\": \"white\", \"linecolor\": \"white\", \"ticks\": \"\"}, \"bgcolor\": \"#E5ECF6\", \"caxis\": {\"gridcolor\": \"white\", \"linecolor\": \"white\", \"ticks\": \"\"}}, \"title\": {\"x\": 0.05}, \"xaxis\": {\"automargin\": true, \"gridcolor\": \"white\", \"linecolor\": \"white\", \"ticks\": \"\", \"title\": {\"standoff\": 15}, \"zerolinecolor\": \"white\", \"zerolinewidth\": 2}, \"yaxis\": {\"automargin\": true, \"gridcolor\": \"white\", \"linecolor\": \"white\", \"ticks\": \"\", \"title\": {\"standoff\": 15}, \"zerolinecolor\": \"white\", \"zerolinewidth\": 2}}}, \"title\": {\"text\": \"Number of Products Bought in the Top 50 Largest Baskets\"}, \"xaxis\": {\"title\": {\"text\": \"Customer ID\"}, \"type\": \"category\"}, \"yaxis\": {\"autorange\": true, \"title\": {\"text\": \"Number of products in basket\"}}},\n",
       "                        {\"responsive\": true}\n",
       "                    ).then(function(){\n",
       "                            \n",
       "var gd = document.getElementById('33988e8d-daf4-453e-b7dd-055356eeb4c4');\n",
       "var x = new MutationObserver(function (mutations, observer) {{\n",
       "        var display = window.getComputedStyle(gd).display;\n",
       "        if (!display || display === 'none') {{\n",
       "            console.log([gd, 'removed!']);\n",
       "            Plotly.purge(gd);\n",
       "            observer.disconnect();\n",
       "        }}\n",
       "}});\n",
       "\n",
       "// Listen for the removal of the full notebook cells\n",
       "var notebookContainer = gd.closest('#notebook-container');\n",
       "if (notebookContainer) {{\n",
       "    x.observe(notebookContainer, {childList: true});\n",
       "}}\n",
       "\n",
       "// Listen for the clearing of the current output cell\n",
       "var outputEl = gd.closest('.output');\n",
       "if (outputEl) {{\n",
       "    x.observe(outputEl, {childList: true});\n",
       "}}\n",
       "\n",
       "                        })\n",
       "                };\n",
       "                });\n",
       "            </script>\n",
       "        </div>"
      ]
     },
     "metadata": {},
     "output_type": "display_data"
    }
   ],
   "source": [
    "data_plot = [go.Bar(x=grouped['CustomerID'], y=grouped['Number of products'])]\n",
    "layout = go.Layout(yaxis={'autorange':True,'title':'Number of products in basket'},xaxis={'type':'category','title':'Customer ID'},title = 'Number of Products Bought in the Top 50 Largest Baskets')\n",
    "fig = go.Figure(data=data_plot, layout=layout)\n",
    "iplot(fig)"
   ]
  },
  {
   "cell_type": "code",
   "execution_count": 26,
   "metadata": {},
   "outputs": [],
   "source": [
    "top_basket = data[data['CustomerID'] == top_baskets['CustomerID'].iloc[0]]\n",
    "### top_basket #uncomment to view basket contents\n",
    "### Note - this investigation was used with apriori modeling detailed in the Addendum section."
   ]
  },
  {
   "cell_type": "markdown",
   "metadata": {},
   "source": [
    "### Investigation of StockCode\n",
    "- There are some non-integer values in StockCodes which correspond with order descriptions that are not items."
   ]
  },
  {
   "cell_type": "code",
   "execution_count": 27,
   "metadata": {},
   "outputs": [
    {
     "data": {
      "text/html": [
       "<div>\n",
       "<style scoped>\n",
       "    .dataframe tbody tr th:only-of-type {\n",
       "        vertical-align: middle;\n",
       "    }\n",
       "\n",
       "    .dataframe tbody tr th {\n",
       "        vertical-align: top;\n",
       "    }\n",
       "\n",
       "    .dataframe thead th {\n",
       "        text-align: right;\n",
       "    }\n",
       "</style>\n",
       "<table border=\"1\" class=\"dataframe\">\n",
       "  <thead>\n",
       "    <tr style=\"text-align: right;\">\n",
       "      <th></th>\n",
       "      <th>InvoiceNo</th>\n",
       "      <th>StockCode</th>\n",
       "      <th>Description</th>\n",
       "      <th>Quantity</th>\n",
       "      <th>InvoiceDate</th>\n",
       "      <th>UnitPrice</th>\n",
       "      <th>CustomerID</th>\n",
       "      <th>Country</th>\n",
       "    </tr>\n",
       "  </thead>\n",
       "  <tbody>\n",
       "    <tr>\n",
       "      <th>490502</th>\n",
       "      <td>578060</td>\n",
       "      <td>M</td>\n",
       "      <td>Manual</td>\n",
       "      <td>1600</td>\n",
       "      <td>2011-11-22 15:22:00</td>\n",
       "      <td>0.2</td>\n",
       "      <td>17857.0</td>\n",
       "      <td>United Kingdom</td>\n",
       "    </tr>\n",
       "    <tr>\n",
       "      <th>452218</th>\n",
       "      <td>575328</td>\n",
       "      <td>M</td>\n",
       "      <td>Manual</td>\n",
       "      <td>1200</td>\n",
       "      <td>2011-11-09 13:48:00</td>\n",
       "      <td>0.2</td>\n",
       "      <td>17857.0</td>\n",
       "      <td>United Kingdom</td>\n",
       "    </tr>\n",
       "    <tr>\n",
       "      <th>437235</th>\n",
       "      <td>574277</td>\n",
       "      <td>M</td>\n",
       "      <td>Manual</td>\n",
       "      <td>832</td>\n",
       "      <td>2011-11-03 14:42:00</td>\n",
       "      <td>0.2</td>\n",
       "      <td>17857.0</td>\n",
       "      <td>United Kingdom</td>\n",
       "    </tr>\n",
       "    <tr>\n",
       "      <th>526018</th>\n",
       "      <td>580646</td>\n",
       "      <td>M</td>\n",
       "      <td>Manual</td>\n",
       "      <td>800</td>\n",
       "      <td>2011-12-05 13:13:00</td>\n",
       "      <td>0.2</td>\n",
       "      <td>17857.0</td>\n",
       "      <td>United Kingdom</td>\n",
       "    </tr>\n",
       "    <tr>\n",
       "      <th>414138</th>\n",
       "      <td>572344</td>\n",
       "      <td>M</td>\n",
       "      <td>Manual</td>\n",
       "      <td>456</td>\n",
       "      <td>2011-10-24 10:43:00</td>\n",
       "      <td>1.5</td>\n",
       "      <td>14607.0</td>\n",
       "      <td>United Kingdom</td>\n",
       "    </tr>\n",
       "    <tr>\n",
       "      <th>...</th>\n",
       "      <td>...</td>\n",
       "      <td>...</td>\n",
       "      <td>...</td>\n",
       "      <td>...</td>\n",
       "      <td>...</td>\n",
       "      <td>...</td>\n",
       "      <td>...</td>\n",
       "      <td>...</td>\n",
       "    </tr>\n",
       "    <tr>\n",
       "      <th>393771</th>\n",
       "      <td>570851</td>\n",
       "      <td>POST</td>\n",
       "      <td>POSTAGE</td>\n",
       "      <td>1</td>\n",
       "      <td>2011-10-12 14:46:00</td>\n",
       "      <td>18.0</td>\n",
       "      <td>12583.0</td>\n",
       "      <td>France</td>\n",
       "    </tr>\n",
       "    <tr>\n",
       "      <th>392929</th>\n",
       "      <td>570754</td>\n",
       "      <td>POST</td>\n",
       "      <td>POSTAGE</td>\n",
       "      <td>1</td>\n",
       "      <td>2011-10-12 11:40:00</td>\n",
       "      <td>18.0</td>\n",
       "      <td>12633.0</td>\n",
       "      <td>Germany</td>\n",
       "    </tr>\n",
       "    <tr>\n",
       "      <th>392978</th>\n",
       "      <td>570784</td>\n",
       "      <td>POST</td>\n",
       "      <td>POSTAGE</td>\n",
       "      <td>1</td>\n",
       "      <td>2011-10-12 11:49:00</td>\n",
       "      <td>18.0</td>\n",
       "      <td>12569.0</td>\n",
       "      <td>Germany</td>\n",
       "    </tr>\n",
       "    <tr>\n",
       "      <th>392884</th>\n",
       "      <td>570725</td>\n",
       "      <td>POST</td>\n",
       "      <td>POSTAGE</td>\n",
       "      <td>1</td>\n",
       "      <td>2011-10-12 11:30:00</td>\n",
       "      <td>4.5</td>\n",
       "      <td>12381.0</td>\n",
       "      <td>Norway</td>\n",
       "    </tr>\n",
       "    <tr>\n",
       "      <th>393367</th>\n",
       "      <td>570823</td>\n",
       "      <td>POST</td>\n",
       "      <td>POSTAGE</td>\n",
       "      <td>1</td>\n",
       "      <td>2011-10-12 12:54:00</td>\n",
       "      <td>18.0</td>\n",
       "      <td>12691.0</td>\n",
       "      <td>France</td>\n",
       "    </tr>\n",
       "  </tbody>\n",
       "</table>\n",
       "<p>1416 rows × 8 columns</p>\n",
       "</div>"
      ],
      "text/plain": [
       "       InvoiceNo StockCode Description  Quantity         InvoiceDate  \\\n",
       "490502    578060         M      Manual      1600 2011-11-22 15:22:00   \n",
       "452218    575328         M      Manual      1200 2011-11-09 13:48:00   \n",
       "437235    574277         M      Manual       832 2011-11-03 14:42:00   \n",
       "526018    580646         M      Manual       800 2011-12-05 13:13:00   \n",
       "414138    572344         M      Manual       456 2011-10-24 10:43:00   \n",
       "...          ...       ...         ...       ...                 ...   \n",
       "393771    570851      POST     POSTAGE         1 2011-10-12 14:46:00   \n",
       "392929    570754      POST     POSTAGE         1 2011-10-12 11:40:00   \n",
       "392978    570784      POST     POSTAGE         1 2011-10-12 11:49:00   \n",
       "392884    570725      POST     POSTAGE         1 2011-10-12 11:30:00   \n",
       "393367    570823      POST     POSTAGE         1 2011-10-12 12:54:00   \n",
       "\n",
       "        UnitPrice  CustomerID         Country  \n",
       "490502        0.2     17857.0  United Kingdom  \n",
       "452218        0.2     17857.0  United Kingdom  \n",
       "437235        0.2     17857.0  United Kingdom  \n",
       "526018        0.2     17857.0  United Kingdom  \n",
       "414138        1.5     14607.0  United Kingdom  \n",
       "...           ...         ...             ...  \n",
       "393771       18.0     12583.0          France  \n",
       "392929       18.0     12633.0         Germany  \n",
       "392978       18.0     12569.0         Germany  \n",
       "392884        4.5     12381.0          Norway  \n",
       "393367       18.0     12691.0          France  \n",
       "\n",
       "[1416 rows x 8 columns]"
      ]
     },
     "execution_count": 27,
     "metadata": {},
     "output_type": "execute_result"
    }
   ],
   "source": [
    "data[~data.StockCode.str.contains('[0-9]', case=True, na=True)]"
   ]
  },
  {
   "cell_type": "code",
   "execution_count": 28,
   "metadata": {},
   "outputs": [
    {
     "data": {
      "text/html": [
       "<div>\n",
       "<style scoped>\n",
       "    .dataframe tbody tr th:only-of-type {\n",
       "        vertical-align: middle;\n",
       "    }\n",
       "\n",
       "    .dataframe tbody tr th {\n",
       "        vertical-align: top;\n",
       "    }\n",
       "\n",
       "    .dataframe thead th {\n",
       "        text-align: right;\n",
       "    }\n",
       "</style>\n",
       "<table border=\"1\" class=\"dataframe\">\n",
       "  <thead>\n",
       "    <tr style=\"text-align: right;\">\n",
       "      <th></th>\n",
       "      <th>InvoiceNo</th>\n",
       "      <th>StockCode</th>\n",
       "      <th>Description</th>\n",
       "      <th>Quantity</th>\n",
       "      <th>InvoiceDate</th>\n",
       "      <th>UnitPrice</th>\n",
       "      <th>CustomerID</th>\n",
       "      <th>Country</th>\n",
       "    </tr>\n",
       "  </thead>\n",
       "  <tbody>\n",
       "    <tr>\n",
       "      <th>490502</th>\n",
       "      <td>578060</td>\n",
       "      <td>M</td>\n",
       "      <td>Manual</td>\n",
       "      <td>1600</td>\n",
       "      <td>2011-11-22 15:22:00</td>\n",
       "      <td>0.2</td>\n",
       "      <td>17857.0</td>\n",
       "      <td>United Kingdom</td>\n",
       "    </tr>\n",
       "    <tr>\n",
       "      <th>452218</th>\n",
       "      <td>575328</td>\n",
       "      <td>M</td>\n",
       "      <td>Manual</td>\n",
       "      <td>1200</td>\n",
       "      <td>2011-11-09 13:48:00</td>\n",
       "      <td>0.2</td>\n",
       "      <td>17857.0</td>\n",
       "      <td>United Kingdom</td>\n",
       "    </tr>\n",
       "    <tr>\n",
       "      <th>437235</th>\n",
       "      <td>574277</td>\n",
       "      <td>M</td>\n",
       "      <td>Manual</td>\n",
       "      <td>832</td>\n",
       "      <td>2011-11-03 14:42:00</td>\n",
       "      <td>0.2</td>\n",
       "      <td>17857.0</td>\n",
       "      <td>United Kingdom</td>\n",
       "    </tr>\n",
       "    <tr>\n",
       "      <th>526018</th>\n",
       "      <td>580646</td>\n",
       "      <td>M</td>\n",
       "      <td>Manual</td>\n",
       "      <td>800</td>\n",
       "      <td>2011-12-05 13:13:00</td>\n",
       "      <td>0.2</td>\n",
       "      <td>17857.0</td>\n",
       "      <td>United Kingdom</td>\n",
       "    </tr>\n",
       "    <tr>\n",
       "      <th>414138</th>\n",
       "      <td>572344</td>\n",
       "      <td>M</td>\n",
       "      <td>Manual</td>\n",
       "      <td>456</td>\n",
       "      <td>2011-10-24 10:43:00</td>\n",
       "      <td>1.5</td>\n",
       "      <td>14607.0</td>\n",
       "      <td>United Kingdom</td>\n",
       "    </tr>\n",
       "  </tbody>\n",
       "</table>\n",
       "</div>"
      ],
      "text/plain": [
       "       InvoiceNo StockCode Description  Quantity         InvoiceDate  \\\n",
       "490502    578060         M      Manual      1600 2011-11-22 15:22:00   \n",
       "452218    575328         M      Manual      1200 2011-11-09 13:48:00   \n",
       "437235    574277         M      Manual       832 2011-11-03 14:42:00   \n",
       "526018    580646         M      Manual       800 2011-12-05 13:13:00   \n",
       "414138    572344         M      Manual       456 2011-10-24 10:43:00   \n",
       "\n",
       "        UnitPrice  CustomerID         Country  \n",
       "490502        0.2     17857.0  United Kingdom  \n",
       "452218        0.2     17857.0  United Kingdom  \n",
       "437235        0.2     17857.0  United Kingdom  \n",
       "526018        0.2     17857.0  United Kingdom  \n",
       "414138        1.5     14607.0  United Kingdom  "
      ]
     },
     "execution_count": 28,
     "metadata": {},
     "output_type": "execute_result"
    }
   ],
   "source": [
    "#data[~data.StockCode.str.contains('[0-9]', case=True, na=True)]\n",
    "mask = (~data['StockCode'].str.contains('[0-9]', case=True, na=True))\n",
    "odd_stock_codes = data.loc[mask] #filter out any stock codes that are numeric to leave the non-standard codes\n",
    "odd_stock_codes.head()"
   ]
  },
  {
   "cell_type": "code",
   "execution_count": 29,
   "metadata": {},
   "outputs": [
    {
     "name": "stdout",
     "output_type": "stream",
     "text": [
      "total number of these short stock code entries: 1416\n"
     ]
    },
    {
     "data": {
      "text/plain": [
       "(array(['M', 'POST', 'DOT', 'BANK CHARGES', 'PADS'], dtype=object), None)"
      ]
     },
     "execution_count": 29,
     "metadata": {},
     "output_type": "execute_result"
    }
   ],
   "source": [
    "odd_stock_codes['StockCode'].unique(), print('total number of these short stock code entries:',len(odd_stock_codes))"
   ]
  },
  {
   "cell_type": "code",
   "execution_count": 30,
   "metadata": {},
   "outputs": [],
   "source": [
    "### As the number of non-standard stock codes is small, for the purposes of this report they will be deleted \n",
    "### From the dataset.\n",
    "#data.loc[~mask]\n",
    "data = data.loc[~mask]\n",
    "### During the data cleaning process NaN, duplicate entries, cancelled invoices, and miscellaneous \n",
    "### Stock codes have been removed."
   ]
  },
  {
   "cell_type": "markdown",
   "metadata": {},
   "source": [
    "## Feature Engineering\n",
    "- Moving on from exploratory data analysis, are there any features that can be created in order to categorize/cluster aspects of the data and aid machine learning?"
   ]
  },
  {
   "cell_type": "code",
   "execution_count": 31,
   "metadata": {},
   "outputs": [
    {
     "data": {
      "text/html": [
       "<div>\n",
       "<style scoped>\n",
       "    .dataframe tbody tr th:only-of-type {\n",
       "        vertical-align: middle;\n",
       "    }\n",
       "\n",
       "    .dataframe tbody tr th {\n",
       "        vertical-align: top;\n",
       "    }\n",
       "\n",
       "    .dataframe thead th {\n",
       "        text-align: right;\n",
       "    }\n",
       "</style>\n",
       "<table border=\"1\" class=\"dataframe\">\n",
       "  <thead>\n",
       "    <tr style=\"text-align: right;\">\n",
       "      <th></th>\n",
       "      <th>InvoiceNo</th>\n",
       "      <th>StockCode</th>\n",
       "      <th>Description</th>\n",
       "      <th>Quantity</th>\n",
       "      <th>InvoiceDate</th>\n",
       "      <th>UnitPrice</th>\n",
       "      <th>CustomerID</th>\n",
       "      <th>Country</th>\n",
       "    </tr>\n",
       "  </thead>\n",
       "  <tbody>\n",
       "    <tr>\n",
       "      <th>540421</th>\n",
       "      <td>581483</td>\n",
       "      <td>23843</td>\n",
       "      <td>PAPER CRAFT , LITTLE BIRDIE</td>\n",
       "      <td>80995</td>\n",
       "      <td>2011-12-09 09:15:00</td>\n",
       "      <td>2.1</td>\n",
       "      <td>16446.0</td>\n",
       "      <td>United Kingdom</td>\n",
       "    </tr>\n",
       "    <tr>\n",
       "      <th>61619</th>\n",
       "      <td>541431</td>\n",
       "      <td>23166</td>\n",
       "      <td>MEDIUM CERAMIC TOP STORAGE JAR</td>\n",
       "      <td>74215</td>\n",
       "      <td>2011-01-18 10:01:00</td>\n",
       "      <td>1.0</td>\n",
       "      <td>12346.0</td>\n",
       "      <td>United Kingdom</td>\n",
       "    </tr>\n",
       "    <tr>\n",
       "      <th>502122</th>\n",
       "      <td>578841</td>\n",
       "      <td>84826</td>\n",
       "      <td>ASSTD DESIGN 3D PAPER STICKERS</td>\n",
       "      <td>12540</td>\n",
       "      <td>2011-11-25 15:57:00</td>\n",
       "      <td>0.0</td>\n",
       "      <td>13256.0</td>\n",
       "      <td>United Kingdom</td>\n",
       "    </tr>\n",
       "    <tr>\n",
       "      <th>421632</th>\n",
       "      <td>573008</td>\n",
       "      <td>84077</td>\n",
       "      <td>WORLD WAR 2 GLIDERS ASSTD DESIGNS</td>\n",
       "      <td>4800</td>\n",
       "      <td>2011-10-27 12:26:00</td>\n",
       "      <td>0.2</td>\n",
       "      <td>12901.0</td>\n",
       "      <td>United Kingdom</td>\n",
       "    </tr>\n",
       "    <tr>\n",
       "      <th>206121</th>\n",
       "      <td>554868</td>\n",
       "      <td>22197</td>\n",
       "      <td>SMALL POPCORN HOLDER</td>\n",
       "      <td>4300</td>\n",
       "      <td>2011-05-27 10:52:00</td>\n",
       "      <td>0.7</td>\n",
       "      <td>13135.0</td>\n",
       "      <td>United Kingdom</td>\n",
       "    </tr>\n",
       "  </tbody>\n",
       "</table>\n",
       "</div>"
      ],
      "text/plain": [
       "       InvoiceNo StockCode                        Description  Quantity  \\\n",
       "540421    581483     23843        PAPER CRAFT , LITTLE BIRDIE     80995   \n",
       "61619     541431     23166     MEDIUM CERAMIC TOP STORAGE JAR     74215   \n",
       "502122    578841     84826     ASSTD DESIGN 3D PAPER STICKERS     12540   \n",
       "421632    573008     84077  WORLD WAR 2 GLIDERS ASSTD DESIGNS      4800   \n",
       "206121    554868     22197               SMALL POPCORN HOLDER      4300   \n",
       "\n",
       "               InvoiceDate  UnitPrice  CustomerID         Country  \n",
       "540421 2011-12-09 09:15:00        2.1     16446.0  United Kingdom  \n",
       "61619  2011-01-18 10:01:00        1.0     12346.0  United Kingdom  \n",
       "502122 2011-11-25 15:57:00        0.0     13256.0  United Kingdom  \n",
       "421632 2011-10-27 12:26:00        0.2     12901.0  United Kingdom  \n",
       "206121 2011-05-27 10:52:00        0.7     13135.0  United Kingdom  "
      ]
     },
     "execution_count": 31,
     "metadata": {},
     "output_type": "execute_result"
    }
   ],
   "source": [
    "data.head()"
   ]
  },
  {
   "cell_type": "markdown",
   "metadata": {},
   "source": [
    "### Investigating the total amount spent per customers"
   ]
  },
  {
   "cell_type": "code",
   "execution_count": 32,
   "metadata": {},
   "outputs": [],
   "source": [
    "total_spend = data['Quantity'] * data['UnitPrice']"
   ]
  },
  {
   "cell_type": "code",
   "execution_count": 33,
   "metadata": {},
   "outputs": [],
   "source": [
    "data = data.assign(total_spend=total_spend.values)"
   ]
  },
  {
   "cell_type": "code",
   "execution_count": 34,
   "metadata": {},
   "outputs": [
    {
     "data": {
      "text/html": [
       "<div>\n",
       "<style scoped>\n",
       "    .dataframe tbody tr th:only-of-type {\n",
       "        vertical-align: middle;\n",
       "    }\n",
       "\n",
       "    .dataframe tbody tr th {\n",
       "        vertical-align: top;\n",
       "    }\n",
       "\n",
       "    .dataframe thead th {\n",
       "        text-align: right;\n",
       "    }\n",
       "</style>\n",
       "<table border=\"1\" class=\"dataframe\">\n",
       "  <thead>\n",
       "    <tr style=\"text-align: right;\">\n",
       "      <th></th>\n",
       "      <th>InvoiceNo</th>\n",
       "      <th>StockCode</th>\n",
       "      <th>Description</th>\n",
       "      <th>Quantity</th>\n",
       "      <th>InvoiceDate</th>\n",
       "      <th>UnitPrice</th>\n",
       "      <th>CustomerID</th>\n",
       "      <th>Country</th>\n",
       "      <th>total_spend</th>\n",
       "    </tr>\n",
       "  </thead>\n",
       "  <tbody>\n",
       "    <tr>\n",
       "      <th>540421</th>\n",
       "      <td>581483</td>\n",
       "      <td>23843</td>\n",
       "      <td>PAPER CRAFT , LITTLE BIRDIE</td>\n",
       "      <td>80995</td>\n",
       "      <td>2011-12-09 09:15:00</td>\n",
       "      <td>2.1</td>\n",
       "      <td>16446.0</td>\n",
       "      <td>United Kingdom</td>\n",
       "      <td>168469.6</td>\n",
       "    </tr>\n",
       "    <tr>\n",
       "      <th>61619</th>\n",
       "      <td>541431</td>\n",
       "      <td>23166</td>\n",
       "      <td>MEDIUM CERAMIC TOP STORAGE JAR</td>\n",
       "      <td>74215</td>\n",
       "      <td>2011-01-18 10:01:00</td>\n",
       "      <td>1.0</td>\n",
       "      <td>12346.0</td>\n",
       "      <td>United Kingdom</td>\n",
       "      <td>77183.6</td>\n",
       "    </tr>\n",
       "    <tr>\n",
       "      <th>502122</th>\n",
       "      <td>578841</td>\n",
       "      <td>84826</td>\n",
       "      <td>ASSTD DESIGN 3D PAPER STICKERS</td>\n",
       "      <td>12540</td>\n",
       "      <td>2011-11-25 15:57:00</td>\n",
       "      <td>0.0</td>\n",
       "      <td>13256.0</td>\n",
       "      <td>United Kingdom</td>\n",
       "      <td>0.0</td>\n",
       "    </tr>\n",
       "    <tr>\n",
       "      <th>421632</th>\n",
       "      <td>573008</td>\n",
       "      <td>84077</td>\n",
       "      <td>WORLD WAR 2 GLIDERS ASSTD DESIGNS</td>\n",
       "      <td>4800</td>\n",
       "      <td>2011-10-27 12:26:00</td>\n",
       "      <td>0.2</td>\n",
       "      <td>12901.0</td>\n",
       "      <td>United Kingdom</td>\n",
       "      <td>1008.0</td>\n",
       "    </tr>\n",
       "    <tr>\n",
       "      <th>206121</th>\n",
       "      <td>554868</td>\n",
       "      <td>22197</td>\n",
       "      <td>SMALL POPCORN HOLDER</td>\n",
       "      <td>4300</td>\n",
       "      <td>2011-05-27 10:52:00</td>\n",
       "      <td>0.7</td>\n",
       "      <td>13135.0</td>\n",
       "      <td>United Kingdom</td>\n",
       "      <td>3096.0</td>\n",
       "    </tr>\n",
       "  </tbody>\n",
       "</table>\n",
       "</div>"
      ],
      "text/plain": [
       "       InvoiceNo StockCode                        Description  Quantity  \\\n",
       "540421    581483     23843        PAPER CRAFT , LITTLE BIRDIE     80995   \n",
       "61619     541431     23166     MEDIUM CERAMIC TOP STORAGE JAR     74215   \n",
       "502122    578841     84826     ASSTD DESIGN 3D PAPER STICKERS     12540   \n",
       "421632    573008     84077  WORLD WAR 2 GLIDERS ASSTD DESIGNS      4800   \n",
       "206121    554868     22197               SMALL POPCORN HOLDER      4300   \n",
       "\n",
       "               InvoiceDate  UnitPrice  CustomerID         Country  total_spend  \n",
       "540421 2011-12-09 09:15:00        2.1     16446.0  United Kingdom     168469.6  \n",
       "61619  2011-01-18 10:01:00        1.0     12346.0  United Kingdom      77183.6  \n",
       "502122 2011-11-25 15:57:00        0.0     13256.0  United Kingdom          0.0  \n",
       "421632 2011-10-27 12:26:00        0.2     12901.0  United Kingdom       1008.0  \n",
       "206121 2011-05-27 10:52:00        0.7     13135.0  United Kingdom       3096.0  "
      ]
     },
     "execution_count": 34,
     "metadata": {},
     "output_type": "execute_result"
    }
   ],
   "source": [
    "data.head()"
   ]
  },
  {
   "cell_type": "markdown",
   "metadata": {},
   "source": [
    "### Grouped per Country"
   ]
  },
  {
   "cell_type": "code",
   "execution_count": 35,
   "metadata": {},
   "outputs": [],
   "source": [
    "grouped = data.groupby(['Country']).sum()['total_spend'].sort_values(ascending=False)"
   ]
  },
  {
   "cell_type": "code",
   "execution_count": 36,
   "metadata": {},
   "outputs": [
    {
     "data": {
      "application/vnd.plotly.v1+json": {
       "config": {
        "linkText": "Export to plot.ly",
        "plotlyServerURL": "https://plot.ly",
        "showLink": false
       },
       "data": [
        {
         "type": "bar",
         "x": [
          "United Kingdom",
          "Netherlands",
          "EIRE",
          "Germany",
          "France",
          "Australia",
          "Spain",
          "Switzerland",
          "Japan",
          "Belgium",
          "Sweden",
          "Norway",
          "Portugal",
          "Channel Islands",
          "Finland",
          "Denmark",
          "Italy",
          "Cyprus",
          "Singapore",
          "Austria",
          "Israel",
          "Poland",
          "Greece",
          "Iceland",
          "USA",
          "Canada",
          "Unspecified",
          "Malta",
          "United Arab Emirates",
          "Lebanon",
          "Lithuania",
          "European Community",
          "Brazil",
          "RSA",
          "Czech Republic",
          "Bahrain",
          "Saudi Arabia"
         ],
         "y": [
          7244330.320006257,
          283889.3400000025,
          261888.1200000003,
          205381.14999999906,
          183987.94000000096,
          138103.8100000005,
          55706.55999999982,
          52441.94999999993,
          37416.36999999994,
          36927.33999999976,
          36828.830000000016,
          32454.64000000005,
          26643.899999999958,
          20147.54000000001,
          18344.879999999976,
          18211.339999999964,
          15820.24000000002,
          13167.160000000002,
          9120.390000000001,
          8742.680000000011,
          7215.839999999995,
          6974.650000000008,
          4425.52,
          4310,
          3580.390000000001,
          3115.4399999999996,
          2660.769999999996,
          2070.59,
          1864.7800000000004,
          1693.8799999999997,
          1661.0600000000004,
          1159.2500000000007,
          1143.6,
          1002.3099999999998,
          786.74,
          548.4,
          145.92
         ]
        }
       ],
       "layout": {
        "template": {
         "data": {
          "bar": [
           {
            "error_x": {
             "color": "#2a3f5f"
            },
            "error_y": {
             "color": "#2a3f5f"
            },
            "marker": {
             "line": {
              "color": "#E5ECF6",
              "width": 0.5
             }
            },
            "type": "bar"
           }
          ],
          "barpolar": [
           {
            "marker": {
             "line": {
              "color": "#E5ECF6",
              "width": 0.5
             }
            },
            "type": "barpolar"
           }
          ],
          "carpet": [
           {
            "aaxis": {
             "endlinecolor": "#2a3f5f",
             "gridcolor": "white",
             "linecolor": "white",
             "minorgridcolor": "white",
             "startlinecolor": "#2a3f5f"
            },
            "baxis": {
             "endlinecolor": "#2a3f5f",
             "gridcolor": "white",
             "linecolor": "white",
             "minorgridcolor": "white",
             "startlinecolor": "#2a3f5f"
            },
            "type": "carpet"
           }
          ],
          "choropleth": [
           {
            "colorbar": {
             "outlinewidth": 0,
             "ticks": ""
            },
            "type": "choropleth"
           }
          ],
          "contour": [
           {
            "colorbar": {
             "outlinewidth": 0,
             "ticks": ""
            },
            "colorscale": [
             [
              0,
              "#0d0887"
             ],
             [
              0.1111111111111111,
              "#46039f"
             ],
             [
              0.2222222222222222,
              "#7201a8"
             ],
             [
              0.3333333333333333,
              "#9c179e"
             ],
             [
              0.4444444444444444,
              "#bd3786"
             ],
             [
              0.5555555555555556,
              "#d8576b"
             ],
             [
              0.6666666666666666,
              "#ed7953"
             ],
             [
              0.7777777777777778,
              "#fb9f3a"
             ],
             [
              0.8888888888888888,
              "#fdca26"
             ],
             [
              1,
              "#f0f921"
             ]
            ],
            "type": "contour"
           }
          ],
          "contourcarpet": [
           {
            "colorbar": {
             "outlinewidth": 0,
             "ticks": ""
            },
            "type": "contourcarpet"
           }
          ],
          "heatmap": [
           {
            "colorbar": {
             "outlinewidth": 0,
             "ticks": ""
            },
            "colorscale": [
             [
              0,
              "#0d0887"
             ],
             [
              0.1111111111111111,
              "#46039f"
             ],
             [
              0.2222222222222222,
              "#7201a8"
             ],
             [
              0.3333333333333333,
              "#9c179e"
             ],
             [
              0.4444444444444444,
              "#bd3786"
             ],
             [
              0.5555555555555556,
              "#d8576b"
             ],
             [
              0.6666666666666666,
              "#ed7953"
             ],
             [
              0.7777777777777778,
              "#fb9f3a"
             ],
             [
              0.8888888888888888,
              "#fdca26"
             ],
             [
              1,
              "#f0f921"
             ]
            ],
            "type": "heatmap"
           }
          ],
          "heatmapgl": [
           {
            "colorbar": {
             "outlinewidth": 0,
             "ticks": ""
            },
            "colorscale": [
             [
              0,
              "#0d0887"
             ],
             [
              0.1111111111111111,
              "#46039f"
             ],
             [
              0.2222222222222222,
              "#7201a8"
             ],
             [
              0.3333333333333333,
              "#9c179e"
             ],
             [
              0.4444444444444444,
              "#bd3786"
             ],
             [
              0.5555555555555556,
              "#d8576b"
             ],
             [
              0.6666666666666666,
              "#ed7953"
             ],
             [
              0.7777777777777778,
              "#fb9f3a"
             ],
             [
              0.8888888888888888,
              "#fdca26"
             ],
             [
              1,
              "#f0f921"
             ]
            ],
            "type": "heatmapgl"
           }
          ],
          "histogram": [
           {
            "marker": {
             "colorbar": {
              "outlinewidth": 0,
              "ticks": ""
             }
            },
            "type": "histogram"
           }
          ],
          "histogram2d": [
           {
            "colorbar": {
             "outlinewidth": 0,
             "ticks": ""
            },
            "colorscale": [
             [
              0,
              "#0d0887"
             ],
             [
              0.1111111111111111,
              "#46039f"
             ],
             [
              0.2222222222222222,
              "#7201a8"
             ],
             [
              0.3333333333333333,
              "#9c179e"
             ],
             [
              0.4444444444444444,
              "#bd3786"
             ],
             [
              0.5555555555555556,
              "#d8576b"
             ],
             [
              0.6666666666666666,
              "#ed7953"
             ],
             [
              0.7777777777777778,
              "#fb9f3a"
             ],
             [
              0.8888888888888888,
              "#fdca26"
             ],
             [
              1,
              "#f0f921"
             ]
            ],
            "type": "histogram2d"
           }
          ],
          "histogram2dcontour": [
           {
            "colorbar": {
             "outlinewidth": 0,
             "ticks": ""
            },
            "colorscale": [
             [
              0,
              "#0d0887"
             ],
             [
              0.1111111111111111,
              "#46039f"
             ],
             [
              0.2222222222222222,
              "#7201a8"
             ],
             [
              0.3333333333333333,
              "#9c179e"
             ],
             [
              0.4444444444444444,
              "#bd3786"
             ],
             [
              0.5555555555555556,
              "#d8576b"
             ],
             [
              0.6666666666666666,
              "#ed7953"
             ],
             [
              0.7777777777777778,
              "#fb9f3a"
             ],
             [
              0.8888888888888888,
              "#fdca26"
             ],
             [
              1,
              "#f0f921"
             ]
            ],
            "type": "histogram2dcontour"
           }
          ],
          "mesh3d": [
           {
            "colorbar": {
             "outlinewidth": 0,
             "ticks": ""
            },
            "type": "mesh3d"
           }
          ],
          "parcoords": [
           {
            "line": {
             "colorbar": {
              "outlinewidth": 0,
              "ticks": ""
             }
            },
            "type": "parcoords"
           }
          ],
          "pie": [
           {
            "automargin": true,
            "type": "pie"
           }
          ],
          "scatter": [
           {
            "marker": {
             "colorbar": {
              "outlinewidth": 0,
              "ticks": ""
             }
            },
            "type": "scatter"
           }
          ],
          "scatter3d": [
           {
            "line": {
             "colorbar": {
              "outlinewidth": 0,
              "ticks": ""
             }
            },
            "marker": {
             "colorbar": {
              "outlinewidth": 0,
              "ticks": ""
             }
            },
            "type": "scatter3d"
           }
          ],
          "scattercarpet": [
           {
            "marker": {
             "colorbar": {
              "outlinewidth": 0,
              "ticks": ""
             }
            },
            "type": "scattercarpet"
           }
          ],
          "scattergeo": [
           {
            "marker": {
             "colorbar": {
              "outlinewidth": 0,
              "ticks": ""
             }
            },
            "type": "scattergeo"
           }
          ],
          "scattergl": [
           {
            "marker": {
             "colorbar": {
              "outlinewidth": 0,
              "ticks": ""
             }
            },
            "type": "scattergl"
           }
          ],
          "scattermapbox": [
           {
            "marker": {
             "colorbar": {
              "outlinewidth": 0,
              "ticks": ""
             }
            },
            "type": "scattermapbox"
           }
          ],
          "scatterpolar": [
           {
            "marker": {
             "colorbar": {
              "outlinewidth": 0,
              "ticks": ""
             }
            },
            "type": "scatterpolar"
           }
          ],
          "scatterpolargl": [
           {
            "marker": {
             "colorbar": {
              "outlinewidth": 0,
              "ticks": ""
             }
            },
            "type": "scatterpolargl"
           }
          ],
          "scatterternary": [
           {
            "marker": {
             "colorbar": {
              "outlinewidth": 0,
              "ticks": ""
             }
            },
            "type": "scatterternary"
           }
          ],
          "surface": [
           {
            "colorbar": {
             "outlinewidth": 0,
             "ticks": ""
            },
            "colorscale": [
             [
              0,
              "#0d0887"
             ],
             [
              0.1111111111111111,
              "#46039f"
             ],
             [
              0.2222222222222222,
              "#7201a8"
             ],
             [
              0.3333333333333333,
              "#9c179e"
             ],
             [
              0.4444444444444444,
              "#bd3786"
             ],
             [
              0.5555555555555556,
              "#d8576b"
             ],
             [
              0.6666666666666666,
              "#ed7953"
             ],
             [
              0.7777777777777778,
              "#fb9f3a"
             ],
             [
              0.8888888888888888,
              "#fdca26"
             ],
             [
              1,
              "#f0f921"
             ]
            ],
            "type": "surface"
           }
          ],
          "table": [
           {
            "cells": {
             "fill": {
              "color": "#EBF0F8"
             },
             "line": {
              "color": "white"
             }
            },
            "header": {
             "fill": {
              "color": "#C8D4E3"
             },
             "line": {
              "color": "white"
             }
            },
            "type": "table"
           }
          ]
         },
         "layout": {
          "annotationdefaults": {
           "arrowcolor": "#2a3f5f",
           "arrowhead": 0,
           "arrowwidth": 1
          },
          "coloraxis": {
           "colorbar": {
            "outlinewidth": 0,
            "ticks": ""
           }
          },
          "colorscale": {
           "diverging": [
            [
             0,
             "#8e0152"
            ],
            [
             0.1,
             "#c51b7d"
            ],
            [
             0.2,
             "#de77ae"
            ],
            [
             0.3,
             "#f1b6da"
            ],
            [
             0.4,
             "#fde0ef"
            ],
            [
             0.5,
             "#f7f7f7"
            ],
            [
             0.6,
             "#e6f5d0"
            ],
            [
             0.7,
             "#b8e186"
            ],
            [
             0.8,
             "#7fbc41"
            ],
            [
             0.9,
             "#4d9221"
            ],
            [
             1,
             "#276419"
            ]
           ],
           "sequential": [
            [
             0,
             "#0d0887"
            ],
            [
             0.1111111111111111,
             "#46039f"
            ],
            [
             0.2222222222222222,
             "#7201a8"
            ],
            [
             0.3333333333333333,
             "#9c179e"
            ],
            [
             0.4444444444444444,
             "#bd3786"
            ],
            [
             0.5555555555555556,
             "#d8576b"
            ],
            [
             0.6666666666666666,
             "#ed7953"
            ],
            [
             0.7777777777777778,
             "#fb9f3a"
            ],
            [
             0.8888888888888888,
             "#fdca26"
            ],
            [
             1,
             "#f0f921"
            ]
           ],
           "sequentialminus": [
            [
             0,
             "#0d0887"
            ],
            [
             0.1111111111111111,
             "#46039f"
            ],
            [
             0.2222222222222222,
             "#7201a8"
            ],
            [
             0.3333333333333333,
             "#9c179e"
            ],
            [
             0.4444444444444444,
             "#bd3786"
            ],
            [
             0.5555555555555556,
             "#d8576b"
            ],
            [
             0.6666666666666666,
             "#ed7953"
            ],
            [
             0.7777777777777778,
             "#fb9f3a"
            ],
            [
             0.8888888888888888,
             "#fdca26"
            ],
            [
             1,
             "#f0f921"
            ]
           ]
          },
          "colorway": [
           "#636efa",
           "#EF553B",
           "#00cc96",
           "#ab63fa",
           "#FFA15A",
           "#19d3f3",
           "#FF6692",
           "#B6E880",
           "#FF97FF",
           "#FECB52"
          ],
          "font": {
           "color": "#2a3f5f"
          },
          "geo": {
           "bgcolor": "white",
           "lakecolor": "white",
           "landcolor": "#E5ECF6",
           "showlakes": true,
           "showland": true,
           "subunitcolor": "white"
          },
          "hoverlabel": {
           "align": "left"
          },
          "hovermode": "closest",
          "mapbox": {
           "style": "light"
          },
          "paper_bgcolor": "white",
          "plot_bgcolor": "#E5ECF6",
          "polar": {
           "angularaxis": {
            "gridcolor": "white",
            "linecolor": "white",
            "ticks": ""
           },
           "bgcolor": "#E5ECF6",
           "radialaxis": {
            "gridcolor": "white",
            "linecolor": "white",
            "ticks": ""
           }
          },
          "scene": {
           "xaxis": {
            "backgroundcolor": "#E5ECF6",
            "gridcolor": "white",
            "gridwidth": 2,
            "linecolor": "white",
            "showbackground": true,
            "ticks": "",
            "zerolinecolor": "white"
           },
           "yaxis": {
            "backgroundcolor": "#E5ECF6",
            "gridcolor": "white",
            "gridwidth": 2,
            "linecolor": "white",
            "showbackground": true,
            "ticks": "",
            "zerolinecolor": "white"
           },
           "zaxis": {
            "backgroundcolor": "#E5ECF6",
            "gridcolor": "white",
            "gridwidth": 2,
            "linecolor": "white",
            "showbackground": true,
            "ticks": "",
            "zerolinecolor": "white"
           }
          },
          "shapedefaults": {
           "line": {
            "color": "#2a3f5f"
           }
          },
          "ternary": {
           "aaxis": {
            "gridcolor": "white",
            "linecolor": "white",
            "ticks": ""
           },
           "baxis": {
            "gridcolor": "white",
            "linecolor": "white",
            "ticks": ""
           },
           "bgcolor": "#E5ECF6",
           "caxis": {
            "gridcolor": "white",
            "linecolor": "white",
            "ticks": ""
           }
          },
          "title": {
           "x": 0.05
          },
          "xaxis": {
           "automargin": true,
           "gridcolor": "white",
           "linecolor": "white",
           "ticks": "",
           "title": {
            "standoff": 15
           },
           "zerolinecolor": "white",
           "zerolinewidth": 2
          },
          "yaxis": {
           "automargin": true,
           "gridcolor": "white",
           "linecolor": "white",
           "ticks": "",
           "title": {
            "standoff": 15
           },
           "zerolinecolor": "white",
           "zerolinewidth": 2
          }
         }
        },
        "title": {
         "text": "Total Spend per Country"
        },
        "xaxis": {
         "title": {
          "text": "Country"
         }
        },
        "yaxis": {
         "autorange": true,
         "title": {
          "text": "Total Order Expenditure"
         }
        }
       }
      },
      "text/html": [
       "<div>\n",
       "        \n",
       "        \n",
       "            <div id=\"1f5b2555-4a9d-4ba6-941e-901216efa6b8\" class=\"plotly-graph-div\" style=\"height:525px; width:100%;\"></div>\n",
       "            <script type=\"text/javascript\">\n",
       "                require([\"plotly\"], function(Plotly) {\n",
       "                    window.PLOTLYENV=window.PLOTLYENV || {};\n",
       "                    \n",
       "                if (document.getElementById(\"1f5b2555-4a9d-4ba6-941e-901216efa6b8\")) {\n",
       "                    Plotly.newPlot(\n",
       "                        '1f5b2555-4a9d-4ba6-941e-901216efa6b8',\n",
       "                        [{\"type\": \"bar\", \"x\": [\"United Kingdom\", \"Netherlands\", \"EIRE\", \"Germany\", \"France\", \"Australia\", \"Spain\", \"Switzerland\", \"Japan\", \"Belgium\", \"Sweden\", \"Norway\", \"Portugal\", \"Channel Islands\", \"Finland\", \"Denmark\", \"Italy\", \"Cyprus\", \"Singapore\", \"Austria\", \"Israel\", \"Poland\", \"Greece\", \"Iceland\", \"USA\", \"Canada\", \"Unspecified\", \"Malta\", \"United Arab Emirates\", \"Lebanon\", \"Lithuania\", \"European Community\", \"Brazil\", \"RSA\", \"Czech Republic\", \"Bahrain\", \"Saudi Arabia\"], \"y\": [7244330.320006257, 283889.3400000025, 261888.1200000003, 205381.14999999906, 183987.94000000096, 138103.8100000005, 55706.55999999982, 52441.94999999993, 37416.36999999994, 36927.33999999976, 36828.830000000016, 32454.64000000005, 26643.899999999958, 20147.54000000001, 18344.879999999976, 18211.339999999964, 15820.24000000002, 13167.160000000002, 9120.390000000001, 8742.680000000011, 7215.839999999995, 6974.650000000008, 4425.52, 4310.0, 3580.390000000001, 3115.4399999999996, 2660.769999999996, 2070.59, 1864.7800000000004, 1693.8799999999997, 1661.0600000000004, 1159.2500000000007, 1143.6, 1002.3099999999998, 786.74, 548.4, 145.92]}],\n",
       "                        {\"template\": {\"data\": {\"bar\": [{\"error_x\": {\"color\": \"#2a3f5f\"}, \"error_y\": {\"color\": \"#2a3f5f\"}, \"marker\": {\"line\": {\"color\": \"#E5ECF6\", \"width\": 0.5}}, \"type\": \"bar\"}], \"barpolar\": [{\"marker\": {\"line\": {\"color\": \"#E5ECF6\", \"width\": 0.5}}, \"type\": \"barpolar\"}], \"carpet\": [{\"aaxis\": {\"endlinecolor\": \"#2a3f5f\", \"gridcolor\": \"white\", \"linecolor\": \"white\", \"minorgridcolor\": \"white\", \"startlinecolor\": \"#2a3f5f\"}, \"baxis\": {\"endlinecolor\": \"#2a3f5f\", \"gridcolor\": \"white\", \"linecolor\": \"white\", \"minorgridcolor\": \"white\", \"startlinecolor\": \"#2a3f5f\"}, \"type\": \"carpet\"}], \"choropleth\": [{\"colorbar\": {\"outlinewidth\": 0, \"ticks\": \"\"}, \"type\": \"choropleth\"}], \"contour\": [{\"colorbar\": {\"outlinewidth\": 0, \"ticks\": \"\"}, \"colorscale\": [[0.0, \"#0d0887\"], [0.1111111111111111, \"#46039f\"], [0.2222222222222222, \"#7201a8\"], [0.3333333333333333, \"#9c179e\"], [0.4444444444444444, \"#bd3786\"], [0.5555555555555556, \"#d8576b\"], [0.6666666666666666, \"#ed7953\"], [0.7777777777777778, \"#fb9f3a\"], [0.8888888888888888, \"#fdca26\"], [1.0, \"#f0f921\"]], \"type\": \"contour\"}], \"contourcarpet\": [{\"colorbar\": {\"outlinewidth\": 0, \"ticks\": \"\"}, \"type\": \"contourcarpet\"}], \"heatmap\": [{\"colorbar\": {\"outlinewidth\": 0, \"ticks\": \"\"}, \"colorscale\": [[0.0, \"#0d0887\"], [0.1111111111111111, \"#46039f\"], [0.2222222222222222, \"#7201a8\"], [0.3333333333333333, \"#9c179e\"], [0.4444444444444444, \"#bd3786\"], [0.5555555555555556, \"#d8576b\"], [0.6666666666666666, \"#ed7953\"], [0.7777777777777778, \"#fb9f3a\"], [0.8888888888888888, \"#fdca26\"], [1.0, \"#f0f921\"]], \"type\": \"heatmap\"}], \"heatmapgl\": [{\"colorbar\": {\"outlinewidth\": 0, \"ticks\": \"\"}, \"colorscale\": [[0.0, \"#0d0887\"], [0.1111111111111111, \"#46039f\"], [0.2222222222222222, \"#7201a8\"], [0.3333333333333333, \"#9c179e\"], [0.4444444444444444, \"#bd3786\"], [0.5555555555555556, \"#d8576b\"], [0.6666666666666666, \"#ed7953\"], [0.7777777777777778, \"#fb9f3a\"], [0.8888888888888888, \"#fdca26\"], [1.0, \"#f0f921\"]], \"type\": \"heatmapgl\"}], \"histogram\": [{\"marker\": {\"colorbar\": {\"outlinewidth\": 0, \"ticks\": \"\"}}, \"type\": \"histogram\"}], \"histogram2d\": [{\"colorbar\": {\"outlinewidth\": 0, \"ticks\": \"\"}, \"colorscale\": [[0.0, \"#0d0887\"], [0.1111111111111111, \"#46039f\"], [0.2222222222222222, \"#7201a8\"], [0.3333333333333333, \"#9c179e\"], [0.4444444444444444, \"#bd3786\"], [0.5555555555555556, \"#d8576b\"], [0.6666666666666666, \"#ed7953\"], [0.7777777777777778, \"#fb9f3a\"], [0.8888888888888888, \"#fdca26\"], [1.0, \"#f0f921\"]], \"type\": \"histogram2d\"}], \"histogram2dcontour\": [{\"colorbar\": {\"outlinewidth\": 0, \"ticks\": \"\"}, \"colorscale\": [[0.0, \"#0d0887\"], [0.1111111111111111, \"#46039f\"], [0.2222222222222222, \"#7201a8\"], [0.3333333333333333, \"#9c179e\"], [0.4444444444444444, \"#bd3786\"], [0.5555555555555556, \"#d8576b\"], [0.6666666666666666, \"#ed7953\"], [0.7777777777777778, \"#fb9f3a\"], [0.8888888888888888, \"#fdca26\"], [1.0, \"#f0f921\"]], \"type\": \"histogram2dcontour\"}], \"mesh3d\": [{\"colorbar\": {\"outlinewidth\": 0, \"ticks\": \"\"}, \"type\": \"mesh3d\"}], \"parcoords\": [{\"line\": {\"colorbar\": {\"outlinewidth\": 0, \"ticks\": \"\"}}, \"type\": \"parcoords\"}], \"pie\": [{\"automargin\": true, \"type\": \"pie\"}], \"scatter\": [{\"marker\": {\"colorbar\": {\"outlinewidth\": 0, \"ticks\": \"\"}}, \"type\": \"scatter\"}], \"scatter3d\": [{\"line\": {\"colorbar\": {\"outlinewidth\": 0, \"ticks\": \"\"}}, \"marker\": {\"colorbar\": {\"outlinewidth\": 0, \"ticks\": \"\"}}, \"type\": \"scatter3d\"}], \"scattercarpet\": [{\"marker\": {\"colorbar\": {\"outlinewidth\": 0, \"ticks\": \"\"}}, \"type\": \"scattercarpet\"}], \"scattergeo\": [{\"marker\": {\"colorbar\": {\"outlinewidth\": 0, \"ticks\": \"\"}}, \"type\": \"scattergeo\"}], \"scattergl\": [{\"marker\": {\"colorbar\": {\"outlinewidth\": 0, \"ticks\": \"\"}}, \"type\": \"scattergl\"}], \"scattermapbox\": [{\"marker\": {\"colorbar\": {\"outlinewidth\": 0, \"ticks\": \"\"}}, \"type\": \"scattermapbox\"}], \"scatterpolar\": [{\"marker\": {\"colorbar\": {\"outlinewidth\": 0, \"ticks\": \"\"}}, \"type\": \"scatterpolar\"}], \"scatterpolargl\": [{\"marker\": {\"colorbar\": {\"outlinewidth\": 0, \"ticks\": \"\"}}, \"type\": \"scatterpolargl\"}], \"scatterternary\": [{\"marker\": {\"colorbar\": {\"outlinewidth\": 0, \"ticks\": \"\"}}, \"type\": \"scatterternary\"}], \"surface\": [{\"colorbar\": {\"outlinewidth\": 0, \"ticks\": \"\"}, \"colorscale\": [[0.0, \"#0d0887\"], [0.1111111111111111, \"#46039f\"], [0.2222222222222222, \"#7201a8\"], [0.3333333333333333, \"#9c179e\"], [0.4444444444444444, \"#bd3786\"], [0.5555555555555556, \"#d8576b\"], [0.6666666666666666, \"#ed7953\"], [0.7777777777777778, \"#fb9f3a\"], [0.8888888888888888, \"#fdca26\"], [1.0, \"#f0f921\"]], \"type\": \"surface\"}], \"table\": [{\"cells\": {\"fill\": {\"color\": \"#EBF0F8\"}, \"line\": {\"color\": \"white\"}}, \"header\": {\"fill\": {\"color\": \"#C8D4E3\"}, \"line\": {\"color\": \"white\"}}, \"type\": \"table\"}]}, \"layout\": {\"annotationdefaults\": {\"arrowcolor\": \"#2a3f5f\", \"arrowhead\": 0, \"arrowwidth\": 1}, \"coloraxis\": {\"colorbar\": {\"outlinewidth\": 0, \"ticks\": \"\"}}, \"colorscale\": {\"diverging\": [[0, \"#8e0152\"], [0.1, \"#c51b7d\"], [0.2, \"#de77ae\"], [0.3, \"#f1b6da\"], [0.4, \"#fde0ef\"], [0.5, \"#f7f7f7\"], [0.6, \"#e6f5d0\"], [0.7, \"#b8e186\"], [0.8, \"#7fbc41\"], [0.9, \"#4d9221\"], [1, \"#276419\"]], \"sequential\": [[0.0, \"#0d0887\"], [0.1111111111111111, \"#46039f\"], [0.2222222222222222, \"#7201a8\"], [0.3333333333333333, \"#9c179e\"], [0.4444444444444444, \"#bd3786\"], [0.5555555555555556, \"#d8576b\"], [0.6666666666666666, \"#ed7953\"], [0.7777777777777778, \"#fb9f3a\"], [0.8888888888888888, \"#fdca26\"], [1.0, \"#f0f921\"]], \"sequentialminus\": [[0.0, \"#0d0887\"], [0.1111111111111111, \"#46039f\"], [0.2222222222222222, \"#7201a8\"], [0.3333333333333333, \"#9c179e\"], [0.4444444444444444, \"#bd3786\"], [0.5555555555555556, \"#d8576b\"], [0.6666666666666666, \"#ed7953\"], [0.7777777777777778, \"#fb9f3a\"], [0.8888888888888888, \"#fdca26\"], [1.0, \"#f0f921\"]]}, \"colorway\": [\"#636efa\", \"#EF553B\", \"#00cc96\", \"#ab63fa\", \"#FFA15A\", \"#19d3f3\", \"#FF6692\", \"#B6E880\", \"#FF97FF\", \"#FECB52\"], \"font\": {\"color\": \"#2a3f5f\"}, \"geo\": {\"bgcolor\": \"white\", \"lakecolor\": \"white\", \"landcolor\": \"#E5ECF6\", \"showlakes\": true, \"showland\": true, \"subunitcolor\": \"white\"}, \"hoverlabel\": {\"align\": \"left\"}, \"hovermode\": \"closest\", \"mapbox\": {\"style\": \"light\"}, \"paper_bgcolor\": \"white\", \"plot_bgcolor\": \"#E5ECF6\", \"polar\": {\"angularaxis\": {\"gridcolor\": \"white\", \"linecolor\": \"white\", \"ticks\": \"\"}, \"bgcolor\": \"#E5ECF6\", \"radialaxis\": {\"gridcolor\": \"white\", \"linecolor\": \"white\", \"ticks\": \"\"}}, \"scene\": {\"xaxis\": {\"backgroundcolor\": \"#E5ECF6\", \"gridcolor\": \"white\", \"gridwidth\": 2, \"linecolor\": \"white\", \"showbackground\": true, \"ticks\": \"\", \"zerolinecolor\": \"white\"}, \"yaxis\": {\"backgroundcolor\": \"#E5ECF6\", \"gridcolor\": \"white\", \"gridwidth\": 2, \"linecolor\": \"white\", \"showbackground\": true, \"ticks\": \"\", \"zerolinecolor\": \"white\"}, \"zaxis\": {\"backgroundcolor\": \"#E5ECF6\", \"gridcolor\": \"white\", \"gridwidth\": 2, \"linecolor\": \"white\", \"showbackground\": true, \"ticks\": \"\", \"zerolinecolor\": \"white\"}}, \"shapedefaults\": {\"line\": {\"color\": \"#2a3f5f\"}}, \"ternary\": {\"aaxis\": {\"gridcolor\": \"white\", \"linecolor\": \"white\", \"ticks\": \"\"}, \"baxis\": {\"gridcolor\": \"white\", \"linecolor\": \"white\", \"ticks\": \"\"}, \"bgcolor\": \"#E5ECF6\", \"caxis\": {\"gridcolor\": \"white\", \"linecolor\": \"white\", \"ticks\": \"\"}}, \"title\": {\"x\": 0.05}, \"xaxis\": {\"automargin\": true, \"gridcolor\": \"white\", \"linecolor\": \"white\", \"ticks\": \"\", \"title\": {\"standoff\": 15}, \"zerolinecolor\": \"white\", \"zerolinewidth\": 2}, \"yaxis\": {\"automargin\": true, \"gridcolor\": \"white\", \"linecolor\": \"white\", \"ticks\": \"\", \"title\": {\"standoff\": 15}, \"zerolinecolor\": \"white\", \"zerolinewidth\": 2}}}, \"title\": {\"text\": \"Total Spend per Country\"}, \"xaxis\": {\"title\": {\"text\": \"Country\"}}, \"yaxis\": {\"autorange\": true, \"title\": {\"text\": \"Total Order Expenditure\"}}},\n",
       "                        {\"responsive\": true}\n",
       "                    ).then(function(){\n",
       "                            \n",
       "var gd = document.getElementById('1f5b2555-4a9d-4ba6-941e-901216efa6b8');\n",
       "var x = new MutationObserver(function (mutations, observer) {{\n",
       "        var display = window.getComputedStyle(gd).display;\n",
       "        if (!display || display === 'none') {{\n",
       "            console.log([gd, 'removed!']);\n",
       "            Plotly.purge(gd);\n",
       "            observer.disconnect();\n",
       "        }}\n",
       "}});\n",
       "\n",
       "// Listen for the removal of the full notebook cells\n",
       "var notebookContainer = gd.closest('#notebook-container');\n",
       "if (notebookContainer) {{\n",
       "    x.observe(notebookContainer, {childList: true});\n",
       "}}\n",
       "\n",
       "// Listen for the clearing of the current output cell\n",
       "var outputEl = gd.closest('.output');\n",
       "if (outputEl) {{\n",
       "    x.observe(outputEl, {childList: true});\n",
       "}}\n",
       "\n",
       "                        })\n",
       "                };\n",
       "                });\n",
       "            </script>\n",
       "        </div>"
      ]
     },
     "metadata": {},
     "output_type": "display_data"
    }
   ],
   "source": [
    "data_plot = [go.Bar(x=grouped.index, y=grouped.values)]\n",
    "layout = go.Layout(yaxis={'autorange':True, 'title':'Total Order Expenditure'},xaxis={'title':'Country'},title=\"Total Spend per Country\")\n",
    "fig = go.Figure(data=data_plot, layout=layout)\n",
    "iplot(fig)"
   ]
  },
  {
   "cell_type": "markdown",
   "metadata": {},
   "source": [
    "### Grouped per Customer\n",
    "- Identify the top purchasers"
   ]
  },
  {
   "cell_type": "code",
   "execution_count": 37,
   "metadata": {},
   "outputs": [
    {
     "data": {
      "text/html": [
       "<div>\n",
       "<style scoped>\n",
       "    .dataframe tbody tr th:only-of-type {\n",
       "        vertical-align: middle;\n",
       "    }\n",
       "\n",
       "    .dataframe tbody tr th {\n",
       "        vertical-align: top;\n",
       "    }\n",
       "\n",
       "    .dataframe thead th {\n",
       "        text-align: right;\n",
       "    }\n",
       "</style>\n",
       "<table border=\"1\" class=\"dataframe\">\n",
       "  <thead>\n",
       "    <tr style=\"text-align: right;\">\n",
       "      <th></th>\n",
       "      <th>CustomerID</th>\n",
       "      <th>total_spend</th>\n",
       "    </tr>\n",
       "  </thead>\n",
       "  <tbody>\n",
       "    <tr>\n",
       "      <th>1</th>\n",
       "      <td>18102.0</td>\n",
       "      <td>259657.3</td>\n",
       "    </tr>\n",
       "    <tr>\n",
       "      <th>14</th>\n",
       "      <td>17949.0</td>\n",
       "      <td>58030.5</td>\n",
       "    </tr>\n",
       "    <tr>\n",
       "      <th>37</th>\n",
       "      <td>17857.0</td>\n",
       "      <td>25301.5</td>\n",
       "    </tr>\n",
       "    <tr>\n",
       "      <th>22</th>\n",
       "      <td>17841.0</td>\n",
       "      <td>40496.0</td>\n",
       "    </tr>\n",
       "    <tr>\n",
       "      <th>40</th>\n",
       "      <td>17675.0</td>\n",
       "      <td>20374.3</td>\n",
       "    </tr>\n",
       "    <tr>\n",
       "      <th>7</th>\n",
       "      <td>17511.0</td>\n",
       "      <td>91062.4</td>\n",
       "    </tr>\n",
       "    <tr>\n",
       "      <th>2</th>\n",
       "      <td>17450.0</td>\n",
       "      <td>194390.8</td>\n",
       "    </tr>\n",
       "    <tr>\n",
       "      <th>48</th>\n",
       "      <td>17428.0</td>\n",
       "      <td>17256.9</td>\n",
       "    </tr>\n",
       "    <tr>\n",
       "      <th>29</th>\n",
       "      <td>17404.0</td>\n",
       "      <td>31781.8</td>\n",
       "    </tr>\n",
       "    <tr>\n",
       "      <th>28</th>\n",
       "      <td>17389.0</td>\n",
       "      <td>31833.7</td>\n",
       "    </tr>\n",
       "    <tr>\n",
       "      <th>41</th>\n",
       "      <td>17381.0</td>\n",
       "      <td>20275.6</td>\n",
       "    </tr>\n",
       "    <tr>\n",
       "      <th>10</th>\n",
       "      <td>16684.0</td>\n",
       "      <td>66653.6</td>\n",
       "    </tr>\n",
       "    <tr>\n",
       "      <th>3</th>\n",
       "      <td>16446.0</td>\n",
       "      <td>168472.5</td>\n",
       "    </tr>\n",
       "    <tr>\n",
       "      <th>26</th>\n",
       "      <td>16422.0</td>\n",
       "      <td>34684.4</td>\n",
       "    </tr>\n",
       "    <tr>\n",
       "      <th>35</th>\n",
       "      <td>16333.0</td>\n",
       "      <td>26626.8</td>\n",
       "    </tr>\n",
       "    <tr>\n",
       "      <th>39</th>\n",
       "      <td>16210.0</td>\n",
       "      <td>21076.3</td>\n",
       "    </tr>\n",
       "    <tr>\n",
       "      <th>9</th>\n",
       "      <td>16029.0</td>\n",
       "      <td>72708.1</td>\n",
       "    </tr>\n",
       "    <tr>\n",
       "      <th>25</th>\n",
       "      <td>16013.0</td>\n",
       "      <td>37130.6</td>\n",
       "    </tr>\n",
       "    <tr>\n",
       "      <th>27</th>\n",
       "      <td>15838.0</td>\n",
       "      <td>33643.1</td>\n",
       "    </tr>\n",
       "    <tr>\n",
       "      <th>15</th>\n",
       "      <td>15769.0</td>\n",
       "      <td>56252.7</td>\n",
       "    </tr>\n",
       "    <tr>\n",
       "      <th>20</th>\n",
       "      <td>15749.0</td>\n",
       "      <td>44534.3</td>\n",
       "    </tr>\n",
       "    <tr>\n",
       "      <th>12</th>\n",
       "      <td>15311.0</td>\n",
       "      <td>60632.8</td>\n",
       "    </tr>\n",
       "    <tr>\n",
       "      <th>44</th>\n",
       "      <td>15159.0</td>\n",
       "      <td>18641.0</td>\n",
       "    </tr>\n",
       "    <tr>\n",
       "      <th>23</th>\n",
       "      <td>15098.0</td>\n",
       "      <td>39916.5</td>\n",
       "    </tr>\n",
       "    <tr>\n",
       "      <th>16</th>\n",
       "      <td>15061.0</td>\n",
       "      <td>54534.1</td>\n",
       "    </tr>\n",
       "    <tr>\n",
       "      <th>42</th>\n",
       "      <td>15039.0</td>\n",
       "      <td>19766.6</td>\n",
       "    </tr>\n",
       "    <tr>\n",
       "      <th>4</th>\n",
       "      <td>14911.0</td>\n",
       "      <td>140336.8</td>\n",
       "    </tr>\n",
       "    <tr>\n",
       "      <th>32</th>\n",
       "      <td>14680.0</td>\n",
       "      <td>28754.1</td>\n",
       "    </tr>\n",
       "    <tr>\n",
       "      <th>0</th>\n",
       "      <td>14646.0</td>\n",
       "      <td>279138.0</td>\n",
       "    </tr>\n",
       "    <tr>\n",
       "      <th>18</th>\n",
       "      <td>14298.0</td>\n",
       "      <td>51527.3</td>\n",
       "    </tr>\n",
       "    <tr>\n",
       "      <th>6</th>\n",
       "      <td>14156.0</td>\n",
       "      <td>117210.1</td>\n",
       "    </tr>\n",
       "    <tr>\n",
       "      <th>17</th>\n",
       "      <td>14096.0</td>\n",
       "      <td>53258.4</td>\n",
       "    </tr>\n",
       "    <tr>\n",
       "      <th>19</th>\n",
       "      <td>14088.0</td>\n",
       "      <td>50491.8</td>\n",
       "    </tr>\n",
       "    <tr>\n",
       "      <th>47</th>\n",
       "      <td>14031.0</td>\n",
       "      <td>17286.9</td>\n",
       "    </tr>\n",
       "    <tr>\n",
       "      <th>24</th>\n",
       "      <td>13798.0</td>\n",
       "      <td>37153.8</td>\n",
       "    </tr>\n",
       "    <tr>\n",
       "      <th>36</th>\n",
       "      <td>13777.0</td>\n",
       "      <td>25977.2</td>\n",
       "    </tr>\n",
       "    <tr>\n",
       "      <th>49</th>\n",
       "      <td>13767.0</td>\n",
       "      <td>17220.4</td>\n",
       "    </tr>\n",
       "    <tr>\n",
       "      <th>11</th>\n",
       "      <td>13694.0</td>\n",
       "      <td>65039.6</td>\n",
       "    </tr>\n",
       "    <tr>\n",
       "      <th>34</th>\n",
       "      <td>13408.0</td>\n",
       "      <td>28117.0</td>\n",
       "    </tr>\n",
       "    <tr>\n",
       "      <th>31</th>\n",
       "      <td>13098.0</td>\n",
       "      <td>28882.4</td>\n",
       "    </tr>\n",
       "    <tr>\n",
       "      <th>13</th>\n",
       "      <td>13089.0</td>\n",
       "      <td>58762.1</td>\n",
       "    </tr>\n",
       "    <tr>\n",
       "      <th>33</th>\n",
       "      <td>13081.0</td>\n",
       "      <td>28337.4</td>\n",
       "    </tr>\n",
       "    <tr>\n",
       "      <th>21</th>\n",
       "      <td>12931.0</td>\n",
       "      <td>42056.0</td>\n",
       "    </tr>\n",
       "    <tr>\n",
       "      <th>45</th>\n",
       "      <td>12901.0</td>\n",
       "      <td>17654.5</td>\n",
       "    </tr>\n",
       "    <tr>\n",
       "      <th>38</th>\n",
       "      <td>12753.0</td>\n",
       "      <td>21429.4</td>\n",
       "    </tr>\n",
       "    <tr>\n",
       "      <th>30</th>\n",
       "      <td>12748.0</td>\n",
       "      <td>31650.8</td>\n",
       "    </tr>\n",
       "    <tr>\n",
       "      <th>43</th>\n",
       "      <td>12731.0</td>\n",
       "      <td>18751.9</td>\n",
       "    </tr>\n",
       "    <tr>\n",
       "      <th>46</th>\n",
       "      <td>12471.0</td>\n",
       "      <td>17388.6</td>\n",
       "    </tr>\n",
       "    <tr>\n",
       "      <th>5</th>\n",
       "      <td>12415.0</td>\n",
       "      <td>124564.5</td>\n",
       "    </tr>\n",
       "    <tr>\n",
       "      <th>8</th>\n",
       "      <td>12346.0</td>\n",
       "      <td>77183.6</td>\n",
       "    </tr>\n",
       "  </tbody>\n",
       "</table>\n",
       "</div>"
      ],
      "text/plain": [
       "    CustomerID  total_spend\n",
       "1      18102.0     259657.3\n",
       "14     17949.0      58030.5\n",
       "37     17857.0      25301.5\n",
       "22     17841.0      40496.0\n",
       "40     17675.0      20374.3\n",
       "7      17511.0      91062.4\n",
       "2      17450.0     194390.8\n",
       "48     17428.0      17256.9\n",
       "29     17404.0      31781.8\n",
       "28     17389.0      31833.7\n",
       "41     17381.0      20275.6\n",
       "10     16684.0      66653.6\n",
       "3      16446.0     168472.5\n",
       "26     16422.0      34684.4\n",
       "35     16333.0      26626.8\n",
       "39     16210.0      21076.3\n",
       "9      16029.0      72708.1\n",
       "25     16013.0      37130.6\n",
       "27     15838.0      33643.1\n",
       "15     15769.0      56252.7\n",
       "20     15749.0      44534.3\n",
       "12     15311.0      60632.8\n",
       "44     15159.0      18641.0\n",
       "23     15098.0      39916.5\n",
       "16     15061.0      54534.1\n",
       "42     15039.0      19766.6\n",
       "4      14911.0     140336.8\n",
       "32     14680.0      28754.1\n",
       "0      14646.0     279138.0\n",
       "18     14298.0      51527.3\n",
       "6      14156.0     117210.1\n",
       "17     14096.0      53258.4\n",
       "19     14088.0      50491.8\n",
       "47     14031.0      17286.9\n",
       "24     13798.0      37153.8\n",
       "36     13777.0      25977.2\n",
       "49     13767.0      17220.4\n",
       "11     13694.0      65039.6\n",
       "34     13408.0      28117.0\n",
       "31     13098.0      28882.4\n",
       "13     13089.0      58762.1\n",
       "33     13081.0      28337.4\n",
       "21     12931.0      42056.0\n",
       "45     12901.0      17654.5\n",
       "38     12753.0      21429.4\n",
       "30     12748.0      31650.8\n",
       "43     12731.0      18751.9\n",
       "46     12471.0      17388.6\n",
       "5      12415.0     124564.5\n",
       "8      12346.0      77183.6"
      ]
     },
     "execution_count": 37,
     "metadata": {},
     "output_type": "execute_result"
    },
    {
     "data": {
      "application/vnd.plotly.v1+json": {
       "config": {
        "linkText": "Export to plot.ly",
        "plotlyServerURL": "https://plot.ly",
        "showLink": false
       },
       "data": [
        {
         "type": "bar",
         "x": [
          14646,
          18102,
          17450,
          16446,
          14911,
          12415,
          14156,
          17511,
          12346,
          16029,
          16684,
          13694,
          15311,
          13089,
          17949,
          15769,
          15061,
          14096,
          14298,
          14088,
          15749,
          12931,
          17841,
          15098,
          13798,
          16013,
          16422,
          15838,
          17389,
          17404,
          12748,
          13098,
          14680,
          13081,
          13408,
          16333,
          13777,
          17857,
          12753,
          16210,
          17675,
          17381,
          15039,
          12731,
          15159,
          12901,
          12471,
          14031,
          17428,
          13767
         ],
         "y": [
          279138.02000000194,
          259657.30000000008,
          194390.79000000024,
          168472.5,
          140336.8299999999,
          124564.52999999991,
          117210.07999999948,
          91062.37999999993,
          77183.6,
          72708.09000000005,
          66653.55999999995,
          65039.61999999997,
          60632.75000000006,
          58762.080000000125,
          58030.48000000002,
          56252.720000000016,
          54534.14,
          53258.42999999925,
          51527.29999999994,
          50491.81000000004,
          44534.3,
          42055.960000000014,
          40495.98999999934,
          39916.5,
          37153.84999999993,
          37130.60000000002,
          34684.399999999965,
          33643.07999999999,
          31833.68000000004,
          31781.819999999985,
          31650.780000000665,
          28882.440000000017,
          28754.10999999999,
          28337.38000000006,
          28117.0400000001,
          26626.799999999992,
          25977.15999999998,
          25301.539999999997,
          21429.389999999996,
          21076.300000000014,
          20374.279999999944,
          20275.609999999986,
          19766.590000000164,
          18751.910000000007,
          18641.00999999996,
          17654.540000000023,
          17388.64999999995,
          17286.859999999997,
          17256.85000000001,
          17220.360000000033
         ]
        }
       ],
       "layout": {
        "template": {
         "data": {
          "bar": [
           {
            "error_x": {
             "color": "#2a3f5f"
            },
            "error_y": {
             "color": "#2a3f5f"
            },
            "marker": {
             "line": {
              "color": "#E5ECF6",
              "width": 0.5
             }
            },
            "type": "bar"
           }
          ],
          "barpolar": [
           {
            "marker": {
             "line": {
              "color": "#E5ECF6",
              "width": 0.5
             }
            },
            "type": "barpolar"
           }
          ],
          "carpet": [
           {
            "aaxis": {
             "endlinecolor": "#2a3f5f",
             "gridcolor": "white",
             "linecolor": "white",
             "minorgridcolor": "white",
             "startlinecolor": "#2a3f5f"
            },
            "baxis": {
             "endlinecolor": "#2a3f5f",
             "gridcolor": "white",
             "linecolor": "white",
             "minorgridcolor": "white",
             "startlinecolor": "#2a3f5f"
            },
            "type": "carpet"
           }
          ],
          "choropleth": [
           {
            "colorbar": {
             "outlinewidth": 0,
             "ticks": ""
            },
            "type": "choropleth"
           }
          ],
          "contour": [
           {
            "colorbar": {
             "outlinewidth": 0,
             "ticks": ""
            },
            "colorscale": [
             [
              0,
              "#0d0887"
             ],
             [
              0.1111111111111111,
              "#46039f"
             ],
             [
              0.2222222222222222,
              "#7201a8"
             ],
             [
              0.3333333333333333,
              "#9c179e"
             ],
             [
              0.4444444444444444,
              "#bd3786"
             ],
             [
              0.5555555555555556,
              "#d8576b"
             ],
             [
              0.6666666666666666,
              "#ed7953"
             ],
             [
              0.7777777777777778,
              "#fb9f3a"
             ],
             [
              0.8888888888888888,
              "#fdca26"
             ],
             [
              1,
              "#f0f921"
             ]
            ],
            "type": "contour"
           }
          ],
          "contourcarpet": [
           {
            "colorbar": {
             "outlinewidth": 0,
             "ticks": ""
            },
            "type": "contourcarpet"
           }
          ],
          "heatmap": [
           {
            "colorbar": {
             "outlinewidth": 0,
             "ticks": ""
            },
            "colorscale": [
             [
              0,
              "#0d0887"
             ],
             [
              0.1111111111111111,
              "#46039f"
             ],
             [
              0.2222222222222222,
              "#7201a8"
             ],
             [
              0.3333333333333333,
              "#9c179e"
             ],
             [
              0.4444444444444444,
              "#bd3786"
             ],
             [
              0.5555555555555556,
              "#d8576b"
             ],
             [
              0.6666666666666666,
              "#ed7953"
             ],
             [
              0.7777777777777778,
              "#fb9f3a"
             ],
             [
              0.8888888888888888,
              "#fdca26"
             ],
             [
              1,
              "#f0f921"
             ]
            ],
            "type": "heatmap"
           }
          ],
          "heatmapgl": [
           {
            "colorbar": {
             "outlinewidth": 0,
             "ticks": ""
            },
            "colorscale": [
             [
              0,
              "#0d0887"
             ],
             [
              0.1111111111111111,
              "#46039f"
             ],
             [
              0.2222222222222222,
              "#7201a8"
             ],
             [
              0.3333333333333333,
              "#9c179e"
             ],
             [
              0.4444444444444444,
              "#bd3786"
             ],
             [
              0.5555555555555556,
              "#d8576b"
             ],
             [
              0.6666666666666666,
              "#ed7953"
             ],
             [
              0.7777777777777778,
              "#fb9f3a"
             ],
             [
              0.8888888888888888,
              "#fdca26"
             ],
             [
              1,
              "#f0f921"
             ]
            ],
            "type": "heatmapgl"
           }
          ],
          "histogram": [
           {
            "marker": {
             "colorbar": {
              "outlinewidth": 0,
              "ticks": ""
             }
            },
            "type": "histogram"
           }
          ],
          "histogram2d": [
           {
            "colorbar": {
             "outlinewidth": 0,
             "ticks": ""
            },
            "colorscale": [
             [
              0,
              "#0d0887"
             ],
             [
              0.1111111111111111,
              "#46039f"
             ],
             [
              0.2222222222222222,
              "#7201a8"
             ],
             [
              0.3333333333333333,
              "#9c179e"
             ],
             [
              0.4444444444444444,
              "#bd3786"
             ],
             [
              0.5555555555555556,
              "#d8576b"
             ],
             [
              0.6666666666666666,
              "#ed7953"
             ],
             [
              0.7777777777777778,
              "#fb9f3a"
             ],
             [
              0.8888888888888888,
              "#fdca26"
             ],
             [
              1,
              "#f0f921"
             ]
            ],
            "type": "histogram2d"
           }
          ],
          "histogram2dcontour": [
           {
            "colorbar": {
             "outlinewidth": 0,
             "ticks": ""
            },
            "colorscale": [
             [
              0,
              "#0d0887"
             ],
             [
              0.1111111111111111,
              "#46039f"
             ],
             [
              0.2222222222222222,
              "#7201a8"
             ],
             [
              0.3333333333333333,
              "#9c179e"
             ],
             [
              0.4444444444444444,
              "#bd3786"
             ],
             [
              0.5555555555555556,
              "#d8576b"
             ],
             [
              0.6666666666666666,
              "#ed7953"
             ],
             [
              0.7777777777777778,
              "#fb9f3a"
             ],
             [
              0.8888888888888888,
              "#fdca26"
             ],
             [
              1,
              "#f0f921"
             ]
            ],
            "type": "histogram2dcontour"
           }
          ],
          "mesh3d": [
           {
            "colorbar": {
             "outlinewidth": 0,
             "ticks": ""
            },
            "type": "mesh3d"
           }
          ],
          "parcoords": [
           {
            "line": {
             "colorbar": {
              "outlinewidth": 0,
              "ticks": ""
             }
            },
            "type": "parcoords"
           }
          ],
          "pie": [
           {
            "automargin": true,
            "type": "pie"
           }
          ],
          "scatter": [
           {
            "marker": {
             "colorbar": {
              "outlinewidth": 0,
              "ticks": ""
             }
            },
            "type": "scatter"
           }
          ],
          "scatter3d": [
           {
            "line": {
             "colorbar": {
              "outlinewidth": 0,
              "ticks": ""
             }
            },
            "marker": {
             "colorbar": {
              "outlinewidth": 0,
              "ticks": ""
             }
            },
            "type": "scatter3d"
           }
          ],
          "scattercarpet": [
           {
            "marker": {
             "colorbar": {
              "outlinewidth": 0,
              "ticks": ""
             }
            },
            "type": "scattercarpet"
           }
          ],
          "scattergeo": [
           {
            "marker": {
             "colorbar": {
              "outlinewidth": 0,
              "ticks": ""
             }
            },
            "type": "scattergeo"
           }
          ],
          "scattergl": [
           {
            "marker": {
             "colorbar": {
              "outlinewidth": 0,
              "ticks": ""
             }
            },
            "type": "scattergl"
           }
          ],
          "scattermapbox": [
           {
            "marker": {
             "colorbar": {
              "outlinewidth": 0,
              "ticks": ""
             }
            },
            "type": "scattermapbox"
           }
          ],
          "scatterpolar": [
           {
            "marker": {
             "colorbar": {
              "outlinewidth": 0,
              "ticks": ""
             }
            },
            "type": "scatterpolar"
           }
          ],
          "scatterpolargl": [
           {
            "marker": {
             "colorbar": {
              "outlinewidth": 0,
              "ticks": ""
             }
            },
            "type": "scatterpolargl"
           }
          ],
          "scatterternary": [
           {
            "marker": {
             "colorbar": {
              "outlinewidth": 0,
              "ticks": ""
             }
            },
            "type": "scatterternary"
           }
          ],
          "surface": [
           {
            "colorbar": {
             "outlinewidth": 0,
             "ticks": ""
            },
            "colorscale": [
             [
              0,
              "#0d0887"
             ],
             [
              0.1111111111111111,
              "#46039f"
             ],
             [
              0.2222222222222222,
              "#7201a8"
             ],
             [
              0.3333333333333333,
              "#9c179e"
             ],
             [
              0.4444444444444444,
              "#bd3786"
             ],
             [
              0.5555555555555556,
              "#d8576b"
             ],
             [
              0.6666666666666666,
              "#ed7953"
             ],
             [
              0.7777777777777778,
              "#fb9f3a"
             ],
             [
              0.8888888888888888,
              "#fdca26"
             ],
             [
              1,
              "#f0f921"
             ]
            ],
            "type": "surface"
           }
          ],
          "table": [
           {
            "cells": {
             "fill": {
              "color": "#EBF0F8"
             },
             "line": {
              "color": "white"
             }
            },
            "header": {
             "fill": {
              "color": "#C8D4E3"
             },
             "line": {
              "color": "white"
             }
            },
            "type": "table"
           }
          ]
         },
         "layout": {
          "annotationdefaults": {
           "arrowcolor": "#2a3f5f",
           "arrowhead": 0,
           "arrowwidth": 1
          },
          "coloraxis": {
           "colorbar": {
            "outlinewidth": 0,
            "ticks": ""
           }
          },
          "colorscale": {
           "diverging": [
            [
             0,
             "#8e0152"
            ],
            [
             0.1,
             "#c51b7d"
            ],
            [
             0.2,
             "#de77ae"
            ],
            [
             0.3,
             "#f1b6da"
            ],
            [
             0.4,
             "#fde0ef"
            ],
            [
             0.5,
             "#f7f7f7"
            ],
            [
             0.6,
             "#e6f5d0"
            ],
            [
             0.7,
             "#b8e186"
            ],
            [
             0.8,
             "#7fbc41"
            ],
            [
             0.9,
             "#4d9221"
            ],
            [
             1,
             "#276419"
            ]
           ],
           "sequential": [
            [
             0,
             "#0d0887"
            ],
            [
             0.1111111111111111,
             "#46039f"
            ],
            [
             0.2222222222222222,
             "#7201a8"
            ],
            [
             0.3333333333333333,
             "#9c179e"
            ],
            [
             0.4444444444444444,
             "#bd3786"
            ],
            [
             0.5555555555555556,
             "#d8576b"
            ],
            [
             0.6666666666666666,
             "#ed7953"
            ],
            [
             0.7777777777777778,
             "#fb9f3a"
            ],
            [
             0.8888888888888888,
             "#fdca26"
            ],
            [
             1,
             "#f0f921"
            ]
           ],
           "sequentialminus": [
            [
             0,
             "#0d0887"
            ],
            [
             0.1111111111111111,
             "#46039f"
            ],
            [
             0.2222222222222222,
             "#7201a8"
            ],
            [
             0.3333333333333333,
             "#9c179e"
            ],
            [
             0.4444444444444444,
             "#bd3786"
            ],
            [
             0.5555555555555556,
             "#d8576b"
            ],
            [
             0.6666666666666666,
             "#ed7953"
            ],
            [
             0.7777777777777778,
             "#fb9f3a"
            ],
            [
             0.8888888888888888,
             "#fdca26"
            ],
            [
             1,
             "#f0f921"
            ]
           ]
          },
          "colorway": [
           "#636efa",
           "#EF553B",
           "#00cc96",
           "#ab63fa",
           "#FFA15A",
           "#19d3f3",
           "#FF6692",
           "#B6E880",
           "#FF97FF",
           "#FECB52"
          ],
          "font": {
           "color": "#2a3f5f"
          },
          "geo": {
           "bgcolor": "white",
           "lakecolor": "white",
           "landcolor": "#E5ECF6",
           "showlakes": true,
           "showland": true,
           "subunitcolor": "white"
          },
          "hoverlabel": {
           "align": "left"
          },
          "hovermode": "closest",
          "mapbox": {
           "style": "light"
          },
          "paper_bgcolor": "white",
          "plot_bgcolor": "#E5ECF6",
          "polar": {
           "angularaxis": {
            "gridcolor": "white",
            "linecolor": "white",
            "ticks": ""
           },
           "bgcolor": "#E5ECF6",
           "radialaxis": {
            "gridcolor": "white",
            "linecolor": "white",
            "ticks": ""
           }
          },
          "scene": {
           "xaxis": {
            "backgroundcolor": "#E5ECF6",
            "gridcolor": "white",
            "gridwidth": 2,
            "linecolor": "white",
            "showbackground": true,
            "ticks": "",
            "zerolinecolor": "white"
           },
           "yaxis": {
            "backgroundcolor": "#E5ECF6",
            "gridcolor": "white",
            "gridwidth": 2,
            "linecolor": "white",
            "showbackground": true,
            "ticks": "",
            "zerolinecolor": "white"
           },
           "zaxis": {
            "backgroundcolor": "#E5ECF6",
            "gridcolor": "white",
            "gridwidth": 2,
            "linecolor": "white",
            "showbackground": true,
            "ticks": "",
            "zerolinecolor": "white"
           }
          },
          "shapedefaults": {
           "line": {
            "color": "#2a3f5f"
           }
          },
          "ternary": {
           "aaxis": {
            "gridcolor": "white",
            "linecolor": "white",
            "ticks": ""
           },
           "baxis": {
            "gridcolor": "white",
            "linecolor": "white",
            "ticks": ""
           },
           "bgcolor": "#E5ECF6",
           "caxis": {
            "gridcolor": "white",
            "linecolor": "white",
            "ticks": ""
           }
          },
          "title": {
           "x": 0.05
          },
          "xaxis": {
           "automargin": true,
           "gridcolor": "white",
           "linecolor": "white",
           "ticks": "",
           "title": {
            "standoff": 15
           },
           "zerolinecolor": "white",
           "zerolinewidth": 2
          },
          "yaxis": {
           "automargin": true,
           "gridcolor": "white",
           "linecolor": "white",
           "ticks": "",
           "title": {
            "standoff": 15
           },
           "zerolinecolor": "white",
           "zerolinewidth": 2
          }
         }
        },
        "title": {
         "text": "Top Purchasers"
        },
        "xaxis": {
         "title": {
          "text": "Total Expenditure"
         },
         "type": "category"
        },
        "yaxis": {
         "autorange": true,
         "title": {
          "text": "Top 50 customers"
         }
        }
       }
      },
      "text/html": [
       "<div>\n",
       "        \n",
       "        \n",
       "            <div id=\"bdb5f0e2-d313-4e5a-b8ce-f0e726e5a407\" class=\"plotly-graph-div\" style=\"height:525px; width:100%;\"></div>\n",
       "            <script type=\"text/javascript\">\n",
       "                require([\"plotly\"], function(Plotly) {\n",
       "                    window.PLOTLYENV=window.PLOTLYENV || {};\n",
       "                    \n",
       "                if (document.getElementById(\"bdb5f0e2-d313-4e5a-b8ce-f0e726e5a407\")) {\n",
       "                    Plotly.newPlot(\n",
       "                        'bdb5f0e2-d313-4e5a-b8ce-f0e726e5a407',\n",
       "                        [{\"type\": \"bar\", \"x\": [14646.0, 18102.0, 17450.0, 16446.0, 14911.0, 12415.0, 14156.0, 17511.0, 12346.0, 16029.0, 16684.0, 13694.0, 15311.0, 13089.0, 17949.0, 15769.0, 15061.0, 14096.0, 14298.0, 14088.0, 15749.0, 12931.0, 17841.0, 15098.0, 13798.0, 16013.0, 16422.0, 15838.0, 17389.0, 17404.0, 12748.0, 13098.0, 14680.0, 13081.0, 13408.0, 16333.0, 13777.0, 17857.0, 12753.0, 16210.0, 17675.0, 17381.0, 15039.0, 12731.0, 15159.0, 12901.0, 12471.0, 14031.0, 17428.0, 13767.0], \"y\": [279138.02000000194, 259657.30000000008, 194390.79000000024, 168472.5, 140336.8299999999, 124564.52999999991, 117210.07999999948, 91062.37999999993, 77183.6, 72708.09000000005, 66653.55999999995, 65039.61999999997, 60632.75000000006, 58762.080000000125, 58030.48000000002, 56252.720000000016, 54534.14, 53258.42999999925, 51527.29999999994, 50491.81000000004, 44534.3, 42055.960000000014, 40495.98999999934, 39916.5, 37153.84999999993, 37130.60000000002, 34684.399999999965, 33643.07999999999, 31833.68000000004, 31781.819999999985, 31650.780000000665, 28882.440000000017, 28754.10999999999, 28337.38000000006, 28117.0400000001, 26626.799999999992, 25977.15999999998, 25301.539999999997, 21429.389999999996, 21076.300000000014, 20374.279999999944, 20275.609999999986, 19766.590000000164, 18751.910000000007, 18641.00999999996, 17654.540000000023, 17388.64999999995, 17286.859999999997, 17256.85000000001, 17220.360000000033]}],\n",
       "                        {\"template\": {\"data\": {\"bar\": [{\"error_x\": {\"color\": \"#2a3f5f\"}, \"error_y\": {\"color\": \"#2a3f5f\"}, \"marker\": {\"line\": {\"color\": \"#E5ECF6\", \"width\": 0.5}}, \"type\": \"bar\"}], \"barpolar\": [{\"marker\": {\"line\": {\"color\": \"#E5ECF6\", \"width\": 0.5}}, \"type\": \"barpolar\"}], \"carpet\": [{\"aaxis\": {\"endlinecolor\": \"#2a3f5f\", \"gridcolor\": \"white\", \"linecolor\": \"white\", \"minorgridcolor\": \"white\", \"startlinecolor\": \"#2a3f5f\"}, \"baxis\": {\"endlinecolor\": \"#2a3f5f\", \"gridcolor\": \"white\", \"linecolor\": \"white\", \"minorgridcolor\": \"white\", \"startlinecolor\": \"#2a3f5f\"}, \"type\": \"carpet\"}], \"choropleth\": [{\"colorbar\": {\"outlinewidth\": 0, \"ticks\": \"\"}, \"type\": \"choropleth\"}], \"contour\": [{\"colorbar\": {\"outlinewidth\": 0, \"ticks\": \"\"}, \"colorscale\": [[0.0, \"#0d0887\"], [0.1111111111111111, \"#46039f\"], [0.2222222222222222, \"#7201a8\"], [0.3333333333333333, \"#9c179e\"], [0.4444444444444444, \"#bd3786\"], [0.5555555555555556, \"#d8576b\"], [0.6666666666666666, \"#ed7953\"], [0.7777777777777778, \"#fb9f3a\"], [0.8888888888888888, \"#fdca26\"], [1.0, \"#f0f921\"]], \"type\": \"contour\"}], \"contourcarpet\": [{\"colorbar\": {\"outlinewidth\": 0, \"ticks\": \"\"}, \"type\": \"contourcarpet\"}], \"heatmap\": [{\"colorbar\": {\"outlinewidth\": 0, \"ticks\": \"\"}, \"colorscale\": [[0.0, \"#0d0887\"], [0.1111111111111111, \"#46039f\"], [0.2222222222222222, \"#7201a8\"], [0.3333333333333333, \"#9c179e\"], [0.4444444444444444, \"#bd3786\"], [0.5555555555555556, \"#d8576b\"], [0.6666666666666666, \"#ed7953\"], [0.7777777777777778, \"#fb9f3a\"], [0.8888888888888888, \"#fdca26\"], [1.0, \"#f0f921\"]], \"type\": \"heatmap\"}], \"heatmapgl\": [{\"colorbar\": {\"outlinewidth\": 0, \"ticks\": \"\"}, \"colorscale\": [[0.0, \"#0d0887\"], [0.1111111111111111, \"#46039f\"], [0.2222222222222222, \"#7201a8\"], [0.3333333333333333, \"#9c179e\"], [0.4444444444444444, \"#bd3786\"], [0.5555555555555556, \"#d8576b\"], [0.6666666666666666, \"#ed7953\"], [0.7777777777777778, \"#fb9f3a\"], [0.8888888888888888, \"#fdca26\"], [1.0, \"#f0f921\"]], \"type\": \"heatmapgl\"}], \"histogram\": [{\"marker\": {\"colorbar\": {\"outlinewidth\": 0, \"ticks\": \"\"}}, \"type\": \"histogram\"}], \"histogram2d\": [{\"colorbar\": {\"outlinewidth\": 0, \"ticks\": \"\"}, \"colorscale\": [[0.0, \"#0d0887\"], [0.1111111111111111, \"#46039f\"], [0.2222222222222222, \"#7201a8\"], [0.3333333333333333, \"#9c179e\"], [0.4444444444444444, \"#bd3786\"], [0.5555555555555556, \"#d8576b\"], [0.6666666666666666, \"#ed7953\"], [0.7777777777777778, \"#fb9f3a\"], [0.8888888888888888, \"#fdca26\"], [1.0, \"#f0f921\"]], \"type\": \"histogram2d\"}], \"histogram2dcontour\": [{\"colorbar\": {\"outlinewidth\": 0, \"ticks\": \"\"}, \"colorscale\": [[0.0, \"#0d0887\"], [0.1111111111111111, \"#46039f\"], [0.2222222222222222, \"#7201a8\"], [0.3333333333333333, \"#9c179e\"], [0.4444444444444444, \"#bd3786\"], [0.5555555555555556, \"#d8576b\"], [0.6666666666666666, \"#ed7953\"], [0.7777777777777778, \"#fb9f3a\"], [0.8888888888888888, \"#fdca26\"], [1.0, \"#f0f921\"]], \"type\": \"histogram2dcontour\"}], \"mesh3d\": [{\"colorbar\": {\"outlinewidth\": 0, \"ticks\": \"\"}, \"type\": \"mesh3d\"}], \"parcoords\": [{\"line\": {\"colorbar\": {\"outlinewidth\": 0, \"ticks\": \"\"}}, \"type\": \"parcoords\"}], \"pie\": [{\"automargin\": true, \"type\": \"pie\"}], \"scatter\": [{\"marker\": {\"colorbar\": {\"outlinewidth\": 0, \"ticks\": \"\"}}, \"type\": \"scatter\"}], \"scatter3d\": [{\"line\": {\"colorbar\": {\"outlinewidth\": 0, \"ticks\": \"\"}}, \"marker\": {\"colorbar\": {\"outlinewidth\": 0, \"ticks\": \"\"}}, \"type\": \"scatter3d\"}], \"scattercarpet\": [{\"marker\": {\"colorbar\": {\"outlinewidth\": 0, \"ticks\": \"\"}}, \"type\": \"scattercarpet\"}], \"scattergeo\": [{\"marker\": {\"colorbar\": {\"outlinewidth\": 0, \"ticks\": \"\"}}, \"type\": \"scattergeo\"}], \"scattergl\": [{\"marker\": {\"colorbar\": {\"outlinewidth\": 0, \"ticks\": \"\"}}, \"type\": \"scattergl\"}], \"scattermapbox\": [{\"marker\": {\"colorbar\": {\"outlinewidth\": 0, \"ticks\": \"\"}}, \"type\": \"scattermapbox\"}], \"scatterpolar\": [{\"marker\": {\"colorbar\": {\"outlinewidth\": 0, \"ticks\": \"\"}}, \"type\": \"scatterpolar\"}], \"scatterpolargl\": [{\"marker\": {\"colorbar\": {\"outlinewidth\": 0, \"ticks\": \"\"}}, \"type\": \"scatterpolargl\"}], \"scatterternary\": [{\"marker\": {\"colorbar\": {\"outlinewidth\": 0, \"ticks\": \"\"}}, \"type\": \"scatterternary\"}], \"surface\": [{\"colorbar\": {\"outlinewidth\": 0, \"ticks\": \"\"}, \"colorscale\": [[0.0, \"#0d0887\"], [0.1111111111111111, \"#46039f\"], [0.2222222222222222, \"#7201a8\"], [0.3333333333333333, \"#9c179e\"], [0.4444444444444444, \"#bd3786\"], [0.5555555555555556, \"#d8576b\"], [0.6666666666666666, \"#ed7953\"], [0.7777777777777778, \"#fb9f3a\"], [0.8888888888888888, \"#fdca26\"], [1.0, \"#f0f921\"]], \"type\": \"surface\"}], \"table\": [{\"cells\": {\"fill\": {\"color\": \"#EBF0F8\"}, \"line\": {\"color\": \"white\"}}, \"header\": {\"fill\": {\"color\": \"#C8D4E3\"}, \"line\": {\"color\": \"white\"}}, \"type\": \"table\"}]}, \"layout\": {\"annotationdefaults\": {\"arrowcolor\": \"#2a3f5f\", \"arrowhead\": 0, \"arrowwidth\": 1}, \"coloraxis\": {\"colorbar\": {\"outlinewidth\": 0, \"ticks\": \"\"}}, \"colorscale\": {\"diverging\": [[0, \"#8e0152\"], [0.1, \"#c51b7d\"], [0.2, \"#de77ae\"], [0.3, \"#f1b6da\"], [0.4, \"#fde0ef\"], [0.5, \"#f7f7f7\"], [0.6, \"#e6f5d0\"], [0.7, \"#b8e186\"], [0.8, \"#7fbc41\"], [0.9, \"#4d9221\"], [1, \"#276419\"]], \"sequential\": [[0.0, \"#0d0887\"], [0.1111111111111111, \"#46039f\"], [0.2222222222222222, \"#7201a8\"], [0.3333333333333333, \"#9c179e\"], [0.4444444444444444, \"#bd3786\"], [0.5555555555555556, \"#d8576b\"], [0.6666666666666666, \"#ed7953\"], [0.7777777777777778, \"#fb9f3a\"], [0.8888888888888888, \"#fdca26\"], [1.0, \"#f0f921\"]], \"sequentialminus\": [[0.0, \"#0d0887\"], [0.1111111111111111, \"#46039f\"], [0.2222222222222222, \"#7201a8\"], [0.3333333333333333, \"#9c179e\"], [0.4444444444444444, \"#bd3786\"], [0.5555555555555556, \"#d8576b\"], [0.6666666666666666, \"#ed7953\"], [0.7777777777777778, \"#fb9f3a\"], [0.8888888888888888, \"#fdca26\"], [1.0, \"#f0f921\"]]}, \"colorway\": [\"#636efa\", \"#EF553B\", \"#00cc96\", \"#ab63fa\", \"#FFA15A\", \"#19d3f3\", \"#FF6692\", \"#B6E880\", \"#FF97FF\", \"#FECB52\"], \"font\": {\"color\": \"#2a3f5f\"}, \"geo\": {\"bgcolor\": \"white\", \"lakecolor\": \"white\", \"landcolor\": \"#E5ECF6\", \"showlakes\": true, \"showland\": true, \"subunitcolor\": \"white\"}, \"hoverlabel\": {\"align\": \"left\"}, \"hovermode\": \"closest\", \"mapbox\": {\"style\": \"light\"}, \"paper_bgcolor\": \"white\", \"plot_bgcolor\": \"#E5ECF6\", \"polar\": {\"angularaxis\": {\"gridcolor\": \"white\", \"linecolor\": \"white\", \"ticks\": \"\"}, \"bgcolor\": \"#E5ECF6\", \"radialaxis\": {\"gridcolor\": \"white\", \"linecolor\": \"white\", \"ticks\": \"\"}}, \"scene\": {\"xaxis\": {\"backgroundcolor\": \"#E5ECF6\", \"gridcolor\": \"white\", \"gridwidth\": 2, \"linecolor\": \"white\", \"showbackground\": true, \"ticks\": \"\", \"zerolinecolor\": \"white\"}, \"yaxis\": {\"backgroundcolor\": \"#E5ECF6\", \"gridcolor\": \"white\", \"gridwidth\": 2, \"linecolor\": \"white\", \"showbackground\": true, \"ticks\": \"\", \"zerolinecolor\": \"white\"}, \"zaxis\": {\"backgroundcolor\": \"#E5ECF6\", \"gridcolor\": \"white\", \"gridwidth\": 2, \"linecolor\": \"white\", \"showbackground\": true, \"ticks\": \"\", \"zerolinecolor\": \"white\"}}, \"shapedefaults\": {\"line\": {\"color\": \"#2a3f5f\"}}, \"ternary\": {\"aaxis\": {\"gridcolor\": \"white\", \"linecolor\": \"white\", \"ticks\": \"\"}, \"baxis\": {\"gridcolor\": \"white\", \"linecolor\": \"white\", \"ticks\": \"\"}, \"bgcolor\": \"#E5ECF6\", \"caxis\": {\"gridcolor\": \"white\", \"linecolor\": \"white\", \"ticks\": \"\"}}, \"title\": {\"x\": 0.05}, \"xaxis\": {\"automargin\": true, \"gridcolor\": \"white\", \"linecolor\": \"white\", \"ticks\": \"\", \"title\": {\"standoff\": 15}, \"zerolinecolor\": \"white\", \"zerolinewidth\": 2}, \"yaxis\": {\"automargin\": true, \"gridcolor\": \"white\", \"linecolor\": \"white\", \"ticks\": \"\", \"title\": {\"standoff\": 15}, \"zerolinecolor\": \"white\", \"zerolinewidth\": 2}}}, \"title\": {\"text\": \"Top Purchasers\"}, \"xaxis\": {\"title\": {\"text\": \"Total Expenditure\"}, \"type\": \"category\"}, \"yaxis\": {\"autorange\": true, \"title\": {\"text\": \"Top 50 customers\"}}},\n",
       "                        {\"responsive\": true}\n",
       "                    ).then(function(){\n",
       "                            \n",
       "var gd = document.getElementById('bdb5f0e2-d313-4e5a-b8ce-f0e726e5a407');\n",
       "var x = new MutationObserver(function (mutations, observer) {{\n",
       "        var display = window.getComputedStyle(gd).display;\n",
       "        if (!display || display === 'none') {{\n",
       "            console.log([gd, 'removed!']);\n",
       "            Plotly.purge(gd);\n",
       "            observer.disconnect();\n",
       "        }}\n",
       "}});\n",
       "\n",
       "// Listen for the removal of the full notebook cells\n",
       "var notebookContainer = gd.closest('#notebook-container');\n",
       "if (notebookContainer) {{\n",
       "    x.observe(notebookContainer, {childList: true});\n",
       "}}\n",
       "\n",
       "// Listen for the clearing of the current output cell\n",
       "var outputEl = gd.closest('.output');\n",
       "if (outputEl) {{\n",
       "    x.observe(outputEl, {childList: true});\n",
       "}}\n",
       "\n",
       "                        })\n",
       "                };\n",
       "                });\n",
       "            </script>\n",
       "        </div>"
      ]
     },
     "metadata": {},
     "output_type": "display_data"
    }
   ],
   "source": [
    "grouped  = data.groupby(['CustomerID']).sum()['total_spend'].sort_values(ascending=False)\n",
    "grouped_top = pd.DataFrame(grouped.head(50))\n",
    "grouped_top.reset_index(level=0, inplace=True)\n",
    "grouped_top.sort_values('CustomerID', ascending=False)\n",
    "\n",
    "data_plot = [go.Bar(x=grouped_top['CustomerID'], y=grouped_top['total_spend'])]\n",
    "layout = go.Layout(yaxis={'autorange':True,'title':'Top 50 customers'},xaxis={'type':'category','title':'Total Expenditure'},title='Top Purchasers')\n",
    "fig = go.Figure(data=data_plot, layout=layout)\n",
    "iplot(fig)"
   ]
  },
  {
   "cell_type": "markdown",
   "metadata": {},
   "source": [
    "### Calculate the top 50 largest baskets, in terms of total spend"
   ]
  },
  {
   "cell_type": "code",
   "execution_count": 38,
   "metadata": {},
   "outputs": [
    {
     "data": {
      "text/html": [
       "<div>\n",
       "<style scoped>\n",
       "    .dataframe tbody tr th:only-of-type {\n",
       "        vertical-align: middle;\n",
       "    }\n",
       "\n",
       "    .dataframe tbody tr th {\n",
       "        vertical-align: top;\n",
       "    }\n",
       "\n",
       "    .dataframe thead th {\n",
       "        text-align: right;\n",
       "    }\n",
       "</style>\n",
       "<table border=\"1\" class=\"dataframe\">\n",
       "  <thead>\n",
       "    <tr style=\"text-align: right;\">\n",
       "      <th></th>\n",
       "      <th>InvoiceNo</th>\n",
       "      <th>StockCode</th>\n",
       "      <th>Description</th>\n",
       "      <th>Quantity</th>\n",
       "      <th>InvoiceDate</th>\n",
       "      <th>UnitPrice</th>\n",
       "      <th>CustomerID</th>\n",
       "      <th>Country</th>\n",
       "      <th>total_spend</th>\n",
       "    </tr>\n",
       "  </thead>\n",
       "  <tbody>\n",
       "    <tr>\n",
       "      <th>540421</th>\n",
       "      <td>581483</td>\n",
       "      <td>23843</td>\n",
       "      <td>PAPER CRAFT , LITTLE BIRDIE</td>\n",
       "      <td>80995</td>\n",
       "      <td>2011-12-09 09:15:00</td>\n",
       "      <td>2.1</td>\n",
       "      <td>16446.0</td>\n",
       "      <td>United Kingdom</td>\n",
       "      <td>168469.6</td>\n",
       "    </tr>\n",
       "    <tr>\n",
       "      <th>61619</th>\n",
       "      <td>541431</td>\n",
       "      <td>23166</td>\n",
       "      <td>MEDIUM CERAMIC TOP STORAGE JAR</td>\n",
       "      <td>74215</td>\n",
       "      <td>2011-01-18 10:01:00</td>\n",
       "      <td>1.0</td>\n",
       "      <td>12346.0</td>\n",
       "      <td>United Kingdom</td>\n",
       "      <td>77183.6</td>\n",
       "    </tr>\n",
       "    <tr>\n",
       "      <th>421632</th>\n",
       "      <td>573008</td>\n",
       "      <td>84077</td>\n",
       "      <td>WORLD WAR 2 GLIDERS ASSTD DESIGNS</td>\n",
       "      <td>4800</td>\n",
       "      <td>2011-10-27 12:26:00</td>\n",
       "      <td>0.2</td>\n",
       "      <td>12901.0</td>\n",
       "      <td>United Kingdom</td>\n",
       "      <td>1008.0</td>\n",
       "    </tr>\n",
       "    <tr>\n",
       "      <th>160546</th>\n",
       "      <td>550461</td>\n",
       "      <td>21108</td>\n",
       "      <td>FAIRY CAKE FLANNEL ASSORTED COLOUR</td>\n",
       "      <td>3114</td>\n",
       "      <td>2011-04-18 13:20:00</td>\n",
       "      <td>2.1</td>\n",
       "      <td>15749.0</td>\n",
       "      <td>United Kingdom</td>\n",
       "      <td>6539.4</td>\n",
       "    </tr>\n",
       "    <tr>\n",
       "      <th>52711</th>\n",
       "      <td>540815</td>\n",
       "      <td>21108</td>\n",
       "      <td>FAIRY CAKE FLANNEL ASSORTED COLOUR</td>\n",
       "      <td>3114</td>\n",
       "      <td>2011-01-11 12:55:00</td>\n",
       "      <td>2.1</td>\n",
       "      <td>15749.0</td>\n",
       "      <td>United Kingdom</td>\n",
       "      <td>6539.4</td>\n",
       "    </tr>\n",
       "  </tbody>\n",
       "</table>\n",
       "</div>"
      ],
      "text/plain": [
       "       InvoiceNo StockCode                         Description  Quantity  \\\n",
       "540421    581483     23843         PAPER CRAFT , LITTLE BIRDIE     80995   \n",
       "61619     541431     23166      MEDIUM CERAMIC TOP STORAGE JAR     74215   \n",
       "421632    573008     84077   WORLD WAR 2 GLIDERS ASSTD DESIGNS      4800   \n",
       "160546    550461     21108  FAIRY CAKE FLANNEL ASSORTED COLOUR      3114   \n",
       "52711     540815     21108  FAIRY CAKE FLANNEL ASSORTED COLOUR      3114   \n",
       "\n",
       "               InvoiceDate  UnitPrice  CustomerID         Country  total_spend  \n",
       "540421 2011-12-09 09:15:00        2.1     16446.0  United Kingdom     168469.6  \n",
       "61619  2011-01-18 10:01:00        1.0     12346.0  United Kingdom      77183.6  \n",
       "421632 2011-10-27 12:26:00        0.2     12901.0  United Kingdom       1008.0  \n",
       "160546 2011-04-18 13:20:00        2.1     15749.0  United Kingdom       6539.4  \n",
       "52711  2011-01-11 12:55:00        2.1     15749.0  United Kingdom       6539.4  "
      ]
     },
     "execution_count": 38,
     "metadata": {},
     "output_type": "execute_result"
    }
   ],
   "source": [
    "top_50 = data[data['CustomerID'].isin(grouped_top['CustomerID'])]\n",
    "top_50.head()"
   ]
  },
  {
   "cell_type": "markdown",
   "metadata": {},
   "source": [
    "### Locate the country of origin of the top 50 biggest spenders"
   ]
  },
  {
   "cell_type": "code",
   "execution_count": 39,
   "metadata": {},
   "outputs": [
    {
     "data": {
      "text/html": [
       "<div>\n",
       "<style scoped>\n",
       "    .dataframe tbody tr th:only-of-type {\n",
       "        vertical-align: middle;\n",
       "    }\n",
       "\n",
       "    .dataframe tbody tr th {\n",
       "        vertical-align: top;\n",
       "    }\n",
       "\n",
       "    .dataframe thead th {\n",
       "        text-align: right;\n",
       "    }\n",
       "</style>\n",
       "<table border=\"1\" class=\"dataframe\">\n",
       "  <thead>\n",
       "    <tr style=\"text-align: right;\">\n",
       "      <th></th>\n",
       "      <th>Country</th>\n",
       "      <th>total_spend</th>\n",
       "    </tr>\n",
       "  </thead>\n",
       "  <tbody>\n",
       "    <tr>\n",
       "      <th>0</th>\n",
       "      <td>United Kingdom</td>\n",
       "      <td>2173305.6</td>\n",
       "    </tr>\n",
       "    <tr>\n",
       "      <th>4</th>\n",
       "      <td>Sweden</td>\n",
       "      <td>31781.8</td>\n",
       "    </tr>\n",
       "    <tr>\n",
       "      <th>1</th>\n",
       "      <td>Netherlands</td>\n",
       "      <td>279138.0</td>\n",
       "    </tr>\n",
       "    <tr>\n",
       "      <th>5</th>\n",
       "      <td>Japan</td>\n",
       "      <td>21429.4</td>\n",
       "    </tr>\n",
       "    <tr>\n",
       "      <th>7</th>\n",
       "      <td>Germany</td>\n",
       "      <td>17388.6</td>\n",
       "    </tr>\n",
       "    <tr>\n",
       "      <th>6</th>\n",
       "      <td>France</td>\n",
       "      <td>18751.9</td>\n",
       "    </tr>\n",
       "    <tr>\n",
       "      <th>2</th>\n",
       "      <td>EIRE</td>\n",
       "      <td>257546.9</td>\n",
       "    </tr>\n",
       "    <tr>\n",
       "      <th>3</th>\n",
       "      <td>Australia</td>\n",
       "      <td>124564.5</td>\n",
       "    </tr>\n",
       "  </tbody>\n",
       "</table>\n",
       "</div>"
      ],
      "text/plain": [
       "          Country  total_spend\n",
       "0  United Kingdom    2173305.6\n",
       "4          Sweden      31781.8\n",
       "1     Netherlands     279138.0\n",
       "5           Japan      21429.4\n",
       "7         Germany      17388.6\n",
       "6          France      18751.9\n",
       "2            EIRE     257546.9\n",
       "3       Australia     124564.5"
      ]
     },
     "execution_count": 39,
     "metadata": {},
     "output_type": "execute_result"
    },
    {
     "data": {
      "application/vnd.plotly.v1+json": {
       "config": {
        "linkText": "Export to plot.ly",
        "plotlyServerURL": "https://plot.ly",
        "showLink": false
       },
       "data": [
        {
         "type": "bar",
         "x": [
          "United Kingdom",
          "Netherlands",
          "EIRE",
          "Australia",
          "Sweden",
          "Japan",
          "France",
          "Germany"
         ],
         "y": [
          2173305.560000145,
          279138.02000000194,
          257546.91000000035,
          124564.52999999991,
          31781.819999999985,
          21429.389999999996,
          18751.910000000007,
          17388.64999999995
         ]
        }
       ],
       "layout": {
        "template": {
         "data": {
          "bar": [
           {
            "error_x": {
             "color": "#2a3f5f"
            },
            "error_y": {
             "color": "#2a3f5f"
            },
            "marker": {
             "line": {
              "color": "#E5ECF6",
              "width": 0.5
             }
            },
            "type": "bar"
           }
          ],
          "barpolar": [
           {
            "marker": {
             "line": {
              "color": "#E5ECF6",
              "width": 0.5
             }
            },
            "type": "barpolar"
           }
          ],
          "carpet": [
           {
            "aaxis": {
             "endlinecolor": "#2a3f5f",
             "gridcolor": "white",
             "linecolor": "white",
             "minorgridcolor": "white",
             "startlinecolor": "#2a3f5f"
            },
            "baxis": {
             "endlinecolor": "#2a3f5f",
             "gridcolor": "white",
             "linecolor": "white",
             "minorgridcolor": "white",
             "startlinecolor": "#2a3f5f"
            },
            "type": "carpet"
           }
          ],
          "choropleth": [
           {
            "colorbar": {
             "outlinewidth": 0,
             "ticks": ""
            },
            "type": "choropleth"
           }
          ],
          "contour": [
           {
            "colorbar": {
             "outlinewidth": 0,
             "ticks": ""
            },
            "colorscale": [
             [
              0,
              "#0d0887"
             ],
             [
              0.1111111111111111,
              "#46039f"
             ],
             [
              0.2222222222222222,
              "#7201a8"
             ],
             [
              0.3333333333333333,
              "#9c179e"
             ],
             [
              0.4444444444444444,
              "#bd3786"
             ],
             [
              0.5555555555555556,
              "#d8576b"
             ],
             [
              0.6666666666666666,
              "#ed7953"
             ],
             [
              0.7777777777777778,
              "#fb9f3a"
             ],
             [
              0.8888888888888888,
              "#fdca26"
             ],
             [
              1,
              "#f0f921"
             ]
            ],
            "type": "contour"
           }
          ],
          "contourcarpet": [
           {
            "colorbar": {
             "outlinewidth": 0,
             "ticks": ""
            },
            "type": "contourcarpet"
           }
          ],
          "heatmap": [
           {
            "colorbar": {
             "outlinewidth": 0,
             "ticks": ""
            },
            "colorscale": [
             [
              0,
              "#0d0887"
             ],
             [
              0.1111111111111111,
              "#46039f"
             ],
             [
              0.2222222222222222,
              "#7201a8"
             ],
             [
              0.3333333333333333,
              "#9c179e"
             ],
             [
              0.4444444444444444,
              "#bd3786"
             ],
             [
              0.5555555555555556,
              "#d8576b"
             ],
             [
              0.6666666666666666,
              "#ed7953"
             ],
             [
              0.7777777777777778,
              "#fb9f3a"
             ],
             [
              0.8888888888888888,
              "#fdca26"
             ],
             [
              1,
              "#f0f921"
             ]
            ],
            "type": "heatmap"
           }
          ],
          "heatmapgl": [
           {
            "colorbar": {
             "outlinewidth": 0,
             "ticks": ""
            },
            "colorscale": [
             [
              0,
              "#0d0887"
             ],
             [
              0.1111111111111111,
              "#46039f"
             ],
             [
              0.2222222222222222,
              "#7201a8"
             ],
             [
              0.3333333333333333,
              "#9c179e"
             ],
             [
              0.4444444444444444,
              "#bd3786"
             ],
             [
              0.5555555555555556,
              "#d8576b"
             ],
             [
              0.6666666666666666,
              "#ed7953"
             ],
             [
              0.7777777777777778,
              "#fb9f3a"
             ],
             [
              0.8888888888888888,
              "#fdca26"
             ],
             [
              1,
              "#f0f921"
             ]
            ],
            "type": "heatmapgl"
           }
          ],
          "histogram": [
           {
            "marker": {
             "colorbar": {
              "outlinewidth": 0,
              "ticks": ""
             }
            },
            "type": "histogram"
           }
          ],
          "histogram2d": [
           {
            "colorbar": {
             "outlinewidth": 0,
             "ticks": ""
            },
            "colorscale": [
             [
              0,
              "#0d0887"
             ],
             [
              0.1111111111111111,
              "#46039f"
             ],
             [
              0.2222222222222222,
              "#7201a8"
             ],
             [
              0.3333333333333333,
              "#9c179e"
             ],
             [
              0.4444444444444444,
              "#bd3786"
             ],
             [
              0.5555555555555556,
              "#d8576b"
             ],
             [
              0.6666666666666666,
              "#ed7953"
             ],
             [
              0.7777777777777778,
              "#fb9f3a"
             ],
             [
              0.8888888888888888,
              "#fdca26"
             ],
             [
              1,
              "#f0f921"
             ]
            ],
            "type": "histogram2d"
           }
          ],
          "histogram2dcontour": [
           {
            "colorbar": {
             "outlinewidth": 0,
             "ticks": ""
            },
            "colorscale": [
             [
              0,
              "#0d0887"
             ],
             [
              0.1111111111111111,
              "#46039f"
             ],
             [
              0.2222222222222222,
              "#7201a8"
             ],
             [
              0.3333333333333333,
              "#9c179e"
             ],
             [
              0.4444444444444444,
              "#bd3786"
             ],
             [
              0.5555555555555556,
              "#d8576b"
             ],
             [
              0.6666666666666666,
              "#ed7953"
             ],
             [
              0.7777777777777778,
              "#fb9f3a"
             ],
             [
              0.8888888888888888,
              "#fdca26"
             ],
             [
              1,
              "#f0f921"
             ]
            ],
            "type": "histogram2dcontour"
           }
          ],
          "mesh3d": [
           {
            "colorbar": {
             "outlinewidth": 0,
             "ticks": ""
            },
            "type": "mesh3d"
           }
          ],
          "parcoords": [
           {
            "line": {
             "colorbar": {
              "outlinewidth": 0,
              "ticks": ""
             }
            },
            "type": "parcoords"
           }
          ],
          "pie": [
           {
            "automargin": true,
            "type": "pie"
           }
          ],
          "scatter": [
           {
            "marker": {
             "colorbar": {
              "outlinewidth": 0,
              "ticks": ""
             }
            },
            "type": "scatter"
           }
          ],
          "scatter3d": [
           {
            "line": {
             "colorbar": {
              "outlinewidth": 0,
              "ticks": ""
             }
            },
            "marker": {
             "colorbar": {
              "outlinewidth": 0,
              "ticks": ""
             }
            },
            "type": "scatter3d"
           }
          ],
          "scattercarpet": [
           {
            "marker": {
             "colorbar": {
              "outlinewidth": 0,
              "ticks": ""
             }
            },
            "type": "scattercarpet"
           }
          ],
          "scattergeo": [
           {
            "marker": {
             "colorbar": {
              "outlinewidth": 0,
              "ticks": ""
             }
            },
            "type": "scattergeo"
           }
          ],
          "scattergl": [
           {
            "marker": {
             "colorbar": {
              "outlinewidth": 0,
              "ticks": ""
             }
            },
            "type": "scattergl"
           }
          ],
          "scattermapbox": [
           {
            "marker": {
             "colorbar": {
              "outlinewidth": 0,
              "ticks": ""
             }
            },
            "type": "scattermapbox"
           }
          ],
          "scatterpolar": [
           {
            "marker": {
             "colorbar": {
              "outlinewidth": 0,
              "ticks": ""
             }
            },
            "type": "scatterpolar"
           }
          ],
          "scatterpolargl": [
           {
            "marker": {
             "colorbar": {
              "outlinewidth": 0,
              "ticks": ""
             }
            },
            "type": "scatterpolargl"
           }
          ],
          "scatterternary": [
           {
            "marker": {
             "colorbar": {
              "outlinewidth": 0,
              "ticks": ""
             }
            },
            "type": "scatterternary"
           }
          ],
          "surface": [
           {
            "colorbar": {
             "outlinewidth": 0,
             "ticks": ""
            },
            "colorscale": [
             [
              0,
              "#0d0887"
             ],
             [
              0.1111111111111111,
              "#46039f"
             ],
             [
              0.2222222222222222,
              "#7201a8"
             ],
             [
              0.3333333333333333,
              "#9c179e"
             ],
             [
              0.4444444444444444,
              "#bd3786"
             ],
             [
              0.5555555555555556,
              "#d8576b"
             ],
             [
              0.6666666666666666,
              "#ed7953"
             ],
             [
              0.7777777777777778,
              "#fb9f3a"
             ],
             [
              0.8888888888888888,
              "#fdca26"
             ],
             [
              1,
              "#f0f921"
             ]
            ],
            "type": "surface"
           }
          ],
          "table": [
           {
            "cells": {
             "fill": {
              "color": "#EBF0F8"
             },
             "line": {
              "color": "white"
             }
            },
            "header": {
             "fill": {
              "color": "#C8D4E3"
             },
             "line": {
              "color": "white"
             }
            },
            "type": "table"
           }
          ]
         },
         "layout": {
          "annotationdefaults": {
           "arrowcolor": "#2a3f5f",
           "arrowhead": 0,
           "arrowwidth": 1
          },
          "coloraxis": {
           "colorbar": {
            "outlinewidth": 0,
            "ticks": ""
           }
          },
          "colorscale": {
           "diverging": [
            [
             0,
             "#8e0152"
            ],
            [
             0.1,
             "#c51b7d"
            ],
            [
             0.2,
             "#de77ae"
            ],
            [
             0.3,
             "#f1b6da"
            ],
            [
             0.4,
             "#fde0ef"
            ],
            [
             0.5,
             "#f7f7f7"
            ],
            [
             0.6,
             "#e6f5d0"
            ],
            [
             0.7,
             "#b8e186"
            ],
            [
             0.8,
             "#7fbc41"
            ],
            [
             0.9,
             "#4d9221"
            ],
            [
             1,
             "#276419"
            ]
           ],
           "sequential": [
            [
             0,
             "#0d0887"
            ],
            [
             0.1111111111111111,
             "#46039f"
            ],
            [
             0.2222222222222222,
             "#7201a8"
            ],
            [
             0.3333333333333333,
             "#9c179e"
            ],
            [
             0.4444444444444444,
             "#bd3786"
            ],
            [
             0.5555555555555556,
             "#d8576b"
            ],
            [
             0.6666666666666666,
             "#ed7953"
            ],
            [
             0.7777777777777778,
             "#fb9f3a"
            ],
            [
             0.8888888888888888,
             "#fdca26"
            ],
            [
             1,
             "#f0f921"
            ]
           ],
           "sequentialminus": [
            [
             0,
             "#0d0887"
            ],
            [
             0.1111111111111111,
             "#46039f"
            ],
            [
             0.2222222222222222,
             "#7201a8"
            ],
            [
             0.3333333333333333,
             "#9c179e"
            ],
            [
             0.4444444444444444,
             "#bd3786"
            ],
            [
             0.5555555555555556,
             "#d8576b"
            ],
            [
             0.6666666666666666,
             "#ed7953"
            ],
            [
             0.7777777777777778,
             "#fb9f3a"
            ],
            [
             0.8888888888888888,
             "#fdca26"
            ],
            [
             1,
             "#f0f921"
            ]
           ]
          },
          "colorway": [
           "#636efa",
           "#EF553B",
           "#00cc96",
           "#ab63fa",
           "#FFA15A",
           "#19d3f3",
           "#FF6692",
           "#B6E880",
           "#FF97FF",
           "#FECB52"
          ],
          "font": {
           "color": "#2a3f5f"
          },
          "geo": {
           "bgcolor": "white",
           "lakecolor": "white",
           "landcolor": "#E5ECF6",
           "showlakes": true,
           "showland": true,
           "subunitcolor": "white"
          },
          "hoverlabel": {
           "align": "left"
          },
          "hovermode": "closest",
          "mapbox": {
           "style": "light"
          },
          "paper_bgcolor": "white",
          "plot_bgcolor": "#E5ECF6",
          "polar": {
           "angularaxis": {
            "gridcolor": "white",
            "linecolor": "white",
            "ticks": ""
           },
           "bgcolor": "#E5ECF6",
           "radialaxis": {
            "gridcolor": "white",
            "linecolor": "white",
            "ticks": ""
           }
          },
          "scene": {
           "xaxis": {
            "backgroundcolor": "#E5ECF6",
            "gridcolor": "white",
            "gridwidth": 2,
            "linecolor": "white",
            "showbackground": true,
            "ticks": "",
            "zerolinecolor": "white"
           },
           "yaxis": {
            "backgroundcolor": "#E5ECF6",
            "gridcolor": "white",
            "gridwidth": 2,
            "linecolor": "white",
            "showbackground": true,
            "ticks": "",
            "zerolinecolor": "white"
           },
           "zaxis": {
            "backgroundcolor": "#E5ECF6",
            "gridcolor": "white",
            "gridwidth": 2,
            "linecolor": "white",
            "showbackground": true,
            "ticks": "",
            "zerolinecolor": "white"
           }
          },
          "shapedefaults": {
           "line": {
            "color": "#2a3f5f"
           }
          },
          "ternary": {
           "aaxis": {
            "gridcolor": "white",
            "linecolor": "white",
            "ticks": ""
           },
           "baxis": {
            "gridcolor": "white",
            "linecolor": "white",
            "ticks": ""
           },
           "bgcolor": "#E5ECF6",
           "caxis": {
            "gridcolor": "white",
            "linecolor": "white",
            "ticks": ""
           }
          },
          "title": {
           "x": 0.05
          },
          "xaxis": {
           "automargin": true,
           "gridcolor": "white",
           "linecolor": "white",
           "ticks": "",
           "title": {
            "standoff": 15
           },
           "zerolinecolor": "white",
           "zerolinewidth": 2
          },
          "yaxis": {
           "automargin": true,
           "gridcolor": "white",
           "linecolor": "white",
           "ticks": "",
           "title": {
            "standoff": 15
           },
           "zerolinecolor": "white",
           "zerolinewidth": 2
          }
         }
        },
        "title": {
         "text": "Top 50 Biggest Spenders"
        },
        "xaxis": {
         "title": {
          "text": "country"
         },
         "type": "category"
        },
        "yaxis": {
         "autorange": true,
         "title": {
          "text": "Total Expenditure"
         }
        }
       }
      },
      "text/html": [
       "<div>\n",
       "        \n",
       "        \n",
       "            <div id=\"0de0f346-9c4c-4dcd-90a8-80986d8074c3\" class=\"plotly-graph-div\" style=\"height:525px; width:100%;\"></div>\n",
       "            <script type=\"text/javascript\">\n",
       "                require([\"plotly\"], function(Plotly) {\n",
       "                    window.PLOTLYENV=window.PLOTLYENV || {};\n",
       "                    \n",
       "                if (document.getElementById(\"0de0f346-9c4c-4dcd-90a8-80986d8074c3\")) {\n",
       "                    Plotly.newPlot(\n",
       "                        '0de0f346-9c4c-4dcd-90a8-80986d8074c3',\n",
       "                        [{\"type\": \"bar\", \"x\": [\"United Kingdom\", \"Netherlands\", \"EIRE\", \"Australia\", \"Sweden\", \"Japan\", \"France\", \"Germany\"], \"y\": [2173305.560000145, 279138.02000000194, 257546.91000000035, 124564.52999999991, 31781.819999999985, 21429.389999999996, 18751.910000000007, 17388.64999999995]}],\n",
       "                        {\"template\": {\"data\": {\"bar\": [{\"error_x\": {\"color\": \"#2a3f5f\"}, \"error_y\": {\"color\": \"#2a3f5f\"}, \"marker\": {\"line\": {\"color\": \"#E5ECF6\", \"width\": 0.5}}, \"type\": \"bar\"}], \"barpolar\": [{\"marker\": {\"line\": {\"color\": \"#E5ECF6\", \"width\": 0.5}}, \"type\": \"barpolar\"}], \"carpet\": [{\"aaxis\": {\"endlinecolor\": \"#2a3f5f\", \"gridcolor\": \"white\", \"linecolor\": \"white\", \"minorgridcolor\": \"white\", \"startlinecolor\": \"#2a3f5f\"}, \"baxis\": {\"endlinecolor\": \"#2a3f5f\", \"gridcolor\": \"white\", \"linecolor\": \"white\", \"minorgridcolor\": \"white\", \"startlinecolor\": \"#2a3f5f\"}, \"type\": \"carpet\"}], \"choropleth\": [{\"colorbar\": {\"outlinewidth\": 0, \"ticks\": \"\"}, \"type\": \"choropleth\"}], \"contour\": [{\"colorbar\": {\"outlinewidth\": 0, \"ticks\": \"\"}, \"colorscale\": [[0.0, \"#0d0887\"], [0.1111111111111111, \"#46039f\"], [0.2222222222222222, \"#7201a8\"], [0.3333333333333333, \"#9c179e\"], [0.4444444444444444, \"#bd3786\"], [0.5555555555555556, \"#d8576b\"], [0.6666666666666666, \"#ed7953\"], [0.7777777777777778, \"#fb9f3a\"], [0.8888888888888888, \"#fdca26\"], [1.0, \"#f0f921\"]], \"type\": \"contour\"}], \"contourcarpet\": [{\"colorbar\": {\"outlinewidth\": 0, \"ticks\": \"\"}, \"type\": \"contourcarpet\"}], \"heatmap\": [{\"colorbar\": {\"outlinewidth\": 0, \"ticks\": \"\"}, \"colorscale\": [[0.0, \"#0d0887\"], [0.1111111111111111, \"#46039f\"], [0.2222222222222222, \"#7201a8\"], [0.3333333333333333, \"#9c179e\"], [0.4444444444444444, \"#bd3786\"], [0.5555555555555556, \"#d8576b\"], [0.6666666666666666, \"#ed7953\"], [0.7777777777777778, \"#fb9f3a\"], [0.8888888888888888, \"#fdca26\"], [1.0, \"#f0f921\"]], \"type\": \"heatmap\"}], \"heatmapgl\": [{\"colorbar\": {\"outlinewidth\": 0, \"ticks\": \"\"}, \"colorscale\": [[0.0, \"#0d0887\"], [0.1111111111111111, \"#46039f\"], [0.2222222222222222, \"#7201a8\"], [0.3333333333333333, \"#9c179e\"], [0.4444444444444444, \"#bd3786\"], [0.5555555555555556, \"#d8576b\"], [0.6666666666666666, \"#ed7953\"], [0.7777777777777778, \"#fb9f3a\"], [0.8888888888888888, \"#fdca26\"], [1.0, \"#f0f921\"]], \"type\": \"heatmapgl\"}], \"histogram\": [{\"marker\": {\"colorbar\": {\"outlinewidth\": 0, \"ticks\": \"\"}}, \"type\": \"histogram\"}], \"histogram2d\": [{\"colorbar\": {\"outlinewidth\": 0, \"ticks\": \"\"}, \"colorscale\": [[0.0, \"#0d0887\"], [0.1111111111111111, \"#46039f\"], [0.2222222222222222, \"#7201a8\"], [0.3333333333333333, \"#9c179e\"], [0.4444444444444444, \"#bd3786\"], [0.5555555555555556, \"#d8576b\"], [0.6666666666666666, \"#ed7953\"], [0.7777777777777778, \"#fb9f3a\"], [0.8888888888888888, \"#fdca26\"], [1.0, \"#f0f921\"]], \"type\": \"histogram2d\"}], \"histogram2dcontour\": [{\"colorbar\": {\"outlinewidth\": 0, \"ticks\": \"\"}, \"colorscale\": [[0.0, \"#0d0887\"], [0.1111111111111111, \"#46039f\"], [0.2222222222222222, \"#7201a8\"], [0.3333333333333333, \"#9c179e\"], [0.4444444444444444, \"#bd3786\"], [0.5555555555555556, \"#d8576b\"], [0.6666666666666666, \"#ed7953\"], [0.7777777777777778, \"#fb9f3a\"], [0.8888888888888888, \"#fdca26\"], [1.0, \"#f0f921\"]], \"type\": \"histogram2dcontour\"}], \"mesh3d\": [{\"colorbar\": {\"outlinewidth\": 0, \"ticks\": \"\"}, \"type\": \"mesh3d\"}], \"parcoords\": [{\"line\": {\"colorbar\": {\"outlinewidth\": 0, \"ticks\": \"\"}}, \"type\": \"parcoords\"}], \"pie\": [{\"automargin\": true, \"type\": \"pie\"}], \"scatter\": [{\"marker\": {\"colorbar\": {\"outlinewidth\": 0, \"ticks\": \"\"}}, \"type\": \"scatter\"}], \"scatter3d\": [{\"line\": {\"colorbar\": {\"outlinewidth\": 0, \"ticks\": \"\"}}, \"marker\": {\"colorbar\": {\"outlinewidth\": 0, \"ticks\": \"\"}}, \"type\": \"scatter3d\"}], \"scattercarpet\": [{\"marker\": {\"colorbar\": {\"outlinewidth\": 0, \"ticks\": \"\"}}, \"type\": \"scattercarpet\"}], \"scattergeo\": [{\"marker\": {\"colorbar\": {\"outlinewidth\": 0, \"ticks\": \"\"}}, \"type\": \"scattergeo\"}], \"scattergl\": [{\"marker\": {\"colorbar\": {\"outlinewidth\": 0, \"ticks\": \"\"}}, \"type\": \"scattergl\"}], \"scattermapbox\": [{\"marker\": {\"colorbar\": {\"outlinewidth\": 0, \"ticks\": \"\"}}, \"type\": \"scattermapbox\"}], \"scatterpolar\": [{\"marker\": {\"colorbar\": {\"outlinewidth\": 0, \"ticks\": \"\"}}, \"type\": \"scatterpolar\"}], \"scatterpolargl\": [{\"marker\": {\"colorbar\": {\"outlinewidth\": 0, \"ticks\": \"\"}}, \"type\": \"scatterpolargl\"}], \"scatterternary\": [{\"marker\": {\"colorbar\": {\"outlinewidth\": 0, \"ticks\": \"\"}}, \"type\": \"scatterternary\"}], \"surface\": [{\"colorbar\": {\"outlinewidth\": 0, \"ticks\": \"\"}, \"colorscale\": [[0.0, \"#0d0887\"], [0.1111111111111111, \"#46039f\"], [0.2222222222222222, \"#7201a8\"], [0.3333333333333333, \"#9c179e\"], [0.4444444444444444, \"#bd3786\"], [0.5555555555555556, \"#d8576b\"], [0.6666666666666666, \"#ed7953\"], [0.7777777777777778, \"#fb9f3a\"], [0.8888888888888888, \"#fdca26\"], [1.0, \"#f0f921\"]], \"type\": \"surface\"}], \"table\": [{\"cells\": {\"fill\": {\"color\": \"#EBF0F8\"}, \"line\": {\"color\": \"white\"}}, \"header\": {\"fill\": {\"color\": \"#C8D4E3\"}, \"line\": {\"color\": \"white\"}}, \"type\": \"table\"}]}, \"layout\": {\"annotationdefaults\": {\"arrowcolor\": \"#2a3f5f\", \"arrowhead\": 0, \"arrowwidth\": 1}, \"coloraxis\": {\"colorbar\": {\"outlinewidth\": 0, \"ticks\": \"\"}}, \"colorscale\": {\"diverging\": [[0, \"#8e0152\"], [0.1, \"#c51b7d\"], [0.2, \"#de77ae\"], [0.3, \"#f1b6da\"], [0.4, \"#fde0ef\"], [0.5, \"#f7f7f7\"], [0.6, \"#e6f5d0\"], [0.7, \"#b8e186\"], [0.8, \"#7fbc41\"], [0.9, \"#4d9221\"], [1, \"#276419\"]], \"sequential\": [[0.0, \"#0d0887\"], [0.1111111111111111, \"#46039f\"], [0.2222222222222222, \"#7201a8\"], [0.3333333333333333, \"#9c179e\"], [0.4444444444444444, \"#bd3786\"], [0.5555555555555556, \"#d8576b\"], [0.6666666666666666, \"#ed7953\"], [0.7777777777777778, \"#fb9f3a\"], [0.8888888888888888, \"#fdca26\"], [1.0, \"#f0f921\"]], \"sequentialminus\": [[0.0, \"#0d0887\"], [0.1111111111111111, \"#46039f\"], [0.2222222222222222, \"#7201a8\"], [0.3333333333333333, \"#9c179e\"], [0.4444444444444444, \"#bd3786\"], [0.5555555555555556, \"#d8576b\"], [0.6666666666666666, \"#ed7953\"], [0.7777777777777778, \"#fb9f3a\"], [0.8888888888888888, \"#fdca26\"], [1.0, \"#f0f921\"]]}, \"colorway\": [\"#636efa\", \"#EF553B\", \"#00cc96\", \"#ab63fa\", \"#FFA15A\", \"#19d3f3\", \"#FF6692\", \"#B6E880\", \"#FF97FF\", \"#FECB52\"], \"font\": {\"color\": \"#2a3f5f\"}, \"geo\": {\"bgcolor\": \"white\", \"lakecolor\": \"white\", \"landcolor\": \"#E5ECF6\", \"showlakes\": true, \"showland\": true, \"subunitcolor\": \"white\"}, \"hoverlabel\": {\"align\": \"left\"}, \"hovermode\": \"closest\", \"mapbox\": {\"style\": \"light\"}, \"paper_bgcolor\": \"white\", \"plot_bgcolor\": \"#E5ECF6\", \"polar\": {\"angularaxis\": {\"gridcolor\": \"white\", \"linecolor\": \"white\", \"ticks\": \"\"}, \"bgcolor\": \"#E5ECF6\", \"radialaxis\": {\"gridcolor\": \"white\", \"linecolor\": \"white\", \"ticks\": \"\"}}, \"scene\": {\"xaxis\": {\"backgroundcolor\": \"#E5ECF6\", \"gridcolor\": \"white\", \"gridwidth\": 2, \"linecolor\": \"white\", \"showbackground\": true, \"ticks\": \"\", \"zerolinecolor\": \"white\"}, \"yaxis\": {\"backgroundcolor\": \"#E5ECF6\", \"gridcolor\": \"white\", \"gridwidth\": 2, \"linecolor\": \"white\", \"showbackground\": true, \"ticks\": \"\", \"zerolinecolor\": \"white\"}, \"zaxis\": {\"backgroundcolor\": \"#E5ECF6\", \"gridcolor\": \"white\", \"gridwidth\": 2, \"linecolor\": \"white\", \"showbackground\": true, \"ticks\": \"\", \"zerolinecolor\": \"white\"}}, \"shapedefaults\": {\"line\": {\"color\": \"#2a3f5f\"}}, \"ternary\": {\"aaxis\": {\"gridcolor\": \"white\", \"linecolor\": \"white\", \"ticks\": \"\"}, \"baxis\": {\"gridcolor\": \"white\", \"linecolor\": \"white\", \"ticks\": \"\"}, \"bgcolor\": \"#E5ECF6\", \"caxis\": {\"gridcolor\": \"white\", \"linecolor\": \"white\", \"ticks\": \"\"}}, \"title\": {\"x\": 0.05}, \"xaxis\": {\"automargin\": true, \"gridcolor\": \"white\", \"linecolor\": \"white\", \"ticks\": \"\", \"title\": {\"standoff\": 15}, \"zerolinecolor\": \"white\", \"zerolinewidth\": 2}, \"yaxis\": {\"automargin\": true, \"gridcolor\": \"white\", \"linecolor\": \"white\", \"ticks\": \"\", \"title\": {\"standoff\": 15}, \"zerolinecolor\": \"white\", \"zerolinewidth\": 2}}}, \"title\": {\"text\": \"Top 50 Biggest Spenders\"}, \"xaxis\": {\"title\": {\"text\": \"country\"}, \"type\": \"category\"}, \"yaxis\": {\"autorange\": true, \"title\": {\"text\": \"Total Expenditure\"}}},\n",
       "                        {\"responsive\": true}\n",
       "                    ).then(function(){\n",
       "                            \n",
       "var gd = document.getElementById('0de0f346-9c4c-4dcd-90a8-80986d8074c3');\n",
       "var x = new MutationObserver(function (mutations, observer) {{\n",
       "        var display = window.getComputedStyle(gd).display;\n",
       "        if (!display || display === 'none') {{\n",
       "            console.log([gd, 'removed!']);\n",
       "            Plotly.purge(gd);\n",
       "            observer.disconnect();\n",
       "        }}\n",
       "}});\n",
       "\n",
       "// Listen for the removal of the full notebook cells\n",
       "var notebookContainer = gd.closest('#notebook-container');\n",
       "if (notebookContainer) {{\n",
       "    x.observe(notebookContainer, {childList: true});\n",
       "}}\n",
       "\n",
       "// Listen for the clearing of the current output cell\n",
       "var outputEl = gd.closest('.output');\n",
       "if (outputEl) {{\n",
       "    x.observe(outputEl, {childList: true});\n",
       "}}\n",
       "\n",
       "                        })\n",
       "                };\n",
       "                });\n",
       "            </script>\n",
       "        </div>"
      ]
     },
     "metadata": {},
     "output_type": "display_data"
    }
   ],
   "source": [
    "\n",
    "top50_tmp  = top_50.groupby(['Country']).sum()['total_spend'].sort_values(ascending=False)\n",
    "\n",
    "top50_tmp = pd.DataFrame(top50_tmp)\n",
    "top50_tmp.reset_index(level=0, inplace=True)\n",
    "top50_tmp.sort_values('Country', ascending=False)\n",
    "\n",
    "data_plot = [go.Bar(x=top50_tmp['Country'], y=top50_tmp['total_spend'])]\n",
    "layout = go.Layout(yaxis={'autorange':True,'title':'Total Expenditure'},xaxis={'type':'category','title':'country'},title='Top 50 Biggest Spenders')\n",
    "fig = go.Figure(data=data_plot, layout=layout)\n",
    "iplot(fig)"
   ]
  },
  {
   "cell_type": "markdown",
   "metadata": {},
   "source": [
    "### Classify customers based on total spend\n",
    "- Collate all the purchases made during a single order to calculate the total order value:"
   ]
  },
  {
   "cell_type": "code",
   "execution_count": 40,
   "metadata": {},
   "outputs": [],
   "source": [
    "temp = data.groupby(by=['CustomerID', 'InvoiceNo'], as_index=False)['total_spend'].sum()\n",
    "basket_price = temp.rename(columns = {'total_spend':'Basket value'})"
   ]
  },
  {
   "cell_type": "code",
   "execution_count": 41,
   "metadata": {},
   "outputs": [
    {
     "data": {
      "text/html": [
       "<div>\n",
       "<style scoped>\n",
       "    .dataframe tbody tr th:only-of-type {\n",
       "        vertical-align: middle;\n",
       "    }\n",
       "\n",
       "    .dataframe tbody tr th {\n",
       "        vertical-align: top;\n",
       "    }\n",
       "\n",
       "    .dataframe thead th {\n",
       "        text-align: right;\n",
       "    }\n",
       "</style>\n",
       "<table border=\"1\" class=\"dataframe\">\n",
       "  <thead>\n",
       "    <tr style=\"text-align: right;\">\n",
       "      <th></th>\n",
       "      <th>CustomerID</th>\n",
       "      <th>InvoiceNo</th>\n",
       "      <th>Basket value</th>\n",
       "    </tr>\n",
       "  </thead>\n",
       "  <tbody>\n",
       "    <tr>\n",
       "      <th>0</th>\n",
       "      <td>12346.0</td>\n",
       "      <td>541431</td>\n",
       "      <td>77183.6</td>\n",
       "    </tr>\n",
       "    <tr>\n",
       "      <th>1</th>\n",
       "      <td>12347.0</td>\n",
       "      <td>537626</td>\n",
       "      <td>711.8</td>\n",
       "    </tr>\n",
       "    <tr>\n",
       "      <th>2</th>\n",
       "      <td>12347.0</td>\n",
       "      <td>542237</td>\n",
       "      <td>475.4</td>\n",
       "    </tr>\n",
       "    <tr>\n",
       "      <th>3</th>\n",
       "      <td>12347.0</td>\n",
       "      <td>549222</td>\n",
       "      <td>636.2</td>\n",
       "    </tr>\n",
       "    <tr>\n",
       "      <th>4</th>\n",
       "      <td>12347.0</td>\n",
       "      <td>556201</td>\n",
       "      <td>382.5</td>\n",
       "    </tr>\n",
       "    <tr>\n",
       "      <th>5</th>\n",
       "      <td>12347.0</td>\n",
       "      <td>562032</td>\n",
       "      <td>584.9</td>\n",
       "    </tr>\n",
       "    <tr>\n",
       "      <th>6</th>\n",
       "      <td>12347.0</td>\n",
       "      <td>573511</td>\n",
       "      <td>1294.3</td>\n",
       "    </tr>\n",
       "    <tr>\n",
       "      <th>7</th>\n",
       "      <td>12347.0</td>\n",
       "      <td>581180</td>\n",
       "      <td>224.8</td>\n",
       "    </tr>\n",
       "    <tr>\n",
       "      <th>8</th>\n",
       "      <td>12348.0</td>\n",
       "      <td>539318</td>\n",
       "      <td>652.8</td>\n",
       "    </tr>\n",
       "    <tr>\n",
       "      <th>9</th>\n",
       "      <td>12348.0</td>\n",
       "      <td>541998</td>\n",
       "      <td>187.4</td>\n",
       "    </tr>\n",
       "  </tbody>\n",
       "</table>\n",
       "</div>"
      ],
      "text/plain": [
       "   CustomerID  InvoiceNo  Basket value\n",
       "0     12346.0     541431       77183.6\n",
       "1     12347.0     537626         711.8\n",
       "2     12347.0     542237         475.4\n",
       "3     12347.0     549222         636.2\n",
       "4     12347.0     556201         382.5\n",
       "5     12347.0     562032         584.9\n",
       "6     12347.0     573511        1294.3\n",
       "7     12347.0     581180         224.8\n",
       "8     12348.0     539318         652.8\n",
       "9     12348.0     541998         187.4"
      ]
     },
     "execution_count": 41,
     "metadata": {},
     "output_type": "execute_result"
    }
   ],
   "source": [
    "### Top 10 baskets\n",
    "basket_price.head(10)"
   ]
  },
  {
   "cell_type": "code",
   "execution_count": 42,
   "metadata": {},
   "outputs": [
    {
     "data": {
      "text/html": [
       "<div>\n",
       "<style scoped>\n",
       "    .dataframe tbody tr th:only-of-type {\n",
       "        vertical-align: middle;\n",
       "    }\n",
       "\n",
       "    .dataframe tbody tr th {\n",
       "        vertical-align: top;\n",
       "    }\n",
       "\n",
       "    .dataframe thead th {\n",
       "        text-align: right;\n",
       "    }\n",
       "</style>\n",
       "<table border=\"1\" class=\"dataframe\">\n",
       "  <thead>\n",
       "    <tr style=\"text-align: right;\">\n",
       "      <th></th>\n",
       "      <th>index</th>\n",
       "      <th>CustomerID</th>\n",
       "      <th>InvoiceNo</th>\n",
       "      <th>Basket value</th>\n",
       "    </tr>\n",
       "  </thead>\n",
       "  <tbody>\n",
       "    <tr>\n",
       "      <th>12783</th>\n",
       "      <td>12783</td>\n",
       "      <td>16446.0</td>\n",
       "      <td>581483</td>\n",
       "      <td>168469.6</td>\n",
       "    </tr>\n",
       "    <tr>\n",
       "      <th>0</th>\n",
       "      <td>0</td>\n",
       "      <td>12346.0</td>\n",
       "      <td>541431</td>\n",
       "      <td>77183.6</td>\n",
       "    </tr>\n",
       "    <tr>\n",
       "      <th>8941</th>\n",
       "      <td>8941</td>\n",
       "      <td>15098.0</td>\n",
       "      <td>556444</td>\n",
       "      <td>38970.0</td>\n",
       "    </tr>\n",
       "    <tr>\n",
       "      <th>15747</th>\n",
       "      <td>15747</td>\n",
       "      <td>17450.0</td>\n",
       "      <td>567423</td>\n",
       "      <td>31698.2</td>\n",
       "    </tr>\n",
       "    <tr>\n",
       "      <th>158</th>\n",
       "      <td>158</td>\n",
       "      <td>12415.0</td>\n",
       "      <td>556917</td>\n",
       "      <td>22775.9</td>\n",
       "    </tr>\n",
       "    <tr>\n",
       "      <th>...</th>\n",
       "      <td>...</td>\n",
       "      <td>...</td>\n",
       "      <td>...</td>\n",
       "      <td>...</td>\n",
       "    </tr>\n",
       "    <tr>\n",
       "      <th>7759</th>\n",
       "      <td>7759</td>\n",
       "      <td>14744.0</td>\n",
       "      <td>542736</td>\n",
       "      <td>0.6</td>\n",
       "    </tr>\n",
       "    <tr>\n",
       "      <th>7899</th>\n",
       "      <td>7899</td>\n",
       "      <td>14800.0</td>\n",
       "      <td>570554</td>\n",
       "      <td>0.4</td>\n",
       "    </tr>\n",
       "    <tr>\n",
       "      <th>7355</th>\n",
       "      <td>7355</td>\n",
       "      <td>14646.0</td>\n",
       "      <td>564651</td>\n",
       "      <td>0.0</td>\n",
       "    </tr>\n",
       "    <tr>\n",
       "      <th>3098</th>\n",
       "      <td>3098</td>\n",
       "      <td>13256.0</td>\n",
       "      <td>578841</td>\n",
       "      <td>0.0</td>\n",
       "    </tr>\n",
       "    <tr>\n",
       "      <th>16030</th>\n",
       "      <td>16030</td>\n",
       "      <td>17560.0</td>\n",
       "      <td>543599</td>\n",
       "      <td>0.0</td>\n",
       "    </tr>\n",
       "  </tbody>\n",
       "</table>\n",
       "<p>18408 rows × 4 columns</p>\n",
       "</div>"
      ],
      "text/plain": [
       "       index  CustomerID  InvoiceNo  Basket value\n",
       "12783  12783     16446.0     581483      168469.6\n",
       "0          0     12346.0     541431       77183.6\n",
       "8941    8941     15098.0     556444       38970.0\n",
       "15747  15747     17450.0     567423       31698.2\n",
       "158      158     12415.0     556917       22775.9\n",
       "...      ...         ...        ...           ...\n",
       "7759    7759     14744.0     542736           0.6\n",
       "7899    7899     14800.0     570554           0.4\n",
       "7355    7355     14646.0     564651           0.0\n",
       "3098    3098     13256.0     578841           0.0\n",
       "16030  16030     17560.0     543599           0.0\n",
       "\n",
       "[18408 rows x 4 columns]"
      ]
     },
     "execution_count": 42,
     "metadata": {},
     "output_type": "execute_result"
    },
    {
     "data": {
      "application/vnd.plotly.v1+json": {
       "config": {
        "linkText": "Export to plot.ly",
        "plotlyServerURL": "https://plot.ly",
        "showLink": false
       },
       "data": [
        {
         "type": "histogram",
         "x": [
          77183.6,
          711.79,
          475.39000000000004,
          636.25,
          382.52000000000004,
          584.91,
          1294.3199999999997,
          224.82000000000002,
          652.8000000000002,
          187.44,
          327,
          270,
          1457.5499999999997,
          294.4,
          296.5,
          104.35,
          120.32999999999998,
          120.33000000000001,
          286.25,
          226.25,
          231.72999999999996,
          89,
          1079.4000000000003,
          459.4,
          1947.6200000000003,
          481.4599999999999,
          58.349999999999994,
          6207.669999999996,
          404.85999999999996,
          523.2,
          547.5,
          1838.9100000000008,
          1109.32,
          2814.299999999999,
          923.58,
          454.7000000000001,
          923.7800000000002,
          174.89999999999998,
          434.09999999999997,
          450.24000000000007,
          273.76,
          424.25,
          769.9900000000001,
          325.8,
          726.9500000000002,
          439.1600000000001,
          417.94,
          475.0400000000001,
          299.0999999999999,
          252.89999999999998,
          578.9199999999998,
          64.8,
          269.0599999999999,
          295.32,
          320.69,
          150.9,
          1587.0700000000002,
          157.2,
          938.3900000000002,
          739.28,
          1527.9599999999996,
          363.22,
          479.70000000000005,
          353.11999999999995,
          324.59999999999997,
          622.9300000000002,
          190.3,
          187.20000000000002,
          1001.5199999999999,
          546.6,
          4008.6200000000013,
          414.84000000000003,
          362.40000000000003,
          562.55,
          572.0100000000002,
          396.86000000000007,
          896.3899999999999,
          1028.74,
          339.06,
          107.01,
          555.7200000000001,
          591.1600000000001,
          285.06999999999994,
          127.16000000000003,
          69.45,
          212.69000000000003,
          212.58,
          258.9,
          143,
          431.29999999999995,
          124.05000000000001,
          210.90000000000003,
          902.0900000000006,
          825.9200000000001,
          286.4,
          504.8400000000001,
          439.6599999999997,
          462.5,
          177,
          421.6000000000001
         ]
        }
       ],
       "layout": {
        "template": {
         "data": {
          "bar": [
           {
            "error_x": {
             "color": "#2a3f5f"
            },
            "error_y": {
             "color": "#2a3f5f"
            },
            "marker": {
             "line": {
              "color": "#E5ECF6",
              "width": 0.5
             }
            },
            "type": "bar"
           }
          ],
          "barpolar": [
           {
            "marker": {
             "line": {
              "color": "#E5ECF6",
              "width": 0.5
             }
            },
            "type": "barpolar"
           }
          ],
          "carpet": [
           {
            "aaxis": {
             "endlinecolor": "#2a3f5f",
             "gridcolor": "white",
             "linecolor": "white",
             "minorgridcolor": "white",
             "startlinecolor": "#2a3f5f"
            },
            "baxis": {
             "endlinecolor": "#2a3f5f",
             "gridcolor": "white",
             "linecolor": "white",
             "minorgridcolor": "white",
             "startlinecolor": "#2a3f5f"
            },
            "type": "carpet"
           }
          ],
          "choropleth": [
           {
            "colorbar": {
             "outlinewidth": 0,
             "ticks": ""
            },
            "type": "choropleth"
           }
          ],
          "contour": [
           {
            "colorbar": {
             "outlinewidth": 0,
             "ticks": ""
            },
            "colorscale": [
             [
              0,
              "#0d0887"
             ],
             [
              0.1111111111111111,
              "#46039f"
             ],
             [
              0.2222222222222222,
              "#7201a8"
             ],
             [
              0.3333333333333333,
              "#9c179e"
             ],
             [
              0.4444444444444444,
              "#bd3786"
             ],
             [
              0.5555555555555556,
              "#d8576b"
             ],
             [
              0.6666666666666666,
              "#ed7953"
             ],
             [
              0.7777777777777778,
              "#fb9f3a"
             ],
             [
              0.8888888888888888,
              "#fdca26"
             ],
             [
              1,
              "#f0f921"
             ]
            ],
            "type": "contour"
           }
          ],
          "contourcarpet": [
           {
            "colorbar": {
             "outlinewidth": 0,
             "ticks": ""
            },
            "type": "contourcarpet"
           }
          ],
          "heatmap": [
           {
            "colorbar": {
             "outlinewidth": 0,
             "ticks": ""
            },
            "colorscale": [
             [
              0,
              "#0d0887"
             ],
             [
              0.1111111111111111,
              "#46039f"
             ],
             [
              0.2222222222222222,
              "#7201a8"
             ],
             [
              0.3333333333333333,
              "#9c179e"
             ],
             [
              0.4444444444444444,
              "#bd3786"
             ],
             [
              0.5555555555555556,
              "#d8576b"
             ],
             [
              0.6666666666666666,
              "#ed7953"
             ],
             [
              0.7777777777777778,
              "#fb9f3a"
             ],
             [
              0.8888888888888888,
              "#fdca26"
             ],
             [
              1,
              "#f0f921"
             ]
            ],
            "type": "heatmap"
           }
          ],
          "heatmapgl": [
           {
            "colorbar": {
             "outlinewidth": 0,
             "ticks": ""
            },
            "colorscale": [
             [
              0,
              "#0d0887"
             ],
             [
              0.1111111111111111,
              "#46039f"
             ],
             [
              0.2222222222222222,
              "#7201a8"
             ],
             [
              0.3333333333333333,
              "#9c179e"
             ],
             [
              0.4444444444444444,
              "#bd3786"
             ],
             [
              0.5555555555555556,
              "#d8576b"
             ],
             [
              0.6666666666666666,
              "#ed7953"
             ],
             [
              0.7777777777777778,
              "#fb9f3a"
             ],
             [
              0.8888888888888888,
              "#fdca26"
             ],
             [
              1,
              "#f0f921"
             ]
            ],
            "type": "heatmapgl"
           }
          ],
          "histogram": [
           {
            "marker": {
             "colorbar": {
              "outlinewidth": 0,
              "ticks": ""
             }
            },
            "type": "histogram"
           }
          ],
          "histogram2d": [
           {
            "colorbar": {
             "outlinewidth": 0,
             "ticks": ""
            },
            "colorscale": [
             [
              0,
              "#0d0887"
             ],
             [
              0.1111111111111111,
              "#46039f"
             ],
             [
              0.2222222222222222,
              "#7201a8"
             ],
             [
              0.3333333333333333,
              "#9c179e"
             ],
             [
              0.4444444444444444,
              "#bd3786"
             ],
             [
              0.5555555555555556,
              "#d8576b"
             ],
             [
              0.6666666666666666,
              "#ed7953"
             ],
             [
              0.7777777777777778,
              "#fb9f3a"
             ],
             [
              0.8888888888888888,
              "#fdca26"
             ],
             [
              1,
              "#f0f921"
             ]
            ],
            "type": "histogram2d"
           }
          ],
          "histogram2dcontour": [
           {
            "colorbar": {
             "outlinewidth": 0,
             "ticks": ""
            },
            "colorscale": [
             [
              0,
              "#0d0887"
             ],
             [
              0.1111111111111111,
              "#46039f"
             ],
             [
              0.2222222222222222,
              "#7201a8"
             ],
             [
              0.3333333333333333,
              "#9c179e"
             ],
             [
              0.4444444444444444,
              "#bd3786"
             ],
             [
              0.5555555555555556,
              "#d8576b"
             ],
             [
              0.6666666666666666,
              "#ed7953"
             ],
             [
              0.7777777777777778,
              "#fb9f3a"
             ],
             [
              0.8888888888888888,
              "#fdca26"
             ],
             [
              1,
              "#f0f921"
             ]
            ],
            "type": "histogram2dcontour"
           }
          ],
          "mesh3d": [
           {
            "colorbar": {
             "outlinewidth": 0,
             "ticks": ""
            },
            "type": "mesh3d"
           }
          ],
          "parcoords": [
           {
            "line": {
             "colorbar": {
              "outlinewidth": 0,
              "ticks": ""
             }
            },
            "type": "parcoords"
           }
          ],
          "pie": [
           {
            "automargin": true,
            "type": "pie"
           }
          ],
          "scatter": [
           {
            "marker": {
             "colorbar": {
              "outlinewidth": 0,
              "ticks": ""
             }
            },
            "type": "scatter"
           }
          ],
          "scatter3d": [
           {
            "line": {
             "colorbar": {
              "outlinewidth": 0,
              "ticks": ""
             }
            },
            "marker": {
             "colorbar": {
              "outlinewidth": 0,
              "ticks": ""
             }
            },
            "type": "scatter3d"
           }
          ],
          "scattercarpet": [
           {
            "marker": {
             "colorbar": {
              "outlinewidth": 0,
              "ticks": ""
             }
            },
            "type": "scattercarpet"
           }
          ],
          "scattergeo": [
           {
            "marker": {
             "colorbar": {
              "outlinewidth": 0,
              "ticks": ""
             }
            },
            "type": "scattergeo"
           }
          ],
          "scattergl": [
           {
            "marker": {
             "colorbar": {
              "outlinewidth": 0,
              "ticks": ""
             }
            },
            "type": "scattergl"
           }
          ],
          "scattermapbox": [
           {
            "marker": {
             "colorbar": {
              "outlinewidth": 0,
              "ticks": ""
             }
            },
            "type": "scattermapbox"
           }
          ],
          "scatterpolar": [
           {
            "marker": {
             "colorbar": {
              "outlinewidth": 0,
              "ticks": ""
             }
            },
            "type": "scatterpolar"
           }
          ],
          "scatterpolargl": [
           {
            "marker": {
             "colorbar": {
              "outlinewidth": 0,
              "ticks": ""
             }
            },
            "type": "scatterpolargl"
           }
          ],
          "scatterternary": [
           {
            "marker": {
             "colorbar": {
              "outlinewidth": 0,
              "ticks": ""
             }
            },
            "type": "scatterternary"
           }
          ],
          "surface": [
           {
            "colorbar": {
             "outlinewidth": 0,
             "ticks": ""
            },
            "colorscale": [
             [
              0,
              "#0d0887"
             ],
             [
              0.1111111111111111,
              "#46039f"
             ],
             [
              0.2222222222222222,
              "#7201a8"
             ],
             [
              0.3333333333333333,
              "#9c179e"
             ],
             [
              0.4444444444444444,
              "#bd3786"
             ],
             [
              0.5555555555555556,
              "#d8576b"
             ],
             [
              0.6666666666666666,
              "#ed7953"
             ],
             [
              0.7777777777777778,
              "#fb9f3a"
             ],
             [
              0.8888888888888888,
              "#fdca26"
             ],
             [
              1,
              "#f0f921"
             ]
            ],
            "type": "surface"
           }
          ],
          "table": [
           {
            "cells": {
             "fill": {
              "color": "#EBF0F8"
             },
             "line": {
              "color": "white"
             }
            },
            "header": {
             "fill": {
              "color": "#C8D4E3"
             },
             "line": {
              "color": "white"
             }
            },
            "type": "table"
           }
          ]
         },
         "layout": {
          "annotationdefaults": {
           "arrowcolor": "#2a3f5f",
           "arrowhead": 0,
           "arrowwidth": 1
          },
          "coloraxis": {
           "colorbar": {
            "outlinewidth": 0,
            "ticks": ""
           }
          },
          "colorscale": {
           "diverging": [
            [
             0,
             "#8e0152"
            ],
            [
             0.1,
             "#c51b7d"
            ],
            [
             0.2,
             "#de77ae"
            ],
            [
             0.3,
             "#f1b6da"
            ],
            [
             0.4,
             "#fde0ef"
            ],
            [
             0.5,
             "#f7f7f7"
            ],
            [
             0.6,
             "#e6f5d0"
            ],
            [
             0.7,
             "#b8e186"
            ],
            [
             0.8,
             "#7fbc41"
            ],
            [
             0.9,
             "#4d9221"
            ],
            [
             1,
             "#276419"
            ]
           ],
           "sequential": [
            [
             0,
             "#0d0887"
            ],
            [
             0.1111111111111111,
             "#46039f"
            ],
            [
             0.2222222222222222,
             "#7201a8"
            ],
            [
             0.3333333333333333,
             "#9c179e"
            ],
            [
             0.4444444444444444,
             "#bd3786"
            ],
            [
             0.5555555555555556,
             "#d8576b"
            ],
            [
             0.6666666666666666,
             "#ed7953"
            ],
            [
             0.7777777777777778,
             "#fb9f3a"
            ],
            [
             0.8888888888888888,
             "#fdca26"
            ],
            [
             1,
             "#f0f921"
            ]
           ],
           "sequentialminus": [
            [
             0,
             "#0d0887"
            ],
            [
             0.1111111111111111,
             "#46039f"
            ],
            [
             0.2222222222222222,
             "#7201a8"
            ],
            [
             0.3333333333333333,
             "#9c179e"
            ],
            [
             0.4444444444444444,
             "#bd3786"
            ],
            [
             0.5555555555555556,
             "#d8576b"
            ],
            [
             0.6666666666666666,
             "#ed7953"
            ],
            [
             0.7777777777777778,
             "#fb9f3a"
            ],
            [
             0.8888888888888888,
             "#fdca26"
            ],
            [
             1,
             "#f0f921"
            ]
           ]
          },
          "colorway": [
           "#636efa",
           "#EF553B",
           "#00cc96",
           "#ab63fa",
           "#FFA15A",
           "#19d3f3",
           "#FF6692",
           "#B6E880",
           "#FF97FF",
           "#FECB52"
          ],
          "font": {
           "color": "#2a3f5f"
          },
          "geo": {
           "bgcolor": "white",
           "lakecolor": "white",
           "landcolor": "#E5ECF6",
           "showlakes": true,
           "showland": true,
           "subunitcolor": "white"
          },
          "hoverlabel": {
           "align": "left"
          },
          "hovermode": "closest",
          "mapbox": {
           "style": "light"
          },
          "paper_bgcolor": "white",
          "plot_bgcolor": "#E5ECF6",
          "polar": {
           "angularaxis": {
            "gridcolor": "white",
            "linecolor": "white",
            "ticks": ""
           },
           "bgcolor": "#E5ECF6",
           "radialaxis": {
            "gridcolor": "white",
            "linecolor": "white",
            "ticks": ""
           }
          },
          "scene": {
           "xaxis": {
            "backgroundcolor": "#E5ECF6",
            "gridcolor": "white",
            "gridwidth": 2,
            "linecolor": "white",
            "showbackground": true,
            "ticks": "",
            "zerolinecolor": "white"
           },
           "yaxis": {
            "backgroundcolor": "#E5ECF6",
            "gridcolor": "white",
            "gridwidth": 2,
            "linecolor": "white",
            "showbackground": true,
            "ticks": "",
            "zerolinecolor": "white"
           },
           "zaxis": {
            "backgroundcolor": "#E5ECF6",
            "gridcolor": "white",
            "gridwidth": 2,
            "linecolor": "white",
            "showbackground": true,
            "ticks": "",
            "zerolinecolor": "white"
           }
          },
          "shapedefaults": {
           "line": {
            "color": "#2a3f5f"
           }
          },
          "ternary": {
           "aaxis": {
            "gridcolor": "white",
            "linecolor": "white",
            "ticks": ""
           },
           "baxis": {
            "gridcolor": "white",
            "linecolor": "white",
            "ticks": ""
           },
           "bgcolor": "#E5ECF6",
           "caxis": {
            "gridcolor": "white",
            "linecolor": "white",
            "ticks": ""
           }
          },
          "title": {
           "x": 0.05
          },
          "xaxis": {
           "automargin": true,
           "gridcolor": "white",
           "linecolor": "white",
           "ticks": "",
           "title": {
            "standoff": 15
           },
           "zerolinecolor": "white",
           "zerolinewidth": 2
          },
          "yaxis": {
           "automargin": true,
           "gridcolor": "white",
           "linecolor": "white",
           "ticks": "",
           "title": {
            "standoff": 15
           },
           "zerolinecolor": "white",
           "zerolinewidth": 2
          }
         }
        }
       }
      },
      "text/html": [
       "<div>\n",
       "        \n",
       "        \n",
       "            <div id=\"4cdcd90d-345c-4bb8-a09d-915b6111b058\" class=\"plotly-graph-div\" style=\"height:525px; width:100%;\"></div>\n",
       "            <script type=\"text/javascript\">\n",
       "                require([\"plotly\"], function(Plotly) {\n",
       "                    window.PLOTLYENV=window.PLOTLYENV || {};\n",
       "                    \n",
       "                if (document.getElementById(\"4cdcd90d-345c-4bb8-a09d-915b6111b058\")) {\n",
       "                    Plotly.newPlot(\n",
       "                        '4cdcd90d-345c-4bb8-a09d-915b6111b058',\n",
       "                        [{\"type\": \"histogram\", \"x\": [77183.6, 711.79, 475.39000000000004, 636.25, 382.52000000000004, 584.91, 1294.3199999999997, 224.82000000000002, 652.8000000000002, 187.44, 327.0, 270.0, 1457.5499999999997, 294.4, 296.5, 104.35, 120.32999999999998, 120.33000000000001, 286.25, 226.25, 231.72999999999996, 89.0, 1079.4000000000003, 459.4, 1947.6200000000003, 481.4599999999999, 58.349999999999994, 6207.669999999996, 404.85999999999996, 523.2, 547.5, 1838.9100000000008, 1109.32, 2814.299999999999, 923.58, 454.7000000000001, 923.7800000000002, 174.89999999999998, 434.09999999999997, 450.24000000000007, 273.76, 424.25, 769.9900000000001, 325.8, 726.9500000000002, 439.1600000000001, 417.94, 475.0400000000001, 299.0999999999999, 252.89999999999998, 578.9199999999998, 64.8, 269.0599999999999, 295.32, 320.69, 150.9, 1587.0700000000002, 157.2, 938.3900000000002, 739.28, 1527.9599999999996, 363.22, 479.70000000000005, 353.11999999999995, 324.59999999999997, 622.9300000000002, 190.3, 187.20000000000002, 1001.5199999999999, 546.6, 4008.6200000000013, 414.84000000000003, 362.40000000000003, 562.55, 572.0100000000002, 396.86000000000007, 896.3899999999999, 1028.74, 339.06, 107.01, 555.7200000000001, 591.1600000000001, 285.06999999999994, 127.16000000000003, 69.45, 212.69000000000003, 212.58, 258.9, 143.0, 431.29999999999995, 124.05000000000001, 210.90000000000003, 902.0900000000006, 825.9200000000001, 286.4, 504.8400000000001, 439.6599999999997, 462.5, 177.0, 421.6000000000001]}],\n",
       "                        {\"template\": {\"data\": {\"bar\": [{\"error_x\": {\"color\": \"#2a3f5f\"}, \"error_y\": {\"color\": \"#2a3f5f\"}, \"marker\": {\"line\": {\"color\": \"#E5ECF6\", \"width\": 0.5}}, \"type\": \"bar\"}], \"barpolar\": [{\"marker\": {\"line\": {\"color\": \"#E5ECF6\", \"width\": 0.5}}, \"type\": \"barpolar\"}], \"carpet\": [{\"aaxis\": {\"endlinecolor\": \"#2a3f5f\", \"gridcolor\": \"white\", \"linecolor\": \"white\", \"minorgridcolor\": \"white\", \"startlinecolor\": \"#2a3f5f\"}, \"baxis\": {\"endlinecolor\": \"#2a3f5f\", \"gridcolor\": \"white\", \"linecolor\": \"white\", \"minorgridcolor\": \"white\", \"startlinecolor\": \"#2a3f5f\"}, \"type\": \"carpet\"}], \"choropleth\": [{\"colorbar\": {\"outlinewidth\": 0, \"ticks\": \"\"}, \"type\": \"choropleth\"}], \"contour\": [{\"colorbar\": {\"outlinewidth\": 0, \"ticks\": \"\"}, \"colorscale\": [[0.0, \"#0d0887\"], [0.1111111111111111, \"#46039f\"], [0.2222222222222222, \"#7201a8\"], [0.3333333333333333, \"#9c179e\"], [0.4444444444444444, \"#bd3786\"], [0.5555555555555556, \"#d8576b\"], [0.6666666666666666, \"#ed7953\"], [0.7777777777777778, \"#fb9f3a\"], [0.8888888888888888, \"#fdca26\"], [1.0, \"#f0f921\"]], \"type\": \"contour\"}], \"contourcarpet\": [{\"colorbar\": {\"outlinewidth\": 0, \"ticks\": \"\"}, \"type\": \"contourcarpet\"}], \"heatmap\": [{\"colorbar\": {\"outlinewidth\": 0, \"ticks\": \"\"}, \"colorscale\": [[0.0, \"#0d0887\"], [0.1111111111111111, \"#46039f\"], [0.2222222222222222, \"#7201a8\"], [0.3333333333333333, \"#9c179e\"], [0.4444444444444444, \"#bd3786\"], [0.5555555555555556, \"#d8576b\"], [0.6666666666666666, \"#ed7953\"], [0.7777777777777778, \"#fb9f3a\"], [0.8888888888888888, \"#fdca26\"], [1.0, \"#f0f921\"]], \"type\": \"heatmap\"}], \"heatmapgl\": [{\"colorbar\": {\"outlinewidth\": 0, \"ticks\": \"\"}, \"colorscale\": [[0.0, \"#0d0887\"], [0.1111111111111111, \"#46039f\"], [0.2222222222222222, \"#7201a8\"], [0.3333333333333333, \"#9c179e\"], [0.4444444444444444, \"#bd3786\"], [0.5555555555555556, \"#d8576b\"], [0.6666666666666666, \"#ed7953\"], [0.7777777777777778, \"#fb9f3a\"], [0.8888888888888888, \"#fdca26\"], [1.0, \"#f0f921\"]], \"type\": \"heatmapgl\"}], \"histogram\": [{\"marker\": {\"colorbar\": {\"outlinewidth\": 0, \"ticks\": \"\"}}, \"type\": \"histogram\"}], \"histogram2d\": [{\"colorbar\": {\"outlinewidth\": 0, \"ticks\": \"\"}, \"colorscale\": [[0.0, \"#0d0887\"], [0.1111111111111111, \"#46039f\"], [0.2222222222222222, \"#7201a8\"], [0.3333333333333333, \"#9c179e\"], [0.4444444444444444, \"#bd3786\"], [0.5555555555555556, \"#d8576b\"], [0.6666666666666666, \"#ed7953\"], [0.7777777777777778, \"#fb9f3a\"], [0.8888888888888888, \"#fdca26\"], [1.0, \"#f0f921\"]], \"type\": \"histogram2d\"}], \"histogram2dcontour\": [{\"colorbar\": {\"outlinewidth\": 0, \"ticks\": \"\"}, \"colorscale\": [[0.0, \"#0d0887\"], [0.1111111111111111, \"#46039f\"], [0.2222222222222222, \"#7201a8\"], [0.3333333333333333, \"#9c179e\"], [0.4444444444444444, \"#bd3786\"], [0.5555555555555556, \"#d8576b\"], [0.6666666666666666, \"#ed7953\"], [0.7777777777777778, \"#fb9f3a\"], [0.8888888888888888, \"#fdca26\"], [1.0, \"#f0f921\"]], \"type\": \"histogram2dcontour\"}], \"mesh3d\": [{\"colorbar\": {\"outlinewidth\": 0, \"ticks\": \"\"}, \"type\": \"mesh3d\"}], \"parcoords\": [{\"line\": {\"colorbar\": {\"outlinewidth\": 0, \"ticks\": \"\"}}, \"type\": \"parcoords\"}], \"pie\": [{\"automargin\": true, \"type\": \"pie\"}], \"scatter\": [{\"marker\": {\"colorbar\": {\"outlinewidth\": 0, \"ticks\": \"\"}}, \"type\": \"scatter\"}], \"scatter3d\": [{\"line\": {\"colorbar\": {\"outlinewidth\": 0, \"ticks\": \"\"}}, \"marker\": {\"colorbar\": {\"outlinewidth\": 0, \"ticks\": \"\"}}, \"type\": \"scatter3d\"}], \"scattercarpet\": [{\"marker\": {\"colorbar\": {\"outlinewidth\": 0, \"ticks\": \"\"}}, \"type\": \"scattercarpet\"}], \"scattergeo\": [{\"marker\": {\"colorbar\": {\"outlinewidth\": 0, \"ticks\": \"\"}}, \"type\": \"scattergeo\"}], \"scattergl\": [{\"marker\": {\"colorbar\": {\"outlinewidth\": 0, \"ticks\": \"\"}}, \"type\": \"scattergl\"}], \"scattermapbox\": [{\"marker\": {\"colorbar\": {\"outlinewidth\": 0, \"ticks\": \"\"}}, \"type\": \"scattermapbox\"}], \"scatterpolar\": [{\"marker\": {\"colorbar\": {\"outlinewidth\": 0, \"ticks\": \"\"}}, \"type\": \"scatterpolar\"}], \"scatterpolargl\": [{\"marker\": {\"colorbar\": {\"outlinewidth\": 0, \"ticks\": \"\"}}, \"type\": \"scatterpolargl\"}], \"scatterternary\": [{\"marker\": {\"colorbar\": {\"outlinewidth\": 0, \"ticks\": \"\"}}, \"type\": \"scatterternary\"}], \"surface\": [{\"colorbar\": {\"outlinewidth\": 0, \"ticks\": \"\"}, \"colorscale\": [[0.0, \"#0d0887\"], [0.1111111111111111, \"#46039f\"], [0.2222222222222222, \"#7201a8\"], [0.3333333333333333, \"#9c179e\"], [0.4444444444444444, \"#bd3786\"], [0.5555555555555556, \"#d8576b\"], [0.6666666666666666, \"#ed7953\"], [0.7777777777777778, \"#fb9f3a\"], [0.8888888888888888, \"#fdca26\"], [1.0, \"#f0f921\"]], \"type\": \"surface\"}], \"table\": [{\"cells\": {\"fill\": {\"color\": \"#EBF0F8\"}, \"line\": {\"color\": \"white\"}}, \"header\": {\"fill\": {\"color\": \"#C8D4E3\"}, \"line\": {\"color\": \"white\"}}, \"type\": \"table\"}]}, \"layout\": {\"annotationdefaults\": {\"arrowcolor\": \"#2a3f5f\", \"arrowhead\": 0, \"arrowwidth\": 1}, \"coloraxis\": {\"colorbar\": {\"outlinewidth\": 0, \"ticks\": \"\"}}, \"colorscale\": {\"diverging\": [[0, \"#8e0152\"], [0.1, \"#c51b7d\"], [0.2, \"#de77ae\"], [0.3, \"#f1b6da\"], [0.4, \"#fde0ef\"], [0.5, \"#f7f7f7\"], [0.6, \"#e6f5d0\"], [0.7, \"#b8e186\"], [0.8, \"#7fbc41\"], [0.9, \"#4d9221\"], [1, \"#276419\"]], \"sequential\": [[0.0, \"#0d0887\"], [0.1111111111111111, \"#46039f\"], [0.2222222222222222, \"#7201a8\"], [0.3333333333333333, \"#9c179e\"], [0.4444444444444444, \"#bd3786\"], [0.5555555555555556, \"#d8576b\"], [0.6666666666666666, \"#ed7953\"], [0.7777777777777778, \"#fb9f3a\"], [0.8888888888888888, \"#fdca26\"], [1.0, \"#f0f921\"]], \"sequentialminus\": [[0.0, \"#0d0887\"], [0.1111111111111111, \"#46039f\"], [0.2222222222222222, \"#7201a8\"], [0.3333333333333333, \"#9c179e\"], [0.4444444444444444, \"#bd3786\"], [0.5555555555555556, \"#d8576b\"], [0.6666666666666666, \"#ed7953\"], [0.7777777777777778, \"#fb9f3a\"], [0.8888888888888888, \"#fdca26\"], [1.0, \"#f0f921\"]]}, \"colorway\": [\"#636efa\", \"#EF553B\", \"#00cc96\", \"#ab63fa\", \"#FFA15A\", \"#19d3f3\", \"#FF6692\", \"#B6E880\", \"#FF97FF\", \"#FECB52\"], \"font\": {\"color\": \"#2a3f5f\"}, \"geo\": {\"bgcolor\": \"white\", \"lakecolor\": \"white\", \"landcolor\": \"#E5ECF6\", \"showlakes\": true, \"showland\": true, \"subunitcolor\": \"white\"}, \"hoverlabel\": {\"align\": \"left\"}, \"hovermode\": \"closest\", \"mapbox\": {\"style\": \"light\"}, \"paper_bgcolor\": \"white\", \"plot_bgcolor\": \"#E5ECF6\", \"polar\": {\"angularaxis\": {\"gridcolor\": \"white\", \"linecolor\": \"white\", \"ticks\": \"\"}, \"bgcolor\": \"#E5ECF6\", \"radialaxis\": {\"gridcolor\": \"white\", \"linecolor\": \"white\", \"ticks\": \"\"}}, \"scene\": {\"xaxis\": {\"backgroundcolor\": \"#E5ECF6\", \"gridcolor\": \"white\", \"gridwidth\": 2, \"linecolor\": \"white\", \"showbackground\": true, \"ticks\": \"\", \"zerolinecolor\": \"white\"}, \"yaxis\": {\"backgroundcolor\": \"#E5ECF6\", \"gridcolor\": \"white\", \"gridwidth\": 2, \"linecolor\": \"white\", \"showbackground\": true, \"ticks\": \"\", \"zerolinecolor\": \"white\"}, \"zaxis\": {\"backgroundcolor\": \"#E5ECF6\", \"gridcolor\": \"white\", \"gridwidth\": 2, \"linecolor\": \"white\", \"showbackground\": true, \"ticks\": \"\", \"zerolinecolor\": \"white\"}}, \"shapedefaults\": {\"line\": {\"color\": \"#2a3f5f\"}}, \"ternary\": {\"aaxis\": {\"gridcolor\": \"white\", \"linecolor\": \"white\", \"ticks\": \"\"}, \"baxis\": {\"gridcolor\": \"white\", \"linecolor\": \"white\", \"ticks\": \"\"}, \"bgcolor\": \"#E5ECF6\", \"caxis\": {\"gridcolor\": \"white\", \"linecolor\": \"white\", \"ticks\": \"\"}}, \"title\": {\"x\": 0.05}, \"xaxis\": {\"automargin\": true, \"gridcolor\": \"white\", \"linecolor\": \"white\", \"ticks\": \"\", \"title\": {\"standoff\": 15}, \"zerolinecolor\": \"white\", \"zerolinewidth\": 2}, \"yaxis\": {\"automargin\": true, \"gridcolor\": \"white\", \"linecolor\": \"white\", \"ticks\": \"\", \"title\": {\"standoff\": 15}, \"zerolinecolor\": \"white\", \"zerolinewidth\": 2}}}},\n",
       "                        {\"responsive\": true}\n",
       "                    ).then(function(){\n",
       "                            \n",
       "var gd = document.getElementById('4cdcd90d-345c-4bb8-a09d-915b6111b058');\n",
       "var x = new MutationObserver(function (mutations, observer) {{\n",
       "        var display = window.getComputedStyle(gd).display;\n",
       "        if (!display || display === 'none') {{\n",
       "            console.log([gd, 'removed!']);\n",
       "            Plotly.purge(gd);\n",
       "            observer.disconnect();\n",
       "        }}\n",
       "}});\n",
       "\n",
       "// Listen for the removal of the full notebook cells\n",
       "var notebookContainer = gd.closest('#notebook-container');\n",
       "if (notebookContainer) {{\n",
       "    x.observe(notebookContainer, {childList: true});\n",
       "}}\n",
       "\n",
       "// Listen for the clearing of the current output cell\n",
       "var outputEl = gd.closest('.output');\n",
       "if (outputEl) {{\n",
       "    x.observe(outputEl, {childList: true});\n",
       "}}\n",
       "\n",
       "                        })\n",
       "                };\n",
       "                });\n",
       "            </script>\n",
       "        </div>"
      ]
     },
     "metadata": {},
     "output_type": "display_data"
    }
   ],
   "source": [
    "tmp = basket_price\n",
    "tmp = pd.DataFrame(tmp)\n",
    "tmp.reset_index(level=0, inplace=True)\n",
    "tmp.sort_values('Basket value', ascending=False)\n",
    "\n",
    "data4plot = [go.Histogram(x=tmp['Basket value'][:100])]\n",
    "\n",
    "iplot(data4plot)"
   ]
  },
  {
   "cell_type": "markdown",
   "metadata": {},
   "source": [
    "#### The distribution of basket is somewhat bimodal. This histogram of basket values indicates a large number of low total value baskets and a small number of individual orders totaling high value baskets. This observation can be used to bin customers into those spending small amounts, medium amounts, and high value baskets (note the bimodal distribution above may cause an imbalance problem for machine learning):"
   ]
  },
  {
   "cell_type": "code",
   "execution_count": 43,
   "metadata": {},
   "outputs": [],
   "source": [
    "spend_label = []\n",
    "for i in range(0,len(data),1):\n",
    "    if data['total_spend'].iloc[i] < 5000:\n",
    "        spend_label.append(1)\n",
    "    elif data['total_spend'].iloc[i] >50000:\n",
    "        spend_label.append(3)\n",
    "    else:\n",
    "        spend_label.append(2)"
   ]
  },
  {
   "cell_type": "code",
   "execution_count": 44,
   "metadata": {},
   "outputs": [],
   "source": [
    "data['spend_label'] = spend_label"
   ]
  },
  {
   "cell_type": "code",
   "execution_count": 45,
   "metadata": {},
   "outputs": [
    {
     "data": {
      "text/plain": [
       "(3660, 3861)"
      ]
     },
     "execution_count": 45,
     "metadata": {},
     "output_type": "execute_result"
    }
   ],
   "source": [
    "len(data.StockCode.unique()), len(data.Description.unique())"
   ]
  },
  {
   "cell_type": "code",
   "execution_count": 46,
   "metadata": {},
   "outputs": [
    {
     "data": {
      "text/html": [
       "<div>\n",
       "<style scoped>\n",
       "    .dataframe tbody tr th:only-of-type {\n",
       "        vertical-align: middle;\n",
       "    }\n",
       "\n",
       "    .dataframe tbody tr th {\n",
       "        vertical-align: top;\n",
       "    }\n",
       "\n",
       "    .dataframe thead th {\n",
       "        text-align: right;\n",
       "    }\n",
       "</style>\n",
       "<table border=\"1\" class=\"dataframe\">\n",
       "  <thead>\n",
       "    <tr style=\"text-align: right;\">\n",
       "      <th></th>\n",
       "      <th>InvoiceNo</th>\n",
       "      <th>StockCode</th>\n",
       "      <th>Description</th>\n",
       "      <th>Quantity</th>\n",
       "      <th>InvoiceDate</th>\n",
       "      <th>UnitPrice</th>\n",
       "      <th>CustomerID</th>\n",
       "      <th>Country</th>\n",
       "      <th>total_spend</th>\n",
       "      <th>spend_label</th>\n",
       "    </tr>\n",
       "  </thead>\n",
       "  <tbody>\n",
       "    <tr>\n",
       "      <th>540421</th>\n",
       "      <td>581483</td>\n",
       "      <td>23843</td>\n",
       "      <td>PAPER CRAFT , LITTLE BIRDIE</td>\n",
       "      <td>80995</td>\n",
       "      <td>2011-12-09 09:15:00</td>\n",
       "      <td>2.1</td>\n",
       "      <td>16446.0</td>\n",
       "      <td>United Kingdom</td>\n",
       "      <td>168469.6</td>\n",
       "      <td>3</td>\n",
       "    </tr>\n",
       "    <tr>\n",
       "      <th>61619</th>\n",
       "      <td>541431</td>\n",
       "      <td>23166</td>\n",
       "      <td>MEDIUM CERAMIC TOP STORAGE JAR</td>\n",
       "      <td>74215</td>\n",
       "      <td>2011-01-18 10:01:00</td>\n",
       "      <td>1.0</td>\n",
       "      <td>12346.0</td>\n",
       "      <td>United Kingdom</td>\n",
       "      <td>77183.6</td>\n",
       "      <td>3</td>\n",
       "    </tr>\n",
       "    <tr>\n",
       "      <th>502122</th>\n",
       "      <td>578841</td>\n",
       "      <td>84826</td>\n",
       "      <td>ASSTD DESIGN 3D PAPER STICKERS</td>\n",
       "      <td>12540</td>\n",
       "      <td>2011-11-25 15:57:00</td>\n",
       "      <td>0.0</td>\n",
       "      <td>13256.0</td>\n",
       "      <td>United Kingdom</td>\n",
       "      <td>0.0</td>\n",
       "      <td>1</td>\n",
       "    </tr>\n",
       "    <tr>\n",
       "      <th>421632</th>\n",
       "      <td>573008</td>\n",
       "      <td>84077</td>\n",
       "      <td>WORLD WAR 2 GLIDERS ASSTD DESIGNS</td>\n",
       "      <td>4800</td>\n",
       "      <td>2011-10-27 12:26:00</td>\n",
       "      <td>0.2</td>\n",
       "      <td>12901.0</td>\n",
       "      <td>United Kingdom</td>\n",
       "      <td>1008.0</td>\n",
       "      <td>1</td>\n",
       "    </tr>\n",
       "    <tr>\n",
       "      <th>206121</th>\n",
       "      <td>554868</td>\n",
       "      <td>22197</td>\n",
       "      <td>SMALL POPCORN HOLDER</td>\n",
       "      <td>4300</td>\n",
       "      <td>2011-05-27 10:52:00</td>\n",
       "      <td>0.7</td>\n",
       "      <td>13135.0</td>\n",
       "      <td>United Kingdom</td>\n",
       "      <td>3096.0</td>\n",
       "      <td>1</td>\n",
       "    </tr>\n",
       "  </tbody>\n",
       "</table>\n",
       "</div>"
      ],
      "text/plain": [
       "       InvoiceNo StockCode                        Description  Quantity  \\\n",
       "540421    581483     23843        PAPER CRAFT , LITTLE BIRDIE     80995   \n",
       "61619     541431     23166     MEDIUM CERAMIC TOP STORAGE JAR     74215   \n",
       "502122    578841     84826     ASSTD DESIGN 3D PAPER STICKERS     12540   \n",
       "421632    573008     84077  WORLD WAR 2 GLIDERS ASSTD DESIGNS      4800   \n",
       "206121    554868     22197               SMALL POPCORN HOLDER      4300   \n",
       "\n",
       "               InvoiceDate  UnitPrice  CustomerID         Country  \\\n",
       "540421 2011-12-09 09:15:00        2.1     16446.0  United Kingdom   \n",
       "61619  2011-01-18 10:01:00        1.0     12346.0  United Kingdom   \n",
       "502122 2011-11-25 15:57:00        0.0     13256.0  United Kingdom   \n",
       "421632 2011-10-27 12:26:00        0.2     12901.0  United Kingdom   \n",
       "206121 2011-05-27 10:52:00        0.7     13135.0  United Kingdom   \n",
       "\n",
       "        total_spend  spend_label  \n",
       "540421     168469.6            3  \n",
       "61619       77183.6            3  \n",
       "502122          0.0            1  \n",
       "421632       1008.0            1  \n",
       "206121       3096.0            1  "
      ]
     },
     "execution_count": 46,
     "metadata": {},
     "output_type": "execute_result"
    }
   ],
   "source": [
    "data.head()"
   ]
  },
  {
   "cell_type": "code",
   "execution_count": 47,
   "metadata": {},
   "outputs": [],
   "source": [
    "### Save the Cleaned Dataset into a Pickle file.\n",
    "pickle.dump(data, open( \"clean_data.pkl\", \"wb\" ))"
   ]
  },
  {
   "cell_type": "markdown",
   "metadata": {},
   "source": [
    "## Clustering\n",
    "### Group by CustomerID\n",
    "- group by CustomerID, together with sum or number of items (quantity) and the unit price"
   ]
  },
  {
   "cell_type": "code",
   "execution_count": 48,
   "metadata": {},
   "outputs": [],
   "source": [
    "data_grouped = data.groupby('CustomerID')\n",
    "data_cluster=pd.DataFrame(columns=['Quantity','UnitPrice', 'total_spend', 'CustomerID'])\n",
    "count=0"
   ]
  },
  {
   "cell_type": "code",
   "execution_count": null,
   "metadata": {},
   "outputs": [],
   "source": [
    "# data_grouped.head(5)"
   ]
  },
  {
   "cell_type": "code",
   "execution_count": 49,
   "metadata": {},
   "outputs": [],
   "source": [
    "for k,v in (data_grouped):\n",
    "    data_cluster.loc[count] = [(v['Quantity'].sum()), v['UnitPrice'].sum(), v['total_spend'].sum(), k]\n",
    "    count+=1\n",
    "\n",
    "### Applying K-Means Clustering Algorithm to quantity, and total spend\n",
    "X = data_cluster.iloc[:, [0, 2]].values"
   ]
  },
  {
   "cell_type": "code",
   "execution_count": 50,
   "metadata": {},
   "outputs": [
    {
     "data": {
      "text/html": [
       "<div>\n",
       "<style scoped>\n",
       "    .dataframe tbody tr th:only-of-type {\n",
       "        vertical-align: middle;\n",
       "    }\n",
       "\n",
       "    .dataframe tbody tr th {\n",
       "        vertical-align: top;\n",
       "    }\n",
       "\n",
       "    .dataframe thead th {\n",
       "        text-align: right;\n",
       "    }\n",
       "</style>\n",
       "<table border=\"1\" class=\"dataframe\">\n",
       "  <thead>\n",
       "    <tr style=\"text-align: right;\">\n",
       "      <th></th>\n",
       "      <th>Quantity</th>\n",
       "      <th>UnitPrice</th>\n",
       "      <th>total_spend</th>\n",
       "      <th>CustomerID</th>\n",
       "    </tr>\n",
       "  </thead>\n",
       "  <tbody>\n",
       "    <tr>\n",
       "      <th>0</th>\n",
       "      <td>74215.0</td>\n",
       "      <td>1.0</td>\n",
       "      <td>77183.6</td>\n",
       "      <td>12346.0</td>\n",
       "    </tr>\n",
       "    <tr>\n",
       "      <th>1</th>\n",
       "      <td>2458.0</td>\n",
       "      <td>481.2</td>\n",
       "      <td>4310.0</td>\n",
       "      <td>12347.0</td>\n",
       "    </tr>\n",
       "    <tr>\n",
       "      <th>2</th>\n",
       "      <td>2332.0</td>\n",
       "      <td>18.7</td>\n",
       "      <td>1437.2</td>\n",
       "      <td>12348.0</td>\n",
       "    </tr>\n",
       "    <tr>\n",
       "      <th>3</th>\n",
       "      <td>630.0</td>\n",
       "      <td>305.1</td>\n",
       "      <td>1457.5</td>\n",
       "      <td>12349.0</td>\n",
       "    </tr>\n",
       "    <tr>\n",
       "      <th>4</th>\n",
       "      <td>196.0</td>\n",
       "      <td>25.3</td>\n",
       "      <td>294.4</td>\n",
       "      <td>12350.0</td>\n",
       "    </tr>\n",
       "  </tbody>\n",
       "</table>\n",
       "</div>"
      ],
      "text/plain": [
       "   Quantity  UnitPrice  total_spend  CustomerID\n",
       "0   74215.0        1.0      77183.6     12346.0\n",
       "1    2458.0      481.2       4310.0     12347.0\n",
       "2    2332.0       18.7       1437.2     12348.0\n",
       "3     630.0      305.1       1457.5     12349.0\n",
       "4     196.0       25.3        294.4     12350.0"
      ]
     },
     "execution_count": 50,
     "metadata": {},
     "output_type": "execute_result"
    }
   ],
   "source": [
    "data_cluster.head()"
   ]
  },
  {
   "cell_type": "code",
   "execution_count": 51,
   "metadata": {},
   "outputs": [
    {
     "data": {
      "text/plain": [
       "KMeans(algorithm='auto', copy_x=True, init='k-means++', max_iter=300,\n",
       "       n_clusters=1, n_init=10, n_jobs=None, precompute_distances='auto',\n",
       "       random_state=None, tol=0.0001, verbose=0)"
      ]
     },
     "execution_count": 51,
     "metadata": {},
     "output_type": "execute_result"
    },
    {
     "data": {
      "text/plain": [
       "KMeans(algorithm='auto', copy_x=True, init='k-means++', max_iter=300,\n",
       "       n_clusters=2, n_init=10, n_jobs=None, precompute_distances='auto',\n",
       "       random_state=None, tol=0.0001, verbose=0)"
      ]
     },
     "execution_count": 51,
     "metadata": {},
     "output_type": "execute_result"
    },
    {
     "data": {
      "text/plain": [
       "KMeans(algorithm='auto', copy_x=True, init='k-means++', max_iter=300,\n",
       "       n_clusters=3, n_init=10, n_jobs=None, precompute_distances='auto',\n",
       "       random_state=None, tol=0.0001, verbose=0)"
      ]
     },
     "execution_count": 51,
     "metadata": {},
     "output_type": "execute_result"
    },
    {
     "data": {
      "text/plain": [
       "KMeans(algorithm='auto', copy_x=True, init='k-means++', max_iter=300,\n",
       "       n_clusters=4, n_init=10, n_jobs=None, precompute_distances='auto',\n",
       "       random_state=None, tol=0.0001, verbose=0)"
      ]
     },
     "execution_count": 51,
     "metadata": {},
     "output_type": "execute_result"
    },
    {
     "data": {
      "text/plain": [
       "KMeans(algorithm='auto', copy_x=True, init='k-means++', max_iter=300,\n",
       "       n_clusters=5, n_init=10, n_jobs=None, precompute_distances='auto',\n",
       "       random_state=None, tol=0.0001, verbose=0)"
      ]
     },
     "execution_count": 51,
     "metadata": {},
     "output_type": "execute_result"
    },
    {
     "data": {
      "text/plain": [
       "KMeans(algorithm='auto', copy_x=True, init='k-means++', max_iter=300,\n",
       "       n_clusters=6, n_init=10, n_jobs=None, precompute_distances='auto',\n",
       "       random_state=None, tol=0.0001, verbose=0)"
      ]
     },
     "execution_count": 51,
     "metadata": {},
     "output_type": "execute_result"
    },
    {
     "data": {
      "text/plain": [
       "KMeans(algorithm='auto', copy_x=True, init='k-means++', max_iter=300,\n",
       "       n_clusters=7, n_init=10, n_jobs=None, precompute_distances='auto',\n",
       "       random_state=None, tol=0.0001, verbose=0)"
      ]
     },
     "execution_count": 51,
     "metadata": {},
     "output_type": "execute_result"
    },
    {
     "data": {
      "text/plain": [
       "KMeans(algorithm='auto', copy_x=True, init='k-means++', max_iter=300,\n",
       "       n_clusters=8, n_init=10, n_jobs=None, precompute_distances='auto',\n",
       "       random_state=None, tol=0.0001, verbose=0)"
      ]
     },
     "execution_count": 51,
     "metadata": {},
     "output_type": "execute_result"
    },
    {
     "data": {
      "text/plain": [
       "KMeans(algorithm='auto', copy_x=True, init='k-means++', max_iter=300,\n",
       "       n_clusters=9, n_init=10, n_jobs=None, precompute_distances='auto',\n",
       "       random_state=None, tol=0.0001, verbose=0)"
      ]
     },
     "execution_count": 51,
     "metadata": {},
     "output_type": "execute_result"
    },
    {
     "data": {
      "text/plain": [
       "KMeans(algorithm='auto', copy_x=True, init='k-means++', max_iter=300,\n",
       "       n_clusters=10, n_init=10, n_jobs=None, precompute_distances='auto',\n",
       "       random_state=None, tol=0.0001, verbose=0)"
      ]
     },
     "execution_count": 51,
     "metadata": {},
     "output_type": "execute_result"
    },
    {
     "data": {
      "text/plain": [
       "[<matplotlib.lines.Line2D at 0x7fc0384c13d0>]"
      ]
     },
     "execution_count": 51,
     "metadata": {},
     "output_type": "execute_result"
    },
    {
     "data": {
      "text/plain": [
       "Text(0.5, 1.0, 'The Elbow Method')"
      ]
     },
     "execution_count": 51,
     "metadata": {},
     "output_type": "execute_result"
    },
    {
     "data": {
      "text/plain": [
       "Text(0.5, 0, 'Number Of Customer Clusters(customer type clusters)')"
      ]
     },
     "execution_count": 51,
     "metadata": {},
     "output_type": "execute_result"
    },
    {
     "data": {
      "text/plain": [
       "Text(0, 0.5, 'Within cluster sum of squares (WCSS)')"
      ]
     },
     "execution_count": 51,
     "metadata": {},
     "output_type": "execute_result"
    },
    {
     "data": {
      "image/png": "[encoded data removed]",
      "text/plain": [
       "<Figure size 432x288 with 1 Axes>"
      ]
     },
     "metadata": {
      "needs_background": "light"
     },
     "output_type": "display_data"
    }
   ],
   "source": [
    "### Feature Scaling\n",
    "from sklearn.preprocessing import StandardScaler\n",
    "sc_X = StandardScaler()\n",
    "X= sc_X.fit_transform(X)\n",
    "\n",
    "### Using the Elbow method to find the optimum number of clusters\n",
    "from sklearn.cluster import KMeans\n",
    "wcss = [] #Within cluster sum of squares (inertia)\n",
    "\n",
    "for i in range(1,11): ### From 2-10 doing multiple random initializations can make a huge difference to find a better local optimal\n",
    "    kmeans = KMeans(n_clusters = i, init ='k-means++',max_iter=300,n_init=10)\n",
    "    kmeans.fit(X)\n",
    "    wcss.append(kmeans.inertia_)\n",
    "plt.plot(range(1,11) , wcss)\n",
    "plt.title('The Elbow Method')\n",
    "plt.xlabel('Number Of Customer Clusters(customer type clusters)')\n",
    "plt.ylabel('Within cluster sum of squares (WCSS)')\n",
    "plt.show()"
   ]
  },
  {
   "cell_type": "code",
   "execution_count": 52,
   "metadata": {},
   "outputs": [
    {
     "data": {
      "text/plain": [
       "<matplotlib.collections.PathCollection at 0x7fc046472350>"
      ]
     },
     "execution_count": 52,
     "metadata": {},
     "output_type": "execute_result"
    },
    {
     "data": {
      "text/plain": [
       "<matplotlib.collections.PathCollection at 0x7fc05cefdad0>"
      ]
     },
     "execution_count": 52,
     "metadata": {},
     "output_type": "execute_result"
    },
    {
     "data": {
      "text/plain": [
       "<matplotlib.collections.PathCollection at 0x7fc0465811d0>"
      ]
     },
     "execution_count": 52,
     "metadata": {},
     "output_type": "execute_result"
    },
    {
     "data": {
      "text/plain": [
       "<matplotlib.collections.PathCollection at 0x7fc038e91810>"
      ]
     },
     "execution_count": 52,
     "metadata": {},
     "output_type": "execute_result"
    },
    {
     "data": {
      "text/plain": [
       "Text(0.5, 1.0, 'Type Of Customers(customer type clusters)')"
      ]
     },
     "execution_count": 52,
     "metadata": {},
     "output_type": "execute_result"
    },
    {
     "data": {
      "text/plain": [
       "Text(0.5, 0, 'Number of items Purchased (Quantity)')"
      ]
     },
     "execution_count": 52,
     "metadata": {},
     "output_type": "execute_result"
    },
    {
     "data": {
      "text/plain": [
       "Text(0, 0.5, 'basket total spend')"
      ]
     },
     "execution_count": 52,
     "metadata": {},
     "output_type": "execute_result"
    },
    {
     "data": {
      "text/plain": [
       "<matplotlib.legend.Legend at 0x7fc06466af10>"
      ]
     },
     "execution_count": 52,
     "metadata": {},
     "output_type": "execute_result"
    },
    {
     "data": {
      "image/png": "[encoded data removed]",
      "text/plain": [
       "<Figure size 432x288 with 1 Axes>"
      ]
     },
     "metadata": {
      "needs_background": "light"
     },
     "output_type": "display_data"
    }
   ],
   "source": [
    "### Fitting K-Means to the dataset\n",
    "kmeans = KMeans(n_clusters = 3, init = 'k-means++')\n",
    "y_kmeans = kmeans.fit_predict(X)\n",
    "\n",
    "### Visualising the clusters\n",
    "plt.scatter(X[y_kmeans == 0, 0], X[y_kmeans == 0, 1], s = 50, c = 'red', label = 'CustomerID cluster 1')\n",
    "plt.scatter(X[y_kmeans == 1, 0], X[y_kmeans == 1, 1], s = 50, c = 'blue', label = 'CustomerID cluster 2')\n",
    "plt.scatter(X[y_kmeans == 2, 0], X[y_kmeans == 2, 1], s = 50, c = 'green', label = 'CustomerID cluster 3')\n",
    "plt.scatter(kmeans.cluster_centers_[:, 0], kmeans.cluster_centers_[:, 1], s = 100, c = 'yellow', label = 'Centroids')\n",
    "plt.title('Type Of Customers(customer type clusters)')\n",
    "plt.xlabel('Number of items Purchased (Quantity)')\n",
    "plt.ylabel('basket total spend')\n",
    "plt.legend()\n",
    "plt.show()"
   ]
  },
  {
   "cell_type": "markdown",
   "metadata": {},
   "source": [
    "#### Clustering appears to separate the customers based on numbers of items and total spend, which would be expected"
   ]
  },
  {
   "cell_type": "markdown",
   "metadata": {},
   "source": [
    "## Modelling\n",
    "### Machine Learning Data Preparation"
   ]
  },
  {
   "cell_type": "code",
   "execution_count": 2,
   "metadata": {},
   "outputs": [],
   "source": [
    "### Load the Cleaned Dataset back from the pickle file.\n",
    "data = pickle.load(open( \"clean_data.pkl\", \"rb\" ))"
   ]
  },
  {
   "cell_type": "code",
   "execution_count": 3,
   "metadata": {},
   "outputs": [
    {
     "data": {
      "image/png": "[encoded data removed]",
      "text/plain": [
       "<Figure size 720x720 with 2 Axes>"
      ]
     },
     "metadata": {
      "needs_background": "light"
     },
     "output_type": "display_data"
    }
   ],
   "source": [
    "### A cursory examination of correlation to identify potentially problematic variables from the model training dataset.\n",
    "### Heat Map to look for correlation\n",
    "f,ax = plt.subplots(figsize=(10, 10))\n",
    "sns.heatmap(data.corr(), annot=True, linewidths=.5, fmt= '.1f',ax=ax);"
   ]
  },
  {
   "cell_type": "markdown",
   "metadata": {},
   "source": [
    "#### Unsurprisingly, total spend correlates with quantity and the spend_label. Potentially, quantity or total spend may have to be removed for training."
   ]
  },
  {
   "cell_type": "code",
   "execution_count": 4,
   "metadata": {},
   "outputs": [
    {
     "data": {
      "text/plain": [
       "<matplotlib.axes._subplots.AxesSubplot at 0x7f8c1e414950>"
      ]
     },
     "execution_count": 4,
     "metadata": {},
     "output_type": "execute_result"
    },
    {
     "data": {
      "image/png": "[encoded data removed]",
      "text/plain": [
       "<Figure size 432x288 with 1 Axes>"
      ]
     },
     "metadata": {
      "needs_background": "light"
     },
     "output_type": "display_data"
    }
   ],
   "source": [
    "sns.distplot(data['spend_label'],kde = False)\n",
    "plt.show()"
   ]
  },
  {
   "cell_type": "markdown",
   "metadata": {},
   "source": [
    "#### This data is very imbalanced. For the purposes of this investigation the lower value baskets will be used for prediction.\n",
    "#### Below I will identify a range suitable for binning:"
   ]
  },
  {
   "cell_type": "code",
   "execution_count": 5,
   "metadata": {},
   "outputs": [],
   "source": [
    "data2 = data[(data['total_spend'] >0) & (data['total_spend'] < 100)]"
   ]
  },
  {
   "cell_type": "code",
   "execution_count": 6,
   "metadata": {},
   "outputs": [
    {
     "data": {
      "text/plain": [
       "<matplotlib.axes._subplots.AxesSubplot at 0x7f8c1e70f390>"
      ]
     },
     "execution_count": 6,
     "metadata": {},
     "output_type": "execute_result"
    },
    {
     "data": {
      "image/png": "[encoded data removed]",
      "text/plain": [
       "<Figure size 432x288 with 1 Axes>"
      ]
     },
     "metadata": {
      "needs_background": "light"
     },
     "output_type": "display_data"
    }
   ],
   "source": [
    "sns.distplot(data2['total_spend'],kde = False)\n",
    "plt.show()"
   ]
  },
  {
   "cell_type": "markdown",
   "metadata": {},
   "source": [
    "#### Here we are repeating the labeling of total spend from low (0), medium (1), and high (2), but with the lower range of values."
   ]
  },
  {
   "cell_type": "code",
   "execution_count": 7,
   "metadata": {},
   "outputs": [],
   "source": [
    "spend_label = []\n",
    "for i in range(0,len(data2),1):\n",
    "    if data2['total_spend'].iloc[i] < 10:\n",
    "        spend_label.append(0)\n",
    "    elif data2['total_spend'].iloc[i] >40:\n",
    "        spend_label.append(2)\n",
    "    else:\n",
    "        spend_label.append(1)"
   ]
  },
  {
   "cell_type": "markdown",
   "metadata": {},
   "source": [
    "#### Numerical labels represent 0 - low value baskets, 1 - medium value baskets, 3 - higher value baskets."
   ]
  },
  {
   "cell_type": "code",
   "execution_count": 8,
   "metadata": {},
   "outputs": [
    {
     "name": "stderr",
     "output_type": "stream",
     "text": [
      "/Volumes/RaviVarma/DataScience/anaconda3/lib/python3.7/site-packages/ipykernel_launcher.py:1: SettingWithCopyWarning:\n",
      "\n",
      "\n",
      "A value is trying to be set on a copy of a slice from a DataFrame.\n",
      "Try using .loc[row_indexer,col_indexer] = value instead\n",
      "\n",
      "See the caveats in the documentation: https://pandas.pydata.org/pandas-docs/stable/user_guide/indexing.html#returning-a-view-versus-a-copy\n",
      "\n"
     ]
    }
   ],
   "source": [
    "data2['spend_label'] = spend_label"
   ]
  },
  {
   "cell_type": "code",
   "execution_count": 9,
   "metadata": {},
   "outputs": [
    {
     "data": {
      "text/plain": [
       "(379870, 10)"
      ]
     },
     "execution_count": 9,
     "metadata": {},
     "output_type": "execute_result"
    }
   ],
   "source": [
    "data2.shape ### There is still a reasonably large sized data set to work with"
   ]
  },
  {
   "cell_type": "code",
   "execution_count": 10,
   "metadata": {},
   "outputs": [
    {
     "data": {
      "text/plain": [
       "<matplotlib.axes._subplots.AxesSubplot at 0x7f8c1e76a750>"
      ]
     },
     "execution_count": 10,
     "metadata": {},
     "output_type": "execute_result"
    },
    {
     "data": {
      "image/png": "[encoded data removed]",
      "text/plain": [
       "<Figure size 432x288 with 1 Axes>"
      ]
     },
     "metadata": {
      "needs_background": "light"
     },
     "output_type": "display_data"
    }
   ],
   "source": [
    "sns.distplot(data2['spend_label'],kde = False)\n",
    "plt.show()"
   ]
  },
  {
   "cell_type": "markdown",
   "metadata": {},
   "source": [
    "#### The data is still unbalanced in terms of representation from high value baskets, but more balanced than the full dataset\n",
    "### Create dummy variables from the string columns (descriptions and country)"
   ]
  },
  {
   "cell_type": "code",
   "execution_count": 11,
   "metadata": {},
   "outputs": [],
   "source": [
    "### Encode the description label\n",
    "cols_to_transform = ['Description']\n",
    "type_hash = pd.get_dummies(data=data2['Description'])\n",
    "type_hash2 = pd.get_dummies(data=data2['Country'])"
   ]
  },
  {
   "cell_type": "code",
   "execution_count": 12,
   "metadata": {},
   "outputs": [],
   "source": [
    "learning_data = pd.concat([data2, type_hash, type_hash2], axis=1)"
   ]
  },
  {
   "cell_type": "code",
   "execution_count": 13,
   "metadata": {},
   "outputs": [],
   "source": [
    "### Drop the columns that have been now been replaced and that are not required\n",
    "droplist = ['Quantity','StockCode','InvoiceDate','InvoiceNo','UnitPrice','Description','Country','CustomerID']\n",
    "learning_data = learning_data.drop(droplist, axis=1)"
   ]
  },
  {
   "cell_type": "code",
   "execution_count": 14,
   "metadata": {},
   "outputs": [],
   "source": [
    "learning_data = learning_data.reset_index(drop=True)"
   ]
  },
  {
   "cell_type": "code",
   "execution_count": 15,
   "metadata": {},
   "outputs": [],
   "source": [
    "xdata = learning_data.copy()\n",
    "del xdata['spend_label']\n",
    "ydata = learning_data['spend_label']"
   ]
  },
  {
   "cell_type": "code",
   "execution_count": 16,
   "metadata": {},
   "outputs": [],
   "source": [
    "normalized_xdata = preprocessing.normalize(xdata)"
   ]
  },
  {
   "cell_type": "code",
   "execution_count": 17,
   "metadata": {},
   "outputs": [
    {
     "data": {
      "text/plain": [
       "StandardScaler(copy=True, with_mean=True, with_std=True)"
      ]
     },
     "execution_count": 17,
     "metadata": {},
     "output_type": "execute_result"
    },
    {
     "data": {
      "text/html": [
       "<div>\n",
       "<style scoped>\n",
       "    .dataframe tbody tr th:only-of-type {\n",
       "        vertical-align: middle;\n",
       "    }\n",
       "\n",
       "    .dataframe tbody tr th {\n",
       "        vertical-align: top;\n",
       "    }\n",
       "\n",
       "    .dataframe thead th {\n",
       "        text-align: right;\n",
       "    }\n",
       "</style>\n",
       "<table border=\"1\" class=\"dataframe\">\n",
       "  <thead>\n",
       "    <tr style=\"text-align: right;\">\n",
       "      <th></th>\n",
       "      <th>PC1</th>\n",
       "      <th>PC2</th>\n",
       "      <th>PC3</th>\n",
       "      <th>PC4</th>\n",
       "      <th>PC5</th>\n",
       "    </tr>\n",
       "  </thead>\n",
       "  <tbody>\n",
       "    <tr>\n",
       "      <th>0</th>\n",
       "      <td>-0.0</td>\n",
       "      <td>-0.0</td>\n",
       "      <td>-0.0</td>\n",
       "      <td>-0.0</td>\n",
       "      <td>0.0</td>\n",
       "    </tr>\n",
       "    <tr>\n",
       "      <th>1</th>\n",
       "      <td>-0.0</td>\n",
       "      <td>-0.0</td>\n",
       "      <td>-0.0</td>\n",
       "      <td>-0.0</td>\n",
       "      <td>0.0</td>\n",
       "    </tr>\n",
       "    <tr>\n",
       "      <th>2</th>\n",
       "      <td>-0.0</td>\n",
       "      <td>-0.0</td>\n",
       "      <td>-0.0</td>\n",
       "      <td>-0.0</td>\n",
       "      <td>0.0</td>\n",
       "    </tr>\n",
       "    <tr>\n",
       "      <th>3</th>\n",
       "      <td>-0.0</td>\n",
       "      <td>0.0</td>\n",
       "      <td>-0.0</td>\n",
       "      <td>-0.0</td>\n",
       "      <td>0.0</td>\n",
       "    </tr>\n",
       "    <tr>\n",
       "      <th>4</th>\n",
       "      <td>-0.0</td>\n",
       "      <td>-0.0</td>\n",
       "      <td>-0.0</td>\n",
       "      <td>-0.0</td>\n",
       "      <td>0.0</td>\n",
       "    </tr>\n",
       "  </tbody>\n",
       "</table>\n",
       "</div>"
      ],
      "text/plain": [
       "   PC1  PC2  PC3  PC4  PC5\n",
       "0 -0.0 -0.0 -0.0 -0.0  0.0\n",
       "1 -0.0 -0.0 -0.0 -0.0  0.0\n",
       "2 -0.0 -0.0 -0.0 -0.0  0.0\n",
       "3 -0.0  0.0 -0.0 -0.0  0.0\n",
       "4 -0.0 -0.0 -0.0 -0.0  0.0"
      ]
     },
     "execution_count": 17,
     "metadata": {},
     "output_type": "execute_result"
    }
   ],
   "source": [
    "scaler = StandardScaler()\n",
    "scaler.fit(normalized_xdata[:20000])\n",
    "\n",
    "pca = decomposition.PCA(n_components=5)\n",
    "pc = pca.fit_transform(normalized_xdata[:20000]) ### PCA is being performed on the 1st 100000 data points due to limited computer resource\n",
    "\n",
    "pc_df = pd.DataFrame(data = pc , \n",
    "        columns = ['PC1', 'PC2','PC3','PC4', 'PC5'])\n",
    "pc_df.head()"
   ]
  },
  {
   "cell_type": "code",
   "execution_count": 18,
   "metadata": {},
   "outputs": [
    {
     "data": {
      "image/png": "[encoded data removed]",
      "text/plain": [
       "<Figure size 432x288 with 1 Axes>"
      ]
     },
     "metadata": {
      "needs_background": "light"
     },
     "output_type": "display_data"
    }
   ],
   "source": [
    "### Plot the Variance\n",
    "df = pd.DataFrame({'var':pca.explained_variance_ratio_,\n",
    "             'PC':['PC1','PC2','PC3','PC4', 'PC5']})\n",
    "sns.barplot(x='PC',y=\"var\", \n",
    "           data=df);"
   ]
  },
  {
   "cell_type": "code",
   "execution_count": 19,
   "metadata": {},
   "outputs": [
    {
     "data": {
      "text/plain": [
       "StandardScaler(copy=True, with_mean=True, with_std=True)"
      ]
     },
     "execution_count": 19,
     "metadata": {},
     "output_type": "execute_result"
    },
    {
     "data": {
      "text/plain": [
       "PCA(copy=True, iterated_power='auto', n_components=2, random_state=None,\n",
       "    svd_solver='auto', tol=0.0, whiten=False)"
      ]
     },
     "execution_count": 19,
     "metadata": {},
     "output_type": "execute_result"
    }
   ],
   "source": [
    "scaler = StandardScaler()\n",
    "scaler.fit(xdata[:20000])\n",
    "X=scaler.transform(xdata[:20000])\n",
    "\n",
    "pca = PCA(n_components=2)\n",
    "pca.fit(X,ydata)\n",
    "x_new = pca.transform(X)"
   ]
  },
  {
   "cell_type": "code",
   "execution_count": 20,
   "metadata": {},
   "outputs": [
    {
     "data": {
      "text/plain": [
       "Text(0.5, 0, 'PC1')"
      ]
     },
     "execution_count": 20,
     "metadata": {},
     "output_type": "execute_result"
    },
    {
     "data": {
      "text/plain": [
       "Text(0, 0.5, 'PC2')"
      ]
     },
     "execution_count": 20,
     "metadata": {},
     "output_type": "execute_result"
    },
    {
     "data": {
      "image/png": "[encoded data removed]",
      "text/plain": [
       "<Figure size 432x288 with 1 Axes>"
      ]
     },
     "metadata": {
      "needs_background": "light"
     },
     "output_type": "display_data"
    }
   ],
   "source": [
    "def pca_plot(score,coeff,labels=None):\n",
    "    xs = score[:,0]\n",
    "    ys = score[:,1]\n",
    "    n = coeff.shape[0]\n",
    "\n",
    "    plt.scatter(xs ,ys, c =ydata[:20000]) #without scaling\n",
    "    for i in range(n):\n",
    "        plt.arrow(0, 0, coeff[i,0], coeff[i,1],color = 'r',alpha = 0.5)\n",
    "        if labels is None:\n",
    "            plt.text(coeff[i,0]* 1.15, coeff[i,1] * 1.15, \"Var\"+str(i+1), color = 'g', ha = 'center', va = 'center')\n",
    "        else:\n",
    "            plt.text(coeff[i,0]* 1.15, coeff[i,1] * 1.15, labels[i], color = 'g', ha = 'center', va = 'center')\n",
    "\n",
    "plt.xlabel(\"PC{}\".format(1))\n",
    "plt.ylabel(\"PC{}\".format(2))\n",
    "plt.grid()\n",
    "\n",
    "### Call the function. \n",
    "pca_plot(x_new[:,0:2], pca. components_) \n",
    "plt.show()"
   ]
  },
  {
   "cell_type": "markdown",
   "metadata": {},
   "source": [
    "- From the PCA analysis of the dataset, the majority of variance in the model is in the 1st principle component. It is of no great surprise that potentially, total spend is sufficient to predict the basket size label. From visualisation of the principle components, the labels are well separated/clustered, facilitating machine learning. The bimodal appearance of the data requires further investigation.\n",
    "\n",
    "### Additional training data using 'Country' as label"
   ]
  },
  {
   "cell_type": "code",
   "execution_count": 21,
   "metadata": {},
   "outputs": [
    {
     "data": {
      "text/plain": [
       "StandardScaler(copy=True, with_mean=True, with_std=True)"
      ]
     },
     "execution_count": 21,
     "metadata": {},
     "output_type": "execute_result"
    },
    {
     "data": {
      "text/plain": [
       "PCA(copy=True, iterated_power='auto', n_components=2, random_state=None,\n",
       "    svd_solver='auto', tol=0.0, whiten=False)"
      ]
     },
     "execution_count": 21,
     "metadata": {},
     "output_type": "execute_result"
    }
   ],
   "source": [
    "scaler = StandardScaler()\n",
    "scaler.fit(xdata[:20000])\n",
    "X=scaler.transform(xdata[:20000])\n",
    "\n",
    "pca = PCA(n_components=2)\n",
    "pca.fit(X,ydata)\n",
    "x_new = pca.transform(X)"
   ]
  },
  {
   "cell_type": "code",
   "execution_count": 22,
   "metadata": {},
   "outputs": [
    {
     "data": {
      "text/plain": [
       "Text(0.5, 0, 'PC1')"
      ]
     },
     "execution_count": 22,
     "metadata": {},
     "output_type": "execute_result"
    },
    {
     "data": {
      "text/plain": [
       "Text(0, 0.5, 'PC2')"
      ]
     },
     "execution_count": 22,
     "metadata": {},
     "output_type": "execute_result"
    },
    {
     "data": {
      "image/png": "[encoded data removed]",
      "text/plain": [
       "<Figure size 432x288 with 1 Axes>"
      ]
     },
     "metadata": {
      "needs_background": "light"
     },
     "output_type": "display_data"
    }
   ],
   "source": [
    "def pca_plot(score,coeff,labels=None):\n",
    "    xs = score[:,0]\n",
    "    ys = score[:,1]\n",
    "    n = coeff.shape[0]\n",
    "\n",
    "    plt.scatter(xs ,ys, c =ydata[:20000]) #without scaling\n",
    "    for i in range(n):\n",
    "        plt.arrow(0, 0, coeff[i,0], coeff[i,1],color = 'r',alpha = 0.5)\n",
    "        if labels is None:\n",
    "            plt.text(coeff[i,0]* 1.15, coeff[i,1] * 1.15, \"Var\"+str(i+1), color = 'g', ha = 'center', va = 'center')\n",
    "        else:\n",
    "            plt.text(coeff[i,0]* 1.15, coeff[i,1] * 1.15, labels[i], color = 'g', ha = 'center', va = 'center')\n",
    "\n",
    "plt.xlabel(\"PC{}\".format(1))\n",
    "plt.ylabel(\"PC{}\".format(2))\n",
    "plt.grid()\n",
    "\n",
    "### Call the function. \n",
    "pca_plot(x_new[:,0:2], pca. components_) \n",
    "plt.show()"
   ]
  },
  {
   "cell_type": "markdown",
   "metadata": {},
   "source": [
    "### Data preparation for training country of origin"
   ]
  },
  {
   "cell_type": "code",
   "execution_count": 23,
   "metadata": {},
   "outputs": [],
   "source": [
    "### Encode the Description label\n",
    "cols_to_transform = ['Description']\n",
    "type_hash = pd.get_dummies(data=data2['Description'])"
   ]
  },
  {
   "cell_type": "code",
   "execution_count": 24,
   "metadata": {},
   "outputs": [],
   "source": [
    "learning_data2 = pd.concat([data2, type_hash], axis=1)"
   ]
  },
  {
   "cell_type": "code",
   "execution_count": 25,
   "metadata": {},
   "outputs": [
    {
     "data": {
      "text/html": [
       "<div>\n",
       "<style scoped>\n",
       "    .dataframe tbody tr th:only-of-type {\n",
       "        vertical-align: middle;\n",
       "    }\n",
       "\n",
       "    .dataframe tbody tr th {\n",
       "        vertical-align: top;\n",
       "    }\n",
       "\n",
       "    .dataframe thead th {\n",
       "        text-align: right;\n",
       "    }\n",
       "</style>\n",
       "<table border=\"1\" class=\"dataframe\">\n",
       "  <thead>\n",
       "    <tr style=\"text-align: right;\">\n",
       "      <th></th>\n",
       "      <th>InvoiceNo</th>\n",
       "      <th>StockCode</th>\n",
       "      <th>Description</th>\n",
       "      <th>Quantity</th>\n",
       "      <th>InvoiceDate</th>\n",
       "      <th>UnitPrice</th>\n",
       "      <th>CustomerID</th>\n",
       "      <th>Country</th>\n",
       "      <th>total_spend</th>\n",
       "      <th>spend_label</th>\n",
       "      <th>10 COLOUR SPACEBOY PEN</th>\n",
       "      <th>12 COLOURED PARTY BALLOONS</th>\n",
       "      <th>12 DAISY PEGS IN WOOD BOX</th>\n",
       "      <th>12 EGG HOUSE PAINTED WOOD</th>\n",
       "      <th>12 HANGING EGGS HAND PAINTED</th>\n",
       "      <th>12 IVORY ROSE PEG PLACE SETTINGS</th>\n",
       "      <th>12 MESSAGE CARDS WITH ENVELOPES</th>\n",
       "      <th>12 PENCIL SMALL TUBE WOODLAND</th>\n",
       "      <th>12 PENCILS SMALL TUBE RED RETROSPOT</th>\n",
       "      <th>12 PENCILS SMALL TUBE SKULL</th>\n",
       "      <th>12 PENCILS TALL TUBE POSY</th>\n",
       "      <th>12 PENCILS TALL TUBE RED RETROSPOT</th>\n",
       "      <th>12 PENCILS TALL TUBE SKULLS</th>\n",
       "      <th>12 PENCILS TALL TUBE WOODLAND</th>\n",
       "      <th>12 PINK HEN+CHICKS IN BASKET</th>\n",
       "      <th>12 PINK ROSE PEG PLACE SETTINGS</th>\n",
       "      <th>12 RED ROSE PEG PLACE SETTINGS</th>\n",
       "      <th>15 PINK FLUFFY CHICKS IN BOX</th>\n",
       "      <th>15CM CHRISTMAS GLASS BALL 20 LIGHTS</th>\n",
       "      <th>16 PC CUTLERY SET PANTRY DESIGN</th>\n",
       "      <th>16 PIECE CUTLERY SET PANTRY DESIGN</th>\n",
       "      <th>18PC WOODEN CUTLERY SET DISPOSABLE</th>\n",
       "      <th>2 DAISIES HAIR COMB</th>\n",
       "      <th>2 PICTURE BOOK EGGS EASTER BUNNY</th>\n",
       "      <th>2 PICTURE BOOK EGGS EASTER CHICKS</th>\n",
       "      <th>2 PICTURE BOOK EGGS EASTER DUCKS</th>\n",
       "      <th>20 DOLLY PEGS RETROSPOT</th>\n",
       "      <th>200 BENDY SKULL STRAWS</th>\n",
       "      <th>200 RED + WHITE BENDY STRAWS</th>\n",
       "      <th>3 BIRDS CANVAS SCREEN</th>\n",
       "      <th>3 BLACK CATS W HEARTS BLANK CARD</th>\n",
       "      <th>3 DRAWER ANTIQUE WHITE WOOD CABINET</th>\n",
       "      <th>3 GARDENIA MORRIS BOXED CANDLES</th>\n",
       "      <th>3 HEARTS HANGING DECORATION RUSTIC</th>\n",
       "      <th>3 HOOK HANGER MAGIC GARDEN</th>\n",
       "      <th>3 HOOK PHOTO SHELF ANTIQUE WHITE</th>\n",
       "      <th>3 PIECE SPACEBOY COOKIE CUTTER SET</th>\n",
       "      <th>3 PINK HEN+CHICKS IN BASKET</th>\n",
       "      <th>3 RAFFIA RIBBONS 50'S CHRISTMAS</th>\n",
       "      <th>3 RAFFIA RIBBONS VINTAGE CHRISTMAS</th>\n",
       "      <th>...</th>\n",
       "      <th>WRAP RED VINTAGE DOILY</th>\n",
       "      <th>WRAP SUKI AND FRIENDS</th>\n",
       "      <th>WRAP SUMMER ROSE DESIGN</th>\n",
       "      <th>WRAP VINTAGE LEAF DESIGN</th>\n",
       "      <th>WRAP VINTAGE PETALS  DESIGN</th>\n",
       "      <th>WRAP WEDDING DAY</th>\n",
       "      <th>WRAP, BILLBOARD FONTS DESIGN</th>\n",
       "      <th>WRAP, CAROUSEL</th>\n",
       "      <th>YELLOW BREAKFAST CUP AND SAUCER</th>\n",
       "      <th>YELLOW COAT RACK PARIS FASHION</th>\n",
       "      <th>YELLOW DRAGONFLY HELICOPTER</th>\n",
       "      <th>YELLOW EASTER EGG HUNT START POST</th>\n",
       "      <th>YELLOW FELT HANGING HEART W FLOWER</th>\n",
       "      <th>YELLOW FLOWERS FELT HANDBAG KIT</th>\n",
       "      <th>YELLOW GIANT GARDEN THERMOMETER</th>\n",
       "      <th>YELLOW METAL CHICKEN HEART</th>\n",
       "      <th>YELLOW PINK FLOWER DESIGN BIG BOWL</th>\n",
       "      <th>YELLOW POT PLANT CANDLE</th>\n",
       "      <th>YELLOW SHARK HELICOPTER</th>\n",
       "      <th>YELLOW/BLUE RETRO RADIO</th>\n",
       "      <th>YELLOW/ORANGE FLOWER DESIGN PLATE</th>\n",
       "      <th>YELLOW/PINK FLOWER DESIGN BIG MUG</th>\n",
       "      <th>YOU'RE CONFUSING ME METAL SIGN</th>\n",
       "      <th>YULETIDE IMAGES GIFT WRAP SET</th>\n",
       "      <th>YULETIDE IMAGES S/6 PAPER BOXES</th>\n",
       "      <th>ZINC  HEART T-LIGHT HOLDER</th>\n",
       "      <th>ZINC  STAR T-LIGHT HOLDER</th>\n",
       "      <th>ZINC BOX SIGN HOME</th>\n",
       "      <th>ZINC FINISH 15CM PLANTER POTS</th>\n",
       "      <th>ZINC FOLKART SLEIGH BELLS</th>\n",
       "      <th>ZINC HEART FLOWER T-LIGHT HOLDER</th>\n",
       "      <th>ZINC HEART LATTICE 2 WALL PLANTER</th>\n",
       "      <th>ZINC HEART LATTICE CHARGER LARGE</th>\n",
       "      <th>ZINC HEART LATTICE CHARGER SMALL</th>\n",
       "      <th>ZINC HEART LATTICE T-LIGHT HOLDER</th>\n",
       "      <th>ZINC HEART LATTICE TRAY OVAL</th>\n",
       "      <th>ZINC HEARTS PLANT POT HOLDER</th>\n",
       "      <th>ZINC HERB GARDEN CONTAINER</th>\n",
       "      <th>ZINC METAL HEART DECORATION</th>\n",
       "      <th>ZINC PLANT POT HOLDER</th>\n",
       "      <th>ZINC STAR T-LIGHT HOLDER</th>\n",
       "      <th>ZINC SWEETHEART SOAP DISH</th>\n",
       "      <th>ZINC SWEETHEART WIRE LETTER RACK</th>\n",
       "      <th>ZINC T-LIGHT HOLDER STAR LARGE</th>\n",
       "      <th>ZINC T-LIGHT HOLDER STARS LARGE</th>\n",
       "      <th>ZINC T-LIGHT HOLDER STARS SMALL</th>\n",
       "      <th>ZINC TOP  2 DOOR WOODEN SHELF</th>\n",
       "      <th>ZINC WILLIE WINKIE  CANDLE STICK</th>\n",
       "      <th>ZINC WIRE KITCHEN ORGANISER</th>\n",
       "      <th>ZINC WIRE SWEETHEART LETTER TRAY</th>\n",
       "    </tr>\n",
       "  </thead>\n",
       "  <tbody>\n",
       "    <tr>\n",
       "      <th>221722</th>\n",
       "      <td>556267</td>\n",
       "      <td>16216</td>\n",
       "      <td>LETTER SHAPE PENCIL SHARPENER</td>\n",
       "      <td>1600</td>\n",
       "      <td>2011-06-09 19:33:00</td>\n",
       "      <td>0.1</td>\n",
       "      <td>13694.0</td>\n",
       "      <td>United Kingdom</td>\n",
       "      <td>96.0</td>\n",
       "      <td>2</td>\n",
       "      <td>0</td>\n",
       "      <td>0</td>\n",
       "      <td>0</td>\n",
       "      <td>0</td>\n",
       "      <td>0</td>\n",
       "      <td>0</td>\n",
       "      <td>0</td>\n",
       "      <td>0</td>\n",
       "      <td>0</td>\n",
       "      <td>0</td>\n",
       "      <td>0</td>\n",
       "      <td>0</td>\n",
       "      <td>0</td>\n",
       "      <td>0</td>\n",
       "      <td>0</td>\n",
       "      <td>0</td>\n",
       "      <td>0</td>\n",
       "      <td>0</td>\n",
       "      <td>0</td>\n",
       "      <td>0</td>\n",
       "      <td>0</td>\n",
       "      <td>0</td>\n",
       "      <td>0</td>\n",
       "      <td>0</td>\n",
       "      <td>0</td>\n",
       "      <td>0</td>\n",
       "      <td>0</td>\n",
       "      <td>0</td>\n",
       "      <td>0</td>\n",
       "      <td>0</td>\n",
       "      <td>0</td>\n",
       "      <td>0</td>\n",
       "      <td>0</td>\n",
       "      <td>0</td>\n",
       "      <td>0</td>\n",
       "      <td>0</td>\n",
       "      <td>0</td>\n",
       "      <td>0</td>\n",
       "      <td>0</td>\n",
       "      <td>0</td>\n",
       "      <td>...</td>\n",
       "      <td>0</td>\n",
       "      <td>0</td>\n",
       "      <td>0</td>\n",
       "      <td>0</td>\n",
       "      <td>0</td>\n",
       "      <td>0</td>\n",
       "      <td>0</td>\n",
       "      <td>0</td>\n",
       "      <td>0</td>\n",
       "      <td>0</td>\n",
       "      <td>0</td>\n",
       "      <td>0</td>\n",
       "      <td>0</td>\n",
       "      <td>0</td>\n",
       "      <td>0</td>\n",
       "      <td>0</td>\n",
       "      <td>0</td>\n",
       "      <td>0</td>\n",
       "      <td>0</td>\n",
       "      <td>0</td>\n",
       "      <td>0</td>\n",
       "      <td>0</td>\n",
       "      <td>0</td>\n",
       "      <td>0</td>\n",
       "      <td>0</td>\n",
       "      <td>0</td>\n",
       "      <td>0</td>\n",
       "      <td>0</td>\n",
       "      <td>0</td>\n",
       "      <td>0</td>\n",
       "      <td>0</td>\n",
       "      <td>0</td>\n",
       "      <td>0</td>\n",
       "      <td>0</td>\n",
       "      <td>0</td>\n",
       "      <td>0</td>\n",
       "      <td>0</td>\n",
       "      <td>0</td>\n",
       "      <td>0</td>\n",
       "      <td>0</td>\n",
       "      <td>0</td>\n",
       "      <td>0</td>\n",
       "      <td>0</td>\n",
       "      <td>0</td>\n",
       "      <td>0</td>\n",
       "      <td>0</td>\n",
       "      <td>0</td>\n",
       "      <td>0</td>\n",
       "      <td>0</td>\n",
       "      <td>0</td>\n",
       "    </tr>\n",
       "    <tr>\n",
       "      <th>221744</th>\n",
       "      <td>556267</td>\n",
       "      <td>15034</td>\n",
       "      <td>PAPER POCKET TRAVELING FAN</td>\n",
       "      <td>1200</td>\n",
       "      <td>2011-06-09 19:33:00</td>\n",
       "      <td>0.1</td>\n",
       "      <td>13694.0</td>\n",
       "      <td>United Kingdom</td>\n",
       "      <td>84.0</td>\n",
       "      <td>2</td>\n",
       "      <td>0</td>\n",
       "      <td>0</td>\n",
       "      <td>0</td>\n",
       "      <td>0</td>\n",
       "      <td>0</td>\n",
       "      <td>0</td>\n",
       "      <td>0</td>\n",
       "      <td>0</td>\n",
       "      <td>0</td>\n",
       "      <td>0</td>\n",
       "      <td>0</td>\n",
       "      <td>0</td>\n",
       "      <td>0</td>\n",
       "      <td>0</td>\n",
       "      <td>0</td>\n",
       "      <td>0</td>\n",
       "      <td>0</td>\n",
       "      <td>0</td>\n",
       "      <td>0</td>\n",
       "      <td>0</td>\n",
       "      <td>0</td>\n",
       "      <td>0</td>\n",
       "      <td>0</td>\n",
       "      <td>0</td>\n",
       "      <td>0</td>\n",
       "      <td>0</td>\n",
       "      <td>0</td>\n",
       "      <td>0</td>\n",
       "      <td>0</td>\n",
       "      <td>0</td>\n",
       "      <td>0</td>\n",
       "      <td>0</td>\n",
       "      <td>0</td>\n",
       "      <td>0</td>\n",
       "      <td>0</td>\n",
       "      <td>0</td>\n",
       "      <td>0</td>\n",
       "      <td>0</td>\n",
       "      <td>0</td>\n",
       "      <td>0</td>\n",
       "      <td>...</td>\n",
       "      <td>0</td>\n",
       "      <td>0</td>\n",
       "      <td>0</td>\n",
       "      <td>0</td>\n",
       "      <td>0</td>\n",
       "      <td>0</td>\n",
       "      <td>0</td>\n",
       "      <td>0</td>\n",
       "      <td>0</td>\n",
       "      <td>0</td>\n",
       "      <td>0</td>\n",
       "      <td>0</td>\n",
       "      <td>0</td>\n",
       "      <td>0</td>\n",
       "      <td>0</td>\n",
       "      <td>0</td>\n",
       "      <td>0</td>\n",
       "      <td>0</td>\n",
       "      <td>0</td>\n",
       "      <td>0</td>\n",
       "      <td>0</td>\n",
       "      <td>0</td>\n",
       "      <td>0</td>\n",
       "      <td>0</td>\n",
       "      <td>0</td>\n",
       "      <td>0</td>\n",
       "      <td>0</td>\n",
       "      <td>0</td>\n",
       "      <td>0</td>\n",
       "      <td>0</td>\n",
       "      <td>0</td>\n",
       "      <td>0</td>\n",
       "      <td>0</td>\n",
       "      <td>0</td>\n",
       "      <td>0</td>\n",
       "      <td>0</td>\n",
       "      <td>0</td>\n",
       "      <td>0</td>\n",
       "      <td>0</td>\n",
       "      <td>0</td>\n",
       "      <td>0</td>\n",
       "      <td>0</td>\n",
       "      <td>0</td>\n",
       "      <td>0</td>\n",
       "      <td>0</td>\n",
       "      <td>0</td>\n",
       "      <td>0</td>\n",
       "      <td>0</td>\n",
       "      <td>0</td>\n",
       "      <td>0</td>\n",
       "    </tr>\n",
       "    <tr>\n",
       "      <th>371176</th>\n",
       "      <td>569214</td>\n",
       "      <td>15034</td>\n",
       "      <td>PAPER POCKET TRAVELING FAN</td>\n",
       "      <td>1200</td>\n",
       "      <td>2011-10-02 12:22:00</td>\n",
       "      <td>0.1</td>\n",
       "      <td>14533.0</td>\n",
       "      <td>United Kingdom</td>\n",
       "      <td>84.0</td>\n",
       "      <td>2</td>\n",
       "      <td>0</td>\n",
       "      <td>0</td>\n",
       "      <td>0</td>\n",
       "      <td>0</td>\n",
       "      <td>0</td>\n",
       "      <td>0</td>\n",
       "      <td>0</td>\n",
       "      <td>0</td>\n",
       "      <td>0</td>\n",
       "      <td>0</td>\n",
       "      <td>0</td>\n",
       "      <td>0</td>\n",
       "      <td>0</td>\n",
       "      <td>0</td>\n",
       "      <td>0</td>\n",
       "      <td>0</td>\n",
       "      <td>0</td>\n",
       "      <td>0</td>\n",
       "      <td>0</td>\n",
       "      <td>0</td>\n",
       "      <td>0</td>\n",
       "      <td>0</td>\n",
       "      <td>0</td>\n",
       "      <td>0</td>\n",
       "      <td>0</td>\n",
       "      <td>0</td>\n",
       "      <td>0</td>\n",
       "      <td>0</td>\n",
       "      <td>0</td>\n",
       "      <td>0</td>\n",
       "      <td>0</td>\n",
       "      <td>0</td>\n",
       "      <td>0</td>\n",
       "      <td>0</td>\n",
       "      <td>0</td>\n",
       "      <td>0</td>\n",
       "      <td>0</td>\n",
       "      <td>0</td>\n",
       "      <td>0</td>\n",
       "      <td>0</td>\n",
       "      <td>...</td>\n",
       "      <td>0</td>\n",
       "      <td>0</td>\n",
       "      <td>0</td>\n",
       "      <td>0</td>\n",
       "      <td>0</td>\n",
       "      <td>0</td>\n",
       "      <td>0</td>\n",
       "      <td>0</td>\n",
       "      <td>0</td>\n",
       "      <td>0</td>\n",
       "      <td>0</td>\n",
       "      <td>0</td>\n",
       "      <td>0</td>\n",
       "      <td>0</td>\n",
       "      <td>0</td>\n",
       "      <td>0</td>\n",
       "      <td>0</td>\n",
       "      <td>0</td>\n",
       "      <td>0</td>\n",
       "      <td>0</td>\n",
       "      <td>0</td>\n",
       "      <td>0</td>\n",
       "      <td>0</td>\n",
       "      <td>0</td>\n",
       "      <td>0</td>\n",
       "      <td>0</td>\n",
       "      <td>0</td>\n",
       "      <td>0</td>\n",
       "      <td>0</td>\n",
       "      <td>0</td>\n",
       "      <td>0</td>\n",
       "      <td>0</td>\n",
       "      <td>0</td>\n",
       "      <td>0</td>\n",
       "      <td>0</td>\n",
       "      <td>0</td>\n",
       "      <td>0</td>\n",
       "      <td>0</td>\n",
       "      <td>0</td>\n",
       "      <td>0</td>\n",
       "      <td>0</td>\n",
       "      <td>0</td>\n",
       "      <td>0</td>\n",
       "      <td>0</td>\n",
       "      <td>0</td>\n",
       "      <td>0</td>\n",
       "      <td>0</td>\n",
       "      <td>0</td>\n",
       "      <td>0</td>\n",
       "      <td>0</td>\n",
       "    </tr>\n",
       "    <tr>\n",
       "      <th>276441</th>\n",
       "      <td>561047</td>\n",
       "      <td>16045</td>\n",
       "      <td>POPART WOODEN PENCILS ASST</td>\n",
       "      <td>900</td>\n",
       "      <td>2011-07-24 12:46:00</td>\n",
       "      <td>0.0</td>\n",
       "      <td>16948.0</td>\n",
       "      <td>United Kingdom</td>\n",
       "      <td>36.0</td>\n",
       "      <td>1</td>\n",
       "      <td>0</td>\n",
       "      <td>0</td>\n",
       "      <td>0</td>\n",
       "      <td>0</td>\n",
       "      <td>0</td>\n",
       "      <td>0</td>\n",
       "      <td>0</td>\n",
       "      <td>0</td>\n",
       "      <td>0</td>\n",
       "      <td>0</td>\n",
       "      <td>0</td>\n",
       "      <td>0</td>\n",
       "      <td>0</td>\n",
       "      <td>0</td>\n",
       "      <td>0</td>\n",
       "      <td>0</td>\n",
       "      <td>0</td>\n",
       "      <td>0</td>\n",
       "      <td>0</td>\n",
       "      <td>0</td>\n",
       "      <td>0</td>\n",
       "      <td>0</td>\n",
       "      <td>0</td>\n",
       "      <td>0</td>\n",
       "      <td>0</td>\n",
       "      <td>0</td>\n",
       "      <td>0</td>\n",
       "      <td>0</td>\n",
       "      <td>0</td>\n",
       "      <td>0</td>\n",
       "      <td>0</td>\n",
       "      <td>0</td>\n",
       "      <td>0</td>\n",
       "      <td>0</td>\n",
       "      <td>0</td>\n",
       "      <td>0</td>\n",
       "      <td>0</td>\n",
       "      <td>0</td>\n",
       "      <td>0</td>\n",
       "      <td>0</td>\n",
       "      <td>...</td>\n",
       "      <td>0</td>\n",
       "      <td>0</td>\n",
       "      <td>0</td>\n",
       "      <td>0</td>\n",
       "      <td>0</td>\n",
       "      <td>0</td>\n",
       "      <td>0</td>\n",
       "      <td>0</td>\n",
       "      <td>0</td>\n",
       "      <td>0</td>\n",
       "      <td>0</td>\n",
       "      <td>0</td>\n",
       "      <td>0</td>\n",
       "      <td>0</td>\n",
       "      <td>0</td>\n",
       "      <td>0</td>\n",
       "      <td>0</td>\n",
       "      <td>0</td>\n",
       "      <td>0</td>\n",
       "      <td>0</td>\n",
       "      <td>0</td>\n",
       "      <td>0</td>\n",
       "      <td>0</td>\n",
       "      <td>0</td>\n",
       "      <td>0</td>\n",
       "      <td>0</td>\n",
       "      <td>0</td>\n",
       "      <td>0</td>\n",
       "      <td>0</td>\n",
       "      <td>0</td>\n",
       "      <td>0</td>\n",
       "      <td>0</td>\n",
       "      <td>0</td>\n",
       "      <td>0</td>\n",
       "      <td>0</td>\n",
       "      <td>0</td>\n",
       "      <td>0</td>\n",
       "      <td>0</td>\n",
       "      <td>0</td>\n",
       "      <td>0</td>\n",
       "      <td>0</td>\n",
       "      <td>0</td>\n",
       "      <td>0</td>\n",
       "      <td>0</td>\n",
       "      <td>0</td>\n",
       "      <td>0</td>\n",
       "      <td>0</td>\n",
       "      <td>0</td>\n",
       "      <td>0</td>\n",
       "      <td>0</td>\n",
       "    </tr>\n",
       "    <tr>\n",
       "      <th>513189</th>\n",
       "      <td>579538</td>\n",
       "      <td>20668</td>\n",
       "      <td>DISCO BALL CHRISTMAS DECORATION</td>\n",
       "      <td>864</td>\n",
       "      <td>2011-11-30 10:04:00</td>\n",
       "      <td>0.1</td>\n",
       "      <td>14062.0</td>\n",
       "      <td>United Kingdom</td>\n",
       "      <td>86.4</td>\n",
       "      <td>2</td>\n",
       "      <td>0</td>\n",
       "      <td>0</td>\n",
       "      <td>0</td>\n",
       "      <td>0</td>\n",
       "      <td>0</td>\n",
       "      <td>0</td>\n",
       "      <td>0</td>\n",
       "      <td>0</td>\n",
       "      <td>0</td>\n",
       "      <td>0</td>\n",
       "      <td>0</td>\n",
       "      <td>0</td>\n",
       "      <td>0</td>\n",
       "      <td>0</td>\n",
       "      <td>0</td>\n",
       "      <td>0</td>\n",
       "      <td>0</td>\n",
       "      <td>0</td>\n",
       "      <td>0</td>\n",
       "      <td>0</td>\n",
       "      <td>0</td>\n",
       "      <td>0</td>\n",
       "      <td>0</td>\n",
       "      <td>0</td>\n",
       "      <td>0</td>\n",
       "      <td>0</td>\n",
       "      <td>0</td>\n",
       "      <td>0</td>\n",
       "      <td>0</td>\n",
       "      <td>0</td>\n",
       "      <td>0</td>\n",
       "      <td>0</td>\n",
       "      <td>0</td>\n",
       "      <td>0</td>\n",
       "      <td>0</td>\n",
       "      <td>0</td>\n",
       "      <td>0</td>\n",
       "      <td>0</td>\n",
       "      <td>0</td>\n",
       "      <td>0</td>\n",
       "      <td>...</td>\n",
       "      <td>0</td>\n",
       "      <td>0</td>\n",
       "      <td>0</td>\n",
       "      <td>0</td>\n",
       "      <td>0</td>\n",
       "      <td>0</td>\n",
       "      <td>0</td>\n",
       "      <td>0</td>\n",
       "      <td>0</td>\n",
       "      <td>0</td>\n",
       "      <td>0</td>\n",
       "      <td>0</td>\n",
       "      <td>0</td>\n",
       "      <td>0</td>\n",
       "      <td>0</td>\n",
       "      <td>0</td>\n",
       "      <td>0</td>\n",
       "      <td>0</td>\n",
       "      <td>0</td>\n",
       "      <td>0</td>\n",
       "      <td>0</td>\n",
       "      <td>0</td>\n",
       "      <td>0</td>\n",
       "      <td>0</td>\n",
       "      <td>0</td>\n",
       "      <td>0</td>\n",
       "      <td>0</td>\n",
       "      <td>0</td>\n",
       "      <td>0</td>\n",
       "      <td>0</td>\n",
       "      <td>0</td>\n",
       "      <td>0</td>\n",
       "      <td>0</td>\n",
       "      <td>0</td>\n",
       "      <td>0</td>\n",
       "      <td>0</td>\n",
       "      <td>0</td>\n",
       "      <td>0</td>\n",
       "      <td>0</td>\n",
       "      <td>0</td>\n",
       "      <td>0</td>\n",
       "      <td>0</td>\n",
       "      <td>0</td>\n",
       "      <td>0</td>\n",
       "      <td>0</td>\n",
       "      <td>0</td>\n",
       "      <td>0</td>\n",
       "      <td>0</td>\n",
       "      <td>0</td>\n",
       "      <td>0</td>\n",
       "    </tr>\n",
       "  </tbody>\n",
       "</table>\n",
       "<p>5 rows × 3857 columns</p>\n",
       "</div>"
      ],
      "text/plain": [
       "       InvoiceNo StockCode                      Description  Quantity  \\\n",
       "221722    556267     16216    LETTER SHAPE PENCIL SHARPENER      1600   \n",
       "221744    556267     15034       PAPER POCKET TRAVELING FAN      1200   \n",
       "371176    569214     15034       PAPER POCKET TRAVELING FAN      1200   \n",
       "276441    561047     16045       POPART WOODEN PENCILS ASST       900   \n",
       "513189    579538     20668  DISCO BALL CHRISTMAS DECORATION       864   \n",
       "\n",
       "               InvoiceDate  UnitPrice  CustomerID         Country  \\\n",
       "221722 2011-06-09 19:33:00        0.1     13694.0  United Kingdom   \n",
       "221744 2011-06-09 19:33:00        0.1     13694.0  United Kingdom   \n",
       "371176 2011-10-02 12:22:00        0.1     14533.0  United Kingdom   \n",
       "276441 2011-07-24 12:46:00        0.0     16948.0  United Kingdom   \n",
       "513189 2011-11-30 10:04:00        0.1     14062.0  United Kingdom   \n",
       "\n",
       "        total_spend  spend_label  10 COLOUR SPACEBOY PEN  \\\n",
       "221722         96.0            2                       0   \n",
       "221744         84.0            2                       0   \n",
       "371176         84.0            2                       0   \n",
       "276441         36.0            1                       0   \n",
       "513189         86.4            2                       0   \n",
       "\n",
       "        12 COLOURED PARTY BALLOONS  12 DAISY PEGS IN WOOD BOX  \\\n",
       "221722                           0                          0   \n",
       "221744                           0                          0   \n",
       "371176                           0                          0   \n",
       "276441                           0                          0   \n",
       "513189                           0                          0   \n",
       "\n",
       "        12 EGG HOUSE PAINTED WOOD  12 HANGING EGGS HAND PAINTED  \\\n",
       "221722                          0                             0   \n",
       "221744                          0                             0   \n",
       "371176                          0                             0   \n",
       "276441                          0                             0   \n",
       "513189                          0                             0   \n",
       "\n",
       "        12 IVORY ROSE PEG PLACE SETTINGS  12 MESSAGE CARDS WITH ENVELOPES  \\\n",
       "221722                                 0                                0   \n",
       "221744                                 0                                0   \n",
       "371176                                 0                                0   \n",
       "276441                                 0                                0   \n",
       "513189                                 0                                0   \n",
       "\n",
       "        12 PENCIL SMALL TUBE WOODLAND  12 PENCILS SMALL TUBE RED RETROSPOT  \\\n",
       "221722                              0                                    0   \n",
       "221744                              0                                    0   \n",
       "371176                              0                                    0   \n",
       "276441                              0                                    0   \n",
       "513189                              0                                    0   \n",
       "\n",
       "        12 PENCILS SMALL TUBE SKULL  12 PENCILS TALL TUBE POSY  \\\n",
       "221722                            0                          0   \n",
       "221744                            0                          0   \n",
       "371176                            0                          0   \n",
       "276441                            0                          0   \n",
       "513189                            0                          0   \n",
       "\n",
       "        12 PENCILS TALL TUBE RED RETROSPOT  12 PENCILS TALL TUBE SKULLS  \\\n",
       "221722                                   0                            0   \n",
       "221744                                   0                            0   \n",
       "371176                                   0                            0   \n",
       "276441                                   0                            0   \n",
       "513189                                   0                            0   \n",
       "\n",
       "        12 PENCILS TALL TUBE WOODLAND  12 PINK HEN+CHICKS IN BASKET  \\\n",
       "221722                              0                             0   \n",
       "221744                              0                             0   \n",
       "371176                              0                             0   \n",
       "276441                              0                             0   \n",
       "513189                              0                             0   \n",
       "\n",
       "        12 PINK ROSE PEG PLACE SETTINGS  12 RED ROSE PEG PLACE SETTINGS  \\\n",
       "221722                                0                               0   \n",
       "221744                                0                               0   \n",
       "371176                                0                               0   \n",
       "276441                                0                               0   \n",
       "513189                                0                               0   \n",
       "\n",
       "        15 PINK FLUFFY CHICKS IN BOX  15CM CHRISTMAS GLASS BALL 20 LIGHTS  \\\n",
       "221722                             0                                    0   \n",
       "221744                             0                                    0   \n",
       "371176                             0                                    0   \n",
       "276441                             0                                    0   \n",
       "513189                             0                                    0   \n",
       "\n",
       "        16 PC CUTLERY SET PANTRY DESIGN  16 PIECE CUTLERY SET PANTRY DESIGN  \\\n",
       "221722                                0                                   0   \n",
       "221744                                0                                   0   \n",
       "371176                                0                                   0   \n",
       "276441                                0                                   0   \n",
       "513189                                0                                   0   \n",
       "\n",
       "        18PC WOODEN CUTLERY SET DISPOSABLE  2 DAISIES HAIR COMB  \\\n",
       "221722                                   0                    0   \n",
       "221744                                   0                    0   \n",
       "371176                                   0                    0   \n",
       "276441                                   0                    0   \n",
       "513189                                   0                    0   \n",
       "\n",
       "        2 PICTURE BOOK EGGS EASTER BUNNY  2 PICTURE BOOK EGGS EASTER CHICKS  \\\n",
       "221722                                 0                                  0   \n",
       "221744                                 0                                  0   \n",
       "371176                                 0                                  0   \n",
       "276441                                 0                                  0   \n",
       "513189                                 0                                  0   \n",
       "\n",
       "        2 PICTURE BOOK EGGS EASTER DUCKS  20 DOLLY PEGS RETROSPOT  \\\n",
       "221722                                 0                        0   \n",
       "221744                                 0                        0   \n",
       "371176                                 0                        0   \n",
       "276441                                 0                        0   \n",
       "513189                                 0                        0   \n",
       "\n",
       "        200 BENDY SKULL STRAWS  200 RED + WHITE BENDY STRAWS  \\\n",
       "221722                       0                             0   \n",
       "221744                       0                             0   \n",
       "371176                       0                             0   \n",
       "276441                       0                             0   \n",
       "513189                       0                             0   \n",
       "\n",
       "        3 BIRDS CANVAS SCREEN  3 BLACK CATS W HEARTS BLANK CARD  \\\n",
       "221722                      0                                 0   \n",
       "221744                      0                                 0   \n",
       "371176                      0                                 0   \n",
       "276441                      0                                 0   \n",
       "513189                      0                                 0   \n",
       "\n",
       "        3 DRAWER ANTIQUE WHITE WOOD CABINET  3 GARDENIA MORRIS BOXED CANDLES  \\\n",
       "221722                                    0                                0   \n",
       "221744                                    0                                0   \n",
       "371176                                    0                                0   \n",
       "276441                                    0                                0   \n",
       "513189                                    0                                0   \n",
       "\n",
       "        3 HEARTS HANGING DECORATION RUSTIC  3 HOOK HANGER MAGIC GARDEN  \\\n",
       "221722                                   0                           0   \n",
       "221744                                   0                           0   \n",
       "371176                                   0                           0   \n",
       "276441                                   0                           0   \n",
       "513189                                   0                           0   \n",
       "\n",
       "        3 HOOK PHOTO SHELF ANTIQUE WHITE  3 PIECE SPACEBOY COOKIE CUTTER SET  \\\n",
       "221722                                 0                                   0   \n",
       "221744                                 0                                   0   \n",
       "371176                                 0                                   0   \n",
       "276441                                 0                                   0   \n",
       "513189                                 0                                   0   \n",
       "\n",
       "        3 PINK HEN+CHICKS IN BASKET  3 RAFFIA RIBBONS 50'S CHRISTMAS  \\\n",
       "221722                            0                                0   \n",
       "221744                            0                                0   \n",
       "371176                            0                                0   \n",
       "276441                            0                                0   \n",
       "513189                            0                                0   \n",
       "\n",
       "        3 RAFFIA RIBBONS VINTAGE CHRISTMAS  ...  WRAP RED VINTAGE DOILY  \\\n",
       "221722                                   0  ...                       0   \n",
       "221744                                   0  ...                       0   \n",
       "371176                                   0  ...                       0   \n",
       "276441                                   0  ...                       0   \n",
       "513189                                   0  ...                       0   \n",
       "\n",
       "        WRAP SUKI AND FRIENDS  WRAP SUMMER ROSE DESIGN  \\\n",
       "221722                      0                        0   \n",
       "221744                      0                        0   \n",
       "371176                      0                        0   \n",
       "276441                      0                        0   \n",
       "513189                      0                        0   \n",
       "\n",
       "        WRAP VINTAGE LEAF DESIGN  WRAP VINTAGE PETALS  DESIGN  \\\n",
       "221722                         0                            0   \n",
       "221744                         0                            0   \n",
       "371176                         0                            0   \n",
       "276441                         0                            0   \n",
       "513189                         0                            0   \n",
       "\n",
       "        WRAP WEDDING DAY  WRAP, BILLBOARD FONTS DESIGN  WRAP, CAROUSEL  \\\n",
       "221722                 0                             0               0   \n",
       "221744                 0                             0               0   \n",
       "371176                 0                             0               0   \n",
       "276441                 0                             0               0   \n",
       "513189                 0                             0               0   \n",
       "\n",
       "        YELLOW BREAKFAST CUP AND SAUCER  YELLOW COAT RACK PARIS FASHION  \\\n",
       "221722                                0                               0   \n",
       "221744                                0                               0   \n",
       "371176                                0                               0   \n",
       "276441                                0                               0   \n",
       "513189                                0                               0   \n",
       "\n",
       "        YELLOW DRAGONFLY HELICOPTER  YELLOW EASTER EGG HUNT START POST  \\\n",
       "221722                            0                                  0   \n",
       "221744                            0                                  0   \n",
       "371176                            0                                  0   \n",
       "276441                            0                                  0   \n",
       "513189                            0                                  0   \n",
       "\n",
       "        YELLOW FELT HANGING HEART W FLOWER  YELLOW FLOWERS FELT HANDBAG KIT  \\\n",
       "221722                                   0                                0   \n",
       "221744                                   0                                0   \n",
       "371176                                   0                                0   \n",
       "276441                                   0                                0   \n",
       "513189                                   0                                0   \n",
       "\n",
       "        YELLOW GIANT GARDEN THERMOMETER  YELLOW METAL CHICKEN HEART  \\\n",
       "221722                                0                           0   \n",
       "221744                                0                           0   \n",
       "371176                                0                           0   \n",
       "276441                                0                           0   \n",
       "513189                                0                           0   \n",
       "\n",
       "        YELLOW PINK FLOWER DESIGN BIG BOWL  YELLOW POT PLANT CANDLE  \\\n",
       "221722                                   0                        0   \n",
       "221744                                   0                        0   \n",
       "371176                                   0                        0   \n",
       "276441                                   0                        0   \n",
       "513189                                   0                        0   \n",
       "\n",
       "        YELLOW SHARK HELICOPTER  YELLOW/BLUE RETRO RADIO  \\\n",
       "221722                        0                        0   \n",
       "221744                        0                        0   \n",
       "371176                        0                        0   \n",
       "276441                        0                        0   \n",
       "513189                        0                        0   \n",
       "\n",
       "        YELLOW/ORANGE FLOWER DESIGN PLATE  YELLOW/PINK FLOWER DESIGN BIG MUG  \\\n",
       "221722                                  0                                  0   \n",
       "221744                                  0                                  0   \n",
       "371176                                  0                                  0   \n",
       "276441                                  0                                  0   \n",
       "513189                                  0                                  0   \n",
       "\n",
       "        YOU'RE CONFUSING ME METAL SIGN  YULETIDE IMAGES GIFT WRAP SET  \\\n",
       "221722                               0                              0   \n",
       "221744                               0                              0   \n",
       "371176                               0                              0   \n",
       "276441                               0                              0   \n",
       "513189                               0                              0   \n",
       "\n",
       "        YULETIDE IMAGES S/6 PAPER BOXES  ZINC  HEART T-LIGHT HOLDER  \\\n",
       "221722                                0                           0   \n",
       "221744                                0                           0   \n",
       "371176                                0                           0   \n",
       "276441                                0                           0   \n",
       "513189                                0                           0   \n",
       "\n",
       "        ZINC  STAR T-LIGHT HOLDER  ZINC BOX SIGN HOME  \\\n",
       "221722                          0                   0   \n",
       "221744                          0                   0   \n",
       "371176                          0                   0   \n",
       "276441                          0                   0   \n",
       "513189                          0                   0   \n",
       "\n",
       "        ZINC FINISH 15CM PLANTER POTS  ZINC FOLKART SLEIGH BELLS  \\\n",
       "221722                              0                          0   \n",
       "221744                              0                          0   \n",
       "371176                              0                          0   \n",
       "276441                              0                          0   \n",
       "513189                              0                          0   \n",
       "\n",
       "        ZINC HEART FLOWER T-LIGHT HOLDER  ZINC HEART LATTICE 2 WALL PLANTER  \\\n",
       "221722                                 0                                  0   \n",
       "221744                                 0                                  0   \n",
       "371176                                 0                                  0   \n",
       "276441                                 0                                  0   \n",
       "513189                                 0                                  0   \n",
       "\n",
       "        ZINC HEART LATTICE CHARGER LARGE  ZINC HEART LATTICE CHARGER SMALL  \\\n",
       "221722                                 0                                 0   \n",
       "221744                                 0                                 0   \n",
       "371176                                 0                                 0   \n",
       "276441                                 0                                 0   \n",
       "513189                                 0                                 0   \n",
       "\n",
       "        ZINC HEART LATTICE T-LIGHT HOLDER  ZINC HEART LATTICE TRAY OVAL  \\\n",
       "221722                                  0                             0   \n",
       "221744                                  0                             0   \n",
       "371176                                  0                             0   \n",
       "276441                                  0                             0   \n",
       "513189                                  0                             0   \n",
       "\n",
       "        ZINC HEARTS PLANT POT HOLDER  ZINC HERB GARDEN CONTAINER  \\\n",
       "221722                             0                           0   \n",
       "221744                             0                           0   \n",
       "371176                             0                           0   \n",
       "276441                             0                           0   \n",
       "513189                             0                           0   \n",
       "\n",
       "        ZINC METAL HEART DECORATION  ZINC PLANT POT HOLDER  \\\n",
       "221722                            0                      0   \n",
       "221744                            0                      0   \n",
       "371176                            0                      0   \n",
       "276441                            0                      0   \n",
       "513189                            0                      0   \n",
       "\n",
       "        ZINC STAR T-LIGHT HOLDER  ZINC SWEETHEART SOAP DISH  \\\n",
       "221722                         0                          0   \n",
       "221744                         0                          0   \n",
       "371176                         0                          0   \n",
       "276441                         0                          0   \n",
       "513189                         0                          0   \n",
       "\n",
       "        ZINC SWEETHEART WIRE LETTER RACK  ZINC T-LIGHT HOLDER STAR LARGE  \\\n",
       "221722                                 0                               0   \n",
       "221744                                 0                               0   \n",
       "371176                                 0                               0   \n",
       "276441                                 0                               0   \n",
       "513189                                 0                               0   \n",
       "\n",
       "        ZINC T-LIGHT HOLDER STARS LARGE  ZINC T-LIGHT HOLDER STARS SMALL  \\\n",
       "221722                                0                                0   \n",
       "221744                                0                                0   \n",
       "371176                                0                                0   \n",
       "276441                                0                                0   \n",
       "513189                                0                                0   \n",
       "\n",
       "        ZINC TOP  2 DOOR WOODEN SHELF  ZINC WILLIE WINKIE  CANDLE STICK  \\\n",
       "221722                              0                                 0   \n",
       "221744                              0                                 0   \n",
       "371176                              0                                 0   \n",
       "276441                              0                                 0   \n",
       "513189                              0                                 0   \n",
       "\n",
       "        ZINC WIRE KITCHEN ORGANISER  ZINC WIRE SWEETHEART LETTER TRAY  \n",
       "221722                            0                                 0  \n",
       "221744                            0                                 0  \n",
       "371176                            0                                 0  \n",
       "276441                            0                                 0  \n",
       "513189                            0                                 0  \n",
       "\n",
       "[5 rows x 3857 columns]"
      ]
     },
     "execution_count": 25,
     "metadata": {},
     "output_type": "execute_result"
    }
   ],
   "source": [
    "learning_data2.head()"
   ]
  },
  {
   "cell_type": "code",
   "execution_count": 26,
   "metadata": {},
   "outputs": [],
   "source": [
    "### Drop the columns that have been now been replaced and that are not required\n",
    "droplist = ['Quantity','StockCode','InvoiceDate','InvoiceNo','UnitPrice','Description','spend_label','CustomerID']\n",
    "learning_data2 = learning_data2.drop(droplist, axis=1)"
   ]
  },
  {
   "cell_type": "code",
   "execution_count": 27,
   "metadata": {},
   "outputs": [],
   "source": [
    "learning_data2 = learning_data2.reset_index(drop=True)"
   ]
  },
  {
   "cell_type": "code",
   "execution_count": 28,
   "metadata": {},
   "outputs": [],
   "source": [
    "xdata2 = learning_data2.copy()\n",
    "del xdata2['Country']\n",
    "ydata2 = learning_data2['Country']"
   ]
  },
  {
   "cell_type": "code",
   "execution_count": 29,
   "metadata": {},
   "outputs": [],
   "source": [
    "### Convert ydata2 to integer\n",
    "ydata2 = ydata2.astype('category')"
   ]
  },
  {
   "cell_type": "code",
   "execution_count": 30,
   "metadata": {},
   "outputs": [],
   "source": [
    "normalized_xdata2 = preprocessing.normalize(xdata2)"
   ]
  },
  {
   "cell_type": "markdown",
   "metadata": {},
   "source": [
    "### Machine learning - Predicting Customer Spend"
   ]
  },
  {
   "cell_type": "code",
   "execution_count": 31,
   "metadata": {},
   "outputs": [
    {
     "name": "stderr",
     "output_type": "stream",
     "text": [
      "/Volumes/RaviVarma/DataScience/anaconda3/lib/python3.7/site-packages/sklearn/externals/joblib/__init__.py:15: FutureWarning:\n",
      "\n",
      "sklearn.externals.joblib is deprecated in 0.21 and will be removed in 0.23. Please import this functionality directly from joblib, which can be installed with: pip install joblib. If this warning is raised when loading pickled models, you may need to re-serialize those models with scikit-learn 0.21+.\n",
      "\n"
     ]
    }
   ],
   "source": [
    "from sklearn.metrics import confusion_matrix, precision_recall_curve, auc, roc_auc_score, roc_curve\n",
    "from sklearn.metrics import precision_score, recall_score, classification_report, accuracy_score, f1_score\n",
    "from sklearn.model_selection import cross_val_score\n",
    "from sklearn.externals import joblib ### For Saving the Trained Model"
   ]
  },
  {
   "cell_type": "markdown",
   "metadata": {},
   "source": [
    "#### For the purposes of this work I will select a 70/30 split - 70% training data and 30% test data. This approach does not use a validation set however it provides a large dataset for training and testing. Cross validation of the training data set will also be used during model training."
   ]
  },
  {
   "cell_type": "code",
   "execution_count": 32,
   "metadata": {},
   "outputs": [],
   "source": [
    "from sklearn.model_selection import train_test_split\n",
    "xtrain, xtest, ytrain, ytest = train_test_split(normalized_xdata,ydata,test_size = 0.3, random_state = 8418) ### 70/30 training/test split - standard\n"
   ]
  },
  {
   "cell_type": "markdown",
   "metadata": {},
   "source": [
    "#### Some helper functions for visualizing model output"
   ]
  },
  {
   "cell_type": "code",
   "execution_count": 33,
   "metadata": {},
   "outputs": [],
   "source": [
    "import itertools\n",
    "\n",
    "### Confusion Matrix plotting function\n",
    "def plot_confusion_matrix(cm, classes,\n",
    "                          normalize=False,\n",
    "                          title='Confusion matrix',\n",
    "                          cmap=plt.cm.Blues):\n",
    "    \"\"\"\n",
    "    This function prints and plots the confusion matrix.\n",
    "    Normalization can be applied by setting `normalize=True`.\n",
    "    \"\"\"\n",
    "    plt.imshow(cm, interpolation='nearest', cmap=cmap)\n",
    "    plt.title(title)\n",
    "    plt.colorbar()\n",
    "    tick_marks = np.arange(len(classes))\n",
    "    plt.xticks(tick_marks, classes, rotation=0)\n",
    "    plt.yticks(tick_marks, classes)\n",
    "\n",
    "    if normalize:\n",
    "        cm = cm.astype('float') / cm.sum(axis=1)[:, np.newaxis]\n",
    "        #print(\"Normalized confusion matrix\")\n",
    "    else:\n",
    "        1#print('Confusion matrix, without normalization')\n",
    "\n",
    "    #print(cm)\n",
    "\n",
    "    thresh = cm.max() / 2.\n",
    "    for i, j in itertools.product(range(cm.shape[0]), range(cm.shape[1])):\n",
    "        plt.text(j, i, cm[i, j],\n",
    "                 horizontalalignment=\"center\",\n",
    "                 color=\"white\" if cm[i, j] > thresh else \"black\")\n",
    "\n",
    "    plt.tight_layout()\n",
    "    plt.ylabel('True label')\n",
    "    plt.xlabel('Predicted label')\n",
    "    plt.show()"
   ]
  },
  {
   "cell_type": "markdown",
   "metadata": {},
   "source": [
    "## Naive Bayes\n",
    "- http://scikit-learn.org/stable/modules/naive_bayes.html\n",
    "#### Naive Bayes methods are a set of supervised learning algorithms based on applying Bayes’ theorem with the 'naive' assumption of independence between every pair of features.\n",
    "#### Naive bayes was chosen to build the 1st iteration of the model because it is a fast algorithm and requires no hyperparameters. This method will provide an indication of whether or not a model can be built using this dataset without using more computationally expensive methods."
   ]
  },
  {
   "cell_type": "code",
   "execution_count": 34,
   "metadata": {},
   "outputs": [
    {
     "data": {
      "text/plain": [
       "GaussianNB(priors=None, var_smoothing=1e-09)"
      ]
     },
     "execution_count": 34,
     "metadata": {},
     "output_type": "execute_result"
    }
   ],
   "source": [
    "from sklearn.naive_bayes import GaussianNB #choose model class - done\n",
    "nb_model = GaussianNB() #instantiate the model - done (GaussianNB has no hyperparameters)\n",
    "nb_model.fit(xtrain, ytrain) #fit the model to the data"
   ]
  },
  {
   "cell_type": "code",
   "execution_count": 35,
   "metadata": {},
   "outputs": [
    {
     "name": "stdout",
     "output_type": "stream",
     "text": [
      "Accuracy: 63.22%\n",
      "Recall: 63.218118479128826 %\n",
      "Precision: 63.218118479128826 %\n"
     ]
    }
   ],
   "source": [
    "### Use the trained model to predict on the test data\n",
    "predictions = list(nb_model.predict(xtest))\n",
    "\n",
    "accuracy = accuracy_score(ytest, predictions)\n",
    "print(\"Accuracy: %.2f%%\" % (accuracy * 100.0))\n",
    "print('Recall:', recall_score(ytest, predictions,average=\"micro\")*100,\"%\")\n",
    "print('Precision:', precision_score(ytest, predictions,average=\"micro\")*100,\"%\")"
   ]
  },
  {
   "cell_type": "code",
   "execution_count": 36,
   "metadata": {},
   "outputs": [
    {
     "data": {
      "image/png": "[encoded data removed]",
      "text/plain": [
       "<Figure size 432x288 with 2 Axes>"
      ]
     },
     "metadata": {
      "needs_background": "light"
     },
     "output_type": "display_data"
    }
   ],
   "source": [
    "dat = confusion_matrix(ytest, predictions)\n",
    "\n",
    "plot_confusion_matrix(\n",
    "    dat, classes=[0,1,2], title='Confusion matrix')\n",
    "plt.show()"
   ]
  },
  {
   "cell_type": "code",
   "execution_count": 37,
   "metadata": {},
   "outputs": [
    {
     "data": {
      "text/plain": [
       "['nb_model.pkl']"
      ]
     },
     "execution_count": 37,
     "metadata": {},
     "output_type": "execute_result"
    }
   ],
   "source": [
    "### Save Model\n",
    "#joblib.dump(nb_model, 'nb_model.pkl')"
   ]
  },
  {
   "cell_type": "code",
   "execution_count": 35,
   "metadata": {},
   "outputs": [],
   "source": [
    "### Load Model\n",
    "nb_model = joblib.load('nb_model.pkl')"
   ]
  },
  {
   "cell_type": "code",
   "execution_count": null,
   "metadata": {},
   "outputs": [
    {
     "name": "stderr",
     "output_type": "stream",
     "text": [
      "/Volumes/RaviVarma/DataScience/anaconda3/lib/python3.7/site-packages/joblib/externals/loky/process_executor.py:706: UserWarning:\n",
      "\n",
      "A worker stopped while some jobs were given to the executor. This can be caused by a too short worker timeout or by a memory leak.\n",
      "\n"
     ]
    }
   ],
   "source": [
    "xval_score = cross_val_score(nb_model, xtrain, ytrain, cv=5, n_jobs=-1).mean() ### 5-Fold Cross Validation"
   ]
  },
  {
   "cell_type": "code",
   "execution_count": null,
   "metadata": {},
   "outputs": [],
   "source": [
    "xval_score"
   ]
  }
 ],
 "metadata": {
  "kernelspec": {
   "display_name": "Python 3",
   "language": "python",
   "name": "python3"
  },
  "language_info": {
   "codemirror_mode": {
    "name": "ipython",
    "version": 3
   },
   "file_extension": ".py",
   "mimetype": "text/x-python",
   "name": "python",
   "nbconvert_exporter": "python",
   "pygments_lexer": "ipython3",
   "version": "3.7.6"
  }
 },
 "nbformat": 4,
 "nbformat_minor": 2
}
